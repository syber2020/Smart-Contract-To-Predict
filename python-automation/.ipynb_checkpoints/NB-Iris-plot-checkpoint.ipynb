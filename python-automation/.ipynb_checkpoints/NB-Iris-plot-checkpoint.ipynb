{
 "cells": [
  {
   "cell_type": "code",
   "execution_count": 600,
   "id": "little-batch",
   "metadata": {},
   "outputs": [],
   "source": [
    "import numpy as np\n",
    "import matplotlib.pyplot as plt\n",
    "import pandas as pd"
   ]
  },
  {
   "cell_type": "code",
   "execution_count": 601,
   "id": "gorgeous-letters",
   "metadata": {},
   "outputs": [
    {
     "data": {
      "text/plain": [
       "True"
      ]
     },
     "execution_count": 601,
     "metadata": {},
     "output_type": "execute_result"
    }
   ],
   "source": [
    "import matplotlib.pyplot as plt\n",
    "import json\n",
    "from web3 import Web3\n",
    "# ganache_url = \"https://ropsten.infura.io/v3/6072fdc3b95c407caa681f63ebaf72b8\"\n",
    "ganache_url =\"http://127.0.0.1:8545\"\n",
    "web3 = Web3(Web3.HTTPProvider(ganache_url))\n",
    "web3.isConnected()"
   ]
  },
  {
   "cell_type": "code",
   "execution_count": 602,
   "id": "appropriate-silicon",
   "metadata": {},
   "outputs": [],
   "source": [
    "\n",
    "# abi_triple = json.loads('[ { \"constant\": false, \"inputs\": [ { \"name\": \"Prior0\", \"type\": \"int256\" }, { \"name\": \"Prior1\", \"type\": \"int256\" }, { \"name\": \"Prior2\", \"type\": \"int256\" } ], \"name\": \"e_exponent1\", \"outputs\": [], \"payable\": false, \"stateMutability\": \"nonpayable\", \"type\": \"function\" }, { \"constant\": true, \"inputs\": [], \"name\": \"d_printparamaters2\", \"outputs\": [ { \"name\": \"\", \"type\": \"int256\" }, { \"name\": \"\", \"type\": \"int256\" }, { \"name\": \"\", \"type\": \"int256\" }, { \"name\": \"\", \"type\": \"int256\" } ], \"payable\": false, \"stateMutability\": \"view\", \"type\": \"function\" }, { \"constant\": true, \"inputs\": [], \"name\": \"c_printparamaters1\", \"outputs\": [ { \"name\": \"\", \"type\": \"int256\" }, { \"name\": \"\", \"type\": \"int256\" }, { \"name\": \"\", \"type\": \"int256\" }, { \"name\": \"\", \"type\": \"int256\" } ], \"payable\": false, \"stateMutability\": \"view\", \"type\": \"function\" }, { \"constant\": true, \"inputs\": [], \"name\": \"d_printparamaters3\", \"outputs\": [ { \"name\": \"\", \"type\": \"int256\" }, { \"name\": \"\", \"type\": \"int256\" }, { \"name\": \"\", \"type\": \"int256\" }, { \"name\": \"\", \"type\": \"int256\" } ], \"payable\": false, \"stateMutability\": \"view\", \"type\": \"function\" }, { \"constant\": false, \"inputs\": [ { \"name\": \"x1\", \"type\": \"int256\" }, { \"name\": \"x2\", \"type\": \"int256\" }, { \"name\": \"x3\", \"type\": \"int256\" }, { \"name\": \"x4\", \"type\": \"int256\" }, { \"name\": \"v1\", \"type\": \"int256\" }, { \"name\": \"v2\", \"type\": \"int256\" }, { \"name\": \"v3\", \"type\": \"int256\" }, { \"name\": \"v4\", \"type\": \"int256\" }, { \"name\": \"m1\", \"type\": \"int256\" }, { \"name\": \"m2\", \"type\": \"int256\" }, { \"name\": \"m3\", \"type\": \"int256\" }, { \"name\": \"m4\", \"type\": \"int256\" } ], \"name\": \"b_getparameters3\", \"outputs\": [], \"payable\": false, \"stateMutability\": \"nonpayable\", \"type\": \"function\" }, { \"constant\": false, \"inputs\": [ { \"name\": \"x1\", \"type\": \"int256\" }, { \"name\": \"x2\", \"type\": \"int256\" }, { \"name\": \"x3\", \"type\": \"int256\" }, { \"name\": \"x4\", \"type\": \"int256\" }, { \"name\": \"v1\", \"type\": \"int256\" }, { \"name\": \"v2\", \"type\": \"int256\" }, { \"name\": \"v3\", \"type\": \"int256\" }, { \"name\": \"v4\", \"type\": \"int256\" }, { \"name\": \"m1\", \"type\": \"int256\" }, { \"name\": \"m2\", \"type\": \"int256\" }, { \"name\": \"m3\", \"type\": \"int256\" }, { \"name\": \"m4\", \"type\": \"int256\" } ], \"name\": \"a_getparameters1\", \"outputs\": [], \"payable\": false, \"stateMutability\": \"nonpayable\", \"type\": \"function\" }, { \"constant\": true, \"inputs\": [], \"name\": \"f_compare\", \"outputs\": [ { \"name\": \"\", \"type\": \"int256\" } ], \"payable\": false, \"stateMutability\": \"view\", \"type\": \"function\" }, { \"constant\": false, \"inputs\": [ { \"name\": \"x1\", \"type\": \"int256\" }, { \"name\": \"x2\", \"type\": \"int256\" }, { \"name\": \"x3\", \"type\": \"int256\" }, { \"name\": \"x4\", \"type\": \"int256\" }, { \"name\": \"v1\", \"type\": \"int256\" }, { \"name\": \"v2\", \"type\": \"int256\" }, { \"name\": \"v3\", \"type\": \"int256\" }, { \"name\": \"v4\", \"type\": \"int256\" }, { \"name\": \"m1\", \"type\": \"int256\" }, { \"name\": \"m2\", \"type\": \"int256\" }, { \"name\": \"m3\", \"type\": \"int256\" }, { \"name\": \"m4\", \"type\": \"int256\" } ], \"name\": \"b_getparameters2\", \"outputs\": [], \"payable\": false, \"stateMutability\": \"nonpayable\", \"type\": \"function\" } ]')\n",
    "abi_triple = json.loads('[ { \"constant\": true, \"inputs\": [], \"name\": \"print\", \"outputs\": [ { \"name\": \"\", \"type\": \"int256\" }, { \"name\": \"\", \"type\": \"int256\" }, { \"name\": \"\", \"type\": \"int256\" } ], \"payable\": false, \"stateMutability\": \"view\", \"type\": \"function\" }, { \"constant\": false, \"inputs\": [ { \"name\": \"Prior0\", \"type\": \"int256\" }, { \"name\": \"Prior1\", \"type\": \"int256\" }, { \"name\": \"Prior2\", \"type\": \"int256\" } ], \"name\": \"e_exponent1\", \"outputs\": [], \"payable\": false, \"stateMutability\": \"nonpayable\", \"type\": \"function\" }, { \"constant\": true, \"inputs\": [], \"name\": \"d_printparamaters2\", \"outputs\": [ { \"name\": \"\", \"type\": \"int256\" }, { \"name\": \"\", \"type\": \"int256\" }, { \"name\": \"\", \"type\": \"int256\" }, { \"name\": \"\", \"type\": \"int256\" } ], \"payable\": false, \"stateMutability\": \"view\", \"type\": \"function\" }, { \"constant\": true, \"inputs\": [], \"name\": \"c_printparamaters1\", \"outputs\": [ { \"name\": \"\", \"type\": \"int256\" }, { \"name\": \"\", \"type\": \"int256\" }, { \"name\": \"\", \"type\": \"int256\" }, { \"name\": \"\", \"type\": \"int256\" } ], \"payable\": false, \"stateMutability\": \"view\", \"type\": \"function\" }, { \"constant\": true, \"inputs\": [], \"name\": \"d_printparamaters3\", \"outputs\": [ { \"name\": \"\", \"type\": \"int256\" }, { \"name\": \"\", \"type\": \"int256\" }, { \"name\": \"\", \"type\": \"int256\" }, { \"name\": \"\", \"type\": \"int256\" } ], \"payable\": false, \"stateMutability\": \"view\", \"type\": \"function\" }, { \"constant\": false, \"inputs\": [ { \"name\": \"x1\", \"type\": \"int256\" }, { \"name\": \"x2\", \"type\": \"int256\" }, { \"name\": \"x3\", \"type\": \"int256\" }, { \"name\": \"x4\", \"type\": \"int256\" }, { \"name\": \"v1\", \"type\": \"int256\" }, { \"name\": \"v2\", \"type\": \"int256\" }, { \"name\": \"v3\", \"type\": \"int256\" }, { \"name\": \"v4\", \"type\": \"int256\" }, { \"name\": \"m1\", \"type\": \"int256\" }, { \"name\": \"m2\", \"type\": \"int256\" }, { \"name\": \"m3\", \"type\": \"int256\" }, { \"name\": \"m4\", \"type\": \"int256\" } ], \"name\": \"b_getparameters3\", \"outputs\": [], \"payable\": false, \"stateMutability\": \"nonpayable\", \"type\": \"function\" }, { \"constant\": false, \"inputs\": [ { \"name\": \"x1\", \"type\": \"int256\" }, { \"name\": \"x2\", \"type\": \"int256\" }, { \"name\": \"x3\", \"type\": \"int256\" }, { \"name\": \"x4\", \"type\": \"int256\" }, { \"name\": \"v1\", \"type\": \"int256\" }, { \"name\": \"v2\", \"type\": \"int256\" }, { \"name\": \"v3\", \"type\": \"int256\" }, { \"name\": \"v4\", \"type\": \"int256\" }, { \"name\": \"m1\", \"type\": \"int256\" }, { \"name\": \"m2\", \"type\": \"int256\" }, { \"name\": \"m3\", \"type\": \"int256\" }, { \"name\": \"m4\", \"type\": \"int256\" } ], \"name\": \"a_getparameters1\", \"outputs\": [], \"payable\": false, \"stateMutability\": \"nonpayable\", \"type\": \"function\" }, { \"constant\": true, \"inputs\": [], \"name\": \"f_compare\", \"outputs\": [ { \"name\": \"\", \"type\": \"int256\" } ], \"payable\": false, \"stateMutability\": \"view\", \"type\": \"function\" }, { \"constant\": false, \"inputs\": [ { \"name\": \"x1\", \"type\": \"int256\" }, { \"name\": \"x2\", \"type\": \"int256\" }, { \"name\": \"x3\", \"type\": \"int256\" }, { \"name\": \"x4\", \"type\": \"int256\" }, { \"name\": \"v1\", \"type\": \"int256\" }, { \"name\": \"v2\", \"type\": \"int256\" }, { \"name\": \"v3\", \"type\": \"int256\" }, { \"name\": \"v4\", \"type\": \"int256\" }, { \"name\": \"m1\", \"type\": \"int256\" }, { \"name\": \"m2\", \"type\": \"int256\" }, { \"name\": \"m3\", \"type\": \"int256\" }, { \"name\": \"m4\", \"type\": \"int256\" } ], \"name\": \"b_getparameters2\", \"outputs\": [], \"payable\": false, \"stateMutability\": \"nonpayable\", \"type\": \"function\" } ]')\n",
    "cont_address_triple = '0x12b8325b407eAf9ED48a97A36Bd3239F68a69999'\n",
    "contract_triple = web3.eth.contract(address=cont_address_triple,abi=abi_triple)\n",
    "\n",
    "account_1 = \"0x37bfB436392DaAE0E91EdcD9c4128FBcADF3919d\"\n",
    "private_key1 = \"e72044de2331844a3c0232dc23d43fb8ca4f555854b4da07e2fb530d003e5e2d\"\n",
    "account_2 = \"0xfbD8f1F5878b0b5b3E627e7cc14617b05B582867\"\n",
    "private_key2=\"56c8f569b23a423f9d66d46f86f7ada7ba0d28dfba03c34f661bb15358b042bb\""
   ]
  },
  {
   "cell_type": "code",
   "execution_count": 603,
   "id": "julian-archives",
   "metadata": {},
   "outputs": [
    {
     "data": {
      "text/html": [
       "<div>\n",
       "<style scoped>\n",
       "    .dataframe tbody tr th:only-of-type {\n",
       "        vertical-align: middle;\n",
       "    }\n",
       "\n",
       "    .dataframe tbody tr th {\n",
       "        vertical-align: top;\n",
       "    }\n",
       "\n",
       "    .dataframe thead th {\n",
       "        text-align: right;\n",
       "    }\n",
       "</style>\n",
       "<table border=\"1\" class=\"dataframe\">\n",
       "  <thead>\n",
       "    <tr style=\"text-align: right;\">\n",
       "      <th></th>\n",
       "      <th>sepal_length</th>\n",
       "      <th>sepal_width</th>\n",
       "      <th>petal_length</th>\n",
       "      <th>petal_width</th>\n",
       "      <th>species</th>\n",
       "    </tr>\n",
       "  </thead>\n",
       "  <tbody>\n",
       "    <tr>\n",
       "      <th>0</th>\n",
       "      <td>5.1</td>\n",
       "      <td>3.5</td>\n",
       "      <td>1.4</td>\n",
       "      <td>0.2</td>\n",
       "      <td>setosa</td>\n",
       "    </tr>\n",
       "    <tr>\n",
       "      <th>1</th>\n",
       "      <td>4.9</td>\n",
       "      <td>3.0</td>\n",
       "      <td>1.4</td>\n",
       "      <td>0.2</td>\n",
       "      <td>setosa</td>\n",
       "    </tr>\n",
       "    <tr>\n",
       "      <th>2</th>\n",
       "      <td>4.7</td>\n",
       "      <td>3.2</td>\n",
       "      <td>1.3</td>\n",
       "      <td>0.2</td>\n",
       "      <td>setosa</td>\n",
       "    </tr>\n",
       "    <tr>\n",
       "      <th>3</th>\n",
       "      <td>4.6</td>\n",
       "      <td>3.1</td>\n",
       "      <td>1.5</td>\n",
       "      <td>0.2</td>\n",
       "      <td>setosa</td>\n",
       "    </tr>\n",
       "    <tr>\n",
       "      <th>4</th>\n",
       "      <td>5.0</td>\n",
       "      <td>3.6</td>\n",
       "      <td>1.4</td>\n",
       "      <td>0.2</td>\n",
       "      <td>setosa</td>\n",
       "    </tr>\n",
       "  </tbody>\n",
       "</table>\n",
       "</div>"
      ],
      "text/plain": [
       "   sepal_length  sepal_width  petal_length  petal_width species\n",
       "0           5.1          3.5           1.4          0.2  setosa\n",
       "1           4.9          3.0           1.4          0.2  setosa\n",
       "2           4.7          3.2           1.3          0.2  setosa\n",
       "3           4.6          3.1           1.5          0.2  setosa\n",
       "4           5.0          3.6           1.4          0.2  setosa"
      ]
     },
     "execution_count": 603,
     "metadata": {},
     "output_type": "execute_result"
    }
   ],
   "source": [
    "dataset = pd.read_csv('https://raw.githubusercontent.com/mk-gurucharan/Classification/master/IrisDataset.csv')\n",
    "# X = dataset.iloc[:,:4].values\n",
    "# y = dataset['species'].values\n",
    "dataset.head(5)"
   ]
  },
  {
   "cell_type": "code",
   "execution_count": 604,
   "id": "organizational-prince",
   "metadata": {},
   "outputs": [
    {
     "data": {
      "text/html": [
       "<div>\n",
       "<style scoped>\n",
       "    .dataframe tbody tr th:only-of-type {\n",
       "        vertical-align: middle;\n",
       "    }\n",
       "\n",
       "    .dataframe tbody tr th {\n",
       "        vertical-align: top;\n",
       "    }\n",
       "\n",
       "    .dataframe thead th {\n",
       "        text-align: right;\n",
       "    }\n",
       "</style>\n",
       "<table border=\"1\" class=\"dataframe\">\n",
       "  <thead>\n",
       "    <tr style=\"text-align: right;\">\n",
       "      <th></th>\n",
       "      <th>sepal_length</th>\n",
       "      <th>sepal_width</th>\n",
       "      <th>petal_length</th>\n",
       "      <th>petal_width</th>\n",
       "      <th>species</th>\n",
       "    </tr>\n",
       "  </thead>\n",
       "  <tbody>\n",
       "    <tr>\n",
       "      <th>0</th>\n",
       "      <td>51.0</td>\n",
       "      <td>35.0</td>\n",
       "      <td>14.0</td>\n",
       "      <td>2.0</td>\n",
       "      <td>setosa</td>\n",
       "    </tr>\n",
       "    <tr>\n",
       "      <th>1</th>\n",
       "      <td>49.0</td>\n",
       "      <td>30.0</td>\n",
       "      <td>14.0</td>\n",
       "      <td>2.0</td>\n",
       "      <td>setosa</td>\n",
       "    </tr>\n",
       "    <tr>\n",
       "      <th>2</th>\n",
       "      <td>47.0</td>\n",
       "      <td>32.0</td>\n",
       "      <td>13.0</td>\n",
       "      <td>2.0</td>\n",
       "      <td>setosa</td>\n",
       "    </tr>\n",
       "    <tr>\n",
       "      <th>3</th>\n",
       "      <td>46.0</td>\n",
       "      <td>31.0</td>\n",
       "      <td>15.0</td>\n",
       "      <td>2.0</td>\n",
       "      <td>setosa</td>\n",
       "    </tr>\n",
       "    <tr>\n",
       "      <th>4</th>\n",
       "      <td>50.0</td>\n",
       "      <td>36.0</td>\n",
       "      <td>14.0</td>\n",
       "      <td>2.0</td>\n",
       "      <td>setosa</td>\n",
       "    </tr>\n",
       "    <tr>\n",
       "      <th>...</th>\n",
       "      <td>...</td>\n",
       "      <td>...</td>\n",
       "      <td>...</td>\n",
       "      <td>...</td>\n",
       "      <td>...</td>\n",
       "    </tr>\n",
       "    <tr>\n",
       "      <th>145</th>\n",
       "      <td>67.0</td>\n",
       "      <td>30.0</td>\n",
       "      <td>52.0</td>\n",
       "      <td>23.0</td>\n",
       "      <td>virginica</td>\n",
       "    </tr>\n",
       "    <tr>\n",
       "      <th>146</th>\n",
       "      <td>63.0</td>\n",
       "      <td>25.0</td>\n",
       "      <td>50.0</td>\n",
       "      <td>19.0</td>\n",
       "      <td>virginica</td>\n",
       "    </tr>\n",
       "    <tr>\n",
       "      <th>147</th>\n",
       "      <td>65.0</td>\n",
       "      <td>30.0</td>\n",
       "      <td>52.0</td>\n",
       "      <td>20.0</td>\n",
       "      <td>virginica</td>\n",
       "    </tr>\n",
       "    <tr>\n",
       "      <th>148</th>\n",
       "      <td>62.0</td>\n",
       "      <td>34.0</td>\n",
       "      <td>54.0</td>\n",
       "      <td>23.0</td>\n",
       "      <td>virginica</td>\n",
       "    </tr>\n",
       "    <tr>\n",
       "      <th>149</th>\n",
       "      <td>59.0</td>\n",
       "      <td>30.0</td>\n",
       "      <td>51.0</td>\n",
       "      <td>18.0</td>\n",
       "      <td>virginica</td>\n",
       "    </tr>\n",
       "  </tbody>\n",
       "</table>\n",
       "<p>150 rows × 5 columns</p>\n",
       "</div>"
      ],
      "text/plain": [
       "     sepal_length  sepal_width  petal_length  petal_width    species\n",
       "0            51.0         35.0          14.0          2.0     setosa\n",
       "1            49.0         30.0          14.0          2.0     setosa\n",
       "2            47.0         32.0          13.0          2.0     setosa\n",
       "3            46.0         31.0          15.0          2.0     setosa\n",
       "4            50.0         36.0          14.0          2.0     setosa\n",
       "..            ...          ...           ...          ...        ...\n",
       "145          67.0         30.0          52.0         23.0  virginica\n",
       "146          63.0         25.0          50.0         19.0  virginica\n",
       "147          65.0         30.0          52.0         20.0  virginica\n",
       "148          62.0         34.0          54.0         23.0  virginica\n",
       "149          59.0         30.0          51.0         18.0  virginica\n",
       "\n",
       "[150 rows x 5 columns]"
      ]
     },
     "execution_count": 604,
     "metadata": {},
     "output_type": "execute_result"
    }
   ],
   "source": [
    "dataset[\"sepal_length\"] = dataset[\"sepal_length\"]*10\n",
    "dataset[\"sepal_width\"] = dataset[\"sepal_width\"]*10\n",
    "dataset[\"petal_length\"] = dataset[\"petal_length\"]*10\n",
    "dataset[\"petal_width\"] = dataset[\"petal_width\"]*10\n",
    "dataset[:150]"
   ]
  },
  {
   "cell_type": "code",
   "execution_count": 605,
   "id": "wired-shame",
   "metadata": {},
   "outputs": [
    {
     "data": {
      "text/plain": [
       "array([0, 1, 2])"
      ]
     },
     "execution_count": 605,
     "metadata": {},
     "output_type": "execute_result"
    }
   ],
   "source": [
    "from sklearn import preprocessing\n",
    "le = preprocessing.LabelEncoder()\n",
    "label_encoder = preprocessing.LabelEncoder()\n",
    "dataset['species']= label_encoder.fit_transform(dataset['species']) \n",
    "dataset['species'].unique()"
   ]
  },
  {
   "cell_type": "code",
   "execution_count": 606,
   "id": "fourth-monster",
   "metadata": {},
   "outputs": [],
   "source": [
    "X = dataset.iloc[:,:4].values\n",
    "y = dataset['species'].values"
   ]
  },
  {
   "cell_type": "code",
   "execution_count": 607,
   "id": "structural-silence",
   "metadata": {},
   "outputs": [],
   "source": [
    "from sklearn.model_selection import train_test_split\n",
    "X_train, X_test, y_train, y_test = train_test_split(X, y, test_size = 0.2)"
   ]
  },
  {
   "cell_type": "code",
   "execution_count": 608,
   "id": "protective-economics",
   "metadata": {},
   "outputs": [
    {
     "data": {
      "text/plain": [
       "array([[57., 38., 17.,  3.],\n",
       "       [66., 30., 44., 14.],\n",
       "       [59., 30., 51., 18.],\n",
       "       [65., 30., 52., 20.],\n",
       "       [46., 31., 15.,  2.],\n",
       "       [48., 31., 16.,  2.],\n",
       "       [51., 34., 15.,  2.],\n",
       "       [62., 22., 45., 15.],\n",
       "       [51., 38., 15.,  3.],\n",
       "       [51., 38., 16.,  2.],\n",
       "       [61., 26., 56., 14.],\n",
       "       [57., 30., 42., 12.],\n",
       "       [63., 34., 56., 24.],\n",
       "       [57., 26., 35., 10.],\n",
       "       [65., 32., 51., 20.],\n",
       "       [65., 30., 55., 18.],\n",
       "       [57., 28., 45., 13.],\n",
       "       [55., 35., 13.,  2.],\n",
       "       [77., 38., 67., 22.],\n",
       "       [50., 32., 12.,  2.],\n",
       "       [63., 33., 60., 25.],\n",
       "       [62., 34., 54., 23.],\n",
       "       [63., 25., 50., 19.],\n",
       "       [56., 25., 39., 11.],\n",
       "       [61., 28., 47., 12.],\n",
       "       [60., 22., 50., 15.],\n",
       "       [55., 42., 14.,  2.],\n",
       "       [44., 30., 13.,  2.],\n",
       "       [60., 29., 45., 15.],\n",
       "       [50., 36., 14.,  2.],\n",
       "       [49., 24., 33., 10.],\n",
       "       [61., 30., 49., 18.],\n",
       "       [67., 31., 56., 24.],\n",
       "       [77., 26., 69., 23.],\n",
       "       [50., 34., 15.,  2.],\n",
       "       [62., 28., 48., 18.],\n",
       "       [51., 35., 14.,  2.],\n",
       "       [54., 34., 15.,  4.],\n",
       "       [68., 30., 55., 21.],\n",
       "       [49., 31., 15.,  1.],\n",
       "       [53., 37., 15.,  2.],\n",
       "       [67., 25., 58., 18.],\n",
       "       [50., 20., 35., 10.],\n",
       "       [43., 30., 11.,  1.],\n",
       "       [58., 40., 12.,  2.],\n",
       "       [58., 26., 40., 12.],\n",
       "       [59., 32., 48., 18.],\n",
       "       [58., 27., 51., 19.],\n",
       "       [64., 28., 56., 21.],\n",
       "       [49., 31., 15.,  1.],\n",
       "       [63., 28., 51., 15.],\n",
       "       [67., 33., 57., 21.],\n",
       "       [64., 32., 53., 23.],\n",
       "       [45., 23., 13.,  3.],\n",
       "       [46., 36., 10.,  2.],\n",
       "       [54., 39., 17.,  4.],\n",
       "       [55., 23., 40., 13.],\n",
       "       [54., 39., 13.,  4.],\n",
       "       [56., 29., 36., 13.],\n",
       "       [64., 32., 45., 15.],\n",
       "       [79., 38., 64., 20.],\n",
       "       [62., 29., 43., 13.],\n",
       "       [46., 34., 14.,  3.],\n",
       "       [64., 29., 43., 13.],\n",
       "       [61., 29., 47., 14.],\n",
       "       [67., 33., 57., 25.],\n",
       "       [51., 37., 15.,  4.],\n",
       "       [58., 27., 51., 19.],\n",
       "       [46., 32., 14.,  2.],\n",
       "       [64., 27., 53., 19.],\n",
       "       [63., 33., 47., 16.],\n",
       "       [60., 34., 45., 16.],\n",
       "       [57., 44., 15.,  4.],\n",
       "       [70., 32., 47., 14.],\n",
       "       [76., 30., 66., 21.],\n",
       "       [56., 28., 49., 20.],\n",
       "       [69., 31., 54., 21.],\n",
       "       [61., 28., 40., 13.],\n",
       "       [50., 33., 14.,  2.],\n",
       "       [59., 30., 42., 15.],\n",
       "       [55., 25., 40., 13.],\n",
       "       [77., 28., 67., 20.],\n",
       "       [52., 35., 15.,  2.],\n",
       "       [57., 29., 42., 13.],\n",
       "       [49., 30., 14.,  2.],\n",
       "       [51., 38., 19.,  4.],\n",
       "       [54., 30., 45., 15.],\n",
       "       [63., 27., 49., 18.],\n",
       "       [66., 29., 46., 13.],\n",
       "       [48., 30., 14.,  3.],\n",
       "       [73., 29., 63., 18.],\n",
       "       [57., 25., 50., 20.],\n",
       "       [77., 30., 61., 23.],\n",
       "       [68., 28., 48., 14.],\n",
       "       [67., 30., 50., 17.],\n",
       "       [44., 32., 13.,  2.],\n",
       "       [55., 24., 38., 11.],\n",
       "       [67., 30., 52., 23.],\n",
       "       [69., 31., 49., 15.],\n",
       "       [60., 22., 40., 10.],\n",
       "       [54., 34., 17.,  2.],\n",
       "       [58., 27., 39., 12.],\n",
       "       [56., 27., 42., 13.],\n",
       "       [65., 28., 46., 15.],\n",
       "       [63., 29., 56., 18.],\n",
       "       [51., 25., 30., 11.],\n",
       "       [52., 41., 15.,  1.],\n",
       "       [51., 33., 17.,  5.],\n",
       "       [48., 34., 19.,  2.],\n",
       "       [74., 28., 61., 19.],\n",
       "       [50., 30., 16.,  2.],\n",
       "       [64., 28., 56., 22.],\n",
       "       [54., 37., 15.,  2.],\n",
       "       [48., 34., 16.,  2.],\n",
       "       [67., 31., 47., 15.],\n",
       "       [52., 27., 39., 14.],\n",
       "       [56., 30., 41., 13.],\n",
       "       [71., 30., 59., 21.],\n",
       "       [57., 28., 41., 13.],\n",
       "       [44., 29., 14.,  2.]])"
      ]
     },
     "execution_count": 608,
     "metadata": {},
     "output_type": "execute_result"
    }
   ],
   "source": [
    "X_train"
   ]
  },
  {
   "cell_type": "code",
   "execution_count": 609,
   "id": "social-signature",
   "metadata": {},
   "outputs": [],
   "source": [
    "# from sklearn.preprocessing import StandardScaler\n",
    "# sc = StandardScaler()\n",
    "# X_train = sc.fit_transform(X_train)\n",
    "# X_test = sc.transform(X_test)"
   ]
  },
  {
   "cell_type": "code",
   "execution_count": 610,
   "id": "certified-sally",
   "metadata": {},
   "outputs": [
    {
     "data": {
      "text/plain": [
       "GaussianNB()"
      ]
     },
     "execution_count": 610,
     "metadata": {},
     "output_type": "execute_result"
    }
   ],
   "source": [
    "from sklearn.naive_bayes import GaussianNB\n",
    "classifier = GaussianNB()\n",
    "classifier.fit(X_train, y_train)"
   ]
  },
  {
   "cell_type": "code",
   "execution_count": 611,
   "id": "iraqi-sapphire",
   "metadata": {},
   "outputs": [
    {
     "data": {
      "text/plain": [
       "array([2, 0, 0, 2, 1, 2, 1, 1, 2, 0, 1, 0, 1, 0, 0, 0, 0, 1, 0, 2, 1, 1,\n",
       "       2, 1, 1, 2, 2, 1, 2, 2])"
      ]
     },
     "execution_count": 611,
     "metadata": {},
     "output_type": "execute_result"
    }
   ],
   "source": [
    "y_pred = classifier.predict(X_test) \n",
    "y_pred"
   ]
  },
  {
   "cell_type": "code",
   "execution_count": 612,
   "id": "offensive-account",
   "metadata": {},
   "outputs": [
    {
     "name": "stdout",
     "output_type": "stream",
     "text": [
      "Accuracy :  0.9666666666666667\n"
     ]
    },
    {
     "data": {
      "text/plain": [
       "array([[ 9,  0,  0],\n",
       "       [ 0, 10,  0],\n",
       "       [ 0,  1, 10]], dtype=int64)"
      ]
     },
     "execution_count": 612,
     "metadata": {},
     "output_type": "execute_result"
    }
   ],
   "source": [
    "from sklearn.metrics import confusion_matrix\n",
    "from sklearn.metrics import classification_report\n",
    "cm = confusion_matrix(y_test, y_pred)\n",
    "from sklearn.metrics import accuracy_score \n",
    "print (\"Accuracy : \", accuracy_score(y_test, y_pred))\n",
    "cm"
   ]
  },
  {
   "cell_type": "code",
   "execution_count": 613,
   "id": "continental-export",
   "metadata": {},
   "outputs": [
    {
     "name": "stdout",
     "output_type": "stream",
     "text": [
      "              precision    recall  f1-score   support\n",
      "\n",
      "           0       1.00      1.00      1.00         9\n",
      "           1       0.91      1.00      0.95        10\n",
      "           2       1.00      0.91      0.95        11\n",
      "\n",
      "    accuracy                           0.97        30\n",
      "   macro avg       0.97      0.97      0.97        30\n",
      "weighted avg       0.97      0.97      0.97        30\n",
      "\n"
     ]
    }
   ],
   "source": [
    "print(classification_report(y_test, y_pred))"
   ]
  },
  {
   "cell_type": "code",
   "execution_count": 614,
   "id": "operational-samba",
   "metadata": {},
   "outputs": [
    {
     "data": {
      "text/plain": [
       "array([2, 0, 0, 2, 1, 2, 1, 1, 2, 0, 1, 0, 1, 0, 0, 0, 0, 1, 0, 2, 1, 1,\n",
       "       2, 1, 1, 2, 2, 2, 2, 2])"
      ]
     },
     "execution_count": 614,
     "metadata": {},
     "output_type": "execute_result"
    }
   ],
   "source": [
    "y_test"
   ]
  },
  {
   "cell_type": "code",
   "execution_count": 615,
   "id": "conscious-motor",
   "metadata": {},
   "outputs": [
    {
     "data": {
      "text/html": [
       "<div>\n",
       "<style scoped>\n",
       "    .dataframe tbody tr th:only-of-type {\n",
       "        vertical-align: middle;\n",
       "    }\n",
       "\n",
       "    .dataframe tbody tr th {\n",
       "        vertical-align: top;\n",
       "    }\n",
       "\n",
       "    .dataframe thead th {\n",
       "        text-align: right;\n",
       "    }\n",
       "</style>\n",
       "<table border=\"1\" class=\"dataframe\">\n",
       "  <thead>\n",
       "    <tr style=\"text-align: right;\">\n",
       "      <th></th>\n",
       "      <th>sepal_length</th>\n",
       "      <th>sepal_width</th>\n",
       "      <th>petal_length</th>\n",
       "      <th>petal_width</th>\n",
       "      <th>species</th>\n",
       "    </tr>\n",
       "  </thead>\n",
       "  <tbody>\n",
       "    <tr>\n",
       "      <th>38</th>\n",
       "      <td>44</td>\n",
       "      <td>30</td>\n",
       "      <td>13</td>\n",
       "      <td>2</td>\n",
       "      <td>0</td>\n",
       "    </tr>\n",
       "    <tr>\n",
       "      <th>63</th>\n",
       "      <td>61</td>\n",
       "      <td>29</td>\n",
       "      <td>47</td>\n",
       "      <td>14</td>\n",
       "      <td>1</td>\n",
       "    </tr>\n",
       "    <tr>\n",
       "      <th>11</th>\n",
       "      <td>48</td>\n",
       "      <td>34</td>\n",
       "      <td>16</td>\n",
       "      <td>2</td>\n",
       "      <td>0</td>\n",
       "    </tr>\n",
       "    <tr>\n",
       "      <th>82</th>\n",
       "      <td>58</td>\n",
       "      <td>27</td>\n",
       "      <td>39</td>\n",
       "      <td>12</td>\n",
       "      <td>1</td>\n",
       "    </tr>\n",
       "    <tr>\n",
       "      <th>58</th>\n",
       "      <td>66</td>\n",
       "      <td>29</td>\n",
       "      <td>46</td>\n",
       "      <td>13</td>\n",
       "      <td>1</td>\n",
       "    </tr>\n",
       "  </tbody>\n",
       "</table>\n",
       "</div>"
      ],
      "text/plain": [
       "    sepal_length  sepal_width  petal_length  petal_width  species\n",
       "38            44           30            13            2        0\n",
       "63            61           29            47           14        1\n",
       "11            48           34            16            2        0\n",
       "82            58           27            39           12        1\n",
       "58            66           29            46           13        1"
      ]
     },
     "execution_count": 615,
     "metadata": {},
     "output_type": "execute_result"
    }
   ],
   "source": [
    "dataset = dataset.astype(int)\n",
    "\n",
    "dataset = dataset.sample(frac=1)\n",
    "dataset.head()"
   ]
  },
  {
   "cell_type": "code",
   "execution_count": 616,
   "id": "horizontal-locator",
   "metadata": {},
   "outputs": [],
   "source": [
    "X1 = dataset[:120]\n",
    "X2 = dataset[120:]"
   ]
  },
  {
   "cell_type": "code",
   "execution_count": 617,
   "id": "hidden-portuguese",
   "metadata": {},
   "outputs": [
    {
     "data": {
      "text/html": [
       "<div>\n",
       "<style scoped>\n",
       "    .dataframe tbody tr th:only-of-type {\n",
       "        vertical-align: middle;\n",
       "    }\n",
       "\n",
       "    .dataframe tbody tr th {\n",
       "        vertical-align: top;\n",
       "    }\n",
       "\n",
       "    .dataframe thead th {\n",
       "        text-align: right;\n",
       "    }\n",
       "</style>\n",
       "<table border=\"1\" class=\"dataframe\">\n",
       "  <thead>\n",
       "    <tr style=\"text-align: right;\">\n",
       "      <th></th>\n",
       "      <th>sepal_length</th>\n",
       "      <th>sepal_width</th>\n",
       "      <th>petal_length</th>\n",
       "      <th>petal_width</th>\n",
       "      <th>species</th>\n",
       "    </tr>\n",
       "  </thead>\n",
       "  <tbody>\n",
       "    <tr>\n",
       "      <th>107</th>\n",
       "      <td>73</td>\n",
       "      <td>29</td>\n",
       "      <td>63</td>\n",
       "      <td>18</td>\n",
       "      <td>2</td>\n",
       "    </tr>\n",
       "    <tr>\n",
       "      <th>121</th>\n",
       "      <td>56</td>\n",
       "      <td>28</td>\n",
       "      <td>49</td>\n",
       "      <td>20</td>\n",
       "      <td>2</td>\n",
       "    </tr>\n",
       "    <tr>\n",
       "      <th>70</th>\n",
       "      <td>59</td>\n",
       "      <td>32</td>\n",
       "      <td>48</td>\n",
       "      <td>18</td>\n",
       "      <td>1</td>\n",
       "    </tr>\n",
       "    <tr>\n",
       "      <th>142</th>\n",
       "      <td>58</td>\n",
       "      <td>27</td>\n",
       "      <td>51</td>\n",
       "      <td>19</td>\n",
       "      <td>2</td>\n",
       "    </tr>\n",
       "    <tr>\n",
       "      <th>14</th>\n",
       "      <td>58</td>\n",
       "      <td>40</td>\n",
       "      <td>12</td>\n",
       "      <td>2</td>\n",
       "      <td>0</td>\n",
       "    </tr>\n",
       "    <tr>\n",
       "      <th>40</th>\n",
       "      <td>50</td>\n",
       "      <td>35</td>\n",
       "      <td>13</td>\n",
       "      <td>3</td>\n",
       "      <td>0</td>\n",
       "    </tr>\n",
       "    <tr>\n",
       "      <th>42</th>\n",
       "      <td>44</td>\n",
       "      <td>32</td>\n",
       "      <td>13</td>\n",
       "      <td>2</td>\n",
       "      <td>0</td>\n",
       "    </tr>\n",
       "    <tr>\n",
       "      <th>46</th>\n",
       "      <td>51</td>\n",
       "      <td>38</td>\n",
       "      <td>16</td>\n",
       "      <td>2</td>\n",
       "      <td>0</td>\n",
       "    </tr>\n",
       "    <tr>\n",
       "      <th>110</th>\n",
       "      <td>65</td>\n",
       "      <td>32</td>\n",
       "      <td>51</td>\n",
       "      <td>20</td>\n",
       "      <td>2</td>\n",
       "    </tr>\n",
       "    <tr>\n",
       "      <th>83</th>\n",
       "      <td>60</td>\n",
       "      <td>27</td>\n",
       "      <td>51</td>\n",
       "      <td>16</td>\n",
       "      <td>1</td>\n",
       "    </tr>\n",
       "    <tr>\n",
       "      <th>132</th>\n",
       "      <td>64</td>\n",
       "      <td>28</td>\n",
       "      <td>56</td>\n",
       "      <td>22</td>\n",
       "      <td>2</td>\n",
       "    </tr>\n",
       "    <tr>\n",
       "      <th>130</th>\n",
       "      <td>74</td>\n",
       "      <td>28</td>\n",
       "      <td>61</td>\n",
       "      <td>19</td>\n",
       "      <td>2</td>\n",
       "    </tr>\n",
       "    <tr>\n",
       "      <th>84</th>\n",
       "      <td>54</td>\n",
       "      <td>30</td>\n",
       "      <td>45</td>\n",
       "      <td>15</td>\n",
       "      <td>1</td>\n",
       "    </tr>\n",
       "    <tr>\n",
       "      <th>108</th>\n",
       "      <td>67</td>\n",
       "      <td>25</td>\n",
       "      <td>58</td>\n",
       "      <td>18</td>\n",
       "      <td>2</td>\n",
       "    </tr>\n",
       "    <tr>\n",
       "      <th>39</th>\n",
       "      <td>51</td>\n",
       "      <td>34</td>\n",
       "      <td>15</td>\n",
       "      <td>2</td>\n",
       "      <td>0</td>\n",
       "    </tr>\n",
       "    <tr>\n",
       "      <th>78</th>\n",
       "      <td>60</td>\n",
       "      <td>29</td>\n",
       "      <td>45</td>\n",
       "      <td>15</td>\n",
       "      <td>1</td>\n",
       "    </tr>\n",
       "    <tr>\n",
       "      <th>35</th>\n",
       "      <td>50</td>\n",
       "      <td>32</td>\n",
       "      <td>12</td>\n",
       "      <td>2</td>\n",
       "      <td>0</td>\n",
       "    </tr>\n",
       "    <tr>\n",
       "      <th>71</th>\n",
       "      <td>61</td>\n",
       "      <td>28</td>\n",
       "      <td>40</td>\n",
       "      <td>13</td>\n",
       "      <td>1</td>\n",
       "    </tr>\n",
       "    <tr>\n",
       "      <th>128</th>\n",
       "      <td>64</td>\n",
       "      <td>28</td>\n",
       "      <td>56</td>\n",
       "      <td>21</td>\n",
       "      <td>2</td>\n",
       "    </tr>\n",
       "    <tr>\n",
       "      <th>31</th>\n",
       "      <td>54</td>\n",
       "      <td>34</td>\n",
       "      <td>15</td>\n",
       "      <td>4</td>\n",
       "      <td>0</td>\n",
       "    </tr>\n",
       "    <tr>\n",
       "      <th>145</th>\n",
       "      <td>67</td>\n",
       "      <td>30</td>\n",
       "      <td>52</td>\n",
       "      <td>23</td>\n",
       "      <td>2</td>\n",
       "    </tr>\n",
       "    <tr>\n",
       "      <th>45</th>\n",
       "      <td>48</td>\n",
       "      <td>30</td>\n",
       "      <td>14</td>\n",
       "      <td>3</td>\n",
       "      <td>0</td>\n",
       "    </tr>\n",
       "    <tr>\n",
       "      <th>101</th>\n",
       "      <td>58</td>\n",
       "      <td>27</td>\n",
       "      <td>51</td>\n",
       "      <td>19</td>\n",
       "      <td>2</td>\n",
       "    </tr>\n",
       "    <tr>\n",
       "      <th>146</th>\n",
       "      <td>63</td>\n",
       "      <td>25</td>\n",
       "      <td>50</td>\n",
       "      <td>19</td>\n",
       "      <td>2</td>\n",
       "    </tr>\n",
       "    <tr>\n",
       "      <th>127</th>\n",
       "      <td>61</td>\n",
       "      <td>30</td>\n",
       "      <td>49</td>\n",
       "      <td>18</td>\n",
       "      <td>2</td>\n",
       "    </tr>\n",
       "    <tr>\n",
       "      <th>139</th>\n",
       "      <td>69</td>\n",
       "      <td>31</td>\n",
       "      <td>54</td>\n",
       "      <td>21</td>\n",
       "      <td>2</td>\n",
       "    </tr>\n",
       "    <tr>\n",
       "      <th>24</th>\n",
       "      <td>48</td>\n",
       "      <td>34</td>\n",
       "      <td>19</td>\n",
       "      <td>2</td>\n",
       "      <td>0</td>\n",
       "    </tr>\n",
       "    <tr>\n",
       "      <th>59</th>\n",
       "      <td>52</td>\n",
       "      <td>27</td>\n",
       "      <td>39</td>\n",
       "      <td>14</td>\n",
       "      <td>1</td>\n",
       "    </tr>\n",
       "    <tr>\n",
       "      <th>133</th>\n",
       "      <td>63</td>\n",
       "      <td>28</td>\n",
       "      <td>51</td>\n",
       "      <td>15</td>\n",
       "      <td>2</td>\n",
       "    </tr>\n",
       "    <tr>\n",
       "      <th>104</th>\n",
       "      <td>65</td>\n",
       "      <td>30</td>\n",
       "      <td>58</td>\n",
       "      <td>22</td>\n",
       "      <td>2</td>\n",
       "    </tr>\n",
       "  </tbody>\n",
       "</table>\n",
       "</div>"
      ],
      "text/plain": [
       "     sepal_length  sepal_width  petal_length  petal_width  species\n",
       "107            73           29            63           18        2\n",
       "121            56           28            49           20        2\n",
       "70             59           32            48           18        1\n",
       "142            58           27            51           19        2\n",
       "14             58           40            12            2        0\n",
       "40             50           35            13            3        0\n",
       "42             44           32            13            2        0\n",
       "46             51           38            16            2        0\n",
       "110            65           32            51           20        2\n",
       "83             60           27            51           16        1\n",
       "132            64           28            56           22        2\n",
       "130            74           28            61           19        2\n",
       "84             54           30            45           15        1\n",
       "108            67           25            58           18        2\n",
       "39             51           34            15            2        0\n",
       "78             60           29            45           15        1\n",
       "35             50           32            12            2        0\n",
       "71             61           28            40           13        1\n",
       "128            64           28            56           21        2\n",
       "31             54           34            15            4        0\n",
       "145            67           30            52           23        2\n",
       "45             48           30            14            3        0\n",
       "101            58           27            51           19        2\n",
       "146            63           25            50           19        2\n",
       "127            61           30            49           18        2\n",
       "139            69           31            54           21        2\n",
       "24             48           34            19            2        0\n",
       "59             52           27            39           14        1\n",
       "133            63           28            51           15        2\n",
       "104            65           30            58           22        2"
      ]
     },
     "execution_count": 617,
     "metadata": {},
     "output_type": "execute_result"
    }
   ],
   "source": [
    "X2"
   ]
  },
  {
   "cell_type": "code",
   "execution_count": 618,
   "id": "occasional-daily",
   "metadata": {},
   "outputs": [],
   "source": [
    "X1_class0 = X1.loc[X1['species'] == 0]\n",
    "X1_class1 = X1.loc[X1['species'] == 1]\n",
    "X1_class2 = X1.loc[X1['species'] == 2]\n"
   ]
  },
  {
   "cell_type": "code",
   "execution_count": 619,
   "id": "indie-semester",
   "metadata": {},
   "outputs": [],
   "source": [
    "f1_mean_0 = X1_class0['sepal_length'].mean().astype(int).item()\n",
    "f2_mean_0 = X1_class0['sepal_width'].mean().astype(int).item()\n",
    "f3_mean_0 = X1_class0['petal_length'].mean().astype(int).item()\n",
    "f4_mean_0 = X1_class0['petal_width'].mean().astype(int).item()\n",
    "f1_var_0 = X1_class0['sepal_length'].var().astype(int).item()\n",
    "f2_var_0 = X1_class0['sepal_width'].var().astype(int).item()\n",
    "f3_var_0 = X1_class0['petal_length'].var().astype(int).item()\n",
    "f4_var_0 = X1_class0['petal_width'].var().astype(int).item()"
   ]
  },
  {
   "cell_type": "code",
   "execution_count": 620,
   "id": "finite-price",
   "metadata": {},
   "outputs": [],
   "source": [
    "f1_mean_1 = X1_class1['sepal_length'].mean().astype(int).item()\n",
    "f2_mean_1 = X1_class1['sepal_width'].mean().astype(int).item()\n",
    "f3_mean_1 = X1_class1['petal_length'].mean().astype(int).item()\n",
    "f4_mean_1 = X1_class1['petal_width'].mean().astype(int).item()\n",
    "f1_var_1 = X1_class1['sepal_length'].var().astype(int).item()\n",
    "f2_var_1 = X1_class1['sepal_width'].var().astype(int).item()\n",
    "f3_var_1 = X1_class1['petal_length'].var().astype(int).item()\n",
    "f4_var_1 = X1_class1['petal_width'].var().astype(int).item()"
   ]
  },
  {
   "cell_type": "code",
   "execution_count": 621,
   "id": "other-generic",
   "metadata": {},
   "outputs": [],
   "source": [
    "f1_mean_2 = X1_class2['sepal_length'].mean().astype(int).item()\n",
    "f2_mean_2 = X1_class2['sepal_width'].mean().astype(int).item()\n",
    "f3_mean_2 = X1_class2['petal_length'].mean().astype(int).item()\n",
    "f4_mean_2 = X1_class2['petal_width'].mean().astype(int).item()\n",
    "f1_var_2 = X1_class2['sepal_length'].var().astype(int).item()\n",
    "f2_var_2 = X1_class2['sepal_width'].var().astype(int).item()\n",
    "f3_var_2 = X1_class2['petal_length'].var().astype(int).item()\n",
    "f4_var_2 = X1_class2['petal_width'].var().astype(int).item()"
   ]
  },
  {
   "cell_type": "code",
   "execution_count": 622,
   "id": "embedded-portland",
   "metadata": {},
   "outputs": [
    {
     "name": "stdout",
     "output_type": "stream",
     "text": [
      "49 34 14 2 12 15 2 1\n"
     ]
    }
   ],
   "source": [
    "print(f1_mean_0,f2_mean_0,f3_mean_0,f4_mean_0,f1_var_0,f2_var_0,f3_var_0,f4_var_0)"
   ]
  },
  {
   "cell_type": "code",
   "execution_count": 623,
   "id": "furnished-qualification",
   "metadata": {},
   "outputs": [
    {
     "name": "stdout",
     "output_type": "stream",
     "text": [
      "59 27 42 13 28 10 22 3\n"
     ]
    }
   ],
   "source": [
    "print(f1_mean_1,f2_mean_1,f3_mean_1,f4_mean_1,f1_var_1,f2_var_1,f3_var_1,f4_var_1)"
   ]
  },
  {
   "cell_type": "code",
   "execution_count": 624,
   "id": "verbal-practice",
   "metadata": {},
   "outputs": [
    {
     "name": "stdout",
     "output_type": "stream",
     "text": [
      "66 30 56 20 46 12 34 8\n"
     ]
    }
   ],
   "source": [
    "print(f1_mean_2,f2_mean_2,f3_mean_2,f4_mean_2,f1_var_2,f2_var_2,f3_var_2,f4_var_2)"
   ]
  },
  {
   "cell_type": "code",
   "execution_count": 625,
   "id": "expanded-basic",
   "metadata": {},
   "outputs": [
    {
     "data": {
      "text/plain": [
       "1    44\n",
       "0    41\n",
       "2    35\n",
       "Name: species, dtype: int64"
      ]
     },
     "execution_count": 625,
     "metadata": {},
     "output_type": "execute_result"
    }
   ],
   "source": [
    "X1[\"species\"].value_counts()\n"
   ]
  },
  {
   "cell_type": "code",
   "execution_count": 626,
   "id": "grateful-armor",
   "metadata": {},
   "outputs": [],
   "source": [
    "prior0 = int((40/120)*100)\n",
    "prior1 = int((38/120)*100)\n",
    "prior2 = int((42/120)*100)"
   ]
  },
  {
   "cell_type": "code",
   "execution_count": 627,
   "id": "manual-adult",
   "metadata": {},
   "outputs": [],
   "source": [
    "X_test = X2.values\n",
    "y_test_sc = X2[\"species\"].values"
   ]
  },
  {
   "cell_type": "code",
   "execution_count": 628,
   "id": "protective-curtis",
   "metadata": {},
   "outputs": [
    {
     "data": {
      "text/plain": [
       "array([2, 0, 0, 2, 1, 2, 1, 1, 2, 0, 1, 0, 1, 0, 0, 0, 0, 1, 0, 2, 1, 1,\n",
       "       2, 1, 1, 2, 2, 1, 2, 2])"
      ]
     },
     "execution_count": 628,
     "metadata": {},
     "output_type": "execute_result"
    }
   ],
   "source": [
    "y_pred"
   ]
  },
  {
   "cell_type": "code",
   "execution_count": 629,
   "id": "spiritual-arena",
   "metadata": {},
   "outputs": [
    {
     "data": {
      "text/plain": [
       "array([2, 2, 1, 2, 0, 0, 0, 0, 2, 1, 2, 2, 1, 2, 0, 1, 0, 1, 2, 0, 2, 0,\n",
       "       2, 2, 2, 2, 0, 1, 2, 2])"
      ]
     },
     "execution_count": 629,
     "metadata": {},
     "output_type": "execute_result"
    }
   ],
   "source": [
    "y_test_sc"
   ]
  },
  {
   "cell_type": "code",
   "execution_count": 630,
   "id": "naked-duncan",
   "metadata": {},
   "outputs": [],
   "source": [
    "# y_pred_sc = np.array([1,2,0,2,1,0,1,2,2,1,0,1,0,1,2,1,0,1,1,2,0,0,2,1,2,1,0,0,2,1])\n",
    "\n",
    "# print (\"Accuracy : \", accuracy_score(y_test, y_pred_sc))"
   ]
  },
  {
   "cell_type": "code",
   "execution_count": 631,
   "id": "described-sample",
   "metadata": {},
   "outputs": [],
   "source": [
    "# print (\"Accuracy : \", accuracy_score(y_test, y_pred))\n",
    "# print (\"Accuracy : \", accuracy_score(y_test, y_pred_sc))"
   ]
  },
  {
   "cell_type": "code",
   "execution_count": 632,
   "id": "general-deadline",
   "metadata": {},
   "outputs": [
    {
     "name": "stdout",
     "output_type": "stream",
     "text": [
      "              precision    recall  f1-score   support\n",
      "\n",
      "           0       1.00      1.00      1.00         9\n",
      "           1       0.91      1.00      0.95        10\n",
      "           2       1.00      0.91      0.95        11\n",
      "\n",
      "    accuracy                           0.97        30\n",
      "   macro avg       0.97      0.97      0.97        30\n",
      "weighted avg       0.97      0.97      0.97        30\n",
      "\n"
     ]
    }
   ],
   "source": [
    "print(classification_report(y_test, y_pred))"
   ]
  },
  {
   "cell_type": "code",
   "execution_count": 633,
   "id": "informative-diary",
   "metadata": {},
   "outputs": [],
   "source": [
    "# print(classification_report(y_test, y_pred_sc))"
   ]
  },
  {
   "cell_type": "code",
   "execution_count": 634,
   "id": "wanted-vessel",
   "metadata": {},
   "outputs": [],
   "source": [
    "# For triple\n",
    "def triple_send_txn(a1,a2,a3,a4,b1,b2,b3,b4,c1,c2,c3,c4,\\\n",
    "                    e1,e2,e3,e4,f1,f2,f3,f4,g1,g2,g3,g4,\\\n",
    "                    h1,h2,h3,h4,i1,i2,i3,i4,j1,j2,j3,j4,\\\n",
    "                    d1,d2,d3,account1,account2,privatekey1,privatekey2):\n",
    "    nonce = web3.eth.getTransactionCount(account1)\n",
    "    transaction = contract_triple.functions.a_getparameters1(\n",
    "        a1,a2,a3,a4,b1,b2,b3,b4,c1,c2,c3,c4\n",
    "         ).buildTransaction({\n",
    "        'gas': 3000000,\n",
    "        'gasPrice': web3.toWei('10', 'gwei'),\n",
    "        'from': account1,\n",
    "        'nonce': nonce\n",
    "        }) \n",
    "    signed_txn = web3.eth.account.signTransaction(transaction, private_key=privatekey1)\n",
    "    tx_hash = web3.eth.sendRawTransaction(signed_txn.rawTransaction)\n",
    "    tx_receipt = web3.eth.waitForTransactionReceipt(tx_hash)\n",
    "#     print(tx_receipt.gasUsed)\n",
    "    nonce = web3.eth.getTransactionCount(account2)\n",
    "    transaction = contract_triple.functions.b_getparameters2(\n",
    "        e1,e2,e3,e4,f1,f2,f3,f4,g1,g2,g3,g4\n",
    "         ).buildTransaction({\n",
    "        'gas': 3000000,\n",
    "        'gasPrice': web3.toWei('10', 'gwei'),\n",
    "        'from': account2,\n",
    "        'nonce': nonce\n",
    "        }) \n",
    "    signed_txn = web3.eth.account.signTransaction(transaction, private_key=privatekey2)\n",
    "    tx_hash = web3.eth.sendRawTransaction(signed_txn.rawTransaction)\n",
    "    tx_receipt = web3.eth.waitForTransactionReceipt(tx_hash)\n",
    "#     print(tx_receipt.gasUsed)\n",
    "    nonce = web3.eth.getTransactionCount(account1)\n",
    "    transaction = contract_triple.functions.b_getparameters3(\n",
    "        h1,h2,h3,h4,i1,i2,i3,i4,j1,j2,j3,j4\n",
    "         ).buildTransaction({\n",
    "        'gas': 3000000,\n",
    "        'gasPrice': web3.toWei('10', 'gwei'),\n",
    "        'from': account1,\n",
    "        'nonce': nonce\n",
    "        }) \n",
    "    signed_txn = web3.eth.account.signTransaction(transaction, private_key=privatekey1)\n",
    "    tx_hash = web3.eth.sendRawTransaction(signed_txn.rawTransaction)\n",
    "    tx_receipt = web3.eth.waitForTransactionReceipt(tx_hash)\n",
    "#     print(tx_receipt.gasUsed)\n",
    "    \n",
    "#     nonce = web3.eth.getTransactionCount(account2)\n",
    "#     transaction = contract_triple.functions.b_getparameters3(\n",
    "#         a1,a2,a3,a4,b1,b2,b3,b4,c1,c2,c3,c4\n",
    "#          ).buildTransaction({\n",
    "#         'gas': 3000000,\n",
    "#         'gasPrice': web3.toWei('10', 'gwei'),\n",
    "#         'from': account2,\n",
    "#         'nonce': nonce\n",
    "#         }) \n",
    "#     signed_txn = web3.eth.account.signTransaction(transaction, private_key=privatekey2)\n",
    "#     tx_hash = web3.eth.sendRawTransaction(signed_txn.rawTransaction)\n",
    "#     tx_receipt = web3.eth.waitForTransactionReceipt(tx_hash)\n",
    "#     print(tx_receipt.gasUsed)\n",
    "    \n",
    "    nonce = web3.eth.getTransactionCount(account1)\n",
    "    transaction = contract_triple.functions.e_exponent1(\n",
    "        d1,d2,d3\n",
    "         ).buildTransaction({\n",
    "        'gas': 3000000,\n",
    "        'gasPrice': web3.toWei('10', 'gwei'),\n",
    "        'from': account1,\n",
    "        'nonce': nonce\n",
    "        }) \n",
    "    signed_txn = web3.eth.account.signTransaction(transaction, private_key=privatekey1)\n",
    "    tx_hash = web3.eth.sendRawTransaction(signed_txn.rawTransaction)\n",
    "    tx_receipt = web3.eth.waitForTransactionReceipt(tx_hash)\n",
    "#     print(tx_receipt.gasUsed)\n",
    "    \n",
    "#     nonce = web3.eth.getTransactionCount(account1)\n",
    "#     transaction = contract_triple.functions.e_exponent(\n",
    "#         a1,a2,a3,a4,b1,b2,b3,b4,c1,c2\n",
    "#          ).buildTransaction({\n",
    "#         'gas': 3000000,\n",
    "#         'gasPrice': web3.toWei('10', 'gwei'),\n",
    "#         'from': account1,\n",
    "#         'nonce': nonce\n",
    "#         }) \n",
    "#     signed_txn = web3.eth.account.signTransaction(transaction, private_key=privatekey1)\n",
    "#     tx_hash = web3.eth.sendRawTransaction(signed_txn.rawTransaction)\n",
    "#     tx_receipt = web3.eth.waitForTransactionReceipt(tx_hash)\n",
    "#     print(tx_receipt.gasUsed)\n",
    "    print(contract_triple.functions.print().call())\n",
    "    return (contract_triple.functions.f_compare().call())\n",
    "    \n"
   ]
  },
  {
   "cell_type": "code",
   "execution_count": 635,
   "id": "afraid-dependence",
   "metadata": {},
   "outputs": [],
   "source": [
    "# triple_send_txn(1,2,3,4,1,2,3,4,1,2,3,4,1,2,3,account_1,account_2,private_key1,private_key2)"
   ]
  },
  {
   "cell_type": "code",
   "execution_count": 636,
   "id": "coupled-queens",
   "metadata": {},
   "outputs": [
    {
     "name": "stdout",
     "output_type": "stream",
     "text": [
      "[0, 6783603908724342360427305369600000000, 1568547773500739284358167265280000000000]\n",
      "[0, 6783603908724342360427305369600000000000, 1065690726717576465858145812480000000]\n",
      "[0, 6783603908724342360427305369600000000, 1691878134194677329735482081280000000000]\n",
      "[0, 6783603908724342360427305369600000000, 1695539692473207544039216250880000000000]\n",
      "[7687143243080966524979537510400000000000, 0, 20157993199418076463104000000000000]\n",
      "[7687143243080966524979537510400000000000, 0, 16916333983577561943244800000000000]\n",
      "[7687143243080966524979537510400000000000, 0, 16206758716631688922382991360000000]\n",
      "[7687143243080966524979537510400000000000, 0, 19794796063562572826998210560000000]\n",
      "[0, 6783603908724342360427305369600000000, 1435399326221581757256491335680000000000]\n",
      "[0, 6783603908724342360427305369600000000, 1215057845772403890947862036480000000000]\n",
      "[0, 6783603908724342360427305369600000000, 2649916182112036740282061946880000000000]\n",
      "[0, 6783603908724342360427305369600000000, 1182367949064178312200931246080000000000]\n",
      "[0, 6783603908724342360427305369600000000000, 1665745217312678521012224000000000000]\n",
      "[0, 6783603908724342360427305369600000000, 2238668562175143220504166400000000000000]\n",
      "[7687143243080966524979537510400000000000, 0, 9169559792711234908229468160000000]\n",
      "[0, 6783603908724342360427305369600000000, 1595926132364540432569419694080000000000]\n",
      "[7687143243080966524979537510400000000000, 0, 15587635837254181370996981760000000]\n",
      "[0, 6783603908724342360427305369600000000000, 2813272137556774326238162452480000000]\n",
      "[0, 6783603908724342360427305369600000000, 2649916182112036740282061946880000000000]\n",
      "[7687143243080966524979537510400000000000, 0, 10534414696695034696811151360000000]\n",
      "[0, 6783603908724342360427305369600000000, 1066613802213563616028262400000000000000]\n",
      "[7687143243080966524979537510400000000000, 0, 19897893710710920924364800000000000]\n",
      "[0, 6783603908724342360427305369600000000, 1695539692473207544039216250880000000000]\n",
      "[0, 6783603908724342360427305369600000000, 1788898214492949091398451200000000000000]\n",
      "[0, 6783603908724342360427305369600000000, 2779849282454529765684019200000000000000]\n",
      "[0, 6783603908724342360427305369600000000, 2568384577615044740854579200000000000000]\n",
      "[7687143243080966524979537510400000000000, 0, 20386161354584997835371970560000000]\n",
      "[0, 6783603908724342360427305369600000000000, 1521754591715097080364930170880000000]\n",
      "[0, 6783603908724342360427305369600000000, 1838258606555606297382098042880000000000]\n",
      "[0, 6783603908724342360427305369600000000, 1359214893408678908932915200000000000000]\n"
     ]
    }
   ],
   "source": [
    "pred =[]\n",
    "for i in range(len(y_test)):\n",
    "    f1 = X_test[i][0].item();f2 = X_test[i][1].item(); f3 =X_test[i][2].item(); f4 =X_test[i][4].item()\n",
    "    \n",
    "    pred.append(triple_send_txn(f1,f2,f3,f4,f1_var_0,f2_var_0,f3_var_0,f4_var_0,f1_mean_0,f2_mean_0,f3_mean_0,f4_mean_0,\\\n",
    "                                f1,f2,f3,f4,f1_var_1,f2_var_1,f3_var_1,f4_var_1,f1_mean_1,f2_mean_1,f3_mean_1,f4_mean_1,\\\n",
    "                                f1,f2,f3,f4,f1_var_2,f2_var_2,f3_var_2,f4_var_2,f1_mean_2,f2_mean_2,f3_mean_2,f4_mean_2,\\\n",
    "                                prior0,prior1,prior2,account_1,account_2,private_key1,private_key2))\n",
    "    "
   ]
  },
  {
   "cell_type": "code",
   "execution_count": 637,
   "id": "terminal-appearance",
   "metadata": {},
   "outputs": [
    {
     "data": {
      "text/plain": [
       "[2,\n",
       " 1,\n",
       " 2,\n",
       " 2,\n",
       " 0,\n",
       " 0,\n",
       " 0,\n",
       " 0,\n",
       " 2,\n",
       " 2,\n",
       " 2,\n",
       " 2,\n",
       " 1,\n",
       " 2,\n",
       " 0,\n",
       " 2,\n",
       " 0,\n",
       " 1,\n",
       " 2,\n",
       " 0,\n",
       " 2,\n",
       " 0,\n",
       " 2,\n",
       " 2,\n",
       " 2,\n",
       " 2,\n",
       " 0,\n",
       " 1,\n",
       " 2,\n",
       " 2]"
      ]
     },
     "execution_count": 637,
     "metadata": {},
     "output_type": "execute_result"
    }
   ],
   "source": [
    "pred"
   ]
  },
  {
   "cell_type": "code",
   "execution_count": 638,
   "id": "korean-interval",
   "metadata": {},
   "outputs": [
    {
     "data": {
      "text/plain": [
       "array([2, 2, 1, 2, 0, 0, 0, 0, 2, 1, 2, 2, 1, 2, 0, 1, 0, 1, 2, 0, 2, 0,\n",
       "       2, 2, 2, 2, 0, 1, 2, 2])"
      ]
     },
     "execution_count": 638,
     "metadata": {},
     "output_type": "execute_result"
    }
   ],
   "source": [
    "y_test_sc"
   ]
  },
  {
   "cell_type": "code",
   "execution_count": 639,
   "id": "productive-homeless",
   "metadata": {},
   "outputs": [
    {
     "name": "stdout",
     "output_type": "stream",
     "text": [
      "              precision    recall  f1-score   support\n",
      "\n",
      "           0       1.00      1.00      1.00         9\n",
      "           1       0.50      0.75      0.60         4\n",
      "           2       0.93      0.82      0.87        17\n",
      "\n",
      "    accuracy                           0.87        30\n",
      "   macro avg       0.81      0.86      0.83        30\n",
      "weighted avg       0.90      0.87      0.88        30\n",
      "\n"
     ]
    }
   ],
   "source": [
    "print(classification_report(pred,y_test_sc))"
   ]
  },
  {
   "cell_type": "code",
   "execution_count": 640,
   "id": "legendary-stamp",
   "metadata": {},
   "outputs": [
    {
     "name": "stdout",
     "output_type": "stream",
     "text": [
      "0.8666666666666667\n"
     ]
    }
   ],
   "source": [
    "print(accuracy_score(pred,y_test_sc))"
   ]
  },
  {
   "cell_type": "code",
   "execution_count": null,
   "id": "moved-jewelry",
   "metadata": {},
   "outputs": [],
   "source": []
  }
 ],
 "metadata": {
  "kernelspec": {
   "display_name": "Python 3",
   "language": "python",
   "name": "python3"
  },
  "language_info": {
   "codemirror_mode": {
    "name": "ipython",
    "version": 3
   },
   "file_extension": ".py",
   "mimetype": "text/x-python",
   "name": "python",
   "nbconvert_exporter": "python",
   "pygments_lexer": "ipython3",
   "version": "3.9.2"
  }
 },
 "nbformat": 4,
 "nbformat_minor": 5
}
