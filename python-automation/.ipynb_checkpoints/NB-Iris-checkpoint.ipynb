{
 "cells": [
  {
   "cell_type": "code",
   "execution_count": 65,
   "id": "little-batch",
   "metadata": {},
   "outputs": [],
   "source": [
    "import numpy as np\n",
    "import matplotlib.pyplot as plt\n",
    "import pandas as pd"
   ]
  },
  {
   "cell_type": "code",
   "execution_count": 66,
   "id": "julian-archives",
   "metadata": {},
   "outputs": [
    {
     "data": {
      "text/html": [
       "<div>\n",
       "<style scoped>\n",
       "    .dataframe tbody tr th:only-of-type {\n",
       "        vertical-align: middle;\n",
       "    }\n",
       "\n",
       "    .dataframe tbody tr th {\n",
       "        vertical-align: top;\n",
       "    }\n",
       "\n",
       "    .dataframe thead th {\n",
       "        text-align: right;\n",
       "    }\n",
       "</style>\n",
       "<table border=\"1\" class=\"dataframe\">\n",
       "  <thead>\n",
       "    <tr style=\"text-align: right;\">\n",
       "      <th></th>\n",
       "      <th>sepal_length</th>\n",
       "      <th>sepal_width</th>\n",
       "      <th>petal_length</th>\n",
       "      <th>petal_width</th>\n",
       "      <th>species</th>\n",
       "    </tr>\n",
       "  </thead>\n",
       "  <tbody>\n",
       "    <tr>\n",
       "      <th>0</th>\n",
       "      <td>5.1</td>\n",
       "      <td>3.5</td>\n",
       "      <td>1.4</td>\n",
       "      <td>0.2</td>\n",
       "      <td>setosa</td>\n",
       "    </tr>\n",
       "    <tr>\n",
       "      <th>1</th>\n",
       "      <td>4.9</td>\n",
       "      <td>3.0</td>\n",
       "      <td>1.4</td>\n",
       "      <td>0.2</td>\n",
       "      <td>setosa</td>\n",
       "    </tr>\n",
       "    <tr>\n",
       "      <th>2</th>\n",
       "      <td>4.7</td>\n",
       "      <td>3.2</td>\n",
       "      <td>1.3</td>\n",
       "      <td>0.2</td>\n",
       "      <td>setosa</td>\n",
       "    </tr>\n",
       "    <tr>\n",
       "      <th>3</th>\n",
       "      <td>4.6</td>\n",
       "      <td>3.1</td>\n",
       "      <td>1.5</td>\n",
       "      <td>0.2</td>\n",
       "      <td>setosa</td>\n",
       "    </tr>\n",
       "    <tr>\n",
       "      <th>4</th>\n",
       "      <td>5.0</td>\n",
       "      <td>3.6</td>\n",
       "      <td>1.4</td>\n",
       "      <td>0.2</td>\n",
       "      <td>setosa</td>\n",
       "    </tr>\n",
       "  </tbody>\n",
       "</table>\n",
       "</div>"
      ],
      "text/plain": [
       "   sepal_length  sepal_width  petal_length  petal_width species\n",
       "0           5.1          3.5           1.4          0.2  setosa\n",
       "1           4.9          3.0           1.4          0.2  setosa\n",
       "2           4.7          3.2           1.3          0.2  setosa\n",
       "3           4.6          3.1           1.5          0.2  setosa\n",
       "4           5.0          3.6           1.4          0.2  setosa"
      ]
     },
     "execution_count": 66,
     "metadata": {},
     "output_type": "execute_result"
    }
   ],
   "source": [
    "dataset = pd.read_csv('https://raw.githubusercontent.com/mk-gurucharan/Classification/master/IrisDataset.csv')\n",
    "# X = dataset.iloc[:,:4].values\n",
    "# y = dataset['species'].values\n",
    "dataset.head(5)"
   ]
  },
  {
   "cell_type": "code",
   "execution_count": 67,
   "id": "fifty-carpet",
   "metadata": {},
   "outputs": [
    {
     "data": {
      "text/html": [
       "<div>\n",
       "<style scoped>\n",
       "    .dataframe tbody tr th:only-of-type {\n",
       "        vertical-align: middle;\n",
       "    }\n",
       "\n",
       "    .dataframe tbody tr th {\n",
       "        vertical-align: top;\n",
       "    }\n",
       "\n",
       "    .dataframe thead th {\n",
       "        text-align: right;\n",
       "    }\n",
       "</style>\n",
       "<table border=\"1\" class=\"dataframe\">\n",
       "  <thead>\n",
       "    <tr style=\"text-align: right;\">\n",
       "      <th></th>\n",
       "      <th>sepal_length</th>\n",
       "      <th>sepal_width</th>\n",
       "      <th>petal_length</th>\n",
       "      <th>petal_width</th>\n",
       "      <th>species</th>\n",
       "    </tr>\n",
       "  </thead>\n",
       "  <tbody>\n",
       "    <tr>\n",
       "      <th>0</th>\n",
       "      <td>51.0</td>\n",
       "      <td>35.0</td>\n",
       "      <td>14.0</td>\n",
       "      <td>2.0</td>\n",
       "      <td>setosa</td>\n",
       "    </tr>\n",
       "    <tr>\n",
       "      <th>1</th>\n",
       "      <td>49.0</td>\n",
       "      <td>30.0</td>\n",
       "      <td>14.0</td>\n",
       "      <td>2.0</td>\n",
       "      <td>setosa</td>\n",
       "    </tr>\n",
       "    <tr>\n",
       "      <th>2</th>\n",
       "      <td>47.0</td>\n",
       "      <td>32.0</td>\n",
       "      <td>13.0</td>\n",
       "      <td>2.0</td>\n",
       "      <td>setosa</td>\n",
       "    </tr>\n",
       "    <tr>\n",
       "      <th>3</th>\n",
       "      <td>46.0</td>\n",
       "      <td>31.0</td>\n",
       "      <td>15.0</td>\n",
       "      <td>2.0</td>\n",
       "      <td>setosa</td>\n",
       "    </tr>\n",
       "    <tr>\n",
       "      <th>4</th>\n",
       "      <td>50.0</td>\n",
       "      <td>36.0</td>\n",
       "      <td>14.0</td>\n",
       "      <td>2.0</td>\n",
       "      <td>setosa</td>\n",
       "    </tr>\n",
       "    <tr>\n",
       "      <th>...</th>\n",
       "      <td>...</td>\n",
       "      <td>...</td>\n",
       "      <td>...</td>\n",
       "      <td>...</td>\n",
       "      <td>...</td>\n",
       "    </tr>\n",
       "    <tr>\n",
       "      <th>145</th>\n",
       "      <td>67.0</td>\n",
       "      <td>30.0</td>\n",
       "      <td>52.0</td>\n",
       "      <td>23.0</td>\n",
       "      <td>virginica</td>\n",
       "    </tr>\n",
       "    <tr>\n",
       "      <th>146</th>\n",
       "      <td>63.0</td>\n",
       "      <td>25.0</td>\n",
       "      <td>50.0</td>\n",
       "      <td>19.0</td>\n",
       "      <td>virginica</td>\n",
       "    </tr>\n",
       "    <tr>\n",
       "      <th>147</th>\n",
       "      <td>65.0</td>\n",
       "      <td>30.0</td>\n",
       "      <td>52.0</td>\n",
       "      <td>20.0</td>\n",
       "      <td>virginica</td>\n",
       "    </tr>\n",
       "    <tr>\n",
       "      <th>148</th>\n",
       "      <td>62.0</td>\n",
       "      <td>34.0</td>\n",
       "      <td>54.0</td>\n",
       "      <td>23.0</td>\n",
       "      <td>virginica</td>\n",
       "    </tr>\n",
       "    <tr>\n",
       "      <th>149</th>\n",
       "      <td>59.0</td>\n",
       "      <td>30.0</td>\n",
       "      <td>51.0</td>\n",
       "      <td>18.0</td>\n",
       "      <td>virginica</td>\n",
       "    </tr>\n",
       "  </tbody>\n",
       "</table>\n",
       "<p>150 rows × 5 columns</p>\n",
       "</div>"
      ],
      "text/plain": [
       "     sepal_length  sepal_width  petal_length  petal_width    species\n",
       "0            51.0         35.0          14.0          2.0     setosa\n",
       "1            49.0         30.0          14.0          2.0     setosa\n",
       "2            47.0         32.0          13.0          2.0     setosa\n",
       "3            46.0         31.0          15.0          2.0     setosa\n",
       "4            50.0         36.0          14.0          2.0     setosa\n",
       "..            ...          ...           ...          ...        ...\n",
       "145          67.0         30.0          52.0         23.0  virginica\n",
       "146          63.0         25.0          50.0         19.0  virginica\n",
       "147          65.0         30.0          52.0         20.0  virginica\n",
       "148          62.0         34.0          54.0         23.0  virginica\n",
       "149          59.0         30.0          51.0         18.0  virginica\n",
       "\n",
       "[150 rows x 5 columns]"
      ]
     },
     "execution_count": 67,
     "metadata": {},
     "output_type": "execute_result"
    }
   ],
   "source": [
    "dataset[\"sepal_length\"] = dataset[\"sepal_length\"]*10\n",
    "dataset[\"sepal_width\"] = dataset[\"sepal_width\"]*10\n",
    "dataset[\"petal_length\"] = dataset[\"petal_length\"]*10\n",
    "dataset[\"petal_width\"] = dataset[\"petal_width\"]*10\n",
    "dataset"
   ]
  },
  {
   "cell_type": "code",
   "execution_count": 68,
   "id": "fitted-fourth",
   "metadata": {},
   "outputs": [
    {
     "data": {
      "text/plain": [
       "array([0, 1, 2])"
      ]
     },
     "execution_count": 68,
     "metadata": {},
     "output_type": "execute_result"
    }
   ],
   "source": [
    "from sklearn import preprocessing\n",
    "le = preprocessing.LabelEncoder()\n",
    "label_encoder = preprocessing.LabelEncoder()\n",
    "dataset['species']= label_encoder.fit_transform(dataset['species']) \n",
    "dataset['species'].unique()"
   ]
  },
  {
   "cell_type": "code",
   "execution_count": 69,
   "id": "vital-trust",
   "metadata": {},
   "outputs": [],
   "source": [
    "X = dataset.iloc[:,:4].values\n",
    "y = dataset['species'].values"
   ]
  },
  {
   "cell_type": "code",
   "execution_count": 70,
   "id": "structural-silence",
   "metadata": {},
   "outputs": [],
   "source": [
    "from sklearn.model_selection import train_test_split\n",
    "X_train, X_test, y_train, y_test = train_test_split(X, y, test_size = 0.2)"
   ]
  },
  {
   "cell_type": "code",
   "execution_count": 71,
   "id": "intense-aaron",
   "metadata": {},
   "outputs": [
    {
     "data": {
      "text/plain": [
       "array([[62., 34., 54., 23.],\n",
       "       [57., 38., 17.,  3.],\n",
       "       [55., 24., 37., 10.],\n",
       "       [77., 28., 67., 20.],\n",
       "       [48., 30., 14.,  1.],\n",
       "       [50., 20., 35., 10.],\n",
       "       [48., 34., 16.,  2.],\n",
       "       [56., 30., 45., 15.],\n",
       "       [65., 30., 55., 18.],\n",
       "       [49., 30., 14.,  2.],\n",
       "       [77., 26., 69., 23.],\n",
       "       [50., 35., 16.,  6.],\n",
       "       [62., 22., 45., 15.],\n",
       "       [51., 38., 16.,  2.],\n",
       "       [49., 25., 45., 17.],\n",
       "       [64., 27., 53., 19.],\n",
       "       [71., 30., 59., 21.],\n",
       "       [72., 36., 61., 25.],\n",
       "       [55., 24., 38., 11.],\n",
       "       [64., 32., 45., 15.],\n",
       "       [68., 30., 55., 21.],\n",
       "       [63., 33., 47., 16.],\n",
       "       [64., 32., 53., 23.],\n",
       "       [67., 31., 56., 24.],\n",
       "       [50., 34., 16.,  4.],\n",
       "       [67., 30., 50., 17.],\n",
       "       [55., 42., 14.,  2.],\n",
       "       [63., 25., 50., 19.],\n",
       "       [74., 28., 61., 19.],\n",
       "       [61., 30., 49., 18.],\n",
       "       [53., 37., 15.,  2.],\n",
       "       [68., 32., 59., 23.],\n",
       "       [63., 34., 56., 24.],\n",
       "       [54., 34., 15.,  4.],\n",
       "       [63., 27., 49., 18.],\n",
       "       [56., 28., 49., 20.],\n",
       "       [79., 38., 64., 20.],\n",
       "       [55., 26., 44., 12.],\n",
       "       [57., 25., 50., 20.],\n",
       "       [51., 35., 14.,  2.],\n",
       "       [46., 31., 15.,  2.],\n",
       "       [65., 30., 52., 20.],\n",
       "       [48., 34., 19.,  2.],\n",
       "       [76., 30., 66., 21.],\n",
       "       [58., 27., 39., 12.],\n",
       "       [50., 36., 14.,  2.],\n",
       "       [59., 30., 42., 15.],\n",
       "       [54., 34., 17.,  2.],\n",
       "       [67., 31., 47., 15.],\n",
       "       [57., 28., 41., 13.],\n",
       "       [57., 28., 45., 13.],\n",
       "       [58., 27., 51., 19.],\n",
       "       [60., 29., 45., 15.],\n",
       "       [51., 37., 15.,  4.],\n",
       "       [45., 23., 13.,  3.],\n",
       "       [55., 25., 40., 13.],\n",
       "       [69., 31., 51., 23.],\n",
       "       [46., 36., 10.,  2.],\n",
       "       [58., 28., 51., 24.],\n",
       "       [63., 23., 44., 13.],\n",
       "       [61., 28., 47., 12.],\n",
       "       [44., 30., 13.,  2.],\n",
       "       [48., 30., 14.,  3.],\n",
       "       [47., 32., 16.,  2.],\n",
       "       [64., 29., 43., 13.],\n",
       "       [52., 35., 15.,  2.],\n",
       "       [54., 39., 17.,  4.],\n",
       "       [57., 26., 35., 10.],\n",
       "       [64., 31., 55., 18.],\n",
       "       [61., 30., 46., 14.],\n",
       "       [60., 34., 45., 16.],\n",
       "       [63., 25., 49., 15.],\n",
       "       [50., 23., 33., 10.],\n",
       "       [51., 33., 17.,  5.],\n",
       "       [67., 30., 52., 23.],\n",
       "       [65., 30., 58., 22.],\n",
       "       [43., 30., 11.,  1.],\n",
       "       [66., 30., 44., 14.],\n",
       "       [64., 28., 56., 21.],\n",
       "       [66., 29., 46., 13.],\n",
       "       [55., 35., 13.,  2.],\n",
       "       [54., 30., 45., 15.],\n",
       "       [69., 31., 49., 15.],\n",
       "       [67., 25., 58., 18.],\n",
       "       [69., 32., 57., 23.],\n",
       "       [67., 33., 57., 21.],\n",
       "       [51., 38., 15.,  3.],\n",
       "       [55., 23., 40., 13.],\n",
       "       [49., 31., 15.,  1.],\n",
       "       [60., 22., 40., 10.],\n",
       "       [51., 35., 14.,  3.],\n",
       "       [77., 30., 61., 23.],\n",
       "       [59., 32., 48., 18.],\n",
       "       [58., 26., 40., 12.],\n",
       "       [44., 29., 14.,  2.],\n",
       "       [67., 33., 57., 25.],\n",
       "       [63., 28., 51., 15.],\n",
       "       [49., 31., 15.,  1.],\n",
       "       [77., 38., 67., 22.],\n",
       "       [52., 41., 15.,  1.],\n",
       "       [52., 27., 39., 14.],\n",
       "       [54., 39., 13.,  4.],\n",
       "       [54., 37., 15.,  2.],\n",
       "       [47., 32., 13.,  2.],\n",
       "       [63., 29., 56., 18.],\n",
       "       [49., 31., 15.,  1.],\n",
       "       [51., 34., 15.,  2.],\n",
       "       [50., 30., 16.,  2.],\n",
       "       [56., 30., 41., 13.],\n",
       "       [73., 29., 63., 18.],\n",
       "       [56., 25., 39., 11.],\n",
       "       [72., 30., 58., 16.],\n",
       "       [70., 32., 47., 14.],\n",
       "       [67., 31., 44., 14.],\n",
       "       [61., 26., 56., 14.],\n",
       "       [52., 34., 14.,  2.],\n",
       "       [51., 25., 30., 11.],\n",
       "       [46., 32., 14.,  2.],\n",
       "       [68., 28., 48., 14.],\n",
       "       [60., 27., 51., 16.]])"
      ]
     },
     "execution_count": 71,
     "metadata": {},
     "output_type": "execute_result"
    }
   ],
   "source": [
    "X_train"
   ]
  },
  {
   "cell_type": "code",
   "execution_count": 72,
   "id": "social-signature",
   "metadata": {},
   "outputs": [],
   "source": [
    "# from sklearn.preprocessing import StandardScaler\n",
    "# sc = StandardScaler()\n",
    "# X_train = sc.fit_transform(X_train)\n",
    "# X_test = sc.transform(X_test)"
   ]
  },
  {
   "cell_type": "code",
   "execution_count": 73,
   "id": "certified-sally",
   "metadata": {},
   "outputs": [
    {
     "data": {
      "text/plain": [
       "GaussianNB()"
      ]
     },
     "execution_count": 73,
     "metadata": {},
     "output_type": "execute_result"
    }
   ],
   "source": [
    "from sklearn.naive_bayes import GaussianNB\n",
    "classifier = GaussianNB()\n",
    "classifier.fit(X_train, y_train)"
   ]
  },
  {
   "cell_type": "code",
   "execution_count": 74,
   "id": "iraqi-sapphire",
   "metadata": {},
   "outputs": [
    {
     "data": {
      "text/plain": [
       "array([2, 2, 0, 2, 0, 2, 2, 0, 0, 1, 0, 0, 2, 2, 1, 1, 2, 2, 1, 1, 0, 1,\n",
       "       1, 1, 1, 0, 0, 1, 1, 0])"
      ]
     },
     "execution_count": 74,
     "metadata": {},
     "output_type": "execute_result"
    }
   ],
   "source": [
    "y_pred = classifier.predict(X_test) \n",
    "y_pred"
   ]
  },
  {
   "cell_type": "code",
   "execution_count": 75,
   "id": "offensive-account",
   "metadata": {},
   "outputs": [
    {
     "name": "stdout",
     "output_type": "stream",
     "text": [
      "Accuracy :  0.9666666666666667\n"
     ]
    },
    {
     "data": {
      "text/plain": [
       "array([[10,  0,  0],\n",
       "       [ 0, 10,  0],\n",
       "       [ 0,  1,  9]], dtype=int64)"
      ]
     },
     "execution_count": 75,
     "metadata": {},
     "output_type": "execute_result"
    }
   ],
   "source": [
    "from sklearn.metrics import confusion_matrix\n",
    "from sklearn.metrics import classification_report\n",
    "cm = confusion_matrix(y_test, y_pred)\n",
    "from sklearn.metrics import accuracy_score \n",
    "print (\"Accuracy : \", accuracy_score(y_test, y_pred))\n",
    "cm"
   ]
  },
  {
   "cell_type": "code",
   "execution_count": 76,
   "id": "continental-export",
   "metadata": {},
   "outputs": [
    {
     "name": "stdout",
     "output_type": "stream",
     "text": [
      "              precision    recall  f1-score   support\n",
      "\n",
      "           0       1.00      1.00      1.00        10\n",
      "           1       0.91      1.00      0.95        10\n",
      "           2       1.00      0.90      0.95        10\n",
      "\n",
      "    accuracy                           0.97        30\n",
      "   macro avg       0.97      0.97      0.97        30\n",
      "weighted avg       0.97      0.97      0.97        30\n",
      "\n"
     ]
    }
   ],
   "source": [
    "print(classification_report(y_test, y_pred))"
   ]
  },
  {
   "cell_type": "code",
   "execution_count": 78,
   "id": "conscious-motor",
   "metadata": {},
   "outputs": [
    {
     "data": {
      "text/html": [
       "<div>\n",
       "<style scoped>\n",
       "    .dataframe tbody tr th:only-of-type {\n",
       "        vertical-align: middle;\n",
       "    }\n",
       "\n",
       "    .dataframe tbody tr th {\n",
       "        vertical-align: top;\n",
       "    }\n",
       "\n",
       "    .dataframe thead th {\n",
       "        text-align: right;\n",
       "    }\n",
       "</style>\n",
       "<table border=\"1\" class=\"dataframe\">\n",
       "  <thead>\n",
       "    <tr style=\"text-align: right;\">\n",
       "      <th></th>\n",
       "      <th>sepal_length</th>\n",
       "      <th>sepal_width</th>\n",
       "      <th>petal_length</th>\n",
       "      <th>petal_width</th>\n",
       "      <th>species</th>\n",
       "    </tr>\n",
       "  </thead>\n",
       "  <tbody>\n",
       "    <tr>\n",
       "      <th>0</th>\n",
       "      <td>51.0</td>\n",
       "      <td>35.0</td>\n",
       "      <td>14.0</td>\n",
       "      <td>2.0</td>\n",
       "      <td>0</td>\n",
       "    </tr>\n",
       "    <tr>\n",
       "      <th>1</th>\n",
       "      <td>49.0</td>\n",
       "      <td>30.0</td>\n",
       "      <td>14.0</td>\n",
       "      <td>2.0</td>\n",
       "      <td>0</td>\n",
       "    </tr>\n",
       "    <tr>\n",
       "      <th>2</th>\n",
       "      <td>47.0</td>\n",
       "      <td>32.0</td>\n",
       "      <td>13.0</td>\n",
       "      <td>2.0</td>\n",
       "      <td>0</td>\n",
       "    </tr>\n",
       "    <tr>\n",
       "      <th>3</th>\n",
       "      <td>46.0</td>\n",
       "      <td>31.0</td>\n",
       "      <td>15.0</td>\n",
       "      <td>2.0</td>\n",
       "      <td>0</td>\n",
       "    </tr>\n",
       "    <tr>\n",
       "      <th>4</th>\n",
       "      <td>50.0</td>\n",
       "      <td>36.0</td>\n",
       "      <td>14.0</td>\n",
       "      <td>2.0</td>\n",
       "      <td>0</td>\n",
       "    </tr>\n",
       "    <tr>\n",
       "      <th>...</th>\n",
       "      <td>...</td>\n",
       "      <td>...</td>\n",
       "      <td>...</td>\n",
       "      <td>...</td>\n",
       "      <td>...</td>\n",
       "    </tr>\n",
       "    <tr>\n",
       "      <th>145</th>\n",
       "      <td>67.0</td>\n",
       "      <td>30.0</td>\n",
       "      <td>52.0</td>\n",
       "      <td>23.0</td>\n",
       "      <td>2</td>\n",
       "    </tr>\n",
       "    <tr>\n",
       "      <th>146</th>\n",
       "      <td>63.0</td>\n",
       "      <td>25.0</td>\n",
       "      <td>50.0</td>\n",
       "      <td>19.0</td>\n",
       "      <td>2</td>\n",
       "    </tr>\n",
       "    <tr>\n",
       "      <th>147</th>\n",
       "      <td>65.0</td>\n",
       "      <td>30.0</td>\n",
       "      <td>52.0</td>\n",
       "      <td>20.0</td>\n",
       "      <td>2</td>\n",
       "    </tr>\n",
       "    <tr>\n",
       "      <th>148</th>\n",
       "      <td>62.0</td>\n",
       "      <td>34.0</td>\n",
       "      <td>54.0</td>\n",
       "      <td>23.0</td>\n",
       "      <td>2</td>\n",
       "    </tr>\n",
       "    <tr>\n",
       "      <th>149</th>\n",
       "      <td>59.0</td>\n",
       "      <td>30.0</td>\n",
       "      <td>51.0</td>\n",
       "      <td>18.0</td>\n",
       "      <td>2</td>\n",
       "    </tr>\n",
       "  </tbody>\n",
       "</table>\n",
       "<p>150 rows × 5 columns</p>\n",
       "</div>"
      ],
      "text/plain": [
       "     sepal_length  sepal_width  petal_length  petal_width  species\n",
       "0            51.0         35.0          14.0          2.0        0\n",
       "1            49.0         30.0          14.0          2.0        0\n",
       "2            47.0         32.0          13.0          2.0        0\n",
       "3            46.0         31.0          15.0          2.0        0\n",
       "4            50.0         36.0          14.0          2.0        0\n",
       "..            ...          ...           ...          ...      ...\n",
       "145          67.0         30.0          52.0         23.0        2\n",
       "146          63.0         25.0          50.0         19.0        2\n",
       "147          65.0         30.0          52.0         20.0        2\n",
       "148          62.0         34.0          54.0         23.0        2\n",
       "149          59.0         30.0          51.0         18.0        2\n",
       "\n",
       "[150 rows x 5 columns]"
      ]
     },
     "execution_count": 78,
     "metadata": {},
     "output_type": "execute_result"
    }
   ],
   "source": [
    "dataset\n",
    "\n"
   ]
  },
  {
   "cell_type": "code",
   "execution_count": 80,
   "id": "horizontal-locator",
   "metadata": {},
   "outputs": [],
   "source": [
    "X1 = dataset[:120]\n",
    "X2 = dataset[120:]"
   ]
  },
  {
   "cell_type": "code",
   "execution_count": 84,
   "id": "united-bouquet",
   "metadata": {},
   "outputs": [],
   "source": [
    "X1_class0 = X1.loc[X1['species'] == 0]\n",
    "X1_class1 = X1.loc[X1['species'] == 1]\n",
    "X1_class2 = X1.loc[X1['species'] == 2]\n"
   ]
  },
  {
   "cell_type": "code",
   "execution_count": 91,
   "id": "ongoing-knitting",
   "metadata": {},
   "outputs": [],
   "source": [
    "f1_mean_0 = X1_class0['sepal_length'].mean().astype(int)\n",
    "f2_mean_0 = X1_class0['sepal_width'].mean().astype(int)\n",
    "f3_mean_0 = X1_class0['petal_length'].mean().astype(int)\n",
    "f4_mean_0 = X1_class0['petal_width'].mean().astype(int)\n",
    "f1_var_0 = X1_class0['sepal_length'].var().astype(int)\n",
    "f2_var_0 = X1_class0['sepal_width'].var().astype(int)\n",
    "f3_var_0 = X1_class0['petal_length'].var().astype(int)\n",
    "f4_var_0 = X1_class0['petal_width'].var().astype(int)"
   ]
  },
  {
   "cell_type": "code",
   "execution_count": 92,
   "id": "danish-tablet",
   "metadata": {},
   "outputs": [],
   "source": [
    "f1_mean_1 = X1_class1['sepal_length'].mean().astype(int)\n",
    "f2_mean_1 = X1_class1['sepal_width'].mean().astype(int)\n",
    "f3_mean_1 = X1_class1['petal_length'].mean().astype(int)\n",
    "f4_mean_1 = X1_class1['petal_width'].mean().astype(int)\n",
    "f1_var_1 = X1_class1['sepal_length'].var().astype(int)\n",
    "f2_var_1 = X1_class1['sepal_width'].var().astype(int)\n",
    "f3_var_1 = X1_class1['petal_length'].var().astype(int)\n",
    "f4_var_1 = X1_class1['petal_width'].var().astype(int)"
   ]
  },
  {
   "cell_type": "code",
   "execution_count": 93,
   "id": "legendary-service",
   "metadata": {},
   "outputs": [],
   "source": [
    "f1_mean_2 = X1_class2['sepal_length'].mean().astype(int)\n",
    "f2_mean_2 = X1_class2['sepal_width'].mean().astype(int)\n",
    "f3_mean_2 = X1_class2['petal_length'].mean().astype(int)\n",
    "f4_mean_2 = X1_class2['petal_width'].mean().astype(int)\n",
    "f1_var_2 = X1_class2['sepal_length'].var().astype(int)\n",
    "f2_var_2 = X1_class2['sepal_width'].var().astype(int)\n",
    "f3_var_2 = X1_class2['petal_length'].var().astype(int)\n",
    "f4_var_2 = X1_class2['petal_width'].var().astype(int)"
   ]
  },
  {
   "cell_type": "code",
   "execution_count": 100,
   "id": "friendly-agenda",
   "metadata": {},
   "outputs": [],
   "source": [
    "X_test = X2.values\n",
    "y_test = X2[\"species\"].values"
   ]
  },
  {
   "cell_type": "code",
   "execution_count": null,
   "id": "hourly-engine",
   "metadata": {},
   "outputs": [],
   "source": []
  },
  {
   "cell_type": "code",
   "execution_count": 53,
   "id": "secret-tuesday",
   "metadata": {},
   "outputs": [
    {
     "data": {
      "text/plain": [
       "array([0, 1, 2])"
      ]
     },
     "execution_count": 53,
     "metadata": {},
     "output_type": "execute_result"
    }
   ],
   "source": [
    "dataset['species'].unique()"
   ]
  },
  {
   "cell_type": "code",
   "execution_count": null,
   "id": "horizontal-april",
   "metadata": {},
   "outputs": [],
   "source": []
  },
  {
   "cell_type": "code",
   "execution_count": 54,
   "id": "lyric-frontier",
   "metadata": {},
   "outputs": [
    {
     "data": {
      "text/plain": [
       "array([0, 1, 2], dtype=int64)"
      ]
     },
     "execution_count": 54,
     "metadata": {},
     "output_type": "execute_result"
    }
   ],
   "source": [
    "from sklearn import preprocessing\n",
    "le = preprocessing.LabelEncoder()\n",
    "label_encoder = preprocessing.LabelEncoder()\n",
    "dataset['species']= label_encoder.fit_transform(dataset['species']) \n",
    "dataset['species'].unique()"
   ]
  }
 ],
 "metadata": {
  "kernelspec": {
   "display_name": "Python 3",
   "language": "python",
   "name": "python3"
  },
  "language_info": {
   "codemirror_mode": {
    "name": "ipython",
    "version": 3
   },
   "file_extension": ".py",
   "mimetype": "text/x-python",
   "name": "python",
   "nbconvert_exporter": "python",
   "pygments_lexer": "ipython3",
   "version": "3.9.2"
  }
 },
 "nbformat": 4,
 "nbformat_minor": 5
}
