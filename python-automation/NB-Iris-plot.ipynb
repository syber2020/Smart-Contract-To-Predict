{
 "cells": [
  {
   "cell_type": "code",
   "execution_count": 1,
   "id": "little-batch",
   "metadata": {},
   "outputs": [],
   "source": [
    "import numpy as np\n",
    "import matplotlib.pyplot as plt\n",
    "import pandas as pd"
   ]
  },
  {
   "cell_type": "code",
   "execution_count": 2,
   "id": "gorgeous-letters",
   "metadata": {},
   "outputs": [
    {
     "data": {
      "text/plain": [
       "False"
      ]
     },
     "execution_count": 2,
     "metadata": {},
     "output_type": "execute_result"
    }
   ],
   "source": [
    "import matplotlib.pyplot as plt\n",
    "import json\n",
    "from web3 import Web3\n",
    "# ganache_url = \"https://ropsten.infura.io/v3/6072fdc3b95c407caa681f63ebaf72b8\"\n",
    "ganache_url =\"http://127.0.0.1:8545\"\n",
    "web3 = Web3(Web3.HTTPProvider(ganache_url))\n",
    "web3.isConnected()"
   ]
  },
  {
   "cell_type": "code",
   "execution_count": 3,
   "id": "appropriate-silicon",
   "metadata": {},
   "outputs": [],
   "source": [
    "\n",
    "# abi_triple = json.loads('[ { \"constant\": false, \"inputs\": [ { \"name\": \"Prior0\", \"type\": \"int256\" }, { \"name\": \"Prior1\", \"type\": \"int256\" }, { \"name\": \"Prior2\", \"type\": \"int256\" } ], \"name\": \"e_exponent1\", \"outputs\": [], \"payable\": false, \"stateMutability\": \"nonpayable\", \"type\": \"function\" }, { \"constant\": true, \"inputs\": [], \"name\": \"d_printparamaters2\", \"outputs\": [ { \"name\": \"\", \"type\": \"int256\" }, { \"name\": \"\", \"type\": \"int256\" }, { \"name\": \"\", \"type\": \"int256\" }, { \"name\": \"\", \"type\": \"int256\" } ], \"payable\": false, \"stateMutability\": \"view\", \"type\": \"function\" }, { \"constant\": true, \"inputs\": [], \"name\": \"c_printparamaters1\", \"outputs\": [ { \"name\": \"\", \"type\": \"int256\" }, { \"name\": \"\", \"type\": \"int256\" }, { \"name\": \"\", \"type\": \"int256\" }, { \"name\": \"\", \"type\": \"int256\" } ], \"payable\": false, \"stateMutability\": \"view\", \"type\": \"function\" }, { \"constant\": true, \"inputs\": [], \"name\": \"d_printparamaters3\", \"outputs\": [ { \"name\": \"\", \"type\": \"int256\" }, { \"name\": \"\", \"type\": \"int256\" }, { \"name\": \"\", \"type\": \"int256\" }, { \"name\": \"\", \"type\": \"int256\" } ], \"payable\": false, \"stateMutability\": \"view\", \"type\": \"function\" }, { \"constant\": false, \"inputs\": [ { \"name\": \"x1\", \"type\": \"int256\" }, { \"name\": \"x2\", \"type\": \"int256\" }, { \"name\": \"x3\", \"type\": \"int256\" }, { \"name\": \"x4\", \"type\": \"int256\" }, { \"name\": \"v1\", \"type\": \"int256\" }, { \"name\": \"v2\", \"type\": \"int256\" }, { \"name\": \"v3\", \"type\": \"int256\" }, { \"name\": \"v4\", \"type\": \"int256\" }, { \"name\": \"m1\", \"type\": \"int256\" }, { \"name\": \"m2\", \"type\": \"int256\" }, { \"name\": \"m3\", \"type\": \"int256\" }, { \"name\": \"m4\", \"type\": \"int256\" } ], \"name\": \"b_getparameters3\", \"outputs\": [], \"payable\": false, \"stateMutability\": \"nonpayable\", \"type\": \"function\" }, { \"constant\": false, \"inputs\": [ { \"name\": \"x1\", \"type\": \"int256\" }, { \"name\": \"x2\", \"type\": \"int256\" }, { \"name\": \"x3\", \"type\": \"int256\" }, { \"name\": \"x4\", \"type\": \"int256\" }, { \"name\": \"v1\", \"type\": \"int256\" }, { \"name\": \"v2\", \"type\": \"int256\" }, { \"name\": \"v3\", \"type\": \"int256\" }, { \"name\": \"v4\", \"type\": \"int256\" }, { \"name\": \"m1\", \"type\": \"int256\" }, { \"name\": \"m2\", \"type\": \"int256\" }, { \"name\": \"m3\", \"type\": \"int256\" }, { \"name\": \"m4\", \"type\": \"int256\" } ], \"name\": \"a_getparameters1\", \"outputs\": [], \"payable\": false, \"stateMutability\": \"nonpayable\", \"type\": \"function\" }, { \"constant\": true, \"inputs\": [], \"name\": \"f_compare\", \"outputs\": [ { \"name\": \"\", \"type\": \"int256\" } ], \"payable\": false, \"stateMutability\": \"view\", \"type\": \"function\" }, { \"constant\": false, \"inputs\": [ { \"name\": \"x1\", \"type\": \"int256\" }, { \"name\": \"x2\", \"type\": \"int256\" }, { \"name\": \"x3\", \"type\": \"int256\" }, { \"name\": \"x4\", \"type\": \"int256\" }, { \"name\": \"v1\", \"type\": \"int256\" }, { \"name\": \"v2\", \"type\": \"int256\" }, { \"name\": \"v3\", \"type\": \"int256\" }, { \"name\": \"v4\", \"type\": \"int256\" }, { \"name\": \"m1\", \"type\": \"int256\" }, { \"name\": \"m2\", \"type\": \"int256\" }, { \"name\": \"m3\", \"type\": \"int256\" }, { \"name\": \"m4\", \"type\": \"int256\" } ], \"name\": \"b_getparameters2\", \"outputs\": [], \"payable\": false, \"stateMutability\": \"nonpayable\", \"type\": \"function\" } ]')\n",
    "abi_triple = json.loads('[ { \"constant\": true, \"inputs\": [], \"name\": \"print\", \"outputs\": [ { \"name\": \"\", \"type\": \"int256\" }, { \"name\": \"\", \"type\": \"int256\" }, { \"name\": \"\", \"type\": \"int256\" } ], \"payable\": false, \"stateMutability\": \"view\", \"type\": \"function\" }, { \"constant\": false, \"inputs\": [ { \"name\": \"Prior0\", \"type\": \"int256\" }, { \"name\": \"Prior1\", \"type\": \"int256\" }, { \"name\": \"Prior2\", \"type\": \"int256\" } ], \"name\": \"e_exponent1\", \"outputs\": [], \"payable\": false, \"stateMutability\": \"nonpayable\", \"type\": \"function\" }, { \"constant\": true, \"inputs\": [], \"name\": \"d_printparamaters2\", \"outputs\": [ { \"name\": \"\", \"type\": \"int256\" }, { \"name\": \"\", \"type\": \"int256\" }, { \"name\": \"\", \"type\": \"int256\" }, { \"name\": \"\", \"type\": \"int256\" } ], \"payable\": false, \"stateMutability\": \"view\", \"type\": \"function\" }, { \"constant\": true, \"inputs\": [], \"name\": \"c_printparamaters1\", \"outputs\": [ { \"name\": \"\", \"type\": \"int256\" }, { \"name\": \"\", \"type\": \"int256\" }, { \"name\": \"\", \"type\": \"int256\" }, { \"name\": \"\", \"type\": \"int256\" } ], \"payable\": false, \"stateMutability\": \"view\", \"type\": \"function\" }, { \"constant\": true, \"inputs\": [], \"name\": \"d_printparamaters3\", \"outputs\": [ { \"name\": \"\", \"type\": \"int256\" }, { \"name\": \"\", \"type\": \"int256\" }, { \"name\": \"\", \"type\": \"int256\" }, { \"name\": \"\", \"type\": \"int256\" } ], \"payable\": false, \"stateMutability\": \"view\", \"type\": \"function\" }, { \"constant\": false, \"inputs\": [ { \"name\": \"x1\", \"type\": \"int256\" }, { \"name\": \"x2\", \"type\": \"int256\" }, { \"name\": \"x3\", \"type\": \"int256\" }, { \"name\": \"x4\", \"type\": \"int256\" }, { \"name\": \"v1\", \"type\": \"int256\" }, { \"name\": \"v2\", \"type\": \"int256\" }, { \"name\": \"v3\", \"type\": \"int256\" }, { \"name\": \"v4\", \"type\": \"int256\" }, { \"name\": \"m1\", \"type\": \"int256\" }, { \"name\": \"m2\", \"type\": \"int256\" }, { \"name\": \"m3\", \"type\": \"int256\" }, { \"name\": \"m4\", \"type\": \"int256\" } ], \"name\": \"b_getparameters3\", \"outputs\": [], \"payable\": false, \"stateMutability\": \"nonpayable\", \"type\": \"function\" }, { \"constant\": false, \"inputs\": [ { \"name\": \"x1\", \"type\": \"int256\" }, { \"name\": \"x2\", \"type\": \"int256\" }, { \"name\": \"x3\", \"type\": \"int256\" }, { \"name\": \"x4\", \"type\": \"int256\" }, { \"name\": \"v1\", \"type\": \"int256\" }, { \"name\": \"v2\", \"type\": \"int256\" }, { \"name\": \"v3\", \"type\": \"int256\" }, { \"name\": \"v4\", \"type\": \"int256\" }, { \"name\": \"m1\", \"type\": \"int256\" }, { \"name\": \"m2\", \"type\": \"int256\" }, { \"name\": \"m3\", \"type\": \"int256\" }, { \"name\": \"m4\", \"type\": \"int256\" } ], \"name\": \"a_getparameters1\", \"outputs\": [], \"payable\": false, \"stateMutability\": \"nonpayable\", \"type\": \"function\" }, { \"constant\": true, \"inputs\": [], \"name\": \"f_compare\", \"outputs\": [ { \"name\": \"\", \"type\": \"int256\" } ], \"payable\": false, \"stateMutability\": \"view\", \"type\": \"function\" }, { \"constant\": false, \"inputs\": [ { \"name\": \"x1\", \"type\": \"int256\" }, { \"name\": \"x2\", \"type\": \"int256\" }, { \"name\": \"x3\", \"type\": \"int256\" }, { \"name\": \"x4\", \"type\": \"int256\" }, { \"name\": \"v1\", \"type\": \"int256\" }, { \"name\": \"v2\", \"type\": \"int256\" }, { \"name\": \"v3\", \"type\": \"int256\" }, { \"name\": \"v4\", \"type\": \"int256\" }, { \"name\": \"m1\", \"type\": \"int256\" }, { \"name\": \"m2\", \"type\": \"int256\" }, { \"name\": \"m3\", \"type\": \"int256\" }, { \"name\": \"m4\", \"type\": \"int256\" } ], \"name\": \"b_getparameters2\", \"outputs\": [], \"payable\": false, \"stateMutability\": \"nonpayable\", \"type\": \"function\" } ]')\n",
    "cont_address_triple = '0x12b8325b407eAf9ED48a97A36Bd3239F68a69999'\n",
    "contract_triple = web3.eth.contract(address=cont_address_triple,abi=abi_triple)\n",
    "\n",
    "account_1 = \"0x37bfB436392DaAE0E91EdcD9c4128FBcADF3919d\"\n",
    "private_key1 = \"e72044de2331844a3c0232dc23d43fb8ca4f555854b4da07e2fb530d003e5e2d\"\n",
    "account_2 = \"0xfbD8f1F5878b0b5b3E627e7cc14617b05B582867\"\n",
    "private_key2=\"56c8f569b23a423f9d66d46f86f7ada7ba0d28dfba03c34f661bb15358b042bb\""
   ]
  },
  {
   "cell_type": "code",
   "execution_count": 4,
   "id": "julian-archives",
   "metadata": {},
   "outputs": [
    {
     "data": {
      "text/html": [
       "<div>\n",
       "<style scoped>\n",
       "    .dataframe tbody tr th:only-of-type {\n",
       "        vertical-align: middle;\n",
       "    }\n",
       "\n",
       "    .dataframe tbody tr th {\n",
       "        vertical-align: top;\n",
       "    }\n",
       "\n",
       "    .dataframe thead th {\n",
       "        text-align: right;\n",
       "    }\n",
       "</style>\n",
       "<table border=\"1\" class=\"dataframe\">\n",
       "  <thead>\n",
       "    <tr style=\"text-align: right;\">\n",
       "      <th></th>\n",
       "      <th>sepal_length</th>\n",
       "      <th>sepal_width</th>\n",
       "      <th>petal_length</th>\n",
       "      <th>petal_width</th>\n",
       "      <th>species</th>\n",
       "    </tr>\n",
       "  </thead>\n",
       "  <tbody>\n",
       "    <tr>\n",
       "      <th>0</th>\n",
       "      <td>5.1</td>\n",
       "      <td>3.5</td>\n",
       "      <td>1.4</td>\n",
       "      <td>0.2</td>\n",
       "      <td>setosa</td>\n",
       "    </tr>\n",
       "    <tr>\n",
       "      <th>1</th>\n",
       "      <td>4.9</td>\n",
       "      <td>3.0</td>\n",
       "      <td>1.4</td>\n",
       "      <td>0.2</td>\n",
       "      <td>setosa</td>\n",
       "    </tr>\n",
       "    <tr>\n",
       "      <th>2</th>\n",
       "      <td>4.7</td>\n",
       "      <td>3.2</td>\n",
       "      <td>1.3</td>\n",
       "      <td>0.2</td>\n",
       "      <td>setosa</td>\n",
       "    </tr>\n",
       "    <tr>\n",
       "      <th>3</th>\n",
       "      <td>4.6</td>\n",
       "      <td>3.1</td>\n",
       "      <td>1.5</td>\n",
       "      <td>0.2</td>\n",
       "      <td>setosa</td>\n",
       "    </tr>\n",
       "    <tr>\n",
       "      <th>4</th>\n",
       "      <td>5.0</td>\n",
       "      <td>3.6</td>\n",
       "      <td>1.4</td>\n",
       "      <td>0.2</td>\n",
       "      <td>setosa</td>\n",
       "    </tr>\n",
       "  </tbody>\n",
       "</table>\n",
       "</div>"
      ],
      "text/plain": [
       "   sepal_length  sepal_width  petal_length  petal_width species\n",
       "0           5.1          3.5           1.4          0.2  setosa\n",
       "1           4.9          3.0           1.4          0.2  setosa\n",
       "2           4.7          3.2           1.3          0.2  setosa\n",
       "3           4.6          3.1           1.5          0.2  setosa\n",
       "4           5.0          3.6           1.4          0.2  setosa"
      ]
     },
     "execution_count": 4,
     "metadata": {},
     "output_type": "execute_result"
    }
   ],
   "source": [
    "dataset = pd.read_csv('https://raw.githubusercontent.com/mk-gurucharan/Classification/master/IrisDataset.csv')\n",
    "# X = dataset.iloc[:,:4].values\n",
    "# y = dataset['species'].values\n",
    "dataorg = pd.read_csv('https://raw.githubusercontent.com/mk-gurucharan/Classification/master/IrisDataset.csv')\n",
    "dataset.head(5)"
   ]
  },
  {
   "cell_type": "code",
   "execution_count": 5,
   "id": "organizational-prince",
   "metadata": {},
   "outputs": [
    {
     "data": {
      "text/html": [
       "<div>\n",
       "<style scoped>\n",
       "    .dataframe tbody tr th:only-of-type {\n",
       "        vertical-align: middle;\n",
       "    }\n",
       "\n",
       "    .dataframe tbody tr th {\n",
       "        vertical-align: top;\n",
       "    }\n",
       "\n",
       "    .dataframe thead th {\n",
       "        text-align: right;\n",
       "    }\n",
       "</style>\n",
       "<table border=\"1\" class=\"dataframe\">\n",
       "  <thead>\n",
       "    <tr style=\"text-align: right;\">\n",
       "      <th></th>\n",
       "      <th>sepal_length</th>\n",
       "      <th>sepal_width</th>\n",
       "      <th>petal_length</th>\n",
       "      <th>petal_width</th>\n",
       "      <th>species</th>\n",
       "    </tr>\n",
       "  </thead>\n",
       "  <tbody>\n",
       "    <tr>\n",
       "      <th>0</th>\n",
       "      <td>51.0</td>\n",
       "      <td>35.0</td>\n",
       "      <td>14.0</td>\n",
       "      <td>2.0</td>\n",
       "      <td>setosa</td>\n",
       "    </tr>\n",
       "    <tr>\n",
       "      <th>1</th>\n",
       "      <td>49.0</td>\n",
       "      <td>30.0</td>\n",
       "      <td>14.0</td>\n",
       "      <td>2.0</td>\n",
       "      <td>setosa</td>\n",
       "    </tr>\n",
       "    <tr>\n",
       "      <th>2</th>\n",
       "      <td>47.0</td>\n",
       "      <td>32.0</td>\n",
       "      <td>13.0</td>\n",
       "      <td>2.0</td>\n",
       "      <td>setosa</td>\n",
       "    </tr>\n",
       "    <tr>\n",
       "      <th>3</th>\n",
       "      <td>46.0</td>\n",
       "      <td>31.0</td>\n",
       "      <td>15.0</td>\n",
       "      <td>2.0</td>\n",
       "      <td>setosa</td>\n",
       "    </tr>\n",
       "    <tr>\n",
       "      <th>4</th>\n",
       "      <td>50.0</td>\n",
       "      <td>36.0</td>\n",
       "      <td>14.0</td>\n",
       "      <td>2.0</td>\n",
       "      <td>setosa</td>\n",
       "    </tr>\n",
       "    <tr>\n",
       "      <th>...</th>\n",
       "      <td>...</td>\n",
       "      <td>...</td>\n",
       "      <td>...</td>\n",
       "      <td>...</td>\n",
       "      <td>...</td>\n",
       "    </tr>\n",
       "    <tr>\n",
       "      <th>145</th>\n",
       "      <td>67.0</td>\n",
       "      <td>30.0</td>\n",
       "      <td>52.0</td>\n",
       "      <td>23.0</td>\n",
       "      <td>virginica</td>\n",
       "    </tr>\n",
       "    <tr>\n",
       "      <th>146</th>\n",
       "      <td>63.0</td>\n",
       "      <td>25.0</td>\n",
       "      <td>50.0</td>\n",
       "      <td>19.0</td>\n",
       "      <td>virginica</td>\n",
       "    </tr>\n",
       "    <tr>\n",
       "      <th>147</th>\n",
       "      <td>65.0</td>\n",
       "      <td>30.0</td>\n",
       "      <td>52.0</td>\n",
       "      <td>20.0</td>\n",
       "      <td>virginica</td>\n",
       "    </tr>\n",
       "    <tr>\n",
       "      <th>148</th>\n",
       "      <td>62.0</td>\n",
       "      <td>34.0</td>\n",
       "      <td>54.0</td>\n",
       "      <td>23.0</td>\n",
       "      <td>virginica</td>\n",
       "    </tr>\n",
       "    <tr>\n",
       "      <th>149</th>\n",
       "      <td>59.0</td>\n",
       "      <td>30.0</td>\n",
       "      <td>51.0</td>\n",
       "      <td>18.0</td>\n",
       "      <td>virginica</td>\n",
       "    </tr>\n",
       "  </tbody>\n",
       "</table>\n",
       "<p>150 rows × 5 columns</p>\n",
       "</div>"
      ],
      "text/plain": [
       "     sepal_length  sepal_width  petal_length  petal_width    species\n",
       "0            51.0         35.0          14.0          2.0     setosa\n",
       "1            49.0         30.0          14.0          2.0     setosa\n",
       "2            47.0         32.0          13.0          2.0     setosa\n",
       "3            46.0         31.0          15.0          2.0     setosa\n",
       "4            50.0         36.0          14.0          2.0     setosa\n",
       "..            ...          ...           ...          ...        ...\n",
       "145          67.0         30.0          52.0         23.0  virginica\n",
       "146          63.0         25.0          50.0         19.0  virginica\n",
       "147          65.0         30.0          52.0         20.0  virginica\n",
       "148          62.0         34.0          54.0         23.0  virginica\n",
       "149          59.0         30.0          51.0         18.0  virginica\n",
       "\n",
       "[150 rows x 5 columns]"
      ]
     },
     "execution_count": 5,
     "metadata": {},
     "output_type": "execute_result"
    }
   ],
   "source": [
    "dataset[\"sepal_length\"] = dataset[\"sepal_length\"]*10\n",
    "dataset[\"sepal_width\"] = dataset[\"sepal_width\"]*10\n",
    "dataset[\"petal_length\"] = dataset[\"petal_length\"]*10\n",
    "dataset[\"petal_width\"] = dataset[\"petal_width\"]*10\n",
    "dataset[:150]"
   ]
  },
  {
   "cell_type": "code",
   "execution_count": 6,
   "id": "wired-shame",
   "metadata": {},
   "outputs": [
    {
     "data": {
      "text/plain": [
       "array([0, 1, 2])"
      ]
     },
     "execution_count": 6,
     "metadata": {},
     "output_type": "execute_result"
    }
   ],
   "source": [
    "from sklearn import preprocessing\n",
    "le = preprocessing.LabelEncoder()\n",
    "label_encoder = preprocessing.LabelEncoder()\n",
    "data_org =dataset\n",
    "dataset['species']= label_encoder.fit_transform(dataset['species']) \n",
    "dataset['species'].unique()"
   ]
  },
  {
   "cell_type": "code",
   "execution_count": 7,
   "id": "fourth-monster",
   "metadata": {},
   "outputs": [],
   "source": [
    "X = dataset.iloc[:,:4].values\n",
    "y = dataset['species'].values"
   ]
  },
  {
   "cell_type": "code",
   "execution_count": 8,
   "id": "structural-silence",
   "metadata": {},
   "outputs": [],
   "source": [
    "from sklearn.model_selection import train_test_split\n",
    "X_train, X_test, y_train, y_test = train_test_split(X, y, test_size = 0.2)"
   ]
  },
  {
   "cell_type": "code",
   "execution_count": 9,
   "id": "protective-economics",
   "metadata": {},
   "outputs": [
    {
     "data": {
      "text/plain": [
       "array([[64., 28., 56., 21.],\n",
       "       [67., 31., 44., 14.],\n",
       "       [63., 25., 49., 15.],\n",
       "       [68., 28., 48., 14.],\n",
       "       [54., 34., 15.,  4.],\n",
       "       [48., 30., 14.,  1.],\n",
       "       [65., 30., 52., 20.],\n",
       "       [57., 29., 42., 13.],\n",
       "       [51., 25., 30., 11.],\n",
       "       [52., 35., 15.,  2.],\n",
       "       [54., 34., 17.,  2.],\n",
       "       [77., 26., 69., 23.],\n",
       "       [69., 31., 49., 15.],\n",
       "       [44., 32., 13.,  2.],\n",
       "       [56., 29., 36., 13.],\n",
       "       [63., 23., 44., 13.],\n",
       "       [67., 31., 56., 24.],\n",
       "       [60., 34., 45., 16.],\n",
       "       [55., 35., 13.,  2.],\n",
       "       [72., 32., 60., 18.],\n",
       "       [49., 31., 15.,  1.],\n",
       "       [61., 26., 56., 14.],\n",
       "       [50., 34., 15.,  2.],\n",
       "       [56., 25., 39., 11.],\n",
       "       [56., 30., 41., 13.],\n",
       "       [47., 32., 13.,  2.],\n",
       "       [59., 32., 48., 18.],\n",
       "       [45., 23., 13.,  3.],\n",
       "       [67., 30., 52., 23.],\n",
       "       [49., 24., 33., 10.],\n",
       "       [62., 28., 48., 18.],\n",
       "       [54., 39., 13.,  4.],\n",
       "       [55., 23., 40., 13.],\n",
       "       [64., 28., 56., 22.],\n",
       "       [62., 29., 43., 13.],\n",
       "       [55., 25., 40., 13.],\n",
       "       [66., 30., 44., 14.],\n",
       "       [67., 31., 47., 15.],\n",
       "       [50., 20., 35., 10.],\n",
       "       [63., 28., 51., 15.],\n",
       "       [65., 30., 55., 18.],\n",
       "       [62., 22., 45., 15.],\n",
       "       [64., 29., 43., 13.],\n",
       "       [71., 30., 59., 21.],\n",
       "       [55., 24., 37., 10.],\n",
       "       [61., 30., 49., 18.],\n",
       "       [66., 29., 46., 13.],\n",
       "       [72., 36., 61., 25.],\n",
       "       [61., 30., 46., 14.],\n",
       "       [74., 28., 61., 19.],\n",
       "       [54., 39., 17.,  4.],\n",
       "       [70., 32., 47., 14.],\n",
       "       [46., 31., 15.,  2.],\n",
       "       [76., 30., 66., 21.],\n",
       "       [51., 35., 14.,  2.],\n",
       "       [72., 30., 58., 16.],\n",
       "       [58., 26., 40., 12.],\n",
       "       [59., 30., 51., 18.],\n",
       "       [61., 28., 40., 13.],\n",
       "       [61., 29., 47., 14.],\n",
       "       [77., 38., 67., 22.],\n",
       "       [68., 30., 55., 21.],\n",
       "       [60., 29., 45., 15.],\n",
       "       [51., 34., 15.,  2.],\n",
       "       [63., 34., 56., 24.],\n",
       "       [52., 41., 15.,  1.],\n",
       "       [57., 25., 50., 20.],\n",
       "       [50., 34., 16.,  4.],\n",
       "       [48., 34., 19.,  2.],\n",
       "       [57., 28., 45., 13.],\n",
       "       [69., 31., 54., 21.],\n",
       "       [58., 27., 39., 12.],\n",
       "       [67., 25., 58., 18.],\n",
       "       [69., 32., 57., 23.],\n",
       "       [63., 27., 49., 18.],\n",
       "       [51., 37., 15.,  4.],\n",
       "       [55., 42., 14.,  2.],\n",
       "       [60., 30., 48., 18.],\n",
       "       [48., 31., 16.,  2.],\n",
       "       [50., 32., 12.,  2.],\n",
       "       [63., 25., 50., 19.],\n",
       "       [63., 29., 56., 18.],\n",
       "       [57., 28., 41., 13.],\n",
       "       [67., 33., 57., 21.],\n",
       "       [53., 37., 15.,  2.],\n",
       "       [51., 38., 19.,  4.],\n",
       "       [52., 34., 14.,  2.],\n",
       "       [56., 27., 42., 13.],\n",
       "       [44., 30., 13.,  2.],\n",
       "       [57., 44., 15.,  4.],\n",
       "       [62., 34., 54., 23.],\n",
       "       [54., 30., 45., 15.],\n",
       "       [64., 32., 45., 15.],\n",
       "       [46., 34., 14.,  3.],\n",
       "       [56., 28., 49., 20.],\n",
       "       [55., 24., 38., 11.],\n",
       "       [58., 27., 51., 19.],\n",
       "       [67., 30., 50., 17.],\n",
       "       [57., 30., 42., 12.],\n",
       "       [63., 33., 47., 16.],\n",
       "       [60., 27., 51., 16.],\n",
       "       [51., 35., 14.,  3.],\n",
       "       [79., 38., 64., 20.],\n",
       "       [58., 40., 12.,  2.],\n",
       "       [51., 38., 15.,  3.],\n",
       "       [61., 28., 47., 12.],\n",
       "       [59., 30., 42., 15.],\n",
       "       [50., 33., 14.,  2.],\n",
       "       [47., 32., 16.,  2.],\n",
       "       [63., 33., 60., 25.],\n",
       "       [57., 38., 17.,  3.],\n",
       "       [64., 32., 53., 23.],\n",
       "       [56., 30., 45., 15.],\n",
       "       [68., 32., 59., 23.],\n",
       "       [43., 30., 11.,  1.],\n",
       "       [46., 36., 10.,  2.],\n",
       "       [54., 37., 15.,  2.],\n",
       "       [77., 30., 61., 23.],\n",
       "       [57., 26., 35., 10.],\n",
       "       [51., 33., 17.,  5.]])"
      ]
     },
     "execution_count": 9,
     "metadata": {},
     "output_type": "execute_result"
    }
   ],
   "source": [
    "X_train"
   ]
  },
  {
   "cell_type": "code",
   "execution_count": 10,
   "id": "social-signature",
   "metadata": {},
   "outputs": [],
   "source": [
    "# from sklearn.preprocessing import StandardScaler\n",
    "# sc = StandardScaler()\n",
    "# X_train = sc.fit_transform(X_train)\n",
    "# X_test = sc.transform(X_test)"
   ]
  },
  {
   "cell_type": "code",
   "execution_count": 11,
   "id": "certified-sally",
   "metadata": {},
   "outputs": [
    {
     "data": {
      "text/plain": [
       "GaussianNB()"
      ]
     },
     "execution_count": 11,
     "metadata": {},
     "output_type": "execute_result"
    }
   ],
   "source": [
    "from sklearn.naive_bayes import GaussianNB\n",
    "classifier = GaussianNB()\n",
    "classifier.fit(X_train, y_train)"
   ]
  },
  {
   "cell_type": "code",
   "execution_count": 12,
   "id": "iraqi-sapphire",
   "metadata": {},
   "outputs": [
    {
     "data": {
      "text/plain": [
       "array([0, 0, 1, 0, 0, 2, 2, 1, 2, 1, 0, 1, 1, 0, 2, 1, 1, 2, 0, 2, 2, 1,\n",
       "       0, 2, 0, 0, 2, 0, 0, 2])"
      ]
     },
     "execution_count": 12,
     "metadata": {},
     "output_type": "execute_result"
    }
   ],
   "source": [
    "y_pred = classifier.predict(X_test) \n",
    "y_pred"
   ]
  },
  {
   "cell_type": "code",
   "execution_count": 13,
   "id": "offensive-account",
   "metadata": {},
   "outputs": [
    {
     "name": "stdout",
     "output_type": "stream",
     "text": [
      "Accuracy :  0.9333333333333333\n"
     ]
    },
    {
     "data": {
      "text/plain": [
       "array([[12,  0,  0],\n",
       "       [ 0,  6,  0],\n",
       "       [ 0,  2, 10]], dtype=int64)"
      ]
     },
     "execution_count": 13,
     "metadata": {},
     "output_type": "execute_result"
    }
   ],
   "source": [
    "from sklearn.metrics import confusion_matrix\n",
    "from sklearn.metrics import classification_report\n",
    "cm = confusion_matrix(y_test, y_pred)\n",
    "from sklearn.metrics import accuracy_score \n",
    "print (\"Accuracy : \", accuracy_score(y_test, y_pred))\n",
    "cm"
   ]
  },
  {
   "cell_type": "code",
   "execution_count": 14,
   "id": "continental-export",
   "metadata": {},
   "outputs": [
    {
     "name": "stdout",
     "output_type": "stream",
     "text": [
      "              precision    recall  f1-score   support\n",
      "\n",
      "           0       1.00      1.00      1.00        12\n",
      "           1       0.75      1.00      0.86         6\n",
      "           2       1.00      0.83      0.91        12\n",
      "\n",
      "    accuracy                           0.93        30\n",
      "   macro avg       0.92      0.94      0.92        30\n",
      "weighted avg       0.95      0.93      0.94        30\n",
      "\n"
     ]
    }
   ],
   "source": [
    "print(classification_report(y_test, y_pred))"
   ]
  },
  {
   "cell_type": "code",
   "execution_count": 15,
   "id": "operational-samba",
   "metadata": {},
   "outputs": [
    {
     "data": {
      "text/plain": [
       "array([0, 0, 2, 0, 0, 2, 2, 1, 2, 1, 0, 1, 1, 0, 2, 1, 2, 2, 0, 2, 2, 1,\n",
       "       0, 2, 0, 0, 2, 0, 0, 2])"
      ]
     },
     "execution_count": 15,
     "metadata": {},
     "output_type": "execute_result"
    }
   ],
   "source": [
    "y_test"
   ]
  },
  {
   "cell_type": "code",
   "execution_count": 17,
   "id": "fixed-demographic",
   "metadata": {},
   "outputs": [],
   "source": [
    "import seaborn as sns\n",
    "from sklearn import metrics"
   ]
  },
  {
   "cell_type": "code",
   "execution_count": 37,
   "id": "raised-dating",
   "metadata": {},
   "outputs": [
    {
     "name": "stderr",
     "output_type": "stream",
     "text": [
      "c:\\users\\syed\\appdata\\local\\programs\\python\\python39\\lib\\site-packages\\seaborn\\_decorators.py:36: FutureWarning: Pass the following variables as keyword args: x, y. From version 0.12, the only valid positional argument will be `data`, and passing other arguments without an explicit keyword will result in an error or misinterpretation.\n",
      "  warnings.warn(\n"
     ]
    },
    {
     "data": {
      "image/png": "[encoded data removed]",
      "text/plain": [
       "<Figure size 360x360 with 1 Axes>"
      ]
     },
     "metadata": {
      "needs_background": "light"
     },
     "output_type": "display_data"
    }
   ],
   "source": [
    "\n",
    "\n",
    "plt.figure(figsize=(5,5))\n",
    "# plt.title('Comparison between various species based on sapel length and width')\n",
    "ax = sns.scatterplot(dataorg['sepal_length'],dataorg['sepal_width'],hue =dataorg['species'],s=100)\n",
    "ax.set(xlabel='Sepal length in cm', ylabel='Sepal_width  in cm')\n",
    "plt.savefig(\"Sepal.jpg\")"
   ]
  },
  {
   "cell_type": "code",
   "execution_count": 38,
   "id": "prescription-peoples",
   "metadata": {},
   "outputs": [
    {
     "name": "stderr",
     "output_type": "stream",
     "text": [
      "c:\\users\\syed\\appdata\\local\\programs\\python\\python39\\lib\\site-packages\\seaborn\\_decorators.py:36: FutureWarning: Pass the following variables as keyword args: x, y. From version 0.12, the only valid positional argument will be `data`, and passing other arguments without an explicit keyword will result in an error or misinterpretation.\n",
      "  warnings.warn(\n"
     ]
    },
    {
     "data": {
      "image/png": "[encoded data removed]",
      "text/plain": [
       "<Figure size 360x360 with 1 Axes>"
      ]
     },
     "metadata": {
      "needs_background": "light"
     },
     "output_type": "display_data"
    }
   ],
   "source": [
    "\n",
    "plt.figure(figsize=(5,5))\n",
    "# plt.title('Comparison between various species based on sapel length and width')\n",
    "ax = sns.scatterplot(dataorg['petal_length'],dataorg['petal_width'],hue =dataorg['species'],cmap ='summer',s=100)\n",
    "ax.set(xlabel='Petal length in cm', ylabel='Petal_width  in cm')\n",
    "plt.savefig(\"Petal.jpg\")"
   ]
  },
  {
   "cell_type": "code",
   "execution_count": 26,
   "id": "coated-gamma",
   "metadata": {},
   "outputs": [
    {
     "name": "stderr",
     "output_type": "stream",
     "text": [
      "c:\\users\\syed\\appdata\\local\\programs\\python\\python39\\lib\\site-packages\\seaborn\\_decorators.py:36: FutureWarning: Pass the following variables as keyword args: x, y. From version 0.12, the only valid positional argument will be `data`, and passing other arguments without an explicit keyword will result in an error or misinterpretation.\n",
      "  warnings.warn(\n",
      "c:\\users\\syed\\appdata\\local\\programs\\python\\python39\\lib\\site-packages\\seaborn\\_decorators.py:36: FutureWarning: Pass the following variables as keyword args: x, y. From version 0.12, the only valid positional argument will be `data`, and passing other arguments without an explicit keyword will result in an error or misinterpretation.\n",
      "  warnings.warn(\n"
     ]
    },
    {
     "data": {
      "text/plain": [
       "<AxesSubplot:xlabel='petal_length', ylabel='petal_width'>"
      ]
     },
     "execution_count": 26,
     "metadata": {},
     "output_type": "execute_result"
    },
    {
     "data": {
      "image/png": "[encoded data removed]",
      "text/plain": [
       "<Figure size 432x288 with 2 Axes>"
      ]
     },
     "metadata": {
      "needs_background": "light"
     },
     "output_type": "display_data"
    }
   ],
   "source": [
    "f, axes = plt.subplots(1, 2)\n",
    "sns.scatterplot(dataorg['petal_length'],dataorg['petal_width'],hue =dataorg['species'],s=100)\n",
    "sns.scatterplot(dataorg['sepal_length'],dataorg['sepal_width'],hue =dataorg['species'],s=100)"
   ]
  },
  {
   "cell_type": "code",
   "execution_count": null,
   "id": "external-telling",
   "metadata": {},
   "outputs": [],
   "source": []
  }
 ],
 "metadata": {
  "kernelspec": {
   "display_name": "Python 3",
   "language": "python",
   "name": "python3"
  },
  "language_info": {
   "codemirror_mode": {
    "name": "ipython",
    "version": 3
   },
   "file_extension": ".py",
   "mimetype": "text/x-python",
   "name": "python",
   "nbconvert_exporter": "python",
   "pygments_lexer": "ipython3",
   "version": "3.9.2"
  }
 },
 "nbformat": 4,
 "nbformat_minor": 5
}
