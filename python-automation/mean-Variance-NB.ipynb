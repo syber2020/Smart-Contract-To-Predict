{
 "cells": [
  {
   "cell_type": "code",
   "execution_count": 1,
   "id": "convertible-daily",
   "metadata": {},
   "outputs": [
    {
     "data": {
      "text/plain": [
       "True"
      ]
     },
     "execution_count": 1,
     "metadata": {},
     "output_type": "execute_result"
    }
   ],
   "source": [
    "# starting web3 operations\n",
    "import time\n",
    "import numpy as np\n",
    "import json\n",
    "from web3 import Web3\n",
    "# ganache_url =\"http://127.0.0.1:8545\"\n",
    "# ropsten_url = \"https://ropsten.infura.io/v3/1438527b737c45999a125a5c74e71263\"\n",
    "ropsten_url=\"https://ropsten.infura.io/v3/6072fdc3b95c407caa681f63ebaf72b8\"\n",
    "web3 = Web3(Web3.HTTPProvider(ropsten_url))\n",
    "web3.isConnected()"
   ]
  },
  {
   "cell_type": "code",
   "execution_count": 2,
   "id": "cultural-infrastructure",
   "metadata": {},
   "outputs": [
    {
     "data": {
      "text/plain": [
       "1634271670.6312141"
      ]
     },
     "execution_count": 2,
     "metadata": {},
     "output_type": "execute_result"
    }
   ],
   "source": [
    "time.time()"
   ]
  },
  {
   "cell_type": "code",
   "execution_count": 3,
   "id": "involved-spare",
   "metadata": {},
   "outputs": [],
   "source": [
    "a10 = list(range(10))\n",
    "\n",
    "a1100 = list(range(1100)) \n",
    "a1200 = list(range(1200))\n",
    "a1300 = list(range(1300))\n",
    "a1400 = list(range(1400))\n",
    "a1500 = list(range(1500))\n",
    "a1600 = list(range(1600))\n",
    "a1700 = list(range(1700))\n",
    "a1800 = list(range(1800))\n",
    "a1900 = list(range(1900))\n",
    "a2000 = list(range(2000))\n",
    "a2100 = list(range(2100)) \n",
    "a2200 = list(range(2200))\n",
    "a2300 = list(range(2300))\n",
    "a2400 = list(range(2400))\n",
    "a2500 = list(range(2500))\n",
    "a2600 = list(range(2600))\n",
    "a2700 = list(range(2700))\n",
    "a2800 = list(range(2800))\n",
    "a2900 = list(range(2900))\n",
    "a3000 = list(range(3000))\n"
   ]
  },
  {
   "cell_type": "code",
   "execution_count": 4,
   "id": "handy-likelihood",
   "metadata": {},
   "outputs": [],
   "source": [
    "# a100 = np.ones(100)\n",
    "# a200 = np.ones(200)\n",
    "# a300 = np.ones(300)\n",
    "# a400 = np.ones(400)\n",
    "# a500 = np.ones(500)\n",
    "# a600 = np.ones(600)\n",
    "# a700 = np.ones(700)\n",
    "# a800 = np.ones(800)\n",
    "# a900 = np.ones(900)\n",
    "# a1000 = np.ones(1000)\n",
    "# a2000 = np.ones(2000)\n",
    "# a3000 = np.ones(3000)\n",
    "# a4000 = np.ones(4000)\n",
    "# a5000 = np.ones(5000)\n",
    "# a6000 = np.ones(6000)\n",
    "# a7000 = np.ones(7000)\n",
    "# a8000 = np.ones(7000)\n",
    "# a9000 = np.ones(9000)\n",
    "# a10000 = np.ones(10000)"
   ]
  },
  {
   "cell_type": "code",
   "execution_count": 5,
   "id": "emerging-theorem",
   "metadata": {},
   "outputs": [],
   "source": [
    "# print(a100.tolist())"
   ]
  },
  {
   "cell_type": "code",
   "execution_count": 6,
   "id": "insured-broadcasting",
   "metadata": {},
   "outputs": [],
   "source": [
    "# abi = json.loads('[{ \"inputs\": [], \"name\": \"add_print\", \"outputs\": [ { \"internalType\": \"int256\", \"name\": \"x\", \"type\": \"int256\" }, { \"internalType\": \"int256\", \"name\": \"y\", \"type\": \"int256\" } ], \"stateMutability\": \"view\", \"type\": \"function\" }, { \"inputs\": [ { \"internalType\": \"int256[]\", \"name\": \"input\", \"type\": \"int256[]\" }, { \"internalType\": \"int256[]\", \"name\": \"w\", \"type\": \"int256[]\" }, { \"internalType\": \"int256[]\", \"name\": \"b\", \"type\": \"int256[]\" } ], \"name\": \"compute_IXWB\", \"outputs\": [], \"stateMutability\": \"nonpayable\", \"type\": \"function\" }, { \"inputs\": [ { \"internalType\": \"int256\", \"name\": \"a\", \"type\": \"int256\" }, { \"internalType\": \"int256\", \"name\": \"b\", \"type\": \"int256\" }, { \"internalType\": \"int256\", \"name\": \"c\", \"type\": \"int256\" }, { \"internalType\": \"int256\", \"name\": \"d\", \"type\": \"int256\" } ], \"name\": \"compute_addition\", \"outputs\": [], \"stateMutability\": \"nonpayable\", \"type\": \"function\" }, { \"inputs\": [ { \"internalType\": \"int256\", \"name\": \"x\", \"type\": \"int256\" }, { \"internalType\": \"int256\", \"name\": \"y\", \"type\": \"int256\" } ], \"name\": \"compute_lcm\", \"outputs\": [], \"stateMutability\": \"nonpayable\", \"type\": \"function\" }, { \"inputs\": [ { \"internalType\": \"int256\", \"name\": \"d\", \"type\": \"int256\" } ], \"name\": \"compute_sigmoid\", \"outputs\": [], \"stateMutability\": \"nonpayable\", \"type\": \"function\" }, { \"inputs\": [], \"name\": \"lcm_print\", \"outputs\": [ { \"internalType\": \"int256\", \"name\": \"\", \"type\": \"int256\" } ], \"stateMutability\": \"view\", \"type\": \"function\" }, { \"inputs\": [], \"name\": \"predict_print\", \"outputs\": [ { \"internalType\": \"int256\", \"name\": \"\", \"type\": \"int256\" } ], \"stateMutability\": \"view\", \"type\": \"function\" }]')\n",
    "abi =json.loads('[ { \"inputs\": [ { \"internalType\": \"uint256[]\", \"name\": \"a\", \"type\": \"uint256[]\" } ], \"name\": \"get_mean\", \"outputs\": [], \"stateMutability\": \"nonpayable\", \"type\": \"function\" }, { \"inputs\": [ { \"internalType\": \"uint256[]\", \"name\": \"b\", \"type\": \"uint256[]\" } ], \"name\": \"get_variance\", \"outputs\": [], \"stateMutability\": \"nonpayable\", \"type\": \"function\" }, { \"inputs\": [], \"name\": \"set_mean\", \"outputs\": [ { \"internalType\": \"uint256\", \"name\": \"\", \"type\": \"uint256\" } ], \"stateMutability\": \"view\", \"type\": \"function\" }, { \"inputs\": [], \"name\": \"set_variance\", \"outputs\": [ { \"internalType\": \"uint256\", \"name\": \"\", \"type\": \"uint256\" } ], \"stateMutability\": \"view\", \"type\": \"function\" } ]')\n",
    "# abi = json.loads('[ { \"inputs\": [ { \"internalType\": \"uint256[]\", \"name\": \"a\", \"type\": \"uint256[]\" } ], \"name\": \"get_mean\", \"outputs\": [], \"stateMutability\": \"nonpayable\", \"type\": \"function\" }, { \"inputs\": [ { \"internalType\": \"uint256[]\", \"name\": \"b\", \"type\": \"uint256[]\" } ], \"name\": \"get_variance\", \"outputs\": [], \"stateMutability\": \"nonpayable\", \"type\": \"function\" }, { \"inputs\": [], \"name\": \"set_mean\", \"outputs\": [ { \"internalType\": \"uint256\", \"name\": \"\", \"type\": \"uint256\" } ], \"stateMutability\": \"view\", \"type\": \"function\" }, { \"inputs\": [], \"name\": \"set_variance\", \"outputs\": [ { \"internalType\": \"uint256\", \"name\": \"\", \"type\": \"uint256\" } ], \"stateMutability\": \"view\", \"type\": \"function\" } ]')\n",
    "# cont_address = \"0xE0f7Cd0A407d0bC378090A62Feb0E51E017924AC\"\n",
    "cont_address = \"0x2d564561FEAE277F2dDF37e2033386c6fF40A593\"   # ropsten"
   ]
  },
  {
   "cell_type": "code",
   "execution_count": 7,
   "id": "robust-herald",
   "metadata": {},
   "outputs": [],
   "source": [
    "contract = web3.eth.contract(address=cont_address,abi=abi)"
   ]
  },
  {
   "cell_type": "code",
   "execution_count": 8,
   "id": "palestinian-transmission",
   "metadata": {},
   "outputs": [],
   "source": [
    "#mnemonic = grace suspect grief chimney blood spray manual butter satisfy stuff affair abstract\n",
    "account1 = \"0x37bfB436392DaAE0E91EdcD9c4128FBcADF3919d\"\n",
    "private_key1 = \"e72044de2331844a3c0232dc23d43fb8ca4f555854b4da07e2fb530d003e5e2d\"\n",
    "account2 = \"0xfbD8f1F5878b0b5b3E627e7cc14617b05B582867\"\n",
    "private_key2=\"56c8f569b23a423f9d66d46f86f7ada7ba0d28dfba03c34f661bb15358b042bb\""
   ]
  },
  {
   "cell_type": "code",
   "execution_count": 9,
   "id": "fleet-damage",
   "metadata": {},
   "outputs": [
    {
     "data": {
      "text/plain": [
       "1634271670.7837555"
      ]
     },
     "execution_count": 9,
     "metadata": {},
     "output_type": "execute_result"
    }
   ],
   "source": [
    "time.time()"
   ]
  },
  {
   "cell_type": "code",
   "execution_count": 10,
   "id": "attractive-syria",
   "metadata": {},
   "outputs": [],
   "source": [
    "#mnemonic = grit start safe lonely dirt palace short judge quiz process tomorrow avoid\n",
    "# account1 = \"0xdd617f9D5120b7b30E4C502fdd6b13dCf286A300\"\n",
    "# private_key1 =\"c00b36dc1777e7fda60ff1f55b57c3f51b18c0c16fe44724e451ed062a173d74\"\n",
    "# account2 =\"0x8883f1016E727C8fE93C1Df471f102bBbAF2B910\"\n",
    "# private_key2=\"8d70f54549b5fb7c04fc016cc88c447fc81aff3af3065c696aee1b529fbc8ba5\""
   ]
  },
  {
   "cell_type": "markdown",
   "id": "roman-sound",
   "metadata": {},
   "source": [
    "### Sending Ether between accounts"
   ]
  },
  {
   "cell_type": "code",
   "execution_count": 11,
   "id": "realistic-branch",
   "metadata": {},
   "outputs": [],
   "source": [
    "def mean_transaction(account1,private_key1,array):\n",
    "    time=[]\n",
    "    nonce = web3.eth.getTransactionCount(account1)\n",
    "    transaction = contract.functions.get_mean(\n",
    "        array\n",
    "         ).buildTransaction({\n",
    "        'gas': 3000000,\n",
    "        'gasPrice': web3.toWei('100', 'gwei'),\n",
    "        'from': account1,\n",
    "        'nonce': nonce\n",
    "        }) \n",
    "    signed_txn = web3.eth.account.signTransaction(transaction, private_key=private_key1)\n",
    "    tx_hash = web3.eth.sendRawTransaction(signed_txn.rawTransaction)\n",
    "    tx_receipt = web3.eth.waitForTransactionReceipt(tx_hash)\n",
    "    print(tx_receipt.gasUsed)\n",
    "\n",
    "\n",
    "def variance_transaction(account1,private_key1,array):\n",
    "    nonce = web3.eth.getTransactionCount(account1\n",
    "                                        )\n",
    "    transaction = contract.functions.get_variance(\n",
    "        array\n",
    "         ).buildTransaction({\n",
    "        'gas': 3000000,\n",
    "        'gasPrice': web3.toWei('100', 'gwei'),\n",
    "        'from': account1,\n",
    "        'nonce': nonce\n",
    "        }) \n",
    "    signed_txn = web3.eth.account.signTransaction(transaction, private_key=private_key1)\n",
    "    tx_hash = web3.eth.sendRawTransaction(signed_txn.rawTransaction)\n",
    "    tx_receipt = web3.eth.waitForTransactionReceipt(tx_hash)\n",
    "    print(tx_receipt.gasUsed)\n"
   ]
  },
  {
   "cell_type": "code",
   "execution_count": 12,
   "id": "manufactured-prior",
   "metadata": {},
   "outputs": [
    {
     "data": {
      "text/plain": [
       "1634271670.8312693"
      ]
     },
     "execution_count": 12,
     "metadata": {},
     "output_type": "execute_result"
    }
   ],
   "source": [
    "time.time()"
   ]
  },
  {
   "cell_type": "code",
   "execution_count": 13,
   "id": "operating-western",
   "metadata": {},
   "outputs": [
    {
     "name": "stdout",
     "output_type": "stream",
     "text": [
      "334255\n",
      "362706\n",
      "391185\n",
      "419715\n",
      "448283\n",
      "476879\n",
      "505526\n",
      "534200\n",
      "562925\n",
      "591689\n",
      "620480\n",
      "649322\n",
      "678204\n",
      "707112\n",
      "736071\n",
      "765058\n",
      "794095\n",
      "823172\n",
      "852275\n",
      "881430\n"
     ]
    }
   ],
   "source": [
    "s = time.time()\n",
    "mean_transaction(account1,private_key1,a1100)\n",
    "mean_transaction(account2,private_key2,a1200)\n",
    "mean_transaction(account1,private_key1,a1300)\n",
    "mean_transaction(account2,private_key2,a1400)\n",
    "mean_transaction(account1,private_key1,a1500)\n",
    "mean_transaction(account2,private_key2,a1600)\n",
    "mean_transaction(account1,private_key1,a1700)\n",
    "mean_transaction(account2,private_key2,a1800)\n",
    "mean_transaction(account1,private_key1,a1900)\n",
    "mean_transaction(account2,private_key2,a2000)\n",
    "mean_transaction(account1,private_key1,a2100)\n",
    "mean_transaction(account2,private_key2,a2200)\n",
    "mean_transaction(account1,private_key1,a2300)\n",
    "mean_transaction(account2,private_key2,a2400)\n",
    "mean_transaction(account1,private_key1,a2500)\n",
    "mean_transaction(account2,private_key2,a2600)\n",
    "mean_transaction(account1,private_key1,a2700)\n",
    "mean_transaction(account2,private_key2,a2800)\n",
    "mean_transaction(account1,private_key1,a2900)\n",
    "mean_transaction(account2,private_key2,a3000)\n",
    "\n"
   ]
  },
  {
   "cell_type": "code",
   "execution_count": 16,
   "id": "fewer-aside",
   "metadata": {},
   "outputs": [
    {
     "name": "stdout",
     "output_type": "stream",
     "text": [
      "1023088\n"
     ]
    }
   ],
   "source": [
    "\n",
    "s = time.time()\n",
    "# variance_transaction(account1,private_key1,a1100)\n",
    "# variance_transaction(account2,private_key2,a1200)\n",
    "# variance_transaction(account1,private_key1,a1300)\n",
    "# variance_transaction(account2,private_key2,a1400)\n",
    "# variance_transaction(account1,private_key1,a1500)\n",
    "# variance_transaction(account2,private_key2,a1600)\n",
    "# variance_transaction(account1,private_key1,a1700)\n",
    "# variance_transaction(account2,private_key2,a1800)\n",
    "# variance_transaction(account1,private_key1,a1900)\n",
    "# variance_transaction(account2,private_key2,a2000)\n",
    "# # variance_transaction(account1,private_key1,a2100)\n",
    "variance_transaction(account1,private_key1,a2200)\n",
    "# variance_transaction(account1,private_key1,a2300)\n",
    "# variance_transaction(account2,private_key2,a2400)\n",
    "# variance_transaction(account1,private_key1,a2500)\n",
    "# variance_transaction(account2,private_key2,a2600)\n",
    "# variance_transaction(account1,private_key1,a2700)\n",
    "# variance_transaction(account2,private_key2,a2800)\n",
    "# variance_transaction(account1,private_key1,a2900)\n",
    "# variance_transaction(account2,private_key2,a3000)"
   ]
  },
  {
   "cell_type": "code",
   "execution_count": null,
   "id": "inner-organization",
   "metadata": {},
   "outputs": [],
   "source": [
    "input =[2,3,4,5,6]\n",
    "weight =[2,3,4,5,6]\n",
    "bias = [1,2]\n",
    "\n",
    "nonce = web3.eth.getTransactionCount(account1)\n",
    "transaction = contract.functions.compute_IXWB(\n",
    "    input,weight,bias\n",
    "     ).buildTransaction({\n",
    "    'gas': 100000,\n",
    "    'gasPrice': web3.toWei('10', 'gwei'),\n",
    "    'from': account1,\n",
    "    'nonce': nonce\n",
    "    }) \n",
    "signed_txn = web3.eth.account.signTransaction(transaction, private_key=private_key1)\n",
    "tx_hash = web3.eth.sendRawTransaction(signed_txn.rawTransaction)\n",
    "tx_receipt = web3.eth.waitForTransactionReceipt(tx_hash)\n"
   ]
  },
  {
   "cell_type": "code",
   "execution_count": null,
   "id": "downtown-cooperation",
   "metadata": {},
   "outputs": [],
   "source": [
    "add = contract.functions.add_print().call()\n",
    "add"
   ]
  },
  {
   "cell_type": "code",
   "execution_count": null,
   "id": "blessed-amendment",
   "metadata": {},
   "outputs": [],
   "source": [
    "d =-50\n",
    "nonce = web3.eth.getTransactionCount(account1)\n",
    "transaction = contract.functions.compute_sigmoid(\n",
    "    d\n",
    "     ).buildTransaction({\n",
    "    'gas': 100000,\n",
    "    'gasPrice': web3.toWei('50', 'gwei'),\n",
    "    'from': account1,\n",
    "    'nonce': nonce\n",
    "    }) \n",
    "signed_txn = web3.eth.account.signTransaction(transaction, private_key=private_key1)\n",
    "tx_hash = web3.eth.sendRawTransaction(signed_txn.rawTransaction)\n",
    "tx_receipt = web3.eth.waitForTransactionReceipt(tx_hash)"
   ]
  },
  {
   "cell_type": "code",
   "execution_count": null,
   "id": "accepting-choice",
   "metadata": {},
   "outputs": [],
   "source": [
    "pred = contract.functions.predict_print().call()\n",
    "pred"
   ]
  },
  {
   "cell_type": "code",
   "execution_count": null,
   "id": "immune-satellite",
   "metadata": {},
   "outputs": [],
   "source": []
  }
 ],
 "metadata": {
  "kernelspec": {
   "display_name": "Python 3",
   "language": "python",
   "name": "python3"
  },
  "language_info": {
   "codemirror_mode": {
    "name": "ipython",
    "version": 3
   },
   "file_extension": ".py",
   "mimetype": "text/x-python",
   "name": "python",
   "nbconvert_exporter": "python",
   "pygments_lexer": "ipython3",
   "version": "3.9.2"
  }
 },
 "nbformat": 4,
 "nbformat_minor": 5
}
