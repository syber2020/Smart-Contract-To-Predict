{
 "cells": [
  {
   "cell_type": "markdown",
   "id": "sized-newport",
   "metadata": {},
   "source": [
    "## Loading the Dataset"
   ]
  },
  {
   "cell_type": "code",
   "execution_count": 117,
   "id": "commercial-realtor",
   "metadata": {},
   "outputs": [],
   "source": [
    "import numpy as np\n",
    "import pandas as pd\n",
    "from sklearn.decomposition import PCA\n",
    "from sklearn.preprocessing import StandardScaler\n",
    "from sklearn.naive_bayes import BernoulliNB\n",
    "from sklearn.naive_bayes import MultinomialNB\n",
    "from sklearn.datasets import load_iris\n",
    "from sklearn.model_selection import train_test_split\n",
    "from sklearn.naive_bayes import GaussianNB\n",
    "from sklearn.metrics import accuracy_score\n",
    "url = \"https://archive.ics.uci.edu/ml/machine-learning-databases/iris/iris.data\"\n",
    "df = pd.read_csv(url, names=['sepal length','sepal width', 'petal length', 'petal width', 'target'])\n",
    "# df['target']                             "
   ]
  },
  {
   "cell_type": "markdown",
   "id": "verbal-edwards",
   "metadata": {},
   "source": [
    "## Normalizing Dataset "
   ]
  },
  {
   "cell_type": "code",
   "execution_count": 118,
   "id": "enabling-bulgarian",
   "metadata": {},
   "outputs": [],
   "source": [
    "\n",
    "X,y = load_iris(return_X_y=True)\n",
    "features =['sepal length', 'sepal width', 'petal length', 'petal width']\n",
    "#separating features\n",
    "x = df.loc[:, features].values\n",
    "# print(\"raw inputs\",x)\n",
    "#separating targets\n",
    "y = df.loc[:, ['target']].values\n",
    "# print(y)\n",
    "#standardising the features\n",
    "x_norm = StandardScaler().fit_transform(x)\n",
    "# print(\"normalized inputs\",x_norm)"
   ]
  },
  {
   "cell_type": "code",
   "execution_count": 119,
   "id": "advisory-temperature",
   "metadata": {},
   "outputs": [
    {
     "name": "stdout",
     "output_type": "stream",
     "text": [
      "Number of mislabeled points out of a total 30 points : 567\n",
      "0.9666666666666667\n"
     ]
    },
    {
     "name": "stderr",
     "output_type": "stream",
     "text": [
      "c:\\users\\syed\\appdata\\local\\programs\\python\\python39\\lib\\site-packages\\sklearn\\utils\\validation.py:63: DataConversionWarning: A column-vector y was passed when a 1d array was expected. Please change the shape of y to (n_samples, ), for example using ravel().\n",
      "  return f(*args, **kwargs)\n"
     ]
    }
   ],
   "source": [
    "X_train, X_test, y_train, y_test = train_test_split(X, y, test_size=0.2, random_state=0)\n",
    "# PCA.fit(X_train)\n",
    "# X_train = pca.transform(X_train)\n",
    "# X_test = pca.transform(X_test)\n",
    "# X_train, X_test, y_train, y_test = train_test_split(pc, y, test_size=0.2, random_state=0)\n",
    "# print(X_test)\n",
    "gnb = GaussianNB()\n",
    "y_pred = gnb.fit(X_train, y_train).predict(X_test)\n",
    "print(\"Number of mislabeled points out of a total %d points : %d\" % (X_test.shape[0], (y_test != y_pred).sum()))\n",
    "print(accuracy_score(y_test, y_pred))"
   ]
  },
  {
   "cell_type": "markdown",
   "id": "patient-numbers",
   "metadata": {},
   "source": [
    "## PCA projection to 2D"
   ]
  },
  {
   "cell_type": "code",
   "execution_count": 120,
   "id": "seventh-makeup",
   "metadata": {},
   "outputs": [],
   "source": [
    "\n",
    "pca =PCA(n_components =2)\n",
    "principalComponents = pca.fit_transform(x_norm)\n",
    "pdf = pd.DataFrame(data=principalComponents, columns = ['pc1', 'pc2'])\n",
    "\n",
    "# pdf"
   ]
  },
  {
   "cell_type": "code",
   "execution_count": 121,
   "id": "regulation-davis",
   "metadata": {},
   "outputs": [
    {
     "data": {
      "text/html": [
       "<div>\n",
       "<style scoped>\n",
       "    .dataframe tbody tr th:only-of-type {\n",
       "        vertical-align: middle;\n",
       "    }\n",
       "\n",
       "    .dataframe tbody tr th {\n",
       "        vertical-align: top;\n",
       "    }\n",
       "\n",
       "    .dataframe thead th {\n",
       "        text-align: right;\n",
       "    }\n",
       "</style>\n",
       "<table border=\"1\" class=\"dataframe\">\n",
       "  <thead>\n",
       "    <tr style=\"text-align: right;\">\n",
       "      <th></th>\n",
       "      <th>pc1</th>\n",
       "      <th>pc2</th>\n",
       "      <th>target</th>\n",
       "    </tr>\n",
       "  </thead>\n",
       "  <tbody>\n",
       "    <tr>\n",
       "      <th>0</th>\n",
       "      <td>-2.264542</td>\n",
       "      <td>0.505704</td>\n",
       "      <td>Iris-setosa</td>\n",
       "    </tr>\n",
       "    <tr>\n",
       "      <th>1</th>\n",
       "      <td>-2.086426</td>\n",
       "      <td>-0.655405</td>\n",
       "      <td>Iris-setosa</td>\n",
       "    </tr>\n",
       "    <tr>\n",
       "      <th>2</th>\n",
       "      <td>-2.367950</td>\n",
       "      <td>-0.318477</td>\n",
       "      <td>Iris-setosa</td>\n",
       "    </tr>\n",
       "    <tr>\n",
       "      <th>3</th>\n",
       "      <td>-2.304197</td>\n",
       "      <td>-0.575368</td>\n",
       "      <td>Iris-setosa</td>\n",
       "    </tr>\n",
       "    <tr>\n",
       "      <th>4</th>\n",
       "      <td>-2.388777</td>\n",
       "      <td>0.674767</td>\n",
       "      <td>Iris-setosa</td>\n",
       "    </tr>\n",
       "  </tbody>\n",
       "</table>\n",
       "</div>"
      ],
      "text/plain": [
       "        pc1       pc2       target\n",
       "0 -2.264542  0.505704  Iris-setosa\n",
       "1 -2.086426 -0.655405  Iris-setosa\n",
       "2 -2.367950 -0.318477  Iris-setosa\n",
       "3 -2.304197 -0.575368  Iris-setosa\n",
       "4 -2.388777  0.674767  Iris-setosa"
      ]
     },
     "execution_count": 121,
     "metadata": {},
     "output_type": "execute_result"
    }
   ],
   "source": [
    "finaldf = pd.concat([pdf,df[['target']]], axis =1)\n",
    "finaldf.head()"
   ]
  },
  {
   "cell_type": "markdown",
   "id": "recovered-street",
   "metadata": {},
   "source": [
    "## visualizing components"
   ]
  },
  {
   "cell_type": "code",
   "execution_count": 122,
   "id": "suspected-shame",
   "metadata": {},
   "outputs": [
    {
     "data": {
      "image/png": "[encoded data removed]",
      "text/plain": [
       "<Figure size 576x576 with 1 Axes>"
      ]
     },
     "metadata": {
      "needs_background": "light"
     },
     "output_type": "display_data"
    }
   ],
   "source": [
    "import matplotlib.pyplot as plt\n",
    "fig = plt.figure(figsize=(8,8))\n",
    "ax = fig.add_subplot(1,1,1)\n",
    "ax.set_xlabel('Component 1', fontsize =15)\n",
    "ax.set_ylabel('Component 2', fontsize =15)\n",
    "\n",
    "ax.set_title('2 COmponent PCA', fontsize =20)\n",
    "\n",
    "targets = ['Iris-setosa', 'Iris-versicolor', 'Iris-virginica']\n",
    "colors =['r','b','g']\n",
    "for target, color in zip(targets,colors):\n",
    "    indicesToKeep = finaldf['target']==target\n",
    "    ax.scatter(finaldf.loc[indicesToKeep,'pc1'], finaldf.loc[indicesToKeep,'pc2'], c=color, s=50)\n",
    "    "
   ]
  },
  {
   "cell_type": "code",
   "execution_count": 160,
   "id": "controlled-devices",
   "metadata": {},
   "outputs": [],
   "source": [
    "#NB scikit learn\n",
    "X, y = load_iris(return_X_y=True)\n",
    "# X = StandardScaler().fit_transform(X)\n",
    "# pca =PCA(n_components =2)\n",
    "X_train, X_test, y_train, y_test = train_test_split(X, y, test_size=0.2, random_state=0)\n",
    "X_train = X_train*10\n",
    "X_test = X_test *10\n"
   ]
  },
  {
   "cell_type": "code",
   "execution_count": 162,
   "id": "introductory-grove",
   "metadata": {},
   "outputs": [
    {
     "data": {
      "text/plain": [
       "array([[58., 28., 51., 24.],\n",
       "       [60., 22., 40., 10.],\n",
       "       [55., 42., 14.,  2.],\n",
       "       [73., 29., 63., 18.],\n",
       "       [50., 34., 15.,  2.],\n",
       "       [63., 33., 60., 25.],\n",
       "       [50., 35., 13.,  3.],\n",
       "       [67., 31., 47., 15.],\n",
       "       [68., 28., 48., 14.],\n",
       "       [61., 28., 40., 13.],\n",
       "       [61., 26., 56., 14.],\n",
       "       [64., 32., 45., 15.],\n",
       "       [61., 28., 47., 12.],\n",
       "       [65., 28., 46., 15.],\n",
       "       [61., 29., 47., 14.],\n",
       "       [49., 36., 14.,  1.],\n",
       "       [60., 29., 45., 15.],\n",
       "       [55., 26., 44., 12.],\n",
       "       [48., 30., 14.,  3.],\n",
       "       [54., 39., 13.,  4.],\n",
       "       [56., 28., 49., 20.],\n",
       "       [56., 30., 45., 15.],\n",
       "       [48., 34., 19.,  2.],\n",
       "       [44., 29., 14.,  2.],\n",
       "       [62., 28., 48., 18.],\n",
       "       [46., 36., 10.,  2.],\n",
       "       [51., 38., 19.,  4.],\n",
       "       [62., 29., 43., 13.],\n",
       "       [50., 23., 33., 10.],\n",
       "       [50., 34., 16.,  4.]])"
      ]
     },
     "execution_count": 162,
     "metadata": {},
     "output_type": "execute_result"
    }
   ],
   "source": [
    "X_test"
   ]
  },
  {
   "cell_type": "code",
   "execution_count": 163,
   "id": "bearing-spider",
   "metadata": {},
   "outputs": [
    {
     "name": "stdout",
     "output_type": "stream",
     "text": [
      "Number of mislabeled points out of a total 30 points : 1\n",
      "0.9666666666666667\n"
     ]
    }
   ],
   "source": [
    "gnb = GaussianNB()\n",
    "y_pred = gnb.fit(X_train, y_train).predict(X_test)\n",
    "print(\"Number of mislabeled points out of a total %d points : %d\" % (X_test.shape[0], (y_test != y_pred).sum()))\n",
    "print(accuracy_score(y_test, y_pred))"
   ]
  },
  {
   "cell_type": "code",
   "execution_count": 164,
   "id": "southeast-paraguay",
   "metadata": {},
   "outputs": [
    {
     "name": "stdout",
     "output_type": "stream",
     "text": [
      "Number of mislabeled points out of a total 30 points : 24\n",
      "0.2\n"
     ]
    }
   ],
   "source": [
    "gnb = BernoulliNB()\n",
    "y_pred = gnb.fit(X_train, y_train).predict(X_test)\n",
    "print(\"Number of mislabeled points out of a total %d points : %d\" % (X_test.shape[0], (y_test != y_pred).sum()))\n",
    "print(accuracy_score(y_test, y_pred))"
   ]
  },
  {
   "cell_type": "code",
   "execution_count": 165,
   "id": "liable-pierre",
   "metadata": {},
   "outputs": [],
   "source": [
    "X, y = load_iris(return_X_y=True)\n",
    "x_train, x_test, y_train, y_test = train_test_split(X, y, test_size=0.2, random_state=0)\n"
   ]
  },
  {
   "cell_type": "code",
   "execution_count": 166,
   "id": "cardiac-nitrogen",
   "metadata": {},
   "outputs": [
    {
     "data": {
      "text/plain": [
       "array([[58., 28., 51., 24.],\n",
       "       [60., 22., 40., 10.],\n",
       "       [55., 42., 14.,  2.],\n",
       "       [73., 29., 63., 18.],\n",
       "       [50., 34., 15.,  2.],\n",
       "       [63., 33., 60., 25.],\n",
       "       [50., 35., 13.,  3.],\n",
       "       [67., 31., 47., 15.],\n",
       "       [68., 28., 48., 14.],\n",
       "       [61., 28., 40., 13.],\n",
       "       [61., 26., 56., 14.],\n",
       "       [64., 32., 45., 15.],\n",
       "       [61., 28., 47., 12.],\n",
       "       [65., 28., 46., 15.],\n",
       "       [61., 29., 47., 14.],\n",
       "       [49., 36., 14.,  1.],\n",
       "       [60., 29., 45., 15.],\n",
       "       [55., 26., 44., 12.],\n",
       "       [48., 30., 14.,  3.],\n",
       "       [54., 39., 13.,  4.],\n",
       "       [56., 28., 49., 20.],\n",
       "       [56., 30., 45., 15.],\n",
       "       [48., 34., 19.,  2.],\n",
       "       [44., 29., 14.,  2.],\n",
       "       [62., 28., 48., 18.],\n",
       "       [46., 36., 10.,  2.],\n",
       "       [51., 38., 19.,  4.],\n",
       "       [62., 29., 43., 13.],\n",
       "       [50., 23., 33., 10.],\n",
       "       [50., 34., 16.,  4.]])"
      ]
     },
     "execution_count": 166,
     "metadata": {},
     "output_type": "execute_result"
    }
   ],
   "source": [
    "x_train = x_train *10\n",
    "x_test = x_test *10\n",
    "\n",
    "x_test"
   ]
  },
  {
   "cell_type": "code",
   "execution_count": 167,
   "id": "gorgeous-psychiatry",
   "metadata": {},
   "outputs": [],
   "source": [
    "df = pd.DataFrame(x_train, columns=['f1','f2', 'f3','f4'])\n",
    "\n",
    "df ['target'] = y_train\n",
    "# df_mean = df.groupby(['target']).mean()\n",
    "df_mean = df.groupby(['target']).mean().astype(int)\n",
    "# df_var = df.groupby(['target']).var()\n",
    "df_var = df.groupby(['target']).var().astype(int)\n"
   ]
  },
  {
   "cell_type": "code",
   "execution_count": 168,
   "id": "lucky-generic",
   "metadata": {},
   "outputs": [
    {
     "data": {
      "text/html": [
       "<div>\n",
       "<style scoped>\n",
       "    .dataframe tbody tr th:only-of-type {\n",
       "        vertical-align: middle;\n",
       "    }\n",
       "\n",
       "    .dataframe tbody tr th {\n",
       "        vertical-align: top;\n",
       "    }\n",
       "\n",
       "    .dataframe thead th {\n",
       "        text-align: right;\n",
       "    }\n",
       "</style>\n",
       "<table border=\"1\" class=\"dataframe\">\n",
       "  <thead>\n",
       "    <tr style=\"text-align: right;\">\n",
       "      <th></th>\n",
       "      <th>f1</th>\n",
       "      <th>f2</th>\n",
       "      <th>f3</th>\n",
       "      <th>f4</th>\n",
       "    </tr>\n",
       "    <tr>\n",
       "      <th>target</th>\n",
       "      <th></th>\n",
       "      <th></th>\n",
       "      <th></th>\n",
       "      <th></th>\n",
       "    </tr>\n",
       "  </thead>\n",
       "  <tbody>\n",
       "    <tr>\n",
       "      <th>0</th>\n",
       "      <td>13</td>\n",
       "      <td>14</td>\n",
       "      <td>2</td>\n",
       "      <td>1</td>\n",
       "    </tr>\n",
       "    <tr>\n",
       "      <th>1</th>\n",
       "      <td>27</td>\n",
       "      <td>10</td>\n",
       "      <td>23</td>\n",
       "      <td>4</td>\n",
       "    </tr>\n",
       "    <tr>\n",
       "      <th>2</th>\n",
       "      <td>39</td>\n",
       "      <td>11</td>\n",
       "      <td>30</td>\n",
       "      <td>6</td>\n",
       "    </tr>\n",
       "  </tbody>\n",
       "</table>\n",
       "</div>"
      ],
      "text/plain": [
       "        f1  f2  f3  f4\n",
       "target                \n",
       "0       13  14   2   1\n",
       "1       27  10  23   4\n",
       "2       39  11  30   6"
      ]
     },
     "execution_count": 168,
     "metadata": {},
     "output_type": "execute_result"
    }
   ],
   "source": [
    "df_var.head()"
   ]
  },
  {
   "cell_type": "code",
   "execution_count": 169,
   "id": "mediterranean-prime",
   "metadata": {},
   "outputs": [
    {
     "data": {
      "text/html": [
       "<div>\n",
       "<style scoped>\n",
       "    .dataframe tbody tr th:only-of-type {\n",
       "        vertical-align: middle;\n",
       "    }\n",
       "\n",
       "    .dataframe tbody tr th {\n",
       "        vertical-align: top;\n",
       "    }\n",
       "\n",
       "    .dataframe thead th {\n",
       "        text-align: right;\n",
       "    }\n",
       "</style>\n",
       "<table border=\"1\" class=\"dataframe\">\n",
       "  <thead>\n",
       "    <tr style=\"text-align: right;\">\n",
       "      <th></th>\n",
       "      <th>f1</th>\n",
       "      <th>f2</th>\n",
       "      <th>f3</th>\n",
       "      <th>f4</th>\n",
       "    </tr>\n",
       "    <tr>\n",
       "      <th>target</th>\n",
       "      <th></th>\n",
       "      <th></th>\n",
       "      <th></th>\n",
       "      <th></th>\n",
       "    </tr>\n",
       "  </thead>\n",
       "  <tbody>\n",
       "    <tr>\n",
       "      <th>0</th>\n",
       "      <td>50</td>\n",
       "      <td>34</td>\n",
       "      <td>14</td>\n",
       "      <td>2</td>\n",
       "    </tr>\n",
       "    <tr>\n",
       "      <th>1</th>\n",
       "      <td>58</td>\n",
       "      <td>27</td>\n",
       "      <td>42</td>\n",
       "      <td>13</td>\n",
       "    </tr>\n",
       "    <tr>\n",
       "      <th>2</th>\n",
       "      <td>66</td>\n",
       "      <td>29</td>\n",
       "      <td>55</td>\n",
       "      <td>20</td>\n",
       "    </tr>\n",
       "  </tbody>\n",
       "</table>\n",
       "</div>"
      ],
      "text/plain": [
       "        f1  f2  f3  f4\n",
       "target                \n",
       "0       50  34  14   2\n",
       "1       58  27  42  13\n",
       "2       66  29  55  20"
      ]
     },
     "execution_count": 169,
     "metadata": {},
     "output_type": "execute_result"
    }
   ],
   "source": [
    "df_mean.head()"
   ]
  },
  {
   "cell_type": "code",
   "execution_count": 170,
   "id": "intelligent-intro",
   "metadata": {},
   "outputs": [],
   "source": [
    "# df_train = x_train*10\n",
    "# df_test = x_test*10\n",
    "# df_test"
   ]
  },
  {
   "cell_type": "code",
   "execution_count": 171,
   "id": "allied-philip",
   "metadata": {},
   "outputs": [
    {
     "data": {
      "text/html": [
       "<div>\n",
       "<style scoped>\n",
       "    .dataframe tbody tr th:only-of-type {\n",
       "        vertical-align: middle;\n",
       "    }\n",
       "\n",
       "    .dataframe tbody tr th {\n",
       "        vertical-align: top;\n",
       "    }\n",
       "\n",
       "    .dataframe thead th {\n",
       "        text-align: right;\n",
       "    }\n",
       "</style>\n",
       "<table border=\"1\" class=\"dataframe\">\n",
       "  <thead>\n",
       "    <tr style=\"text-align: right;\">\n",
       "      <th></th>\n",
       "      <th>f1</th>\n",
       "      <th>f2</th>\n",
       "      <th>f3</th>\n",
       "      <th>f4</th>\n",
       "    </tr>\n",
       "    <tr>\n",
       "      <th>target</th>\n",
       "      <th></th>\n",
       "      <th></th>\n",
       "      <th></th>\n",
       "      <th></th>\n",
       "    </tr>\n",
       "  </thead>\n",
       "  <tbody>\n",
       "    <tr>\n",
       "      <th>0</th>\n",
       "      <td>50</td>\n",
       "      <td>34</td>\n",
       "      <td>14</td>\n",
       "      <td>2</td>\n",
       "    </tr>\n",
       "    <tr>\n",
       "      <th>1</th>\n",
       "      <td>58</td>\n",
       "      <td>27</td>\n",
       "      <td>42</td>\n",
       "      <td>13</td>\n",
       "    </tr>\n",
       "    <tr>\n",
       "      <th>2</th>\n",
       "      <td>66</td>\n",
       "      <td>29</td>\n",
       "      <td>55</td>\n",
       "      <td>20</td>\n",
       "    </tr>\n",
       "  </tbody>\n",
       "</table>\n",
       "</div>"
      ],
      "text/plain": [
       "        f1  f2  f3  f4\n",
       "target                \n",
       "0       50  34  14   2\n",
       "1       58  27  42  13\n",
       "2       66  29  55  20"
      ]
     },
     "execution_count": 171,
     "metadata": {},
     "output_type": "execute_result"
    }
   ],
   "source": [
    "#mean of features\n",
    "df_mean"
   ]
  },
  {
   "cell_type": "code",
   "execution_count": 172,
   "id": "superior-cable",
   "metadata": {},
   "outputs": [
    {
     "data": {
      "text/html": [
       "<div>\n",
       "<style scoped>\n",
       "    .dataframe tbody tr th:only-of-type {\n",
       "        vertical-align: middle;\n",
       "    }\n",
       "\n",
       "    .dataframe tbody tr th {\n",
       "        vertical-align: top;\n",
       "    }\n",
       "\n",
       "    .dataframe thead th {\n",
       "        text-align: right;\n",
       "    }\n",
       "</style>\n",
       "<table border=\"1\" class=\"dataframe\">\n",
       "  <thead>\n",
       "    <tr style=\"text-align: right;\">\n",
       "      <th></th>\n",
       "      <th>f1</th>\n",
       "      <th>f2</th>\n",
       "      <th>f3</th>\n",
       "      <th>f4</th>\n",
       "    </tr>\n",
       "    <tr>\n",
       "      <th>target</th>\n",
       "      <th></th>\n",
       "      <th></th>\n",
       "      <th></th>\n",
       "      <th></th>\n",
       "    </tr>\n",
       "  </thead>\n",
       "  <tbody>\n",
       "    <tr>\n",
       "      <th>0</th>\n",
       "      <td>13</td>\n",
       "      <td>14</td>\n",
       "      <td>2</td>\n",
       "      <td>1</td>\n",
       "    </tr>\n",
       "    <tr>\n",
       "      <th>1</th>\n",
       "      <td>27</td>\n",
       "      <td>10</td>\n",
       "      <td>23</td>\n",
       "      <td>4</td>\n",
       "    </tr>\n",
       "    <tr>\n",
       "      <th>2</th>\n",
       "      <td>39</td>\n",
       "      <td>11</td>\n",
       "      <td>30</td>\n",
       "      <td>6</td>\n",
       "    </tr>\n",
       "  </tbody>\n",
       "</table>\n",
       "</div>"
      ],
      "text/plain": [
       "        f1  f2  f3  f4\n",
       "target                \n",
       "0       13  14   2   1\n",
       "1       27  10  23   4\n",
       "2       39  11  30   6"
      ]
     },
     "execution_count": 172,
     "metadata": {},
     "output_type": "execute_result"
    }
   ],
   "source": [
    "#variance of features\n",
    "df_var"
   ]
  },
  {
   "cell_type": "code",
   "execution_count": 173,
   "id": "aerial-treasurer",
   "metadata": {},
   "outputs": [],
   "source": [
    "#prior probability \n",
    "dfp = df.groupby('target').size()\n",
    "Prior0 = int(dfp[0]/len(df)*100)\n",
    "Prior1 = int(dfp[1]/len(df)*100)\n",
    "Prior2 = int(dfp[2]/len(df)*100)\n",
    "prior_t = [Prior0, Prior1, Prior2]"
   ]
  },
  {
   "cell_type": "code",
   "execution_count": 174,
   "id": "independent-representative",
   "metadata": {},
   "outputs": [],
   "source": [
    "mean_arr = df_mean.values\n",
    "var_arr = df_var.values\n",
    "# x_test = x_test *10\n",
    "# x_test"
   ]
  },
  {
   "cell_type": "code",
   "execution_count": 175,
   "id": "adolescent-nebraska",
   "metadata": {},
   "outputs": [],
   "source": [
    "\n",
    "def mux1(v,k):\n",
    "    x = 1\n",
    "#     print(type(v))\n",
    "    for i in range(len(v)):\n",
    "        if(i==k): continue\n",
    "        else:  x = x* v[i]\n",
    "    return x\n",
    "\n",
    "\n",
    "def GNB(x,m,v):\n",
    "    B0=1; C0 =1.0;  A0=1; e = 2.718\n",
    "    c = np.zeros(len(v));\n",
    "    for i in range(len(v)):\n",
    "        B0 = B0* v[i]\n",
    "        c[i] = (x[i]-m[i])*(x[i]-m[i]) \n",
    "    \n",
    "    D0 = B0\n",
    "    for i in range(len(c)):\n",
    "        C0 = C0+c[i]*mux1(v,i)\n",
    "#     print(A0,B0,C0,D0)    \n",
    "    ex = float(C0/D0)\n",
    "    out = (A0/B0)*pow(e,-1*ex)\n",
    "    return(out) "
   ]
  },
  {
   "cell_type": "code",
   "execution_count": 176,
   "id": "spectacular-paragraph",
   "metadata": {},
   "outputs": [],
   "source": [
    "#working\n",
    "# x = x_test[2]\n",
    "# m0 = mean_arr[0]\n",
    "# v0 = var_arr[0]\n",
    "# prob1 =GNB(x,m0,v0) * pt[0]\n",
    "# prob1"
   ]
  },
  {
   "cell_type": "code",
   "execution_count": 177,
   "id": "suffering-action",
   "metadata": {},
   "outputs": [
    {
     "data": {
      "text/plain": [
       "array([66, 29, 55, 20])"
      ]
     },
     "execution_count": 177,
     "metadata": {},
     "output_type": "execute_result"
    }
   ],
   "source": [
    "mean_arr[2]"
   ]
  },
  {
   "cell_type": "code",
   "execution_count": 178,
   "id": "turkish-supplier",
   "metadata": {},
   "outputs": [],
   "source": [
    "#working\n",
    "# x = x_test[2]\n",
    "# m1 = mean_arr[1]\n",
    "# v1 = var_arr[1]\n",
    "# prob1 =GNB(x,m1,v1) * pt[1]\n",
    "# prob1"
   ]
  },
  {
   "cell_type": "code",
   "execution_count": 179,
   "id": "wired-burden",
   "metadata": {},
   "outputs": [],
   "source": [
    "#working\n",
    "# x = x_test[2]\n",
    "# m2 = mean_arr[2]\n",
    "# v2 = var_arr[2]\n",
    "# prob1 =GNB(x,m2,v2) * pt[2]\n",
    "# prob1"
   ]
  },
  {
   "cell_type": "code",
   "execution_count": 180,
   "id": "inappropriate-adelaide",
   "metadata": {},
   "outputs": [],
   "source": [
    "def classification(x,m,v,pt):\n",
    "    z = np.zeros(x.shape[0])\n",
    "    for i in range(x.shape[0]):\n",
    "        t = x[i]\n",
    "        m = mean_arr[0]\n",
    "        v = var_arr[0]\n",
    "#         print(t,m,v)\n",
    "        pred0 = GNB(t,m,v) * pt[0]\n",
    "        m = mean_arr[1]\n",
    "        v = var_arr[1]\n",
    "        pred1 = GNB(t,m,v) * pt[1]\n",
    "        m = mean_arr[2]\n",
    "        v = var_arr[2]\n",
    "        pred2 = GNB(t,m,v) * pt[2]\n",
    "        if (pred0>pred1 and pred0>pred2): z[i] = 0\n",
    "        elif(pred1>pred0 and pred1>pred2): z[i] = 1\n",
    "        else: z[i] = 2\n",
    "    return z\n",
    "        "
   ]
  },
  {
   "cell_type": "code",
   "execution_count": 181,
   "id": "animated-musician",
   "metadata": {},
   "outputs": [
    {
     "ename": "IndexError",
     "evalue": "index 3 is out of bounds for axis 0 with size 3",
     "output_type": "error",
     "traceback": [
      "\u001b[1;31m---------------------------------------------------------------------------\u001b[0m",
      "\u001b[1;31mIndexError\u001b[0m                                Traceback (most recent call last)",
      "\u001b[1;32m<ipython-input-181-28a72b6d4d47>\u001b[0m in \u001b[0;36m<module>\u001b[1;34m\u001b[0m\n\u001b[1;32m----> 1\u001b[1;33m \u001b[0mpred\u001b[0m \u001b[1;33m=\u001b[0m \u001b[0mclassification\u001b[0m\u001b[1;33m(\u001b[0m\u001b[0mdf_test\u001b[0m\u001b[1;33m,\u001b[0m\u001b[0mmean_arr\u001b[0m\u001b[1;33m,\u001b[0m\u001b[0mvar_arr\u001b[0m\u001b[1;33m,\u001b[0m\u001b[0mprior_t\u001b[0m\u001b[1;33m)\u001b[0m\u001b[1;33m\u001b[0m\u001b[1;33m\u001b[0m\u001b[0m\n\u001b[0m\u001b[0;32m      2\u001b[0m \u001b[0mpred\u001b[0m\u001b[1;33m\u001b[0m\u001b[1;33m\u001b[0m\u001b[0m\n",
      "\u001b[1;32m<ipython-input-180-04a721e8cbb7>\u001b[0m in \u001b[0;36mclassification\u001b[1;34m(x, m, v, pt)\u001b[0m\n\u001b[0;32m      6\u001b[0m         \u001b[0mv\u001b[0m \u001b[1;33m=\u001b[0m \u001b[0mvar_arr\u001b[0m\u001b[1;33m[\u001b[0m\u001b[1;36m0\u001b[0m\u001b[1;33m]\u001b[0m\u001b[1;33m\u001b[0m\u001b[1;33m\u001b[0m\u001b[0m\n\u001b[0;32m      7\u001b[0m \u001b[1;31m#         print(t,m,v)\u001b[0m\u001b[1;33m\u001b[0m\u001b[1;33m\u001b[0m\u001b[1;33m\u001b[0m\u001b[0m\n\u001b[1;32m----> 8\u001b[1;33m         \u001b[0mpred0\u001b[0m \u001b[1;33m=\u001b[0m \u001b[0mGNB\u001b[0m\u001b[1;33m(\u001b[0m\u001b[0mt\u001b[0m\u001b[1;33m,\u001b[0m\u001b[0mm\u001b[0m\u001b[1;33m,\u001b[0m\u001b[0mv\u001b[0m\u001b[1;33m)\u001b[0m \u001b[1;33m*\u001b[0m \u001b[0mpt\u001b[0m\u001b[1;33m[\u001b[0m\u001b[1;36m0\u001b[0m\u001b[1;33m]\u001b[0m\u001b[1;33m\u001b[0m\u001b[1;33m\u001b[0m\u001b[0m\n\u001b[0m\u001b[0;32m      9\u001b[0m         \u001b[0mm\u001b[0m \u001b[1;33m=\u001b[0m \u001b[0mmean_arr\u001b[0m\u001b[1;33m[\u001b[0m\u001b[1;36m1\u001b[0m\u001b[1;33m]\u001b[0m\u001b[1;33m\u001b[0m\u001b[1;33m\u001b[0m\u001b[0m\n\u001b[0;32m     10\u001b[0m         \u001b[0mv\u001b[0m \u001b[1;33m=\u001b[0m \u001b[0mvar_arr\u001b[0m\u001b[1;33m[\u001b[0m\u001b[1;36m1\u001b[0m\u001b[1;33m]\u001b[0m\u001b[1;33m\u001b[0m\u001b[1;33m\u001b[0m\u001b[0m\n",
      "\u001b[1;32m<ipython-input-175-fa32dfeb075b>\u001b[0m in \u001b[0;36mGNB\u001b[1;34m(x, m, v)\u001b[0m\n\u001b[0;32m     13\u001b[0m     \u001b[1;32mfor\u001b[0m \u001b[0mi\u001b[0m \u001b[1;32min\u001b[0m \u001b[0mrange\u001b[0m\u001b[1;33m(\u001b[0m\u001b[0mlen\u001b[0m\u001b[1;33m(\u001b[0m\u001b[0mv\u001b[0m\u001b[1;33m)\u001b[0m\u001b[1;33m)\u001b[0m\u001b[1;33m:\u001b[0m\u001b[1;33m\u001b[0m\u001b[1;33m\u001b[0m\u001b[0m\n\u001b[0;32m     14\u001b[0m         \u001b[0mB0\u001b[0m \u001b[1;33m=\u001b[0m \u001b[0mB0\u001b[0m\u001b[1;33m*\u001b[0m \u001b[0mv\u001b[0m\u001b[1;33m[\u001b[0m\u001b[0mi\u001b[0m\u001b[1;33m]\u001b[0m\u001b[1;33m\u001b[0m\u001b[1;33m\u001b[0m\u001b[0m\n\u001b[1;32m---> 15\u001b[1;33m         \u001b[0mc\u001b[0m\u001b[1;33m[\u001b[0m\u001b[0mi\u001b[0m\u001b[1;33m]\u001b[0m \u001b[1;33m=\u001b[0m \u001b[1;33m(\u001b[0m\u001b[0mx\u001b[0m\u001b[1;33m[\u001b[0m\u001b[0mi\u001b[0m\u001b[1;33m]\u001b[0m\u001b[1;33m-\u001b[0m\u001b[0mm\u001b[0m\u001b[1;33m[\u001b[0m\u001b[0mi\u001b[0m\u001b[1;33m]\u001b[0m\u001b[1;33m)\u001b[0m\u001b[1;33m*\u001b[0m\u001b[1;33m(\u001b[0m\u001b[0mx\u001b[0m\u001b[1;33m[\u001b[0m\u001b[0mi\u001b[0m\u001b[1;33m]\u001b[0m\u001b[1;33m-\u001b[0m\u001b[0mm\u001b[0m\u001b[1;33m[\u001b[0m\u001b[0mi\u001b[0m\u001b[1;33m]\u001b[0m\u001b[1;33m)\u001b[0m\u001b[1;33m\u001b[0m\u001b[1;33m\u001b[0m\u001b[0m\n\u001b[0m\u001b[0;32m     16\u001b[0m \u001b[1;33m\u001b[0m\u001b[0m\n\u001b[0;32m     17\u001b[0m     \u001b[0mD0\u001b[0m \u001b[1;33m=\u001b[0m \u001b[0mB0\u001b[0m\u001b[1;33m\u001b[0m\u001b[1;33m\u001b[0m\u001b[0m\n",
      "\u001b[1;31mIndexError\u001b[0m: index 3 is out of bounds for axis 0 with size 3"
     ]
    }
   ],
   "source": [
    "pred = classification(df_test,mean_arr,var_arr,prior_t)\n",
    "pred"
   ]
  },
  {
   "cell_type": "code",
   "execution_count": 182,
   "id": "major-neighbor",
   "metadata": {},
   "outputs": [
    {
     "data": {
      "text/plain": [
       "array([2, 1, 0, 2, 0, 2, 0, 1, 1, 1, 2, 1, 1, 1, 1, 0, 1, 1, 0, 0, 2, 1,\n",
       "       0, 0, 2, 0, 0, 1, 1, 0])"
      ]
     },
     "execution_count": 182,
     "metadata": {},
     "output_type": "execute_result"
    }
   ],
   "source": [
    "y_test"
   ]
  },
  {
   "cell_type": "code",
   "execution_count": 183,
   "id": "cardiac-waters",
   "metadata": {},
   "outputs": [
    {
     "name": "stdout",
     "output_type": "stream",
     "text": [
      "0.9\n"
     ]
    }
   ],
   "source": [
    "print(accuracy_score(y_test,pred))"
   ]
  },
  {
   "cell_type": "code",
   "execution_count": 190,
   "id": "fallen-luther",
   "metadata": {},
   "outputs": [],
   "source": [
    "pca =PCA(n_components =)\n",
    "pca.fit(x_train,pca)\n",
    "\n",
    "df_train = pca.transform(x_train).astype(int)\n",
    "df_test = pca.transform(x_test).astype(int)\n",
    "df = pd.DataFrame(df_train, columns=['f1','f2','f3','f4'])\n",
    "df ['target'] = y_train\n",
    "# df_mean = df.groupby(['target']).mean()\n",
    "df_mean = (df.groupby(['target']).mean()).astype(int)\n",
    "# df_var = df.groupby(['target']).var()\n",
    "df_var = (df.groupby(['target']).var()).astype(int)\n"
   ]
  },
  {
   "cell_type": "code",
   "execution_count": 191,
   "id": "complicated-smooth",
   "metadata": {},
   "outputs": [],
   "source": [
    "mean_arr = df_mean.values\n",
    "var_arr = df_var.values"
   ]
  },
  {
   "cell_type": "code",
   "execution_count": 192,
   "id": "beneficial-auction",
   "metadata": {},
   "outputs": [
    {
     "name": "stderr",
     "output_type": "stream",
     "text": [
      "<ipython-input-175-fa32dfeb075b>:21: RuntimeWarning: divide by zero encountered in double_scalars\n",
      "  ex = float(C0/D0)\n",
      "<ipython-input-175-fa32dfeb075b>:22: RuntimeWarning: divide by zero encountered in long_scalars\n",
      "  out = (A0/B0)*pow(e,-1*ex)\n",
      "<ipython-input-175-fa32dfeb075b>:22: RuntimeWarning: invalid value encountered in double_scalars\n",
      "  out = (A0/B0)*pow(e,-1*ex)\n"
     ]
    },
    {
     "data": {
      "text/plain": [
       "array([2., 2., 2., 2., 2., 2., 2., 2., 2., 2., 2., 2., 2., 2., 2., 2., 2.,\n",
       "       2., 2., 2., 2., 2., 2., 2., 2., 2., 2., 2., 2., 2.])"
      ]
     },
     "execution_count": 192,
     "metadata": {},
     "output_type": "execute_result"
    }
   ],
   "source": [
    "pred = classification(df_test,mean_arr,var_arr,prior_t)\n",
    "pred"
   ]
  },
  {
   "cell_type": "code",
   "execution_count": 193,
   "id": "intended-seattle",
   "metadata": {},
   "outputs": [
    {
     "name": "stdout",
     "output_type": "stream",
     "text": [
      "0.2\n"
     ]
    }
   ],
   "source": [
    "print(accuracy_score(y_test,pred))"
   ]
  },
  {
   "cell_type": "code",
   "execution_count": null,
   "id": "developed-rates",
   "metadata": {},
   "outputs": [],
   "source": []
  },
  {
   "cell_type": "code",
   "execution_count": null,
   "id": "typical-activation",
   "metadata": {},
   "outputs": [],
   "source": [
    "import matplotlib.pyplot as plt\n",
    "fig = plt.figure(figsize=(8,8))\n",
    "ax = fig.add_subplot(1,1,1)\n",
    "ax.set_xlabel('Component 1', fontsize =15)\n",
    "ax.set_ylabel('Component 2', fontsize =15)\n",
    "\n",
    "ax.set_title('2 COmponent PCA', fontsize =20)\n",
    "\n",
    "targets = ['Iris-setosa', 'Iris-versicolor', 'Iris-virginica']\n",
    "colors =['r','b','g']\n",
    "for target, color in zip(targets,colors):\n",
    "    indicesToKeep = finaldf['target']==target\n",
    "    ax.scatter(finaldf.loc[indicesToKeep,'pc1'], finaldf.loc[indicesToKeep,'pc2'], c=color, s=50)"
   ]
  }
 ],
 "metadata": {
  "kernelspec": {
   "display_name": "Python 3",
   "language": "python",
   "name": "python3"
  },
  "language_info": {
   "codemirror_mode": {
    "name": "ipython",
    "version": 3
   },
   "file_extension": ".py",
   "mimetype": "text/x-python",
   "name": "python",
   "nbconvert_exporter": "python",
   "pygments_lexer": "ipython3",
   "version": "3.9.2"
  }
 },
 "nbformat": 4,
 "nbformat_minor": 5
}
