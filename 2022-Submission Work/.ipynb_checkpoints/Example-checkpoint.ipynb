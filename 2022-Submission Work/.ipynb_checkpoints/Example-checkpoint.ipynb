{
 "cells": [
  {
   "cell_type": "code",
   "execution_count": 8,
   "id": "af58217f-0f7c-4560-9973-6c677efddb78",
   "metadata": {},
   "outputs": [],
   "source": [
    "import numpy as np\n",
    "import pylab as py\n",
    "%matplotlib inline\n",
    "from sklearn.decomposition import PCA as RandomizedPCA\n",
    "from sklearn.naive_bayes import GaussianNB"
   ]
  },
  {
   "cell_type": "code",
   "execution_count": 2,
   "id": "2e9bb424-e099-4760-a97f-e4be7ac15f31",
   "metadata": {},
   "outputs": [
    {
     "name": "stdout",
     "output_type": "stream",
     "text": [
      "data shape: (1797, 64), target shape: (1797,)\n",
      "classes: [0, 1, 2, 3, 4, 5, 6, 7, 8, 9]\n",
      "n_samples=1797\n",
      "n_features=64\n"
     ]
    }
   ],
   "source": [
    "from sklearn.datasets import load_digits\n",
    "digits = load_digits()\n",
    "\n",
    "X, y = digits.data, digits.target\n",
    "print(\"data shape: %r, target shape: %r\" % (X.shape, y.shape))\n",
    "print(\"classes: %r\" % list(np.unique(y)))\n",
    "\n",
    "n_samples, n_features = X.shape\n",
    "print(\"n_samples=%d\" % n_samples)\n",
    "print(\"n_features=%d\" % n_features)"
   ]
  },
  {
   "cell_type": "code",
   "execution_count": 6,
   "id": "13894042-c6bf-4b9f-9b64-94cc29d5852b",
   "metadata": {},
   "outputs": [],
   "source": [
    "from sklearn.model_selection import train_test_split\n",
    "X_train, X_test, y_train, y_test = train_test_split(\n",
    "    X, y, test_size=0.5, random_state=0)"
   ]
  },
  {
   "cell_type": "code",
   "execution_count": 9,
   "id": "0799b2aa-ed64-44f7-b216-afd6a1dfd947",
   "metadata": {},
   "outputs": [
    {
     "data": {
      "text/plain": [
       "Text(0, 0.5, 'digit recognition accuracy')"
      ]
     },
     "execution_count": 9,
     "metadata": {},
     "output_type": "execute_result"
    },
    {
     "data": {
      "image/png": "[encoded data removed]",
      "text/plain": [
       "<Figure size 432x288 with 1 Axes>"
      ]
     },
     "metadata": {
      "needs_background": "light"
     },
     "output_type": "display_data"
    }
   ],
   "source": [
    "accuracy = []\n",
    "n_comp = range(1,64)\n",
    "for i in n_comp:\n",
    "    pca = RandomizedPCA(n_components=i)\n",
    "    pca.fit(X_train)\n",
    "\n",
    "    tX_train = pca.transform(X_train)\n",
    "    tX_test = pca.transform(X_test)\n",
    "\n",
    "    model = GaussianNB().fit(tX_train, y_train)\n",
    "    test_score = model.score(tX_test, y_test)\n",
    "    accuracy.append(test_score)\n",
    "    \n",
    "py.plot(n_comp, accuracy)\n",
    "py.xlabel('number of PCA components')\n",
    "py.ylabel('digit recognition accuracy')"
   ]
  }
 ],
 "metadata": {
  "kernelspec": {
   "display_name": "Python 3",
   "language": "python",
   "name": "python3"
  },
  "language_info": {
   "codemirror_mode": {
    "name": "ipython",
    "version": 3
   },
   "file_extension": ".py",
   "mimetype": "text/x-python",
   "name": "python",
   "nbconvert_exporter": "python",
   "pygments_lexer": "ipython3",
   "version": "3.9.2"
  }
 },
 "nbformat": 4,
 "nbformat_minor": 5
}
