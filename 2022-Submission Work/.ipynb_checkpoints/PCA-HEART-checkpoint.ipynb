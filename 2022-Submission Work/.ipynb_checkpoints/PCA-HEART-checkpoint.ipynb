{
 "cells": [
  {
   "cell_type": "markdown",
   "id": "sized-newport",
   "metadata": {},
   "source": [
    "## Loading the Dataset"
   ]
  },
  {
   "cell_type": "code",
   "execution_count": 27,
   "id": "commercial-realtor",
   "metadata": {},
   "outputs": [],
   "source": [
    "import numpy as np\n",
    "import pandas as pd\n",
    "from sklearn.preprocessing import StandardScaler\n",
    "from sklearn.naive_bayes import BernoulliNB\n",
    "from sklearn.naive_bayes import MultinomialNB\n",
    "from sklearn.datasets import load_iris\n",
    "from sklearn.model_selection import train_test_split\n",
    "from sklearn.naive_bayes import GaussianNB\n",
    "from sklearn.metrics import accuracy_score\n",
    "from sklearn.datasets import load_diabetes\n",
    "import matplotlib.pyplot as plt\n",
    "# df['target']                             "
   ]
  },
  {
   "cell_type": "code",
   "execution_count": 28,
   "id": "particular-reception",
   "metadata": {},
   "outputs": [
    {
     "data": {
      "text/plain": [
       "(768,)"
      ]
     },
     "execution_count": 28,
     "metadata": {},
     "output_type": "execute_result"
    }
   ],
   "source": [
    "df = pd.read_csv(\"diabetes.csv\")\n",
    "target = np.array(df['Outcome'].values)\n",
    "target.shape"
   ]
  },
  {
   "cell_type": "code",
   "execution_count": 29,
   "id": "spread-baking",
   "metadata": {},
   "outputs": [
    {
     "data": {
      "text/plain": [
       "(768, 8)"
      ]
     },
     "execution_count": 29,
     "metadata": {},
     "output_type": "execute_result"
    }
   ],
   "source": [
    "features = np.array(df.drop(columns = ['Outcome']))\n",
    "features.shape"
   ]
  },
  {
   "cell_type": "code",
   "execution_count": 33,
   "id": "iraqi-intensity",
   "metadata": {},
   "outputs": [],
   "source": [
    "features = StandardScaler().fit_transform(features)"
   ]
  },
  {
   "cell_type": "code",
   "execution_count": 34,
   "id": "nuclear-appendix",
   "metadata": {},
   "outputs": [],
   "source": [
    "x_train,x_test, y_train, y_test = train_test_split(features,target,test_size=0.2, random_state=1)"
   ]
  },
  {
   "cell_type": "code",
   "execution_count": 35,
   "id": "appointed-bulletin",
   "metadata": {},
   "outputs": [
    {
     "name": "stdout",
     "output_type": "stream",
     "text": [
      "Number of mislabeled points out of a total 154 points : 35\n",
      "0.7727272727272727\n"
     ]
    }
   ],
   "source": [
    "gnb = GaussianNB()\n",
    "y_pred = gnb.fit(x_train, y_train).predict(x_test)\n",
    "print(\"Number of mislabeled points out of a total %d points : %d\" % (x_test.shape[0], (y_test != y_pred).sum()))\n",
    "print(accuracy_score(y_test, y_pred))"
   ]
  },
  {
   "cell_type": "code",
   "execution_count": 36,
   "id": "proper-nomination",
   "metadata": {},
   "outputs": [
    {
     "name": "stdout",
     "output_type": "stream",
     "text": [
      "Number of mislabeled points out of a total 154 points : 38\n",
      "0.7532467532467533\n"
     ]
    }
   ],
   "source": [
    "gnb = BernoulliNB()\n",
    "y_pred = gnb.fit(x_train, y_train).predict(x_test)\n",
    "print(\"Number of mislabeled points out of a total %d points : %d\" % (x_test.shape[0], (y_test != y_pred).sum()))\n",
    "print(accuracy_score(y_test, y_pred))"
   ]
  },
  {
   "cell_type": "code",
   "execution_count": 37,
   "id": "seventh-makeup",
   "metadata": {},
   "outputs": [],
   "source": [
    "from sklearn.decomposition import PCA\n",
    "pca =PCA(n_components =2)\n",
    "PC_train = pca.fit_transform(x_train)\n",
    "PC_test = pca.fit_transform(x_test)\n",
    "# pdf = pd.DataFrame(data=principalComponents, columns = ['pc1', 'pc2'])\n",
    "\n",
    "# pdf"
   ]
  },
  {
   "cell_type": "code",
   "execution_count": 38,
   "id": "opponent-contributor",
   "metadata": {},
   "outputs": [
    {
     "name": "stdout",
     "output_type": "stream",
     "text": [
      "Number of mislabeled points out of a total 154 points : 70\n",
      "0.5454545454545454\n"
     ]
    }
   ],
   "source": [
    "gnb = GaussianNB()\n",
    "y_pred = gnb.fit(PC_train, y_train).predict(PC_test)\n",
    "print(\"Number of mislabeled points out of a total %d points : %d\" % (PC_test.shape[0], (y_test != y_pred).sum()))\n",
    "print(accuracy_score(y_test, y_pred))"
   ]
  },
  {
   "cell_type": "code",
   "execution_count": 39,
   "id": "southeast-paraguay",
   "metadata": {},
   "outputs": [
    {
     "name": "stdout",
     "output_type": "stream",
     "text": [
      "Number of mislabeled points out of a total 154 points : 74\n",
      "0.5194805194805194\n"
     ]
    }
   ],
   "source": [
    "gnb = BernoulliNB()\n",
    "y_pred = gnb.fit(PC_train, y_train).predict(PC_test)\n",
    "print(\"Number of mislabeled points out of a total %d points : %d\" % (PC_test.shape[0], (y_test != y_pred).sum()))\n",
    "print(accuracy_score(y_test, y_pred))"
   ]
  }
 ],
 "metadata": {
  "kernelspec": {
   "display_name": "Python 3",
   "language": "python",
   "name": "python3"
  },
  "language_info": {
   "codemirror_mode": {
    "name": "ipython",
    "version": 3
   },
   "file_extension": ".py",
   "mimetype": "text/x-python",
   "name": "python",
   "nbconvert_exporter": "python",
   "pygments_lexer": "ipython3",
   "version": "3.9.2"
  }
 },
 "nbformat": 4,
 "nbformat_minor": 5
}
