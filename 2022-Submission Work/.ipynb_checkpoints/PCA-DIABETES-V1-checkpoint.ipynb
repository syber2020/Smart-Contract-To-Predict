{
 "cells": [
  {
   "cell_type": "markdown",
   "id": "sized-newport",
   "metadata": {},
   "source": [
    "## Loading the Dataset"
   ]
  },
  {
   "cell_type": "code",
   "execution_count": 18,
   "id": "commercial-realtor",
   "metadata": {},
   "outputs": [],
   "source": [
    "import numpy as np\n",
    "import pandas as pd\n",
    "from sklearn.preprocessing import StandardScaler\n",
    "from sklearn.naive_bayes import BernoulliNB\n",
    "from sklearn.naive_bayes import MultinomialNB\n",
    "from sklearn.datasets import load_iris\n",
    "from sklearn.model_selection import train_test_split\n",
    "from sklearn.naive_bayes import GaussianNB\n",
    "from sklearn.metrics import accuracy_score\n",
    "from sklearn.datasets import load_diabetes\n",
    "import matplotlib.pyplot as plt\n",
    "# df['target']                             "
   ]
  },
  {
   "cell_type": "code",
   "execution_count": 19,
   "id": "particular-reception",
   "metadata": {},
   "outputs": [
    {
     "data": {
      "text/plain": [
       "(768,)"
      ]
     },
     "execution_count": 19,
     "metadata": {},
     "output_type": "execute_result"
    }
   ],
   "source": [
    "df = pd.read_csv(\"diabetes.csv\")\n",
    "target = np.array(df['Outcome'].values)\n",
    "target.shape"
   ]
  },
  {
   "cell_type": "code",
   "execution_count": 20,
   "id": "spread-baking",
   "metadata": {},
   "outputs": [
    {
     "data": {
      "text/plain": [
       "(768, 8)"
      ]
     },
     "execution_count": 20,
     "metadata": {},
     "output_type": "execute_result"
    }
   ],
   "source": [
    "features = np.array(df.drop(columns = ['Outcome']))\n",
    "features.shape"
   ]
  },
  {
   "cell_type": "code",
   "execution_count": 21,
   "id": "informal-particle",
   "metadata": {},
   "outputs": [],
   "source": [
    "features = StandardScaler().fit_transform(features)"
   ]
  },
  {
   "cell_type": "code",
   "execution_count": 39,
   "id": "nuclear-appendix",
   "metadata": {},
   "outputs": [],
   "source": [
    "x_train,x_test, y_train, y_test = train_test_split(features,target,test_size=0.2, random_state=1)\n",
    "x_train = (StandardScaler().fit_transform(x_train)*100).astype(int)\n",
    "x_test = (StandardScaler().fit_transform(x_test)*100).astype(int)"
   ]
  },
  {
   "cell_type": "code",
   "execution_count": 40,
   "id": "appointed-bulletin",
   "metadata": {},
   "outputs": [
    {
     "name": "stdout",
     "output_type": "stream",
     "text": [
      "Number of mislabeled points out of a total 154 points : 36\n",
      "0.7662337662337663\n"
     ]
    }
   ],
   "source": [
    "gnb = GaussianNB()\n",
    "y_pred = gnb.fit(x_train, y_train).predict(x_test)\n",
    "print(\"Number of mislabeled points out of a total %d points : %d\" % (x_test.shape[0], (y_test != y_pred).sum()))\n",
    "print(accuracy_score(y_test, y_pred))"
   ]
  },
  {
   "cell_type": "code",
   "execution_count": 41,
   "id": "careful-anatomy",
   "metadata": {},
   "outputs": [
    {
     "name": "stdout",
     "output_type": "stream",
     "text": [
      "Number of mislabeled points out of a total 154 points : 40\n",
      "0.7402597402597403\n"
     ]
    }
   ],
   "source": [
    "gnb = BernoulliNB()\n",
    "y_pred = gnb.fit(x_train, y_train).predict(x_test)\n",
    "print(\"Number of mislabeled points out of a total %d points : %d\" % (x_test.shape[0], (y_test != y_pred).sum()))\n",
    "print(accuracy_score(y_test, y_pred))"
   ]
  },
  {
   "cell_type": "code",
   "execution_count": 42,
   "id": "seventh-makeup",
   "metadata": {},
   "outputs": [],
   "source": [
    "from sklearn.decomposition import PCA\n",
    "pca =PCA(n_components =2)\n",
    "PC_train = pca.fit_transform(x_train)\n",
    "PC_test = pca.fit_transform(x_test)\n",
    "# pdf = pd.DataFrame(data=principalComponents, columns = ['pc1', 'pc2'])\n",
    "\n",
    "# pdf"
   ]
  },
  {
   "cell_type": "code",
   "execution_count": 43,
   "id": "juvenile-metabolism",
   "metadata": {},
   "outputs": [
    {
     "name": "stdout",
     "output_type": "stream",
     "text": [
      "Number of mislabeled points out of a total 154 points : 68\n",
      "0.5584415584415584\n"
     ]
    }
   ],
   "source": [
    "gnb = GaussianNB()\n",
    "y_pred = gnb.fit(PC_train, y_train).predict(PC_test)\n",
    "print(\"Number of mislabeled points out of a total %d points : %d\" % (PC_test.shape[0], (y_test != y_pred).sum()))\n",
    "print(accuracy_score(y_test, y_pred))"
   ]
  },
  {
   "cell_type": "code",
   "execution_count": 44,
   "id": "southeast-paraguay",
   "metadata": {},
   "outputs": [
    {
     "name": "stdout",
     "output_type": "stream",
     "text": [
      "Number of mislabeled points out of a total 154 points : 72\n",
      "0.5324675324675324\n"
     ]
    }
   ],
   "source": [
    "gnb = BernoulliNB()\n",
    "y_pred = gnb.fit(PC_train, y_train).predict(PC_test)\n",
    "print(\"Number of mislabeled points out of a total %d points : %d\" % (PC_test.shape[0], (y_test != y_pred).sum()))\n",
    "print(accuracy_score(y_test, y_pred))"
   ]
  },
  {
   "cell_type": "code",
   "execution_count": 112,
   "id": "hydraulic-ending",
   "metadata": {},
   "outputs": [],
   "source": [
    "def mux1(v,k):\n",
    "    x = 1\n",
    "#     print(type(v))\n",
    "    for i in range(len(v)):\n",
    "        if(i==k): continue\n",
    "        else:  x = x* v[i]\n",
    "    return x\n",
    "\n",
    "def compute_param(x,m,v):\n",
    "    B0=1; C0 =1.0;  A0=1; e = 2.718\n",
    "    c = np.zeros(len(v));\n",
    "    for i in range(len(v)):\n",
    "        B0 = B0* v[i]\n",
    "        c[i] = (x[i]-m[i])*(x[i]-m[i])   \n",
    "    D0 = B0\n",
    "    for i in range(len(c)):\n",
    "        C0 = C0+c[i]*mux1(v,i)\n",
    "#     print(A0,B0,C0,D0)    \n",
    "    ex = float(C0/D0)\n",
    "#     out = (A0/B0)*pow(e,-1*ex)\n",
    "#     return(out) \n",
    "    return (A0,B0,C0,D0)\n",
    "\n",
    "# def exponent(x, m1,m2, v1,v2, Prior0,Prior1):\n",
    "#         x1=1; x2=2\n",
    "#         A0,B0,C0,D0 = compute_param(x,m1,v1)\n",
    "#         A1,B1,C1,D1 = compute_param(x,m2,v2)\n",
    "#         print(A0,B0,C0,D0)\n",
    "#         print(A1,B1,C1,D1)\n",
    "#         A = A0*B1\n",
    "#         B = B0*A1\n",
    "#         C = (C0*D1)-(C1*D0)\n",
    "#         D = D0*D1\n",
    "#         Q = int(C/D)\n",
    "#         R = C%D;\n",
    "#         Enum=19\n",
    "#         Eden=7\n",
    "#         edenR = 24*(D*D*D*D)\n",
    "#         enumR = 24*D*D*D*D+ R*24*D*D*D+R*R*12*D*D+R*R*R*4*D+R*R*R*R\n",
    "#         if(Q>=0):\n",
    "#             P0 = A*1*edenR*Prior0*Prior0\n",
    "#             P1 = B*1000*enumR*Prior1*Prior1\n",
    "#         else:\n",
    "#             P0 = A*1000*edenR*Prior0*Prior0\n",
    "#             P1 = B*1*enumR*Prior1*Prior1\n",
    "#         if(P0>P1): return 0\n",
    "#         else : return 1\n",
    "        \n",
    "def exponent(x, m1,m2, v1,v2, Prior0,Prior1):\n",
    "        A0,B0,C0,D0 = compute_param(x,m1,v1)\n",
    "        A1,B1,C1,D1 = compute_param(x,m2,v2)\n",
    "        print(A0,B0,C0,D0)\n",
    "        print(A1,B1,C1,D1)\n",
    "        A = A0*B1\n",
    "        B = B0*A1   \n",
    "        print(\"value of A and B are :\",A,B)\n",
    "        C = (C0*D1)-(C1*D0)\n",
    "        D = D0*D1\n",
    "        print(\"Value of C and D are:\",C,D)\n",
    "        Q = C//D\n",
    "        R = int(C%D);\n",
    "        print(\"Value of Q and R are : \", Q,R)\n",
    "#         print(Q,R)\n",
    "        \n",
    "        Enum=19\n",
    "        Eden=7\n",
    "        \n",
    "        edenR = 24*(D*D*D*D)\n",
    "        enumR = 24*D*D*D*D+ R*24*D*D*D+R*R*12*D*D+R*R*R*4*D+R*R*R*R\n",
    "         \n",
    "        if(Q>=0):\n",
    "            print(\"Q is greater\")\n",
    "            P0 = A*1*edenR*Prior0*Prior0\n",
    "            P1 = B*1000*enumR*Prior1*Prior1\n",
    "        else:\n",
    "            print(\"Q is smaller\")\n",
    "            P0 = A*1000*edenR*Prior0*Prior0\n",
    "            P1 = B*1*enumR*Prior1*Prior1\n",
    "        if(P0>P1): \n",
    "#             print(0)\n",
    "            return 0\n",
    "        else : \n",
    "#             print(1)\n",
    "            return 1"
   ]
  },
  {
   "cell_type": "code",
   "execution_count": 113,
   "id": "shaped-growth",
   "metadata": {},
   "outputs": [],
   "source": [
    "df = pd.read_csv(\"diabetes.csv\")\n",
    "target = np.array(df['Outcome'].values)\n",
    "features = np.array(df.drop(columns = ['Outcome']))\n",
    "dfp = df.groupby('Outcome').size()\n",
    "Prior0 = int(dfp[0]/len(df)*100)\n",
    "Prior1 = int(dfp[1]/len(df)*100)"
   ]
  },
  {
   "cell_type": "code",
   "execution_count": 114,
   "id": "hourly-crowd",
   "metadata": {},
   "outputs": [
    {
     "data": {
      "text/plain": [
       "34"
      ]
     },
     "execution_count": 114,
     "metadata": {},
     "output_type": "execute_result"
    }
   ],
   "source": [
    "Prior1"
   ]
  },
  {
   "cell_type": "code",
   "execution_count": 115,
   "id": "armed-interaction",
   "metadata": {},
   "outputs": [],
   "source": [
    "x_train,x_test, y_train, y_test = train_test_split(features,target,test_size=0.2, random_state=1)\n",
    "x_train = (StandardScaler().fit_transform(x_train)*100).astype(int)\n",
    "x_test = (StandardScaler().fit_transform(x_test)*100).astype(int)"
   ]
  },
  {
   "cell_type": "code",
   "execution_count": 116,
   "id": "religious-router",
   "metadata": {},
   "outputs": [],
   "source": [
    "df_new = pd.DataFrame(x_train,columns=['f1','f2','f3','f4','f5','f6','f7','f8'])\n",
    "df_new['Outcome'] = y_train\n",
    "df_mean = df_new.groupby(['Outcome']).mean().astype(int)\n",
    "df_var = df_new.groupby(['Outcome']).var().astype(int)\n",
    "mean = df_mean.values\n",
    "var = df_var.values"
   ]
  },
  {
   "cell_type": "code",
   "execution_count": 117,
   "id": "familiar-charge",
   "metadata": {},
   "outputs": [
    {
     "data": {
      "text/html": [
       "<div>\n",
       "<style scoped>\n",
       "    .dataframe tbody tr th:only-of-type {\n",
       "        vertical-align: middle;\n",
       "    }\n",
       "\n",
       "    .dataframe tbody tr th {\n",
       "        vertical-align: top;\n",
       "    }\n",
       "\n",
       "    .dataframe thead th {\n",
       "        text-align: right;\n",
       "    }\n",
       "</style>\n",
       "<table border=\"1\" class=\"dataframe\">\n",
       "  <thead>\n",
       "    <tr style=\"text-align: right;\">\n",
       "      <th></th>\n",
       "      <th>f1</th>\n",
       "      <th>f2</th>\n",
       "      <th>f3</th>\n",
       "      <th>f4</th>\n",
       "      <th>f5</th>\n",
       "      <th>f6</th>\n",
       "      <th>f7</th>\n",
       "      <th>f8</th>\n",
       "    </tr>\n",
       "    <tr>\n",
       "      <th>Outcome</th>\n",
       "      <th></th>\n",
       "      <th></th>\n",
       "      <th></th>\n",
       "      <th></th>\n",
       "      <th></th>\n",
       "      <th></th>\n",
       "      <th></th>\n",
       "      <th></th>\n",
       "    </tr>\n",
       "  </thead>\n",
       "  <tbody>\n",
       "    <tr>\n",
       "      <th>0</th>\n",
       "      <td>8166</td>\n",
       "      <td>7102</td>\n",
       "      <td>8179</td>\n",
       "      <td>8758</td>\n",
       "      <td>7200</td>\n",
       "      <td>9263</td>\n",
       "      <td>8446</td>\n",
       "      <td>9653</td>\n",
       "    </tr>\n",
       "    <tr>\n",
       "      <th>1</th>\n",
       "      <td>12045</td>\n",
       "      <td>8758</td>\n",
       "      <td>13362</td>\n",
       "      <td>12182</td>\n",
       "      <td>14466</td>\n",
       "      <td>9046</td>\n",
       "      <td>12021</td>\n",
       "      <td>9017</td>\n",
       "    </tr>\n",
       "  </tbody>\n",
       "</table>\n",
       "</div>"
      ],
      "text/plain": [
       "            f1    f2     f3     f4     f5    f6     f7    f8\n",
       "Outcome                                                     \n",
       "0         8166  7102   8179   8758   7200  9263   8446  9653\n",
       "1        12045  8758  13362  12182  14466  9046  12021  9017"
      ]
     },
     "execution_count": 117,
     "metadata": {},
     "output_type": "execute_result"
    }
   ],
   "source": [
    "df_var"
   ]
  },
  {
   "cell_type": "code",
   "execution_count": 118,
   "id": "selected-voice",
   "metadata": {},
   "outputs": [
    {
     "data": {
      "text/plain": [
       "array([[  98,   49,   22, ...,  -75,   41,  155],\n",
       "       [ -83,   95,  -56, ...,  -74,  -94,  -95],\n",
       "       [  67,  -31,  -56, ...,  -86,  -86,  -52],\n",
       "       ...,\n",
       "       [ 128,  206,   44, ...,  173, -106,   86],\n",
       "       [  37,   49,   67, ..., -371,   39,  311],\n",
       "       [   7,  -88, -395, ...,  -52,   30,  -17]])"
      ]
     },
     "execution_count": 118,
     "metadata": {},
     "output_type": "execute_result"
    }
   ],
   "source": [
    "x_test"
   ]
  },
  {
   "cell_type": "code",
   "execution_count": 119,
   "id": "vanilla-preview",
   "metadata": {},
   "outputs": [
    {
     "name": "stdout",
     "output_type": "stream",
     "text": [
      "1 293224960 67281797824273.0 293224960\n",
      "1 -200672160 -16232345350975.0 -200672160\n",
      "value of A and B are : -200672160 293224960\n",
      "Value of C and D are: -8.741854881834332e+21 953204736\n",
      "Value of Q and R are :  -9171014947449.0 845856768\n",
      "Q is smaller\n"
     ]
    },
    {
     "name": "stderr",
     "output_type": "stream",
     "text": [
      "<ipython-input-112-8ae6d7cfd97b>:13: RuntimeWarning: overflow encountered in long_scalars\n",
      "  B0 = B0* v[i]\n",
      "<ipython-input-112-8ae6d7cfd97b>:6: RuntimeWarning: overflow encountered in long_scalars\n",
      "  else:  x = x* v[i]\n",
      "<ipython-input-112-8ae6d7cfd97b>:58: RuntimeWarning: overflow encountered in long_scalars\n",
      "  D = D0*D1\n",
      "<ipython-input-112-8ae6d7cfd97b>:68: RuntimeWarning: overflow encountered in long_scalars\n",
      "  edenR = 24*(D*D*D*D)\n",
      "<ipython-input-112-8ae6d7cfd97b>:69: RuntimeWarning: overflow encountered in long_scalars\n",
      "  enumR = 24*D*D*D*D+ R*24*D*D*D+R*R*12*D*D+R*R*R*4*D+R*R*R*R\n",
      "<ipython-input-112-8ae6d7cfd97b>:69: RuntimeWarning: overflow encountered in longlong_scalars\n",
      "  enumR = 24*D*D*D*D+ R*24*D*D*D+R*R*12*D*D+R*R*R*4*D+R*R*R*R\n",
      "<ipython-input-112-8ae6d7cfd97b>:77: RuntimeWarning: overflow encountered in long_scalars\n",
      "  P0 = A*1000*edenR*Prior0*Prior0\n"
     ]
    },
    {
     "ename": "ValueError",
     "evalue": "Found input variables with inconsistent numbers of samples: [1, 154]",
     "output_type": "error",
     "traceback": [
      "\u001b[1;31m---------------------------------------------------------------------------\u001b[0m",
      "\u001b[1;31mValueError\u001b[0m                                Traceback (most recent call last)",
      "\u001b[1;32m<ipython-input-119-71d64e47a8c5>\u001b[0m in \u001b[0;36m<module>\u001b[1;34m\u001b[0m\n\u001b[0;32m      3\u001b[0m     \u001b[0mpred\u001b[0m\u001b[1;33m.\u001b[0m\u001b[0mappend\u001b[0m\u001b[1;33m(\u001b[0m\u001b[0mexponent\u001b[0m\u001b[1;33m(\u001b[0m\u001b[0mx_test\u001b[0m\u001b[1;33m[\u001b[0m\u001b[0mi\u001b[0m\u001b[1;33m]\u001b[0m\u001b[1;33m,\u001b[0m \u001b[0mmean\u001b[0m\u001b[1;33m[\u001b[0m\u001b[1;36m0\u001b[0m\u001b[1;33m]\u001b[0m\u001b[1;33m,\u001b[0m\u001b[0mmean\u001b[0m\u001b[1;33m[\u001b[0m\u001b[1;36m1\u001b[0m\u001b[1;33m]\u001b[0m\u001b[1;33m,\u001b[0m \u001b[0mvar\u001b[0m\u001b[1;33m[\u001b[0m\u001b[1;36m0\u001b[0m\u001b[1;33m]\u001b[0m\u001b[1;33m,\u001b[0m\u001b[0mvar\u001b[0m\u001b[1;33m[\u001b[0m\u001b[1;36m1\u001b[0m\u001b[1;33m]\u001b[0m\u001b[1;33m,\u001b[0m \u001b[0mPrior0\u001b[0m\u001b[1;33m,\u001b[0m\u001b[0mPrior1\u001b[0m\u001b[1;33m)\u001b[0m\u001b[1;33m)\u001b[0m\u001b[1;33m\u001b[0m\u001b[1;33m\u001b[0m\u001b[0m\n\u001b[0;32m      4\u001b[0m \u001b[0mpredicted\u001b[0m \u001b[1;33m=\u001b[0m \u001b[0mnp\u001b[0m\u001b[1;33m.\u001b[0m\u001b[0marray\u001b[0m\u001b[1;33m(\u001b[0m\u001b[0mpred\u001b[0m\u001b[1;33m)\u001b[0m\u001b[1;33m\u001b[0m\u001b[1;33m\u001b[0m\u001b[0m\n\u001b[1;32m----> 5\u001b[1;33m \u001b[0maccuracy_score\u001b[0m\u001b[1;33m(\u001b[0m\u001b[0mpredicted\u001b[0m\u001b[1;33m,\u001b[0m\u001b[0my_test\u001b[0m\u001b[1;33m)\u001b[0m\u001b[1;33m\u001b[0m\u001b[1;33m\u001b[0m\u001b[0m\n\u001b[0m",
      "\u001b[1;32mc:\\users\\syed\\appdata\\local\\programs\\python\\python39\\lib\\site-packages\\sklearn\\utils\\validation.py\u001b[0m in \u001b[0;36minner_f\u001b[1;34m(*args, **kwargs)\u001b[0m\n\u001b[0;32m     61\u001b[0m             \u001b[0mextra_args\u001b[0m \u001b[1;33m=\u001b[0m \u001b[0mlen\u001b[0m\u001b[1;33m(\u001b[0m\u001b[0margs\u001b[0m\u001b[1;33m)\u001b[0m \u001b[1;33m-\u001b[0m \u001b[0mlen\u001b[0m\u001b[1;33m(\u001b[0m\u001b[0mall_args\u001b[0m\u001b[1;33m)\u001b[0m\u001b[1;33m\u001b[0m\u001b[1;33m\u001b[0m\u001b[0m\n\u001b[0;32m     62\u001b[0m             \u001b[1;32mif\u001b[0m \u001b[0mextra_args\u001b[0m \u001b[1;33m<=\u001b[0m \u001b[1;36m0\u001b[0m\u001b[1;33m:\u001b[0m\u001b[1;33m\u001b[0m\u001b[1;33m\u001b[0m\u001b[0m\n\u001b[1;32m---> 63\u001b[1;33m                 \u001b[1;32mreturn\u001b[0m \u001b[0mf\u001b[0m\u001b[1;33m(\u001b[0m\u001b[1;33m*\u001b[0m\u001b[0margs\u001b[0m\u001b[1;33m,\u001b[0m \u001b[1;33m**\u001b[0m\u001b[0mkwargs\u001b[0m\u001b[1;33m)\u001b[0m\u001b[1;33m\u001b[0m\u001b[1;33m\u001b[0m\u001b[0m\n\u001b[0m\u001b[0;32m     64\u001b[0m \u001b[1;33m\u001b[0m\u001b[0m\n\u001b[0;32m     65\u001b[0m             \u001b[1;31m# extra_args > 0\u001b[0m\u001b[1;33m\u001b[0m\u001b[1;33m\u001b[0m\u001b[1;33m\u001b[0m\u001b[0m\n",
      "\u001b[1;32mc:\\users\\syed\\appdata\\local\\programs\\python\\python39\\lib\\site-packages\\sklearn\\metrics\\_classification.py\u001b[0m in \u001b[0;36maccuracy_score\u001b[1;34m(y_true, y_pred, normalize, sample_weight)\u001b[0m\n\u001b[0;32m    200\u001b[0m \u001b[1;33m\u001b[0m\u001b[0m\n\u001b[0;32m    201\u001b[0m     \u001b[1;31m# Compute accuracy for each possible representation\u001b[0m\u001b[1;33m\u001b[0m\u001b[1;33m\u001b[0m\u001b[1;33m\u001b[0m\u001b[0m\n\u001b[1;32m--> 202\u001b[1;33m     \u001b[0my_type\u001b[0m\u001b[1;33m,\u001b[0m \u001b[0my_true\u001b[0m\u001b[1;33m,\u001b[0m \u001b[0my_pred\u001b[0m \u001b[1;33m=\u001b[0m \u001b[0m_check_targets\u001b[0m\u001b[1;33m(\u001b[0m\u001b[0my_true\u001b[0m\u001b[1;33m,\u001b[0m \u001b[0my_pred\u001b[0m\u001b[1;33m)\u001b[0m\u001b[1;33m\u001b[0m\u001b[1;33m\u001b[0m\u001b[0m\n\u001b[0m\u001b[0;32m    203\u001b[0m     \u001b[0mcheck_consistent_length\u001b[0m\u001b[1;33m(\u001b[0m\u001b[0my_true\u001b[0m\u001b[1;33m,\u001b[0m \u001b[0my_pred\u001b[0m\u001b[1;33m,\u001b[0m \u001b[0msample_weight\u001b[0m\u001b[1;33m)\u001b[0m\u001b[1;33m\u001b[0m\u001b[1;33m\u001b[0m\u001b[0m\n\u001b[0;32m    204\u001b[0m     \u001b[1;32mif\u001b[0m \u001b[0my_type\u001b[0m\u001b[1;33m.\u001b[0m\u001b[0mstartswith\u001b[0m\u001b[1;33m(\u001b[0m\u001b[1;34m'multilabel'\u001b[0m\u001b[1;33m)\u001b[0m\u001b[1;33m:\u001b[0m\u001b[1;33m\u001b[0m\u001b[1;33m\u001b[0m\u001b[0m\n",
      "\u001b[1;32mc:\\users\\syed\\appdata\\local\\programs\\python\\python39\\lib\\site-packages\\sklearn\\metrics\\_classification.py\u001b[0m in \u001b[0;36m_check_targets\u001b[1;34m(y_true, y_pred)\u001b[0m\n\u001b[0;32m     81\u001b[0m     \u001b[0my_pred\u001b[0m \u001b[1;33m:\u001b[0m \u001b[0marray\u001b[0m \u001b[1;32mor\u001b[0m \u001b[0mindicator\u001b[0m \u001b[0mmatrix\u001b[0m\u001b[1;33m\u001b[0m\u001b[1;33m\u001b[0m\u001b[0m\n\u001b[0;32m     82\u001b[0m     \"\"\"\n\u001b[1;32m---> 83\u001b[1;33m     \u001b[0mcheck_consistent_length\u001b[0m\u001b[1;33m(\u001b[0m\u001b[0my_true\u001b[0m\u001b[1;33m,\u001b[0m \u001b[0my_pred\u001b[0m\u001b[1;33m)\u001b[0m\u001b[1;33m\u001b[0m\u001b[1;33m\u001b[0m\u001b[0m\n\u001b[0m\u001b[0;32m     84\u001b[0m     \u001b[0mtype_true\u001b[0m \u001b[1;33m=\u001b[0m \u001b[0mtype_of_target\u001b[0m\u001b[1;33m(\u001b[0m\u001b[0my_true\u001b[0m\u001b[1;33m)\u001b[0m\u001b[1;33m\u001b[0m\u001b[1;33m\u001b[0m\u001b[0m\n\u001b[0;32m     85\u001b[0m     \u001b[0mtype_pred\u001b[0m \u001b[1;33m=\u001b[0m \u001b[0mtype_of_target\u001b[0m\u001b[1;33m(\u001b[0m\u001b[0my_pred\u001b[0m\u001b[1;33m)\u001b[0m\u001b[1;33m\u001b[0m\u001b[1;33m\u001b[0m\u001b[0m\n",
      "\u001b[1;32mc:\\users\\syed\\appdata\\local\\programs\\python\\python39\\lib\\site-packages\\sklearn\\utils\\validation.py\u001b[0m in \u001b[0;36mcheck_consistent_length\u001b[1;34m(*arrays)\u001b[0m\n\u001b[0;32m    260\u001b[0m     \u001b[0muniques\u001b[0m \u001b[1;33m=\u001b[0m \u001b[0mnp\u001b[0m\u001b[1;33m.\u001b[0m\u001b[0munique\u001b[0m\u001b[1;33m(\u001b[0m\u001b[0mlengths\u001b[0m\u001b[1;33m)\u001b[0m\u001b[1;33m\u001b[0m\u001b[1;33m\u001b[0m\u001b[0m\n\u001b[0;32m    261\u001b[0m     \u001b[1;32mif\u001b[0m \u001b[0mlen\u001b[0m\u001b[1;33m(\u001b[0m\u001b[0muniques\u001b[0m\u001b[1;33m)\u001b[0m \u001b[1;33m>\u001b[0m \u001b[1;36m1\u001b[0m\u001b[1;33m:\u001b[0m\u001b[1;33m\u001b[0m\u001b[1;33m\u001b[0m\u001b[0m\n\u001b[1;32m--> 262\u001b[1;33m         raise ValueError(\"Found input variables with inconsistent numbers of\"\n\u001b[0m\u001b[0;32m    263\u001b[0m                          \" samples: %r\" % [int(l) for l in lengths])\n\u001b[0;32m    264\u001b[0m \u001b[1;33m\u001b[0m\u001b[0m\n",
      "\u001b[1;31mValueError\u001b[0m: Found input variables with inconsistent numbers of samples: [1, 154]"
     ]
    }
   ],
   "source": [
    "pred = []\n",
    "for i in range(1):\n",
    "    pred.append(exponent(_test[i], mean[0],mean[1], var[0],var[1], Prior0,Prior1))\n",
    "predicted = np.array(pred)\n",
    "accuracy_score(predicted,y_test)"
   ]
  },
  {
   "cell_type": "code",
   "execution_count": 120,
   "id": "extensive-conversation",
   "metadata": {},
   "outputs": [
    {
     "data": {
      "text/plain": [
       "array([1])"
      ]
     },
     "execution_count": 120,
     "metadata": {},
     "output_type": "execute_result"
    }
   ],
   "source": [
    "predicted"
   ]
  },
  {
   "cell_type": "code",
   "execution_count": 122,
   "id": "northern-guide",
   "metadata": {},
   "outputs": [],
   "source": [
    "df = pd.read_csv(\"diabetes.csv\")\n",
    "target = np.array(df['Outcome'].values)\n",
    "features = np.array(df.drop(columns = ['Outcome']))\n",
    "dfp = df.groupby('Outcome').size()\n",
    "Prior0 = int(dfp[0]/len(df)*100)\n",
    "Prior1 = int(dfp[1]/len(df)*100)\n",
    "\n",
    "\n",
    "x_train,x_test, y_train, y_test = train_test_split(features,target,test_size=0.2, random_state=1)\n",
    "x_train = (StandardScaler().fit_transform(x_train)*100).astype(int)\n",
    "x_test = (StandardScaler().fit_transform(x_test)*100).astype(int)\n",
    "\n",
    "\n",
    "\n",
    "pca =PCA(n_components =2)\n",
    "pca.fit(x_train,pca)\n",
    "PC_train = (pca.transform(x_train)).astype(int)\n",
    "PC_test = (pca.transform(x_test)).astype(int)\n",
    "df_pc = pd.DataFrame(PC_train, columns=['f1','f2'])\n",
    "df_pc  ['Outcome'] = y_train\n",
    "df_mean = df_pc.groupby(['Outcome']).mean().astype(int)\n",
    "df_var = df_pc.groupby(['Outcome']).var().astype(int)\n",
    "mean = df_mean.values\n",
    "var = df_var.values"
   ]
  },
  {
   "cell_type": "code",
   "execution_count": 123,
   "id": "transsexual-description",
   "metadata": {},
   "outputs": [
    {
     "data": {
      "text/plain": [
       "array([[-37, -20],\n",
       "       [ 71,  38]])"
      ]
     },
     "execution_count": 123,
     "metadata": {},
     "output_type": "execute_result"
    }
   ],
   "source": [
    "mean"
   ]
  },
  {
   "cell_type": "code",
   "execution_count": 124,
   "id": "destroyed-metropolitan",
   "metadata": {},
   "outputs": [
    {
     "data": {
      "text/plain": [
       "array([[16696, 15743],\n",
       "       [20619, 17475]])"
      ]
     },
     "execution_count": 124,
     "metadata": {},
     "output_type": "execute_result"
    }
   ],
   "source": [
    "var"
   ]
  },
  {
   "cell_type": "code",
   "execution_count": 126,
   "id": "wrong-interference",
   "metadata": {},
   "outputs": [
    {
     "data": {
      "text/plain": [
       "array([ 68, 158])"
      ]
     },
     "execution_count": 126,
     "metadata": {},
     "output_type": "execute_result"
    }
   ],
   "source": [
    "PC_test[0]"
   ]
  },
  {
   "cell_type": "code",
   "execution_count": 128,
   "id": "demographic-showcase",
   "metadata": {},
   "outputs": [
    {
     "name": "stdout",
     "output_type": "stream",
     "text": [
      "1 262845128 702562640.0 262845128\n",
      "1 360317025 297070876.0 360317025\n",
      "value of A and B are : 360317025 262845128\n",
      "Value of C and D are: 1.7506164789365386e+17 -1963082296\n",
      "Value of Q and R are :  -89176928.0 -674812832\n",
      "Q is smaller\n",
      "1 262845128 262129528.0 262845128\n",
      "1 360317025 1058276575.0 360317025\n",
      "value of A and B are : 360317025 262845128\n",
      "Value of C and D are: -1.837131101216624e+17 -1963082296\n",
      "Value of Q and R are :  93584008.0 -828140032\n",
      "Q is greater\n"
     ]
    },
    {
     "name": "stderr",
     "output_type": "stream",
     "text": [
      "<ipython-input-112-8ae6d7cfd97b>:58: RuntimeWarning: overflow encountered in long_scalars\n",
      "  D = D0*D1\n",
      "<ipython-input-112-8ae6d7cfd97b>:68: RuntimeWarning: overflow encountered in long_scalars\n",
      "  edenR = 24*(D*D*D*D)\n",
      "<ipython-input-112-8ae6d7cfd97b>:69: RuntimeWarning: overflow encountered in long_scalars\n",
      "  enumR = 24*D*D*D*D+ R*24*D*D*D+R*R*12*D*D+R*R*R*4*D+R*R*R*R\n",
      "<ipython-input-112-8ae6d7cfd97b>:77: RuntimeWarning: overflow encountered in long_scalars\n",
      "  P0 = A*1000*edenR*Prior0*Prior0\n",
      "<ipython-input-112-8ae6d7cfd97b>:73: RuntimeWarning: overflow encountered in long_scalars\n",
      "  P0 = A*1*edenR*Prior0*Prior0\n",
      "<ipython-input-112-8ae6d7cfd97b>:74: RuntimeWarning: overflow encountered in long_scalars\n",
      "  P1 = B*1000*enumR*Prior1*Prior1\n"
     ]
    }
   ],
   "source": [
    "pred = []\n",
    "for i in range(2):\n",
    "    pred.append(exponent(PC_test[i], mean[0],mean[1], var[0],var[1], Prior0,Prior1))\n",
    "predicted = np.array(pred)\n",
    "# accuracy_score(predicted,y_test)"
   ]
  },
  {
   "cell_type": "code",
   "execution_count": 129,
   "id": "proved-pointer",
   "metadata": {},
   "outputs": [
    {
     "data": {
      "text/plain": [
       "array([0, 0, 0, 0, 0, 0, 0, 0, 0, 0, 0, 0, 1, 1, 0, 1, 1, 0, 0, 0, 1, 1,\n",
       "       1, 1, 0, 0, 0, 1, 0, 1, 1, 0, 0, 1, 0, 1, 0, 0, 0, 0, 0, 0, 0, 1,\n",
       "       0, 0, 1, 1, 0, 1, 0, 0, 1, 0, 1, 0, 1, 0, 0, 0, 0, 0, 1, 0, 1, 0,\n",
       "       1, 1, 0, 1, 1, 0, 0, 0, 1, 1, 1, 0, 0, 1, 1, 0, 1, 1, 0, 0, 1, 0,\n",
       "       0, 0, 0, 0, 0, 0, 1, 0, 0, 0, 1, 0, 0, 0, 1, 0, 0, 0, 1, 0, 1, 0,\n",
       "       1, 0, 0, 0, 1, 0, 0, 1, 0, 1, 0, 1, 1, 0, 0, 0, 0, 1, 0, 0, 1, 0,\n",
       "       1, 0, 0, 0, 0, 0, 1, 0, 1, 0, 0, 1, 1, 1, 0, 0, 1, 0, 0, 1, 0, 0],\n",
       "      dtype=int64)"
      ]
     },
     "execution_count": 129,
     "metadata": {},
     "output_type": "execute_result"
    }
   ],
   "source": [
    "y_test"
   ]
  },
  {
   "cell_type": "code",
   "execution_count": null,
   "id": "owned-patrol",
   "metadata": {},
   "outputs": [],
   "source": []
  }
 ],
 "metadata": {
  "kernelspec": {
   "display_name": "Python 3",
   "language": "python",
   "name": "python3"
  },
  "language_info": {
   "codemirror_mode": {
    "name": "ipython",
    "version": 3
   },
   "file_extension": ".py",
   "mimetype": "text/x-python",
   "name": "python",
   "nbconvert_exporter": "python",
   "pygments_lexer": "ipython3",
   "version": "3.9.2"
  }
 },
 "nbformat": 4,
 "nbformat_minor": 5
}
