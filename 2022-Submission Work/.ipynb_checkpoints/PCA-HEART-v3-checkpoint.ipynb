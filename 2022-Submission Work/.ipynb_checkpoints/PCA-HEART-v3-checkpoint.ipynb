{
 "cells": [
  {
   "cell_type": "markdown",
   "id": "sized-newport",
   "metadata": {},
   "source": [
    "## Loading the Dataset"
   ]
  },
  {
   "cell_type": "code",
   "execution_count": 1,
   "id": "commercial-realtor",
   "metadata": {},
   "outputs": [],
   "source": [
    "import numpy as np\n",
    "import pandas as pd\n",
    "from sklearn.preprocessing import StandardScaler\n",
    "from sklearn.naive_bayes import BernoulliNB\n",
    "from sklearn.naive_bayes import MultinomialNB\n",
    "from sklearn.datasets import load_iris\n",
    "from sklearn.model_selection import train_test_split\n",
    "from sklearn.naive_bayes import GaussianNB\n",
    "from sklearn.metrics import accuracy_score\n",
    "from sklearn.datasets import load_diabetes\n",
    "import matplotlib.pyplot as plt\n",
    "# df['target']                             "
   ]
  },
  {
   "cell_type": "code",
   "execution_count": 2,
   "id": "particular-reception",
   "metadata": {},
   "outputs": [
    {
     "data": {
      "text/html": [
       "<div>\n",
       "<style scoped>\n",
       "    .dataframe tbody tr th:only-of-type {\n",
       "        vertical-align: middle;\n",
       "    }\n",
       "\n",
       "    .dataframe tbody tr th {\n",
       "        vertical-align: top;\n",
       "    }\n",
       "\n",
       "    .dataframe thead th {\n",
       "        text-align: right;\n",
       "    }\n",
       "</style>\n",
       "<table border=\"1\" class=\"dataframe\">\n",
       "  <thead>\n",
       "    <tr style=\"text-align: right;\">\n",
       "      <th></th>\n",
       "      <th>age</th>\n",
       "      <th>sex</th>\n",
       "      <th>cp</th>\n",
       "      <th>trestbps</th>\n",
       "      <th>chol</th>\n",
       "      <th>fbs</th>\n",
       "      <th>restecg</th>\n",
       "      <th>thalach</th>\n",
       "      <th>exang</th>\n",
       "      <th>oldpeak</th>\n",
       "      <th>slope</th>\n",
       "      <th>ca</th>\n",
       "      <th>thal</th>\n",
       "      <th>target</th>\n",
       "    </tr>\n",
       "  </thead>\n",
       "  <tbody>\n",
       "    <tr>\n",
       "      <th>0</th>\n",
       "      <td>63</td>\n",
       "      <td>1</td>\n",
       "      <td>3</td>\n",
       "      <td>145</td>\n",
       "      <td>233</td>\n",
       "      <td>1</td>\n",
       "      <td>0</td>\n",
       "      <td>150</td>\n",
       "      <td>0</td>\n",
       "      <td>2.3</td>\n",
       "      <td>0</td>\n",
       "      <td>0</td>\n",
       "      <td>1</td>\n",
       "      <td>1</td>\n",
       "    </tr>\n",
       "    <tr>\n",
       "      <th>1</th>\n",
       "      <td>37</td>\n",
       "      <td>1</td>\n",
       "      <td>2</td>\n",
       "      <td>130</td>\n",
       "      <td>250</td>\n",
       "      <td>0</td>\n",
       "      <td>1</td>\n",
       "      <td>187</td>\n",
       "      <td>0</td>\n",
       "      <td>3.5</td>\n",
       "      <td>0</td>\n",
       "      <td>0</td>\n",
       "      <td>2</td>\n",
       "      <td>1</td>\n",
       "    </tr>\n",
       "    <tr>\n",
       "      <th>2</th>\n",
       "      <td>41</td>\n",
       "      <td>0</td>\n",
       "      <td>1</td>\n",
       "      <td>130</td>\n",
       "      <td>204</td>\n",
       "      <td>0</td>\n",
       "      <td>0</td>\n",
       "      <td>172</td>\n",
       "      <td>0</td>\n",
       "      <td>1.4</td>\n",
       "      <td>2</td>\n",
       "      <td>0</td>\n",
       "      <td>2</td>\n",
       "      <td>1</td>\n",
       "    </tr>\n",
       "    <tr>\n",
       "      <th>3</th>\n",
       "      <td>56</td>\n",
       "      <td>1</td>\n",
       "      <td>1</td>\n",
       "      <td>120</td>\n",
       "      <td>236</td>\n",
       "      <td>0</td>\n",
       "      <td>1</td>\n",
       "      <td>178</td>\n",
       "      <td>0</td>\n",
       "      <td>0.8</td>\n",
       "      <td>2</td>\n",
       "      <td>0</td>\n",
       "      <td>2</td>\n",
       "      <td>1</td>\n",
       "    </tr>\n",
       "    <tr>\n",
       "      <th>4</th>\n",
       "      <td>57</td>\n",
       "      <td>0</td>\n",
       "      <td>0</td>\n",
       "      <td>120</td>\n",
       "      <td>354</td>\n",
       "      <td>0</td>\n",
       "      <td>1</td>\n",
       "      <td>163</td>\n",
       "      <td>1</td>\n",
       "      <td>0.6</td>\n",
       "      <td>2</td>\n",
       "      <td>0</td>\n",
       "      <td>2</td>\n",
       "      <td>1</td>\n",
       "    </tr>\n",
       "  </tbody>\n",
       "</table>\n",
       "</div>"
      ],
      "text/plain": [
       "   age  sex  cp  trestbps  chol  fbs  restecg  thalach  exang  oldpeak  slope  \\\n",
       "0   63    1   3       145   233    1        0      150      0      2.3      0   \n",
       "1   37    1   2       130   250    0        1      187      0      3.5      0   \n",
       "2   41    0   1       130   204    0        0      172      0      1.4      2   \n",
       "3   56    1   1       120   236    0        1      178      0      0.8      2   \n",
       "4   57    0   0       120   354    0        1      163      1      0.6      2   \n",
       "\n",
       "   ca  thal  target  \n",
       "0   0     1       1  \n",
       "1   0     2       1  \n",
       "2   0     2       1  \n",
       "3   0     2       1  \n",
       "4   0     2       1  "
      ]
     },
     "execution_count": 2,
     "metadata": {},
     "output_type": "execute_result"
    }
   ],
   "source": [
    "df = pd.read_csv(\"heart.csv\")\n",
    "df.head()\n"
   ]
  },
  {
   "cell_type": "code",
   "execution_count": 3,
   "id": "particular-fabric",
   "metadata": {},
   "outputs": [
    {
     "data": {
      "text/plain": [
       "(303,)"
      ]
     },
     "execution_count": 3,
     "metadata": {},
     "output_type": "execute_result"
    }
   ],
   "source": [
    "# df['oldpeak'] - df['oldpeak']*10\n",
    "target = np.array(df['target'].values)\n",
    "target.shape"
   ]
  },
  {
   "cell_type": "code",
   "execution_count": 4,
   "id": "spread-baking",
   "metadata": {},
   "outputs": [
    {
     "data": {
      "text/plain": [
       "(303, 13)"
      ]
     },
     "execution_count": 4,
     "metadata": {},
     "output_type": "execute_result"
    }
   ],
   "source": [
    "features = np.array(df.drop(columns = ['target']))\n",
    "features.shape"
   ]
  },
  {
   "cell_type": "code",
   "execution_count": 5,
   "id": "iraqi-intensity",
   "metadata": {},
   "outputs": [
    {
     "data": {
      "text/html": [
       "<div>\n",
       "<style scoped>\n",
       "    .dataframe tbody tr th:only-of-type {\n",
       "        vertical-align: middle;\n",
       "    }\n",
       "\n",
       "    .dataframe tbody tr th {\n",
       "        vertical-align: top;\n",
       "    }\n",
       "\n",
       "    .dataframe thead th {\n",
       "        text-align: right;\n",
       "    }\n",
       "</style>\n",
       "<table border=\"1\" class=\"dataframe\">\n",
       "  <thead>\n",
       "    <tr style=\"text-align: right;\">\n",
       "      <th></th>\n",
       "      <th>age</th>\n",
       "      <th>sex</th>\n",
       "      <th>cp</th>\n",
       "      <th>trestbps</th>\n",
       "      <th>chol</th>\n",
       "      <th>fbs</th>\n",
       "      <th>restecg</th>\n",
       "      <th>thalach</th>\n",
       "      <th>exang</th>\n",
       "      <th>oldpeak</th>\n",
       "      <th>slope</th>\n",
       "      <th>ca</th>\n",
       "      <th>thal</th>\n",
       "      <th>target</th>\n",
       "    </tr>\n",
       "  </thead>\n",
       "  <tbody>\n",
       "    <tr>\n",
       "      <th>0</th>\n",
       "      <td>63</td>\n",
       "      <td>1</td>\n",
       "      <td>3</td>\n",
       "      <td>145</td>\n",
       "      <td>233</td>\n",
       "      <td>1</td>\n",
       "      <td>0</td>\n",
       "      <td>150</td>\n",
       "      <td>0</td>\n",
       "      <td>2.3</td>\n",
       "      <td>0</td>\n",
       "      <td>0</td>\n",
       "      <td>1</td>\n",
       "      <td>1</td>\n",
       "    </tr>\n",
       "    <tr>\n",
       "      <th>1</th>\n",
       "      <td>37</td>\n",
       "      <td>1</td>\n",
       "      <td>2</td>\n",
       "      <td>130</td>\n",
       "      <td>250</td>\n",
       "      <td>0</td>\n",
       "      <td>1</td>\n",
       "      <td>187</td>\n",
       "      <td>0</td>\n",
       "      <td>3.5</td>\n",
       "      <td>0</td>\n",
       "      <td>0</td>\n",
       "      <td>2</td>\n",
       "      <td>1</td>\n",
       "    </tr>\n",
       "    <tr>\n",
       "      <th>2</th>\n",
       "      <td>41</td>\n",
       "      <td>0</td>\n",
       "      <td>1</td>\n",
       "      <td>130</td>\n",
       "      <td>204</td>\n",
       "      <td>0</td>\n",
       "      <td>0</td>\n",
       "      <td>172</td>\n",
       "      <td>0</td>\n",
       "      <td>1.4</td>\n",
       "      <td>2</td>\n",
       "      <td>0</td>\n",
       "      <td>2</td>\n",
       "      <td>1</td>\n",
       "    </tr>\n",
       "    <tr>\n",
       "      <th>3</th>\n",
       "      <td>56</td>\n",
       "      <td>1</td>\n",
       "      <td>1</td>\n",
       "      <td>120</td>\n",
       "      <td>236</td>\n",
       "      <td>0</td>\n",
       "      <td>1</td>\n",
       "      <td>178</td>\n",
       "      <td>0</td>\n",
       "      <td>0.8</td>\n",
       "      <td>2</td>\n",
       "      <td>0</td>\n",
       "      <td>2</td>\n",
       "      <td>1</td>\n",
       "    </tr>\n",
       "    <tr>\n",
       "      <th>4</th>\n",
       "      <td>57</td>\n",
       "      <td>0</td>\n",
       "      <td>0</td>\n",
       "      <td>120</td>\n",
       "      <td>354</td>\n",
       "      <td>0</td>\n",
       "      <td>1</td>\n",
       "      <td>163</td>\n",
       "      <td>1</td>\n",
       "      <td>0.6</td>\n",
       "      <td>2</td>\n",
       "      <td>0</td>\n",
       "      <td>2</td>\n",
       "      <td>1</td>\n",
       "    </tr>\n",
       "  </tbody>\n",
       "</table>\n",
       "</div>"
      ],
      "text/plain": [
       "   age  sex  cp  trestbps  chol  fbs  restecg  thalach  exang  oldpeak  slope  \\\n",
       "0   63    1   3       145   233    1        0      150      0      2.3      0   \n",
       "1   37    1   2       130   250    0        1      187      0      3.5      0   \n",
       "2   41    0   1       130   204    0        0      172      0      1.4      2   \n",
       "3   56    1   1       120   236    0        1      178      0      0.8      2   \n",
       "4   57    0   0       120   354    0        1      163      1      0.6      2   \n",
       "\n",
       "   ca  thal  target  \n",
       "0   0     1       1  \n",
       "1   0     2       1  \n",
       "2   0     2       1  \n",
       "3   0     2       1  \n",
       "4   0     2       1  "
      ]
     },
     "execution_count": 5,
     "metadata": {},
     "output_type": "execute_result"
    }
   ],
   "source": [
    "df.head()"
   ]
  },
  {
   "cell_type": "code",
   "execution_count": 6,
   "id": "nuclear-appendix",
   "metadata": {},
   "outputs": [],
   "source": [
    "x_train,x_test, y_train, y_test = train_test_split(features,target,test_size=0.2, random_state=0)\n",
    "x_train = (StandardScaler().fit_transform(x_train)*100).astype(int)\n",
    "x_test = (StandardScaler().fit_transform(x_test)*100).astype(int)\n",
    "# x_test"
   ]
  },
  {
   "cell_type": "code",
   "execution_count": 7,
   "id": "dominant-delta",
   "metadata": {},
   "outputs": [
    {
     "data": {
      "text/plain": [
       "(242, 13)"
      ]
     },
     "execution_count": 7,
     "metadata": {},
     "output_type": "execute_result"
    }
   ],
   "source": [
    "x_train.shape"
   ]
  },
  {
   "cell_type": "code",
   "execution_count": 8,
   "id": "appointed-bulletin",
   "metadata": {},
   "outputs": [
    {
     "name": "stdout",
     "output_type": "stream",
     "text": [
      "Number of mislabeled points out of a total 61 points : 12\n",
      "0.8032786885245902\n"
     ]
    }
   ],
   "source": [
    "gnb = GaussianNB()\n",
    "y_pred = gnb.fit(x_train, y_train).predict(x_test)\n",
    "print(\"Number of mislabeled points out of a total %d points : %d\" % (x_test.shape[0], (y_test != y_pred).sum()))\n",
    "print(accuracy_score(y_test, y_pred))"
   ]
  },
  {
   "cell_type": "code",
   "execution_count": 9,
   "id": "proper-nomination",
   "metadata": {},
   "outputs": [
    {
     "name": "stdout",
     "output_type": "stream",
     "text": [
      "Number of mislabeled points out of a total 61 points : 9\n",
      "0.8524590163934426\n"
     ]
    }
   ],
   "source": [
    "gnb = BernoulliNB()\n",
    "y_pred = gnb.fit(x_train, y_train).predict(x_test)\n",
    "print(\"Number of mislabeled points out of a total %d points : %d\" % (x_test.shape[0], (y_test != y_pred).sum()))\n",
    "print(accuracy_score(y_test, y_pred))"
   ]
  },
  {
   "cell_type": "code",
   "execution_count": 10,
   "id": "convinced-iraqi",
   "metadata": {},
   "outputs": [],
   "source": [
    "# x_test= x_test.astype(int)\n",
    "# x_train = x_train.astype(int)"
   ]
  },
  {
   "cell_type": "code",
   "execution_count": 11,
   "id": "seventh-makeup",
   "metadata": {},
   "outputs": [
    {
     "name": "stdout",
     "output_type": "stream",
     "text": [
      "Number of mislabeled points out of a total 61 points : 8\n",
      "0.8688524590163934\n",
      "Number of mislabeled points out of a total 61 points : 10\n",
      "0.8360655737704918\n",
      "Number of mislabeled points out of a total 61 points : 8\n",
      "0.8688524590163934\n",
      "Number of mislabeled points out of a total 61 points : 11\n",
      "0.819672131147541\n",
      "Number of mislabeled points out of a total 61 points : 12\n",
      "0.8032786885245902\n",
      "Number of mislabeled points out of a total 61 points : 14\n",
      "0.7704918032786885\n",
      "Number of mislabeled points out of a total 61 points : 14\n",
      "0.7704918032786885\n",
      "Number of mislabeled points out of a total 61 points : 14\n",
      "0.7704918032786885\n",
      "Number of mislabeled points out of a total 61 points : 13\n",
      "0.7868852459016393\n",
      "Number of mislabeled points out of a total 61 points : 13\n",
      "0.7868852459016393\n",
      "Number of mislabeled points out of a total 61 points : 13\n",
      "0.7868852459016393\n",
      "Number of mislabeled points out of a total 61 points : 13\n",
      "0.7868852459016393\n"
     ]
    }
   ],
   "source": [
    "from sklearn.decomposition import PCA\n",
    "for i in range(2,14):\n",
    "    pca =PCA(n_components =i)\n",
    "    pca.fit(x_train,pca)\n",
    "    PC_train = pca.transform(x_train)\n",
    "    PC_test = pca.transform(x_test)\n",
    "    gnb = GaussianNB()\n",
    "    y_pred = gnb.fit(PC_train, y_train).predict(PC_test)\n",
    "    print(\"Number of mislabeled points out of a total %d points : %d\" % (PC_test.shape[0], (y_test != y_pred).sum()))\n",
    "    print(accuracy_score(y_test, y_pred))"
   ]
  },
  {
   "cell_type": "code",
   "execution_count": 51,
   "id": "amateur-potter",
   "metadata": {},
   "outputs": [],
   "source": [
    "def mux1(v,k):\n",
    "    x = 1\n",
    "#     print(type(v))\n",
    "    for i in range(len(v)):\n",
    "        if(i==k): continue\n",
    "        else:  x = x* v[i]\n",
    "    return x\n",
    "\n",
    "def compute_param(x,m,v):\n",
    "    B0=1; C0 =1.0;  A0=1; e = 2.718\n",
    "    c = np.zeros(len(v));\n",
    "    for i in range(len(v)):\n",
    "        B0 = B0* v[i]\n",
    "        c[i] = (x[i]-m[i])*(x[i]-m[i])   \n",
    "    D0 = B0\n",
    "    for i in range(len(c)):\n",
    "        C0 = C0+c[i]*mux1(v,i)\n",
    "#     print(A0,B0,C0,D0)    \n",
    "    ex = float(C0/D0)\n",
    "#     out = (A0/B0)*pow(e,-1*ex)\n",
    "#     return(out) \n",
    "    return (A0,B0,C0,D0)\n",
    "\n",
    "# def exponent(x, m1,m2, v1,v2, Prior0,Prior1):\n",
    "#         x1=1; x2=2\n",
    "#         A0,B0,C0,D0 = compute_param(x,m1,v1)\n",
    "#         A1,B1,C1,D1 = compute_param(x,m2,v2)\n",
    "#         print(A0,B0,C0,D0)\n",
    "#         print(A1,B1,C1,D1)\n",
    "#         A = A0*B1\n",
    "#         B = B0*A1\n",
    "#         C = (C0*D1)-(C1*D0)\n",
    "#         D = D0*D1\n",
    "#         Q = int(C/D)\n",
    "#         R = C%D;\n",
    "#         Enum=19\n",
    "#         Eden=7\n",
    "#         edenR = 24*(D*D*D*D)\n",
    "#         enumR = 24*D*D*D*D+ R*24*D*D*D+R*R*12*D*D+R*R*R*4*D+R*R*R*R\n",
    "#         if(Q>=0):\n",
    "#             P0 = A*1*edenR*Prior0*Prior0\n",
    "#             P1 = B*1000*enumR*Prior1*Prior1\n",
    "#         else:\n",
    "#             P0 = A*1000*edenR*Prior0*Prior0\n",
    "#             P1 = B*1*enumR*Prior1*Prior1\n",
    "#         if(P0>P1): return 0\n",
    "#         else : return 1\n",
    "        \n",
    "def exponent(x, m1,m2, v1,v2, Prior0,Prior1):\n",
    "        A0,B0,C0,D0 = compute_param(x,m1,v1)\n",
    "        A1,B1,C1,D1 = compute_param(x,m2,v2)\n",
    "#         print(A0,B0,C0,D0)\n",
    "#         print(A1,B1,C1,D1)\n",
    "        A = A0*B1\n",
    "        B = B0*A1   \n",
    "        C = (C0*D1)-(C1*D0)\n",
    "        D = D0*D1\n",
    "        \n",
    "        \n",
    "        #     if((C>10000 or C<-10000) and (D>10000 or D<-10000)):\n",
    "#             C = C/1000 \n",
    "#             D = D/1000\n",
    "        Q = int(C/D)\n",
    "        R = C%D;\n",
    "#         print(Q,R)\n",
    "        \n",
    "       \n",
    "        Enum=19\n",
    "        Eden=7\n",
    "        \n",
    "        edenR = 24*(D*D*D*D)\n",
    "        enumR = 24*D*D*D*D+ R*24*D*D*D+R*R*12*D*D+R*R*R*4*D+R*R*R*R\n",
    "        \n",
    "        \n",
    "        if(Q>=0):\n",
    "            P0 = A*1*edenR*Prior0*Prior0\n",
    "            P1 = B*1000*enumR*Prior1*Prior1\n",
    "        else:\n",
    "            P0 = A*1000*edenR*Prior0*Prior0\n",
    "            P1 = B*1*enumR*Prior1*Prior1\n",
    "        if(P0>P1): \n",
    "#             print(0)\n",
    "            return 0\n",
    "        else : \n",
    "#             print(1)\n",
    "            return 1\n"
   ]
  },
  {
   "cell_type": "code",
   "execution_count": 52,
   "id": "detailed-poster",
   "metadata": {},
   "outputs": [],
   "source": [
    "df = pd.read_csv(\"heart.csv\")\n",
    "target = np.array(df['target'].values)\n",
    "features = np.array(df.drop(columns = ['target']))\n",
    "dfp = df.groupby('target').size()\n",
    "Prior0 = int(dfp[0]/len(df)*100)\n",
    "Prior1 = int(dfp[1]/len(df)*100)"
   ]
  },
  {
   "cell_type": "code",
   "execution_count": 53,
   "id": "communist-forge",
   "metadata": {},
   "outputs": [],
   "source": [
    "x_train,x_test, y_train, y_test = train_test_split(features,target,test_size=0.2, random_state=1)\n",
    "x_train = (StandardScaler().fit_transform(x_train)*100).astype(int)\n",
    "x_test = (StandardScaler().fit_transform(x_test)*100).astype(int)"
   ]
  },
  {
   "cell_type": "code",
   "execution_count": 54,
   "id": "concerned-stamp",
   "metadata": {},
   "outputs": [],
   "source": [
    "df_new = pd.DataFrame(x_train,columns=['f1','f2','f3','f4','f5','f6','f7','f8','f9','f10','f11','f12','f13'])\n",
    "df_new['target'] = y_train\n",
    "df_mean = df_new.groupby(['target']).mean().astype(int)\n",
    "df_var = df_new.groupby(['target']).var().astype(int)\n",
    "mean = df_mean.values\n",
    "var = df_var.values"
   ]
  },
  {
   "cell_type": "code",
   "execution_count": 55,
   "id": "buried-queen",
   "metadata": {},
   "outputs": [
    {
     "data": {
      "text/plain": [
       "array([ 24,  34, -52,  13,  12,   0, -15, -49,  52,  46, -36,  41,  29])"
      ]
     },
     "execution_count": 55,
     "metadata": {},
     "output_type": "execute_result"
    }
   ],
   "source": [
    "mean[0]"
   ]
  },
  {
   "cell_type": "code",
   "execution_count": 56,
   "id": "current-philadelphia",
   "metadata": {},
   "outputs": [
    {
     "data": {
      "text/plain": [
       "array([ 7519,  5943,  6925, 11582,  8107,  9986, 10391,  9779, 11361,\n",
       "       11927,  8476, 10271, 13700])"
      ]
     },
     "execution_count": 56,
     "metadata": {},
     "output_type": "execute_result"
    }
   ],
   "source": [
    "var[0]"
   ]
  },
  {
   "cell_type": "code",
   "execution_count": null,
   "id": "improving-dover",
   "metadata": {},
   "outputs": [],
   "source": []
  },
  {
   "cell_type": "code",
   "execution_count": 57,
   "id": "existing-divide",
   "metadata": {},
   "outputs": [
    {
     "name": "stderr",
     "output_type": "stream",
     "text": [
      "<ipython-input-51-0c87694a2702>:13: RuntimeWarning: overflow encountered in long_scalars\n",
      "  B0 = B0* v[i]\n",
      "<ipython-input-51-0c87694a2702>:6: RuntimeWarning: overflow encountered in long_scalars\n",
      "  else:  x = x* v[i]\n",
      "<ipython-input-51-0c87694a2702>:57: RuntimeWarning: overflow encountered in long_scalars\n",
      "  D = D0*D1\n",
      "<ipython-input-51-0c87694a2702>:71: RuntimeWarning: overflow encountered in long_scalars\n",
      "  edenR = 24*(D*D*D*D)\n",
      "<ipython-input-51-0c87694a2702>:72: RuntimeWarning: overflow encountered in long_scalars\n",
      "  enumR = 24*D*D*D*D+ R*24*D*D*D+R*R*12*D*D+R*R*R*4*D+R*R*R*R\n",
      "<ipython-input-51-0c87694a2702>:79: RuntimeWarning: overflow encountered in long_scalars\n",
      "  P0 = A*1000*edenR*Prior0*Prior0\n",
      "<ipython-input-51-0c87694a2702>:77: RuntimeWarning: overflow encountered in long_scalars\n",
      "  P1 = B*1000*enumR*Prior1*Prior1\n"
     ]
    },
    {
     "data": {
      "text/plain": [
       "0.6557377049180327"
      ]
     },
     "execution_count": 57,
     "metadata": {},
     "output_type": "execute_result"
    }
   ],
   "source": [
    "pred = []\n",
    "for i in range(x_test.shape[0]):\n",
    "    pred.append(exponent(x_test[i], mean[0],mean[1], var[0],var[1], Prior0,Prior1))\n",
    "predicted = np.array(pred)\n",
    "accuracy_score(predicted,y_test)"
   ]
  },
  {
   "cell_type": "markdown",
   "id": "rational-enforcement",
   "metadata": {},
   "source": []
  },
  {
   "cell_type": "code",
   "execution_count": 73,
   "id": "specific-newark",
   "metadata": {},
   "outputs": [],
   "source": [
    "pca =PCA(n_components =12)\n",
    "pca.fit(x_train,pca)\n",
    "PC_train = (pca.transform(x_train)).astype(int)\n",
    "PC_test = (pca.transform(x_test)).astype(int)\n",
    "df_pc = pd.DataFrame(PC_train, columns=['f1','f2','f3','f4','f5','f6','f7','f8','f9','f10','f11','f12'])\n",
    "df_pc  ['target'] = y_train\n",
    "df_mean = df_pc.groupby(['target']).mean().astype(int)\n",
    "df_var = df_pc.groupby(['target']).var().astype(int)\n",
    "mean = df_mean.values\n",
    "var = df_var.values\n"
   ]
  },
  {
   "cell_type": "code",
   "execution_count": 74,
   "id": "structural-receiver",
   "metadata": {
    "scrolled": false
   },
   "outputs": [
    {
     "name": "stderr",
     "output_type": "stream",
     "text": [
      "<ipython-input-51-0c87694a2702>:13: RuntimeWarning: overflow encountered in long_scalars\n",
      "  B0 = B0* v[i]\n",
      "<ipython-input-51-0c87694a2702>:6: RuntimeWarning: overflow encountered in long_scalars\n",
      "  else:  x = x* v[i]\n",
      "<ipython-input-51-0c87694a2702>:57: RuntimeWarning: overflow encountered in long_scalars\n",
      "  D = D0*D1\n",
      "<ipython-input-51-0c87694a2702>:71: RuntimeWarning: overflow encountered in long_scalars\n",
      "  edenR = 24*(D*D*D*D)\n",
      "<ipython-input-51-0c87694a2702>:72: RuntimeWarning: overflow encountered in long_scalars\n",
      "  enumR = 24*D*D*D*D+ R*24*D*D*D+R*R*12*D*D+R*R*R*4*D+R*R*R*R\n",
      "<ipython-input-51-0c87694a2702>:79: RuntimeWarning: overflow encountered in long_scalars\n",
      "  P0 = A*1000*edenR*Prior0*Prior0\n",
      "<ipython-input-51-0c87694a2702>:77: RuntimeWarning: overflow encountered in long_scalars\n",
      "  P1 = B*1000*enumR*Prior1*Prior1\n"
     ]
    },
    {
     "data": {
      "text/plain": [
       "0.47540983606557374"
      ]
     },
     "execution_count": 74,
     "metadata": {},
     "output_type": "execute_result"
    }
   ],
   "source": [
    "pred = []\n",
    "for i in range(x_test.shape[0]):\n",
    "    pred.append(exponent(PC_test[i], mean[0],mean[1], var[0],var[1], Prior0,Prior1))\n",
    "predicted = np.array(pred)\n",
    "accuracy_score(predicted,y_test)"
   ]
  },
  {
   "cell_type": "code",
   "execution_count": 70,
   "id": "failing-commission",
   "metadata": {},
   "outputs": [
    {
     "data": {
      "text/plain": [
       "0.639344262295082"
      ]
     },
     "execution_count": 70,
     "metadata": {},
     "output_type": "execute_result"
    }
   ],
   "source": [
    "predicted = np.array(pred)\n",
    "accuracy_score(predicted,y_test)"
   ]
  },
  {
   "cell_type": "code",
   "execution_count": 106,
   "id": "racial-poetry",
   "metadata": {},
   "outputs": [
    {
     "name": "stdout",
     "output_type": "stream",
     "text": [
      "[0 1 1 0 0 0 0 1 0 1 1 0 1 0 0 1 1 0 1 1 1 0 1 1 1 1 0 0 1 1 0 1 1 1 0 1 0\n",
      " 1 1 0 1 0 1 0 1 1 0 1 1 1 1 1 1 1 1 1 1 0 1 0 1]\n"
     ]
    }
   ],
   "source": [
    "print(predicted)"
   ]
  },
  {
   "cell_type": "code",
   "execution_count": 96,
   "id": "social-contest",
   "metadata": {},
   "outputs": [
    {
     "name": "stdout",
     "output_type": "stream",
     "text": [
      "[0 1 0 0 0 0 0 1 0 1 1 0 0 0 0 0 1 0 1 0 1 0 1 1 1 1 0 1 1 1 1 1 1 1 0 1 1\n",
      " 0 0 1 1 0 1 0 0 0 0 1 0 1 1 0 0 1 1 1 1 0 0 0 1]\n"
     ]
    }
   ],
   "source": [
    "print(y_test)"
   ]
  },
  {
   "cell_type": "code",
   "execution_count": null,
   "id": "included-african",
   "metadata": {},
   "outputs": [],
   "source": []
  }
 ],
 "metadata": {
  "kernelspec": {
   "display_name": "Python 3 (ipykernel)",
   "language": "python",
   "name": "python3"
  },
  "language_info": {
   "codemirror_mode": {
    "name": "ipython",
    "version": 3
   },
   "file_extension": ".py",
   "mimetype": "text/x-python",
   "name": "python",
   "nbconvert_exporter": "python",
   "pygments_lexer": "ipython3",
   "version": "3.7.11"
  }
 },
 "nbformat": 4,
 "nbformat_minor": 5
}
