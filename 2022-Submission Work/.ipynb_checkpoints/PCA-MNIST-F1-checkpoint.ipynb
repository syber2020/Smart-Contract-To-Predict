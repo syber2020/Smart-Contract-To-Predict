{
 "cells": [
  {
   "cell_type": "markdown",
   "id": "acceptable-survival",
   "metadata": {},
   "source": [
    "## Loading the Dataset"
   ]
  },
  {
   "cell_type": "code",
   "execution_count": 70,
   "id": "distant-livestock",
   "metadata": {},
   "outputs": [],
   "source": [
    "import numpy as np\n",
    "import pandas as pd\n",
    "\n",
    "from sklearn.datasets import load_digits\n",
    "from sklearn.model_selection import train_test_split\n",
    "from sklearn.naive_bayes import GaussianNB\n",
    "from sklearn.naive_bayes import BernoulliNB\n",
    "from sklearn.naive_bayes import MultinomialNB\n",
    "from sklearn.metrics import accuracy_score\n",
    "import tensorflow as tf\n",
    "from sklearn.preprocessing import StandardScaler\n",
    "                        "
   ]
  },
  {
   "cell_type": "code",
   "execution_count": 71,
   "id": "fitted-romance",
   "metadata": {},
   "outputs": [],
   "source": [
    "# from sklearn.decomposition import PCA\n",
    "# pca =PCA(n_components =2)\n",
    "# principalComponents = pca.fit_transform(x_norm)\n",
    "# pdf = pd.DataFrame(data=principalComponents, columns = ['pc1', 'pc2'])\n",
    "# pdf"
   ]
  },
  {
   "cell_type": "code",
   "execution_count": 72,
   "id": "circular-bidder",
   "metadata": {},
   "outputs": [],
   "source": [
    "# finaldf = pd.concat([pdf,df[['target']]], axis =1)\n",
    "# finaldf.head()"
   ]
  },
  {
   "cell_type": "markdown",
   "id": "accurate-alignment",
   "metadata": {},
   "source": [
    "## Train"
   ]
  },
  {
   "cell_type": "code",
   "execution_count": 73,
   "id": "executed-bridal",
   "metadata": {},
   "outputs": [],
   "source": [
    "#NB scikit learn MNIST(60000)\n",
    "X,y = load_digits(return_X_y=True)"
   ]
  },
  {
   "cell_type": "code",
   "execution_count": 74,
   "id": "extra-birmingham",
   "metadata": {},
   "outputs": [],
   "source": [
    "x_train, x_test, y_train, y_test = train_test_split(X,y,test_size = 0.2, random_state =1)"
   ]
  },
  {
   "cell_type": "code",
   "execution_count": 75,
   "id": "convertible-explorer",
   "metadata": {},
   "outputs": [
    {
     "data": {
      "text/plain": [
       "(1437, 64)"
      ]
     },
     "execution_count": 75,
     "metadata": {},
     "output_type": "execute_result"
    }
   ],
   "source": [
    "# train_x = x_train.reshape(x_train.shape[0], -1)   # The \"-1\" makes reshape flatten the remaining dimensions\n",
    "# test_x = x_test.reshape(x_test.shape[0], -1)\n",
    "# train_x.shape\n",
    "x_train.shape"
   ]
  },
  {
   "cell_type": "code",
   "execution_count": 76,
   "id": "similar-article",
   "metadata": {},
   "outputs": [],
   "source": [
    "# train_x[0]"
   ]
  },
  {
   "cell_type": "code",
   "execution_count": 77,
   "id": "simple-brisbane",
   "metadata": {},
   "outputs": [
    {
     "name": "stdout",
     "output_type": "stream",
     "text": [
      "Number of mislabeled points out of a total 360 points : 53\n",
      "0.8527777777777777\n"
     ]
    }
   ],
   "source": [
    "gnb = GaussianNB()\n",
    "y_pred = gnb.fit(x_train, y_train).predict(x_test)\n",
    "print(\"Number of mislabeled points out of a total %d points : %d\" % (x_test.shape[0], (y_test != y_pred).sum()))\n",
    "print(accuracy_score(y_test, y_pred))"
   ]
  },
  {
   "cell_type": "code",
   "execution_count": 84,
   "id": "attended-lemon",
   "metadata": {},
   "outputs": [],
   "source": [
    "x_train = StandardScaler().fit_transform(x_train)\n",
    "x_test = StandardScaler().fit_transform(x_test)"
   ]
  },
  {
   "cell_type": "code",
   "execution_count": 85,
   "id": "working-stand",
   "metadata": {},
   "outputs": [
    {
     "name": "stdout",
     "output_type": "stream",
     "text": [
      "Number of mislabeled points out of a total 360 points : 42\n",
      "0.8833333333333333\n"
     ]
    }
   ],
   "source": [
    "gnb = BernoulliNB()\n",
    "y_pred = gnb.fit(x_train, y_train).predict(x_test)\n",
    "print(\"Number of mislabeled points out of a total %d points : %d\" % (x_test.shape[0], (y_test != y_pred).sum()))\n",
    "print(accuracy_score(y_test, y_pred))"
   ]
  },
  {
   "cell_type": "code",
   "execution_count": 86,
   "id": "round-authentication",
   "metadata": {},
   "outputs": [],
   "source": [
    "\n",
    "# gnb = MultinomialNB()\n",
    "# y_pred = gnb.fit(x_train, y_train).predict(x_test)\n",
    "# print(\"Number of mislabeled points out of a total %d points : %d\" % (x_test.shape[0], (y_test != y_pred).sum()))\n",
    "# print(accuracy_score(y_test, y_pred))"
   ]
  },
  {
   "cell_type": "code",
   "execution_count": 90,
   "id": "closing-notebook",
   "metadata": {},
   "outputs": [
    {
     "data": {
      "text/plain": [
       "array([[ 5.15248679, -2.19138626],\n",
       "       [ 2.7052641 ,  4.74348932],\n",
       "       [ 1.83584545, -4.49702881],\n",
       "       ...,\n",
       "       [-0.82660085, -1.42483736],\n",
       "       [ 4.1454609 ,  2.5128222 ],\n",
       "       [ 0.34305011,  1.4119283 ]])"
      ]
     },
     "execution_count": 90,
     "metadata": {},
     "output_type": "execute_result"
    }
   ],
   "source": [
    "from sklearn.decomposition import PCA\n",
    "pca =PCA(n_components =2)\n",
    "PC_train = pca.fit_transform(x_train)\n",
    "PC_test = pca.fit_transform(x_test)\n",
    "PC_train"
   ]
  },
  {
   "cell_type": "code",
   "execution_count": 88,
   "id": "dietary-weapon",
   "metadata": {},
   "outputs": [
    {
     "name": "stdout",
     "output_type": "stream",
     "text": [
      "Number of mislabeled points out of a total 360 points : 169\n",
      "0.5305555555555556\n"
     ]
    }
   ],
   "source": [
    "gnb = GaussianNB()\n",
    "y_pred = gnb.fit(PC_train, y_train).predict(PC_test)\n",
    "print(\"Number of mislabeled points out of a total %d points : %d\" % (PC_test.shape[0], (y_test != y_pred).sum()))\n",
    "print(accuracy_score(y_test, y_pred))"
   ]
  },
  {
   "cell_type": "code",
   "execution_count": 89,
   "id": "improving-scene",
   "metadata": {},
   "outputs": [
    {
     "name": "stdout",
     "output_type": "stream",
     "text": [
      "Number of mislabeled points out of a total 360 points : 258\n",
      "0.2833333333333333\n"
     ]
    }
   ],
   "source": [
    "gnb = BernoulliNB()\n",
    "y_pred = gnb.fit(PC_train, y_train).predict(PC_test)\n",
    "print(\"Number of mislabeled points out of a total %d points : %d\" % (PC_test.shape[0], (y_test != y_pred).sum()))\n",
    "print(accuracy_score(y_test, y_pred))"
   ]
  },
  {
   "cell_type": "code",
   "execution_count": null,
   "id": "polyphonic-stranger",
   "metadata": {},
   "outputs": [],
   "source": []
  }
 ],
 "metadata": {
  "kernelspec": {
   "display_name": "Python 3",
   "language": "python",
   "name": "python3"
  },
  "language_info": {
   "codemirror_mode": {
    "name": "ipython",
    "version": 3
   },
   "file_extension": ".py",
   "mimetype": "text/x-python",
   "name": "python",
   "nbconvert_exporter": "python",
   "pygments_lexer": "ipython3",
   "version": "3.9.2"
  }
 },
 "nbformat": 4,
 "nbformat_minor": 5
}
