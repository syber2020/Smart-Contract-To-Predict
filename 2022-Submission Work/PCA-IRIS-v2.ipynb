{
 "cells": [
  {
   "cell_type": "markdown",
   "id": "sized-newport",
   "metadata": {},
   "source": [
    "## Loading the Dataset"
   ]
  },
  {
   "cell_type": "code",
   "execution_count": 20,
   "id": "commercial-realtor",
   "metadata": {},
   "outputs": [],
   "source": [
    "import numpy as np\n",
    "import pandas as pd\n",
    "from sklearn.decomposition import PCA\n",
    "from sklearn.preprocessing import StandardScaler\n",
    "from sklearn.naive_bayes import BernoulliNB\n",
    "from sklearn.naive_bayes import MultinomialNB\n",
    "from sklearn.datasets import load_iris\n",
    "from sklearn.model_selection import train_test_split\n",
    "from sklearn.naive_bayes import GaussianNB\n",
    "from sklearn.metrics import accuracy_score\n",
    "import json\n",
    "from web3 import Web3\n",
    "url = \"https://archive.ics.uci.edu/ml/machine-learning-databases/iris/iris.data\"\n",
    "df = pd.read_csv(url, names=['sepal length','sepal width', 'petal length', 'petal width', 'target'])\n",
    "# df['target']                             "
   ]
  },
  {
   "cell_type": "markdown",
   "id": "verbal-edwards",
   "metadata": {},
   "source": [
    "## Normalizing Dataset "
   ]
  },
  {
   "cell_type": "code",
   "execution_count": 4,
   "id": "enabling-bulgarian",
   "metadata": {},
   "outputs": [],
   "source": [
    "\n",
    "X,y = load_iris(return_X_y=True)\n",
    "features =['sepal length', 'sepal width', 'petal length', 'petal width']\n",
    "x = df.loc[:, features].values\n",
    "y = df.loc[:, ['target']].values\n",
    "x_norm = StandardScaler().fit_transform(x)\n",
    "# x_norm"
   ]
  },
  {
   "cell_type": "code",
   "execution_count": 5,
   "id": "advisory-temperature",
   "metadata": {},
   "outputs": [
    {
     "name": "stdout",
     "output_type": "stream",
     "text": [
      "Number of mislabeled points out of a total 30 points : 567\n",
      "0.9666666666666667\n"
     ]
    },
    {
     "name": "stderr",
     "output_type": "stream",
     "text": [
      "/Users/Syed/anaconda/anaconda3/lib/python3.7/site-packages/sklearn/utils/validation.py:63: DataConversionWarning: A column-vector y was passed when a 1d array was expected. Please change the shape of y to (n_samples, ), for example using ravel().\n",
      "  return f(*args, **kwargs)\n"
     ]
    }
   ],
   "source": [
    "X_train, X_test, y_train, y_test = train_test_split(X, y, test_size=0.2, random_state=0)\n",
    "gnb = GaussianNB()\n",
    "y_pred = gnb.fit(X_train, y_train).predict(X_test)\n",
    "print(\"Number of mislabeled points out of a total %d points : %d\" % (X_test.shape[0], (y_test != y_pred).sum()))\n",
    "print(accuracy_score(y_test, y_pred))"
   ]
  },
  {
   "cell_type": "markdown",
   "id": "patient-numbers",
   "metadata": {},
   "source": [
    "## PCA projection to 2D"
   ]
  },
  {
   "cell_type": "code",
   "execution_count": 6,
   "id": "seventh-makeup",
   "metadata": {},
   "outputs": [],
   "source": [
    "\n",
    "pca =PCA(n_components =2)\n",
    "principalComponents = pca.fit_transform(x_norm)\n",
    "pdf = pd.DataFrame(data=principalComponents, columns = ['pc1', 'pc2'])\n",
    "\n",
    "# pdf"
   ]
  },
  {
   "cell_type": "code",
   "execution_count": 7,
   "id": "regulation-davis",
   "metadata": {},
   "outputs": [
    {
     "data": {
      "text/html": [
       "<div>\n",
       "<style scoped>\n",
       "    .dataframe tbody tr th:only-of-type {\n",
       "        vertical-align: middle;\n",
       "    }\n",
       "\n",
       "    .dataframe tbody tr th {\n",
       "        vertical-align: top;\n",
       "    }\n",
       "\n",
       "    .dataframe thead th {\n",
       "        text-align: right;\n",
       "    }\n",
       "</style>\n",
       "<table border=\"1\" class=\"dataframe\">\n",
       "  <thead>\n",
       "    <tr style=\"text-align: right;\">\n",
       "      <th></th>\n",
       "      <th>pc1</th>\n",
       "      <th>pc2</th>\n",
       "      <th>target</th>\n",
       "    </tr>\n",
       "  </thead>\n",
       "  <tbody>\n",
       "    <tr>\n",
       "      <th>0</th>\n",
       "      <td>-2.264542</td>\n",
       "      <td>0.505704</td>\n",
       "      <td>Iris-setosa</td>\n",
       "    </tr>\n",
       "    <tr>\n",
       "      <th>1</th>\n",
       "      <td>-2.086426</td>\n",
       "      <td>-0.655405</td>\n",
       "      <td>Iris-setosa</td>\n",
       "    </tr>\n",
       "    <tr>\n",
       "      <th>2</th>\n",
       "      <td>-2.367950</td>\n",
       "      <td>-0.318477</td>\n",
       "      <td>Iris-setosa</td>\n",
       "    </tr>\n",
       "    <tr>\n",
       "      <th>3</th>\n",
       "      <td>-2.304197</td>\n",
       "      <td>-0.575368</td>\n",
       "      <td>Iris-setosa</td>\n",
       "    </tr>\n",
       "    <tr>\n",
       "      <th>4</th>\n",
       "      <td>-2.388777</td>\n",
       "      <td>0.674767</td>\n",
       "      <td>Iris-setosa</td>\n",
       "    </tr>\n",
       "  </tbody>\n",
       "</table>\n",
       "</div>"
      ],
      "text/plain": [
       "        pc1       pc2       target\n",
       "0 -2.264542  0.505704  Iris-setosa\n",
       "1 -2.086426 -0.655405  Iris-setosa\n",
       "2 -2.367950 -0.318477  Iris-setosa\n",
       "3 -2.304197 -0.575368  Iris-setosa\n",
       "4 -2.388777  0.674767  Iris-setosa"
      ]
     },
     "execution_count": 7,
     "metadata": {},
     "output_type": "execute_result"
    }
   ],
   "source": [
    "finaldf = pd.concat([pdf,df[['target']]], axis =1)\n",
    "finaldf.head()"
   ]
  },
  {
   "cell_type": "code",
   "execution_count": 8,
   "id": "controlled-devices",
   "metadata": {},
   "outputs": [],
   "source": [
    "#NB scikit learn\n",
    "X, y = load_iris(return_X_y=True)\n",
    "# X = StandardScaler().fit_transform(X)\n",
    "# pca =PCA(n_components =2)\n",
    "X_train, X_test, y_train, y_test = train_test_split(X, y, test_size=0.2, random_state=0)\n",
    "X_train = X_train*10\n",
    "X_test = X_test *10\n"
   ]
  },
  {
   "cell_type": "code",
   "execution_count": 9,
   "id": "introductory-grove",
   "metadata": {},
   "outputs": [
    {
     "data": {
      "text/plain": [
       "array([[58., 28., 51., 24.],\n",
       "       [60., 22., 40., 10.],\n",
       "       [55., 42., 14.,  2.],\n",
       "       [73., 29., 63., 18.],\n",
       "       [50., 34., 15.,  2.]])"
      ]
     },
     "execution_count": 9,
     "metadata": {},
     "output_type": "execute_result"
    }
   ],
   "source": [
    "X_test[:5]"
   ]
  },
  {
   "cell_type": "code",
   "execution_count": 10,
   "id": "bearing-spider",
   "metadata": {},
   "outputs": [
    {
     "name": "stdout",
     "output_type": "stream",
     "text": [
      "Number of mislabeled points out of a total 30 points : 1\n",
      "0.9666666666666667\n"
     ]
    }
   ],
   "source": [
    "gnb = GaussianNB()\n",
    "y_pred = gnb.fit(X_train, y_train).predict(X_test)\n",
    "print(\"Number of mislabeled points out of a total %d points : %d\" % (X_test.shape[0], (y_test != y_pred).sum()))\n",
    "print(accuracy_score(y_test, y_pred))"
   ]
  },
  {
   "cell_type": "code",
   "execution_count": 164,
   "id": "southeast-paraguay",
   "metadata": {},
   "outputs": [
    {
     "name": "stdout",
     "output_type": "stream",
     "text": [
      "Number of mislabeled points out of a total 30 points : 24\n",
      "0.2\n"
     ]
    }
   ],
   "source": [
    "gnb = BernoulliNB()\n",
    "y_pred = gnb.fit(X_train, y_train).predict(X_test)\n",
    "print(\"Number of mislabeled points out of a total %d points : %d\" % (X_test.shape[0], (y_test != y_pred).sum()))\n",
    "print(accuracy_score(y_test, y_pred))"
   ]
  },
  {
   "cell_type": "code",
   "execution_count": 11,
   "id": "liable-pierre",
   "metadata": {},
   "outputs": [],
   "source": [
    "X, y = load_iris(return_X_y=True)\n",
    "x_train, x_test, y_train, y_test = train_test_split(X, y, test_size=0.2, random_state=0)\n"
   ]
  },
  {
   "cell_type": "code",
   "execution_count": 12,
   "id": "cardiac-nitrogen",
   "metadata": {},
   "outputs": [
    {
     "data": {
      "text/plain": [
       "array([[58., 28., 51., 24.],\n",
       "       [60., 22., 40., 10.],\n",
       "       [55., 42., 14.,  2.],\n",
       "       [73., 29., 63., 18.],\n",
       "       [50., 34., 15.,  2.]])"
      ]
     },
     "execution_count": 12,
     "metadata": {},
     "output_type": "execute_result"
    }
   ],
   "source": [
    "x_train = x_train *10\n",
    "x_test = x_test *10\n",
    "\n",
    "x_test[:5]"
   ]
  },
  {
   "cell_type": "code",
   "execution_count": 13,
   "id": "gorgeous-psychiatry",
   "metadata": {},
   "outputs": [],
   "source": [
    "df = pd.DataFrame(x_train, columns=['f1','f2', 'f3','f4'])\n",
    "\n",
    "df ['target'] = y_train\n",
    "# df_mean = df.groupby(['target']).mean()\n",
    "df_mean = df.groupby(['target']).mean().astype(int)\n",
    "# df_var = df.groupby(['target']).var()\n",
    "df_var = df.groupby(['target']).var().astype(int)\n"
   ]
  },
  {
   "cell_type": "code",
   "execution_count": 14,
   "id": "lucky-generic",
   "metadata": {},
   "outputs": [
    {
     "data": {
      "text/html": [
       "<div>\n",
       "<style scoped>\n",
       "    .dataframe tbody tr th:only-of-type {\n",
       "        vertical-align: middle;\n",
       "    }\n",
       "\n",
       "    .dataframe tbody tr th {\n",
       "        vertical-align: top;\n",
       "    }\n",
       "\n",
       "    .dataframe thead th {\n",
       "        text-align: right;\n",
       "    }\n",
       "</style>\n",
       "<table border=\"1\" class=\"dataframe\">\n",
       "  <thead>\n",
       "    <tr style=\"text-align: right;\">\n",
       "      <th></th>\n",
       "      <th>f1</th>\n",
       "      <th>f2</th>\n",
       "      <th>f3</th>\n",
       "      <th>f4</th>\n",
       "    </tr>\n",
       "    <tr>\n",
       "      <th>target</th>\n",
       "      <th></th>\n",
       "      <th></th>\n",
       "      <th></th>\n",
       "      <th></th>\n",
       "    </tr>\n",
       "  </thead>\n",
       "  <tbody>\n",
       "    <tr>\n",
       "      <th>0</th>\n",
       "      <td>13</td>\n",
       "      <td>14</td>\n",
       "      <td>2</td>\n",
       "      <td>1</td>\n",
       "    </tr>\n",
       "    <tr>\n",
       "      <th>1</th>\n",
       "      <td>27</td>\n",
       "      <td>10</td>\n",
       "      <td>23</td>\n",
       "      <td>4</td>\n",
       "    </tr>\n",
       "    <tr>\n",
       "      <th>2</th>\n",
       "      <td>39</td>\n",
       "      <td>11</td>\n",
       "      <td>30</td>\n",
       "      <td>6</td>\n",
       "    </tr>\n",
       "  </tbody>\n",
       "</table>\n",
       "</div>"
      ],
      "text/plain": [
       "        f1  f2  f3  f4\n",
       "target                \n",
       "0       13  14   2   1\n",
       "1       27  10  23   4\n",
       "2       39  11  30   6"
      ]
     },
     "execution_count": 14,
     "metadata": {},
     "output_type": "execute_result"
    }
   ],
   "source": [
    "df_var.head()"
   ]
  },
  {
   "cell_type": "code",
   "execution_count": 15,
   "id": "mediterranean-prime",
   "metadata": {},
   "outputs": [
    {
     "data": {
      "text/html": [
       "<div>\n",
       "<style scoped>\n",
       "    .dataframe tbody tr th:only-of-type {\n",
       "        vertical-align: middle;\n",
       "    }\n",
       "\n",
       "    .dataframe tbody tr th {\n",
       "        vertical-align: top;\n",
       "    }\n",
       "\n",
       "    .dataframe thead th {\n",
       "        text-align: right;\n",
       "    }\n",
       "</style>\n",
       "<table border=\"1\" class=\"dataframe\">\n",
       "  <thead>\n",
       "    <tr style=\"text-align: right;\">\n",
       "      <th></th>\n",
       "      <th>f1</th>\n",
       "      <th>f2</th>\n",
       "      <th>f3</th>\n",
       "      <th>f4</th>\n",
       "    </tr>\n",
       "    <tr>\n",
       "      <th>target</th>\n",
       "      <th></th>\n",
       "      <th></th>\n",
       "      <th></th>\n",
       "      <th></th>\n",
       "    </tr>\n",
       "  </thead>\n",
       "  <tbody>\n",
       "    <tr>\n",
       "      <th>0</th>\n",
       "      <td>50</td>\n",
       "      <td>34</td>\n",
       "      <td>14</td>\n",
       "      <td>2</td>\n",
       "    </tr>\n",
       "    <tr>\n",
       "      <th>1</th>\n",
       "      <td>58</td>\n",
       "      <td>27</td>\n",
       "      <td>42</td>\n",
       "      <td>13</td>\n",
       "    </tr>\n",
       "    <tr>\n",
       "      <th>2</th>\n",
       "      <td>66</td>\n",
       "      <td>29</td>\n",
       "      <td>55</td>\n",
       "      <td>20</td>\n",
       "    </tr>\n",
       "  </tbody>\n",
       "</table>\n",
       "</div>"
      ],
      "text/plain": [
       "        f1  f2  f3  f4\n",
       "target                \n",
       "0       50  34  14   2\n",
       "1       58  27  42  13\n",
       "2       66  29  55  20"
      ]
     },
     "execution_count": 15,
     "metadata": {},
     "output_type": "execute_result"
    }
   ],
   "source": [
    "df_mean.head()"
   ]
  },
  {
   "cell_type": "code",
   "execution_count": 17,
   "id": "aerial-treasurer",
   "metadata": {},
   "outputs": [],
   "source": [
    "#prior probability \n",
    "dfp = df.groupby('target').size()\n",
    "Prior0 = int(dfp[0]/len(df)*100)\n",
    "Prior1 = int(dfp[1]/len(df)*100)\n",
    "Prior2 = int(dfp[2]/len(df)*100)\n",
    "prior_t = [Prior0, Prior1, Prior2]"
   ]
  },
  {
   "cell_type": "code",
   "execution_count": 18,
   "id": "independent-representative",
   "metadata": {},
   "outputs": [],
   "source": [
    "mean_arr = df_mean.values\n",
    "var_arr = df_var.values\n",
    "# x_test = x_test *10\n",
    "# x_test"
   ]
  },
  {
   "cell_type": "code",
   "execution_count": 21,
   "id": "1997e081",
   "metadata": {},
   "outputs": [
    {
     "data": {
      "text/plain": [
       "True"
      ]
     },
     "execution_count": 21,
     "metadata": {},
     "output_type": "execute_result"
    }
   ],
   "source": [
    "ganache_url = \"http://127.0.0.1:8545\"\n",
    "web3 = Web3(Web3.HTTPProvider(ganache_url))\n",
    "web3.isConnected()"
   ]
  },
  {
   "cell_type": "code",
   "execution_count": null,
   "id": "69d215de",
   "metadata": {},
   "outputs": [],
   "source": [
    "abi_train = json.loads('[ { \"inputs\": [ { \"internalType\": \"int256[]\", \"name\": \"feature\", \"type\": \"int256[]\" }, { \"internalType\": \"int256\", \"name\": \"n\", \"type\": \"int256\" } ], \"name\": \"get_mean\", \"outputs\": [], \"stateMutability\": \"nonpayable\", \"type\": \"function\" }, { \"inputs\": [ { \"internalType\": \"int256[]\", \"name\": \"feature\", \"type\": \"int256[]\" }, { \"internalType\": \"int256\", \"name\": \"m\", \"type\": \"int256\" }, { \"internalType\": \"int256\", \"name\": \"n\", \"type\": \"int256\" } ], \"name\": \"get_var\", \"outputs\": [], \"stateMutability\": \"nonpayable\", \"type\": \"function\" }, { \"inputs\": [], \"name\": \"set_mean_var\", \"outputs\": [ { \"internalType\": \"int256\", \"name\": \"\", \"type\": \"int256\" }, { \"internalType\": \"int256\", \"name\": \"\", \"type\": \"int256\" } ], \"stateMutability\": \"nonpayable\", \"type\": \"function\" } ]')\n",
    "cont_t = \"0xc68179396c40C322e8db2EAd45e12AaF87c3ae52\"\n",
    "cont_train = web3.eth.contract(address=cont_t,abi=abi_train)"
   ]
  },
  {
   "cell_type": "code",
   "execution_count": null,
   "id": "50012d2d",
   "metadata": {},
   "outputs": [],
   "source": [
    "abi_pred = json.loads('[ { \"constant\": false, \"inputs\": [ { \"name\": \"x\", \"type\": \"int256[]\" }, { \"name\": \"v\", \"type\": \"int256[]\" }, { \"name\": \"m\", \"type\": \"int256[]\" } ], \"name\": \"a_getparameters1\", \"outputs\": [], \"payable\": false, \"stateMutability\": \"nonpayable\", \"type\": \"function\" }, { \"constant\": false, \"inputs\": [ { \"name\": \"e0\", \"type\": \"int256\" }, { \"name\": \"e1\", \"type\": \"int256\" }, { \"name\": \"f0\", \"type\": \"int256\" }, { \"name\": \"f1\", \"type\": \"int256\" }, { \"name\": \"g0\", \"type\": \"int256\" }, { \"name\": \"g1\", \"type\": \"int256\" }, { \"name\": \"h0\", \"type\": \"int256\" }, { \"name\": \"h1\", \"type\": \"int256\" }, { \"name\": \"Prior0\", \"type\": \"int256\" }, { \"name\": \"Prior1\", \"type\": \"int256\" } ], \"name\": \"e_exponent\", \"outputs\": [], \"payable\": false, \"stateMutability\": \"nonpayable\", \"type\": \"function\" }, { \"constant\": false, \"inputs\": [ { \"name\": \"v\", \"type\": \"int256[]\" }, { \"name\": \"k\", \"type\": \"uint256\" } ], \"name\": \"mux\", \"outputs\": [ { \"name\": \"\", \"type\": \"int256\" } ], \"payable\": false, \"stateMutability\": \"nonpayable\", \"type\": \"function\" }, { \"constant\": true, \"inputs\": [], \"name\": \"a_setparameters1\", \"outputs\": [ { \"name\": \"\", \"type\": \"int256\" }, { \"name\": \"\", \"type\": \"int256\" }, { \"name\": \"\", \"type\": \"int256\" }, { \"name\": \"\", \"type\": \"int256\" } ], \"payable\": false, \"stateMutability\": \"view\", \"type\": \"function\" }, { \"constant\": true, \"inputs\": [], \"name\": \"set_exponent\", \"outputs\": [ { \"name\": \"\", \"type\": \"int256\" }, { \"name\": \"\", \"type\": \"int256\" } ], \"payable\": false, \"stateMutability\": \"view\", \"type\": \"function\" } ]')\n",
    "cont_p = \"0x0d76d89884357E61cbD4E8B63258Be6BFD005BAd\"\n",
    "cont_pred = web3.eth.contract(address=cont_p,abi=abi_pred)"
   ]
  },
  {
   "cell_type": "code",
   "execution_count": null,
   "id": "628d504b",
   "metadata": {},
   "outputs": [],
   "source": [
    "#grit\n",
    "account1 = \"0xdd617f9D5120b7b30E4C502fdd6b13dCf286A300\"\n",
    "private_key1=\"c00b36dc1777e7fda60ff1f55b57c3f51b18c0c16fe44724e451ed062a173d74\"\n",
    "account2 = \"0x8883f1016E727C8fE93C1Df471f102bBbAF2B910\"\n",
    "private_key2=\"8d70f54549b5fb7c04fc016cc88c447fc81aff3af3065c696aee1b529fbc8ba5\""
   ]
  },
  {
   "cell_type": "code",
   "execution_count": null,
   "id": "c1ea712f",
   "metadata": {},
   "outputs": [],
   "source": [
    "def get_mean(feature, n, account, private_key,contract):\n",
    "    nonce = web3.eth.getTransactionCount(account)\n",
    "    tx = cont_train.function.get_mean(\n",
    "        feature,n\n",
    "    ).buildTransaction({\n",
    "    'gas': 3000000,\n",
    "    'gasPrice': web3.toWei('10','gwei'),\n",
    "    'from': account,\n",
    "    'nonce': nonce\n",
    "    })\n",
    "    signed_tx = web3.eth.account.signTransaction(tx, private_key=private_key)\n",
    "    tx_hash = web3.eth.sendRawTransaction(signed_tx.rawTransaction)\n",
    "    tx_receipt = web3.eth.waitForTransactionReceipt(tx_hash)\n",
    "\n",
    "def get_variance(feature, n, account, private_key,contract):\n",
    "    nonce = web3.eth.getTransactionCount(account)\n",
    "    tx = cont_train.function.get_var(\n",
    "        feature,mean.n\n",
    "    ).buildTransaction({\n",
    "    'gas': 3000000,\n",
    "    'gasPrice': web3.toWei('10','gwei'),\n",
    "    'from': account,\n",
    "    'nonce': nonce\n",
    "    })\n",
    "    signed_tx = web3.eth.account.signTransaction(tx, private_key=private_key)\n",
    "    tx_hash = web3.eth.sendRawTransaction(signed_tx.rawTransaction)\n",
    "    tx_receipt = web3.eth.waitForTransactionReceipt(tx_hash)\n",
    "    \n",
    "def get_class1(features,means, variances, account, private_key,contract):\n",
    "    nonce = web3.eth.getTransactionCount(account)\n",
    "    tx = cont_pred.function.get_var(\n",
    "        feature,mean.n\n",
    "    ).buildTransaction({\n",
    "    'gas': 3000000,\n",
    "    'gasPrice': web3.toWei('10','gwei'),\n",
    "    'from': account,\n",
    "    'nonce': nonce\n",
    "    })\n",
    "    signed_tx = web3.eth.account.signTransaction(tx, private_key=private_key)\n",
    "    tx_hash = web3.eth.sendRawTransaction(signed_tx.rawTransaction)\n",
    "    tx_receipt = web3.eth.waitForTransactionReceipt(tx_hash)\n",
    "    \n",
    "def get_class2(features,means,variances, account, private_key,contract):\n",
    "    nonce = web3.eth.getTransactionCount(account)\n",
    "    tx = cont_pred.function.get_var(\n",
    "        feature,mean,n\n",
    "    ).buildTransaction({\n",
    "    'gas': 3000000,\n",
    "    'gasPrice': web3.toWei('10','gwei'),\n",
    "    'from': account,\n",
    "    'nonce': nonce\n",
    "    })\n",
    "    signed_tx = web3.eth.account.signTransaction(tx, private_key=private_key)\n",
    "    tx_hash = web3.eth.sendRawTransaction(signed_tx.rawTransaction)\n",
    "    tx_receipt = web3.eth.waitForTransactionReceipt(tx_hash)\n",
    "\n",
    "def get_probability(A0,A1,B0,B1,C0,C1,D0,D1,Prior0,Prior1, private_key,contract):\n",
    "    nonce = web3.eth.getTransactionCount(account)\n",
    "    tx = cont_pred.function.get_var(\n",
    "        A0,A1,B0,B1,C0,C1,D0,D1,Prior0,Prior1\n",
    "    ).buildTransaction({\n",
    "    'gas': 3000000,\n",
    "    'gasPrice': web3.toWei('10','gwei'),\n",
    "    'from': account,\n",
    "    'nonce': nonce\n",
    "    })\n",
    "    signed_tx = web3.eth.account.signTransaction(tx, private_key=private_key)\n",
    "    tx_hash = web3.eth.sendRawTransaction(signed_tx.rawTransaction)\n",
    "    tx_receipt = web3.eth.waitForTransactionReceipt(tx_hash)\n",
    "\n",
    "def compare(A,B):\n",
    "    if(A>B): return A\n",
    "    else: return B"
   ]
  },
  {
   "cell_type": "code",
   "execution_count": null,
   "id": "dd948ac4",
   "metadata": {},
   "outputs": [],
   "source": []
  },
  {
   "cell_type": "code",
   "execution_count": null,
   "id": "4993ac00",
   "metadata": {},
   "outputs": [],
   "source": []
  },
  {
   "cell_type": "code",
   "execution_count": 190,
   "id": "fallen-luther",
   "metadata": {},
   "outputs": [],
   "source": [
    "pca =PCA(n_components =)\n",
    "pca.fit(x_train,pca)\n",
    "\n",
    "df_train = pca.transform(x_train).astype(int)\n",
    "df_test = pca.transform(x_test).astype(int)\n",
    "df = pd.DataFrame(df_train, columns=['f1','f2','f3','f4'])\n",
    "df ['target'] = y_train\n",
    "# df_mean = df.groupby(['target']).mean()\n",
    "df_mean = (df.groupby(['target']).mean()).astype(int)\n",
    "# df_var = df.groupby(['target']).var()\n",
    "df_var = (df.groupby(['target']).var()).astype(int)\n"
   ]
  },
  {
   "cell_type": "code",
   "execution_count": 191,
   "id": "complicated-smooth",
   "metadata": {},
   "outputs": [],
   "source": [
    "mean_arr = df_mean.values\n",
    "var_arr = df_var.values"
   ]
  },
  {
   "cell_type": "code",
   "execution_count": 192,
   "id": "beneficial-auction",
   "metadata": {},
   "outputs": [
    {
     "name": "stderr",
     "output_type": "stream",
     "text": [
      "<ipython-input-175-fa32dfeb075b>:21: RuntimeWarning: divide by zero encountered in double_scalars\n",
      "  ex = float(C0/D0)\n",
      "<ipython-input-175-fa32dfeb075b>:22: RuntimeWarning: divide by zero encountered in long_scalars\n",
      "  out = (A0/B0)*pow(e,-1*ex)\n",
      "<ipython-input-175-fa32dfeb075b>:22: RuntimeWarning: invalid value encountered in double_scalars\n",
      "  out = (A0/B0)*pow(e,-1*ex)\n"
     ]
    },
    {
     "data": {
      "text/plain": [
       "array([2., 2., 2., 2., 2., 2., 2., 2., 2., 2., 2., 2., 2., 2., 2., 2., 2.,\n",
       "       2., 2., 2., 2., 2., 2., 2., 2., 2., 2., 2., 2., 2.])"
      ]
     },
     "execution_count": 192,
     "metadata": {},
     "output_type": "execute_result"
    }
   ],
   "source": [
    "pred = classification(df_test,mean_arr,var_arr,prior_t)\n",
    "pred"
   ]
  },
  {
   "cell_type": "code",
   "execution_count": 193,
   "id": "intended-seattle",
   "metadata": {},
   "outputs": [
    {
     "name": "stdout",
     "output_type": "stream",
     "text": [
      "0.2\n"
     ]
    }
   ],
   "source": [
    "print(accuracy_score(y_test,pred))"
   ]
  },
  {
   "cell_type": "code",
   "execution_count": null,
   "id": "developed-rates",
   "metadata": {},
   "outputs": [],
   "source": []
  },
  {
   "cell_type": "code",
   "execution_count": null,
   "id": "typical-activation",
   "metadata": {},
   "outputs": [],
   "source": [
    "import matplotlib.pyplot as plt\n",
    "fig = plt.figure(figsize=(8,8))\n",
    "ax = fig.add_subplot(1,1,1)\n",
    "ax.set_xlabel('Component 1', fontsize =15)\n",
    "ax.set_ylabel('Component 2', fontsize =15)\n",
    "\n",
    "ax.set_title('2 COmponent PCA', fontsize =20)\n",
    "\n",
    "targets = ['Iris-setosa', 'Iris-versicolor', 'Iris-virginica']\n",
    "colors =['r','b','g']\n",
    "for target, color in zip(targets,colors):\n",
    "    indicesToKeep = finaldf['target']==target\n",
    "    ax.scatter(finaldf.loc[indicesToKeep,'pc1'], finaldf.loc[indicesToKeep,'pc2'], c=color, s=50)"
   ]
  }
 ],
 "metadata": {
  "kernelspec": {
   "display_name": "Python 3 (ipykernel)",
   "language": "python",
   "name": "python3"
  },
  "language_info": {
   "codemirror_mode": {
    "name": "ipython",
    "version": 3
   },
   "file_extension": ".py",
   "mimetype": "text/x-python",
   "name": "python",
   "nbconvert_exporter": "python",
   "pygments_lexer": "ipython3",
   "version": "3.7.11"
  }
 },
 "nbformat": 4,
 "nbformat_minor": 5
}
