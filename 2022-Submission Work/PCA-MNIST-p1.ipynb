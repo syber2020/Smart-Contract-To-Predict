{
 "cells": [
  {
   "cell_type": "markdown",
   "id": "acceptable-survival",
   "metadata": {},
   "source": [
    "## Loading the Dataset"
   ]
  },
  {
   "cell_type": "code",
   "execution_count": 34,
   "id": "distant-livestock",
   "metadata": {},
   "outputs": [],
   "source": [
    "import numpy as np\n",
    "import pandas as pd\n",
    "\n",
    "from sklearn.datasets import load_digits\n",
    "from sklearn.model_selection import train_test_split\n",
    "from sklearn.naive_bayes import GaussianNB\n",
    "from sklearn.naive_bayes import BernoulliNB\n",
    "from sklearn.naive_bayes import MultinomialNB\n",
    "from sklearn.metrics import accuracy_score\n",
    "import tensorflow as tf\n",
    "from sklearn.preprocessing import StandardScaler\n",
    "                        "
   ]
  },
  {
   "cell_type": "code",
   "execution_count": 35,
   "id": "fitted-romance",
   "metadata": {},
   "outputs": [],
   "source": [
    "# from sklearn.decomposition import PCA\n",
    "# pca =PCA(n_components =2)\n",
    "# principalComponents = pca.fit_transform(x_norm)\n",
    "# pdf = pd.DataFrame(data=principalComponents, columns = ['pc1', 'pc2'])\n",
    "# pdf"
   ]
  },
  {
   "cell_type": "code",
   "execution_count": 36,
   "id": "circular-bidder",
   "metadata": {},
   "outputs": [],
   "source": [
    "# finaldf = pd.concat([pdf,df[['target']]], axis =1)\n",
    "# finaldf.head()"
   ]
  },
  {
   "cell_type": "markdown",
   "id": "accurate-alignment",
   "metadata": {},
   "source": [
    "## Train"
   ]
  },
  {
   "cell_type": "code",
   "execution_count": 37,
   "id": "executed-bridal",
   "metadata": {},
   "outputs": [],
   "source": [
    "#NB scikit learn MNIST(60000)\n",
    "X,y = load_digits(return_X_y=True)\n",
    "x_train, x_test, y_train, y_test = train_test_split(X,y,test_size = 0.2, random_state =1)\n",
    "\n"
   ]
  },
  {
   "cell_type": "code",
   "execution_count": 38,
   "id": "convertible-explorer",
   "metadata": {},
   "outputs": [
    {
     "data": {
      "text/plain": [
       "(1437, 64)"
      ]
     },
     "execution_count": 38,
     "metadata": {},
     "output_type": "execute_result"
    }
   ],
   "source": [
    "train_x = x_train.reshape(x_train.shape[0], -1)   # The \"-1\" makes reshape flatten the remaining dimensions\n",
    "test_x = x_test.reshape(x_test.shape[0], -1)\n",
    "train_x.shape"
   ]
  },
  {
   "cell_type": "code",
   "execution_count": 39,
   "id": "similar-article",
   "metadata": {},
   "outputs": [],
   "source": [
    "# train_x[0]"
   ]
  },
  {
   "cell_type": "code",
   "execution_count": 40,
   "id": "simple-brisbane",
   "metadata": {},
   "outputs": [
    {
     "name": "stdout",
     "output_type": "stream",
     "text": [
      "Number of mislabeled points out of a total 360 points : 53\n",
      "0.8527777777777777\n"
     ]
    }
   ],
   "source": [
    "gnb = GaussianNB()\n",
    "y_pred = gnb.fit(train_x, y_train).predict(test_x)\n",
    "print(\"Number of mislabeled points out of a total %d points : %d\" % (test_x.shape[0], (y_test != y_pred).sum()))\n",
    "print(accuracy_score(y_test, y_pred))"
   ]
  },
  {
   "cell_type": "code",
   "execution_count": 41,
   "id": "attended-lemon",
   "metadata": {},
   "outputs": [],
   "source": [
    "# train_x = StandardScaler().fit_transform(train_x)\n",
    "# test_x = StandardScaler().fit_transform(test_x)"
   ]
  },
  {
   "cell_type": "code",
   "execution_count": 42,
   "id": "working-stand",
   "metadata": {},
   "outputs": [
    {
     "name": "stdout",
     "output_type": "stream",
     "text": [
      "Number of mislabeled points out of a total 360 points : 47\n",
      "0.8694444444444445\n"
     ]
    }
   ],
   "source": [
    "gnb = BernoulliNB()\n",
    "y_pred = gnb.fit(train_x, y_train).predict(test_x)\n",
    "print(\"Number of mislabeled points out of a total %d points : %d\" % (test_x.shape[0], (y_test != y_pred).sum()))\n",
    "print(accuracy_score(y_test, y_pred))"
   ]
  },
  {
   "cell_type": "code",
   "execution_count": 43,
   "id": "round-authentication",
   "metadata": {},
   "outputs": [
    {
     "name": "stdout",
     "output_type": "stream",
     "text": [
      "Number of mislabeled points out of a total 360 points : 33\n",
      "0.9083333333333333\n"
     ]
    }
   ],
   "source": [
    "\n",
    "gnb = MultinomialNB()\n",
    "y_pred = gnb.fit(train_x, y_train).predict(test_x)\n",
    "print(\"Number of mislabeled points out of a total %d points : %d\" % (test_x.shape[0], (y_test != y_pred).sum()))\n",
    "print(accuracy_score(y_test, y_pred))"
   ]
  },
  {
   "cell_type": "code",
   "execution_count": 44,
   "id": "innovative-connecticut",
   "metadata": {},
   "outputs": [
    {
     "data": {
      "text/plain": [
       "array([[ 0.,  0.,  0., ...,  5.,  0.,  0.],\n",
       "       [ 0.,  0.,  0., ...,  0.,  0.,  0.],\n",
       "       [ 0.,  0.,  0., ..., 13., 12.,  2.],\n",
       "       ...,\n",
       "       [ 0.,  0.,  7., ..., 13.,  2.,  0.],\n",
       "       [ 0.,  0.,  0., ..., 16.,  1.,  0.],\n",
       "       [ 0.,  0.,  8., ...,  0.,  0.,  0.]])"
      ]
     },
     "execution_count": 44,
     "metadata": {},
     "output_type": "execute_result"
    }
   ],
   "source": [
    "train_x"
   ]
  },
  {
   "cell_type": "code",
   "execution_count": 45,
   "id": "closing-notebook",
   "metadata": {},
   "outputs": [],
   "source": [
    "from sklearn.decomposition import PCA\n",
    "pca =PCA(n_components =10)\n",
    "PC_train = pca.fit_transform(train_x)\n",
    "PC_test = pca.fit_transform(test_x)\n"
   ]
  },
  {
   "cell_type": "code",
   "execution_count": 46,
   "id": "dietary-weapon",
   "metadata": {},
   "outputs": [
    {
     "name": "stdout",
     "output_type": "stream",
     "text": [
      "Number of mislabeled points out of a total 360 points : 282\n",
      "0.21666666666666667\n"
     ]
    }
   ],
   "source": [
    "gnb = GaussianNB()\n",
    "y_pred = gnb.fit(PC_train, y_train).predict(PC_test)\n",
    "print(\"Number of mislabeled points out of a total %d points : %d\" % (test_x.shape[0], (y_test != y_pred).sum()))\n",
    "print(accuracy_score(y_test, y_pred))"
   ]
  },
  {
   "cell_type": "code",
   "execution_count": 31,
   "id": "improving-scene",
   "metadata": {},
   "outputs": [],
   "source": [
    "# gnb = BernoulliNB()\n",
    "# y_pred = gnb.fit(PC_train, y_train).predict(PC_test)\n",
    "# print(\"Number of mislabeled points out of a total %d points : %d\" % (test_x.shape[0], (y_test != y_pred).sum()))\n",
    "# print(accuracy_score(y_test, y_pred))"
   ]
  },
  {
   "cell_type": "code",
   "execution_count": null,
   "id": "polyphonic-stranger",
   "metadata": {},
   "outputs": [],
   "source": []
  }
 ],
 "metadata": {
  "kernelspec": {
   "display_name": "Python 3",
   "language": "python",
   "name": "python3"
  },
  "language_info": {
   "codemirror_mode": {
    "name": "ipython",
    "version": 3
   },
   "file_extension": ".py",
   "mimetype": "text/x-python",
   "name": "python",
   "nbconvert_exporter": "python",
   "pygments_lexer": "ipython3",
   "version": "3.9.2"
  }
 },
 "nbformat": 4,
 "nbformat_minor": 5
}
