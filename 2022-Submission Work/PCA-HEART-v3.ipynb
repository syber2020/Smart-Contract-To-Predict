{
 "cells": [
  {
   "cell_type": "markdown",
   "id": "sized-newport",
   "metadata": {},
   "source": [
    "## Loading the Dataset"
   ]
  },
  {
   "cell_type": "code",
   "execution_count": 201,
   "id": "commercial-realtor",
   "metadata": {},
   "outputs": [],
   "source": [
    "import numpy as np\n",
    "import pandas as pd\n",
    "from sklearn.preprocessing import StandardScaler\n",
    "from sklearn.naive_bayes import BernoulliNB\n",
    "from sklearn.naive_bayes import MultinomialNB\n",
    "from sklearn.datasets import load_iris\n",
    "from sklearn.model_selection import train_test_split\n",
    "from sklearn.naive_bayes import GaussianNB\n",
    "from sklearn.metrics import accuracy_score\n",
    "from sklearn.datasets import load_diabetes\n",
    "import matplotlib.pyplot as plt\n",
    "import json\n",
    "from web3 import Web3\n",
    "# df['target']                             "
   ]
  },
  {
   "cell_type": "code",
   "execution_count": 202,
   "id": "4225b151",
   "metadata": {},
   "outputs": [
    {
     "data": {
      "text/plain": [
       "True"
      ]
     },
     "execution_count": 202,
     "metadata": {},
     "output_type": "execute_result"
    }
   ],
   "source": [
    "ganache_url = \"http://127.0.0.1:8545\"\n",
    "web3 = Web3(Web3.HTTPProvider(ganache_url))\n",
    "web3.isConnected()"
   ]
  },
  {
   "cell_type": "code",
   "execution_count": 203,
   "id": "fe421722",
   "metadata": {},
   "outputs": [],
   "source": [
    "abi_train = json.loads('[ { \"inputs\": [ { \"internalType\": \"int256[]\", \"name\": \"feature\", \"type\": \"int256[]\" }, { \"internalType\": \"int256\", \"name\": \"n\", \"type\": \"int256\" } ], \"name\": \"get_mean\", \"outputs\": [], \"stateMutability\": \"nonpayable\", \"type\": \"function\" }, { \"inputs\": [ { \"internalType\": \"int256[]\", \"name\": \"feature\", \"type\": \"int256[]\" }, { \"internalType\": \"int256\", \"name\": \"m\", \"type\": \"int256\" }, { \"internalType\": \"int256\", \"name\": \"n\", \"type\": \"int256\" } ], \"name\": \"get_var\", \"outputs\": [], \"stateMutability\": \"nonpayable\", \"type\": \"function\" }, { \"inputs\": [], \"name\": \"set_mean\", \"outputs\": [ { \"internalType\": \"int256\", \"name\": \"\", \"type\": \"int256\" } ], \"stateMutability\": \"nonpayable\", \"type\": \"function\" }, { \"inputs\": [], \"name\": \"set_var\", \"outputs\": [ { \"internalType\": \"int256\", \"name\": \"\", \"type\": \"int256\" } ], \"stateMutability\": \"nonpayable\", \"type\": \"function\" } ]')\n",
    "cont_t = \"0x2488a09f3E87E61f8Daa9a5923903aD064e8e474\"\n",
    "cont_train = web3.eth.contract(address=cont_t,abi=abi_train)\n",
    "abi_pred = json.loads('[ { \"constant\": false, \"inputs\": [ { \"name\": \"x\", \"type\": \"int256[]\" }, { \"name\": \"v\", \"type\": \"int256[]\" }, { \"name\": \"m\", \"type\": \"int256[]\" } ], \"name\": \"a_getparameters1\", \"outputs\": [], \"payable\": false, \"stateMutability\": \"nonpayable\", \"type\": \"function\" }, { \"constant\": false, \"inputs\": [ { \"name\": \"e0\", \"type\": \"int256\" }, { \"name\": \"e1\", \"type\": \"int256\" }, { \"name\": \"f0\", \"type\": \"int256\" }, { \"name\": \"f1\", \"type\": \"int256\" }, { \"name\": \"g0\", \"type\": \"int256\" }, { \"name\": \"g1\", \"type\": \"int256\" }, { \"name\": \"h0\", \"type\": \"int256\" }, { \"name\": \"h1\", \"type\": \"int256\" }, { \"name\": \"Prior0\", \"type\": \"int256\" }, { \"name\": \"Prior1\", \"type\": \"int256\" } ], \"name\": \"e_exponent\", \"outputs\": [], \"payable\": false, \"stateMutability\": \"nonpayable\", \"type\": \"function\" }, { \"constant\": true, \"inputs\": [], \"name\": \"set_exponent\", \"outputs\": [ { \"name\": \"\", \"type\": \"int256\" }, { \"name\": \"\", \"type\": \"int256\" } ], \"payable\": false, \"stateMutability\": \"view\", \"type\": \"function\" }, { \"constant\": true, \"inputs\": [], \"name\": \"a_setparameters1\", \"outputs\": [ { \"name\": \"\", \"type\": \"int256\" }, { \"name\": \"\", \"type\": \"int256\" }, { \"name\": \"\", \"type\": \"int256\" }, { \"name\": \"\", \"type\": \"int256\" } ], \"payable\": false, \"stateMutability\": \"view\", \"type\": \"function\" } ]')\n",
    "cont_p = \"0xCd70A8C7Ead60dF9575f0adD681f5c41163eD455\"\n",
    "cont_pred = web3.eth.contract(address=cont_p,abi=abi_pred)"
   ]
  },
  {
   "cell_type": "code",
   "execution_count": 204,
   "id": "e151a939",
   "metadata": {},
   "outputs": [],
   "source": [
    "#grit\n",
    "account1 = \"0xdd617f9D5120b7b30E4C502fdd6b13dCf286A300\"\n",
    "private_key1=\"c00b36dc1777e7fda60ff1f55b57c3f51b18c0c16fe44724e451ed062a173d74\"\n",
    "account2 = \"0x8883f1016E727C8fE93C1Df471f102bBbAF2B910\"\n",
    "private_key2=\"8d70f54549b5fb7c04fc016cc88c447fc81aff3af3065c696aee1b529fbc8ba5\""
   ]
  },
  {
   "cell_type": "code",
   "execution_count": 205,
   "id": "a509fdae",
   "metadata": {},
   "outputs": [],
   "source": [
    "def get_mean(feature, n, account, private_key,contract):\n",
    "    nonce = web3.eth.getTransactionCount(account)\n",
    "    tx = cont_train.functions.get_mean(\n",
    "        feature,n\n",
    "    ).buildTransaction({\n",
    "    'gas': 3000000,\n",
    "    'gasPrice': web3.toWei('10','gwei'),\n",
    "    'from': account,\n",
    "    'nonce': nonce\n",
    "    })\n",
    "    signed_tx = web3.eth.account.signTransaction(tx, private_key=private_key)\n",
    "    tx_hash = web3.eth.sendRawTransaction(signed_tx.rawTransaction)\n",
    "    tx_receipt = web3.eth.waitForTransactionReceipt(tx_hash)\n",
    "\n",
    "def get_variance(feature, mean, n, account, private_key,contract):\n",
    "    nonce = web3.eth.getTransactionCount(account)\n",
    "    tx = cont_train.functions.get_var(\n",
    "        feature,mean,n\n",
    "    ).buildTransaction({\n",
    "    'gas': 6000000,\n",
    "    'gasPrice': web3.toWei('10','gwei'),\n",
    "    'from': account,\n",
    "    'nonce': nonce\n",
    "    })\n",
    "    signed_tx = web3.eth.account.signTransaction(tx, private_key=private_key)\n",
    "    tx_hash = web3.eth.sendRawTransaction(signed_tx.rawTransaction)\n",
    "    tx_receipt = web3.eth.waitForTransactionReceipt(tx_hash)\n",
    "    \n",
    "def get_class(features,means, variances, account, private_key,contract):\n",
    "    nonce = web3.eth.getTransactionCount(account)\n",
    "    tx = cont_pred.functions.a_getparameters1(\n",
    "        features,means,variances\n",
    "    ).buildTransaction({\n",
    "    'gas': 6000000,\n",
    "    'gasPrice': web3.toWei('10','gwei'),\n",
    "    'from': account,\n",
    "    'nonce': nonce\n",
    "    })\n",
    "    signed_tx = web3.eth.account.signTransaction(tx, private_key=private_key)\n",
    "    tx_hash = web3.eth.sendRawTransaction(signed_tx.rawTransaction)\n",
    "    tx_receipt = web3.eth.waitForTransactionReceipt(tx_hash)\n",
    "\n",
    "def get_probability(A0,A1,B0,B1,C0,C1,D0,D1,Prior0,Prior1,account, private_key,contract):\n",
    "    nonce = web3.eth.getTransactionCount(account)\n",
    "    tx = cont_pred.functions.e_exponent(\n",
    "        A0,A1,B0,B1,C0,C1,D0,D1,Prior0,Prior1\n",
    "    ).buildTransaction({\n",
    "    'gas': 6000000,\n",
    "    'gasPrice': web3.toWei('10','gwei'),\n",
    "    'from': account,\n",
    "    'nonce': nonce\n",
    "    })\n",
    "    signed_tx = web3.eth.account.signTransaction(tx, private_key=private_key)\n",
    "    tx_hash = web3.eth.sendRawTransaction(signed_tx.rawTransaction)\n",
    "    tx_receipt = web3.eth.waitForTransactionReceipt(tx_hash)\n",
    "\n",
    "def compare(A,B):\n",
    "    if(A>B): return 0\n",
    "    else: return 1"
   ]
  },
  {
   "cell_type": "code",
   "execution_count": 206,
   "id": "1f68bb29",
   "metadata": {},
   "outputs": [],
   "source": [
    "def mux1(v,k):\n",
    "    x = 1\n",
    "#     print(type(v))\n",
    "    for i in range(len(v)):\n",
    "        if(i==k): continue\n",
    "        else:  x = x* v[i]\n",
    "    return x\n",
    "\n",
    "def compute_param(x,m,v):\n",
    "    B0=1; C0 =1.0;  A0=1; e = 2.718\n",
    "    c = np.zeros(len(v));\n",
    "    for i in range(len(v)):\n",
    "        B0 = B0* int(v[i])\n",
    "        c[i] = (x[i]-m[i])*(x[i]-m[i])\n",
    "    D0 = B0\n",
    "    for i in range(len(c)):\n",
    "        C0 = C0+c[i]*mux1(v,i) \n",
    "    ex = float(C0/D0)\n",
    "    return (A0,B0,C0,D0)\n",
    "      \n",
    "def exponent(x, m1,m2, v1,v2, Prior0,Prior1):\n",
    "        A0,B0,C0,D0 = compute_param(x,m1,v1)\n",
    "        print(A0,B0,C0,D0)\n",
    "        A1,B1,C1,D1 = compute_param(x,m2,v2)\n",
    "        print(A1,B1,C1,D1)\n",
    "        A = A0*B1\n",
    "        B = B0*A1   \n",
    "        C = (C0*D1)-(C1*D0)\n",
    "        D = D0*D1\n",
    "\n",
    "        Q = int(C/D)\n",
    "        R = C%D;\n",
    "       \n",
    "        Enum=19\n",
    "        Eden=7\n",
    "        \n",
    "        edenR = 24*(D*D*D*D)\n",
    "        enumR = 24*D*D*D*D+ R*24*D*D*D+R*R*12*D*D+R*R*R*4*D+R*R*R*R\n",
    "        \n",
    "        if(Q>=0):\n",
    "            P0 = A*1*edenR*Prior0*Prior0\n",
    "            P1 = B*1000*enumR*Prior1*Prior1\n",
    "        else:\n",
    "            P0 = A*1000*edenR*Prior0*Prior0\n",
    "            P1 = B*1*enumR*Prior1*Prior1\n",
    "        if(P0>P1): \n",
    "            return 0\n",
    "        else : \n",
    "            return 1\n"
   ]
  },
  {
   "cell_type": "code",
   "execution_count": 207,
   "id": "34740152",
   "metadata": {},
   "outputs": [
    {
     "data": {
      "text/plain": [
       "5632"
      ]
     },
     "execution_count": 207,
     "metadata": {},
     "output_type": "execute_result"
    }
   ],
   "source": [
    "cont_train.functions.set_mean().call()\n",
    "cont_train.functions.set_var().call()"
   ]
  },
  {
   "cell_type": "code",
   "execution_count": 208,
   "id": "particular-reception",
   "metadata": {},
   "outputs": [
    {
     "data": {
      "text/html": [
       "<div>\n",
       "<style scoped>\n",
       "    .dataframe tbody tr th:only-of-type {\n",
       "        vertical-align: middle;\n",
       "    }\n",
       "\n",
       "    .dataframe tbody tr th {\n",
       "        vertical-align: top;\n",
       "    }\n",
       "\n",
       "    .dataframe thead th {\n",
       "        text-align: right;\n",
       "    }\n",
       "</style>\n",
       "<table border=\"1\" class=\"dataframe\">\n",
       "  <thead>\n",
       "    <tr style=\"text-align: right;\">\n",
       "      <th></th>\n",
       "      <th>age</th>\n",
       "      <th>sex</th>\n",
       "      <th>cp</th>\n",
       "      <th>trestbps</th>\n",
       "      <th>chol</th>\n",
       "      <th>fbs</th>\n",
       "      <th>restecg</th>\n",
       "      <th>thalach</th>\n",
       "      <th>exang</th>\n",
       "      <th>oldpeak</th>\n",
       "      <th>slope</th>\n",
       "      <th>ca</th>\n",
       "      <th>thal</th>\n",
       "      <th>target</th>\n",
       "    </tr>\n",
       "  </thead>\n",
       "  <tbody>\n",
       "    <tr>\n",
       "      <th>0</th>\n",
       "      <td>63</td>\n",
       "      <td>1</td>\n",
       "      <td>3</td>\n",
       "      <td>145</td>\n",
       "      <td>233</td>\n",
       "      <td>1</td>\n",
       "      <td>0</td>\n",
       "      <td>150</td>\n",
       "      <td>0</td>\n",
       "      <td>2.3</td>\n",
       "      <td>0</td>\n",
       "      <td>0</td>\n",
       "      <td>1</td>\n",
       "      <td>1</td>\n",
       "    </tr>\n",
       "    <tr>\n",
       "      <th>1</th>\n",
       "      <td>37</td>\n",
       "      <td>1</td>\n",
       "      <td>2</td>\n",
       "      <td>130</td>\n",
       "      <td>250</td>\n",
       "      <td>0</td>\n",
       "      <td>1</td>\n",
       "      <td>187</td>\n",
       "      <td>0</td>\n",
       "      <td>3.5</td>\n",
       "      <td>0</td>\n",
       "      <td>0</td>\n",
       "      <td>2</td>\n",
       "      <td>1</td>\n",
       "    </tr>\n",
       "    <tr>\n",
       "      <th>2</th>\n",
       "      <td>41</td>\n",
       "      <td>0</td>\n",
       "      <td>1</td>\n",
       "      <td>130</td>\n",
       "      <td>204</td>\n",
       "      <td>0</td>\n",
       "      <td>0</td>\n",
       "      <td>172</td>\n",
       "      <td>0</td>\n",
       "      <td>1.4</td>\n",
       "      <td>2</td>\n",
       "      <td>0</td>\n",
       "      <td>2</td>\n",
       "      <td>1</td>\n",
       "    </tr>\n",
       "    <tr>\n",
       "      <th>3</th>\n",
       "      <td>56</td>\n",
       "      <td>1</td>\n",
       "      <td>1</td>\n",
       "      <td>120</td>\n",
       "      <td>236</td>\n",
       "      <td>0</td>\n",
       "      <td>1</td>\n",
       "      <td>178</td>\n",
       "      <td>0</td>\n",
       "      <td>0.8</td>\n",
       "      <td>2</td>\n",
       "      <td>0</td>\n",
       "      <td>2</td>\n",
       "      <td>1</td>\n",
       "    </tr>\n",
       "    <tr>\n",
       "      <th>4</th>\n",
       "      <td>57</td>\n",
       "      <td>0</td>\n",
       "      <td>0</td>\n",
       "      <td>120</td>\n",
       "      <td>354</td>\n",
       "      <td>0</td>\n",
       "      <td>1</td>\n",
       "      <td>163</td>\n",
       "      <td>1</td>\n",
       "      <td>0.6</td>\n",
       "      <td>2</td>\n",
       "      <td>0</td>\n",
       "      <td>2</td>\n",
       "      <td>1</td>\n",
       "    </tr>\n",
       "  </tbody>\n",
       "</table>\n",
       "</div>"
      ],
      "text/plain": [
       "   age  sex  cp  trestbps  chol  fbs  restecg  thalach  exang  oldpeak  slope  \\\n",
       "0   63    1   3       145   233    1        0      150      0      2.3      0   \n",
       "1   37    1   2       130   250    0        1      187      0      3.5      0   \n",
       "2   41    0   1       130   204    0        0      172      0      1.4      2   \n",
       "3   56    1   1       120   236    0        1      178      0      0.8      2   \n",
       "4   57    0   0       120   354    0        1      163      1      0.6      2   \n",
       "\n",
       "   ca  thal  target  \n",
       "0   0     1       1  \n",
       "1   0     2       1  \n",
       "2   0     2       1  \n",
       "3   0     2       1  \n",
       "4   0     2       1  "
      ]
     },
     "execution_count": 208,
     "metadata": {},
     "output_type": "execute_result"
    }
   ],
   "source": [
    "df = pd.read_csv(\"heart.csv\")\n",
    "df.head()\n"
   ]
  },
  {
   "cell_type": "code",
   "execution_count": 209,
   "id": "particular-fabric",
   "metadata": {},
   "outputs": [
    {
     "data": {
      "text/plain": [
       "(303,)"
      ]
     },
     "execution_count": 209,
     "metadata": {},
     "output_type": "execute_result"
    }
   ],
   "source": [
    "# df['oldpeak'] - df['oldpeak']*10\n",
    "target = np.array(df['target'].values)\n",
    "target.shape"
   ]
  },
  {
   "cell_type": "code",
   "execution_count": 210,
   "id": "spread-baking",
   "metadata": {},
   "outputs": [
    {
     "data": {
      "text/plain": [
       "(303, 13)"
      ]
     },
     "execution_count": 210,
     "metadata": {},
     "output_type": "execute_result"
    }
   ],
   "source": [
    "features = np.array(df.drop(columns = ['target']))\n",
    "features.shape"
   ]
  },
  {
   "cell_type": "code",
   "execution_count": 211,
   "id": "iraqi-intensity",
   "metadata": {},
   "outputs": [
    {
     "data": {
      "text/html": [
       "<div>\n",
       "<style scoped>\n",
       "    .dataframe tbody tr th:only-of-type {\n",
       "        vertical-align: middle;\n",
       "    }\n",
       "\n",
       "    .dataframe tbody tr th {\n",
       "        vertical-align: top;\n",
       "    }\n",
       "\n",
       "    .dataframe thead th {\n",
       "        text-align: right;\n",
       "    }\n",
       "</style>\n",
       "<table border=\"1\" class=\"dataframe\">\n",
       "  <thead>\n",
       "    <tr style=\"text-align: right;\">\n",
       "      <th></th>\n",
       "      <th>age</th>\n",
       "      <th>sex</th>\n",
       "      <th>cp</th>\n",
       "      <th>trestbps</th>\n",
       "      <th>chol</th>\n",
       "      <th>fbs</th>\n",
       "      <th>restecg</th>\n",
       "      <th>thalach</th>\n",
       "      <th>exang</th>\n",
       "      <th>oldpeak</th>\n",
       "      <th>slope</th>\n",
       "      <th>ca</th>\n",
       "      <th>thal</th>\n",
       "      <th>target</th>\n",
       "    </tr>\n",
       "  </thead>\n",
       "  <tbody>\n",
       "    <tr>\n",
       "      <th>0</th>\n",
       "      <td>63</td>\n",
       "      <td>1</td>\n",
       "      <td>3</td>\n",
       "      <td>145</td>\n",
       "      <td>233</td>\n",
       "      <td>1</td>\n",
       "      <td>0</td>\n",
       "      <td>150</td>\n",
       "      <td>0</td>\n",
       "      <td>2.3</td>\n",
       "      <td>0</td>\n",
       "      <td>0</td>\n",
       "      <td>1</td>\n",
       "      <td>1</td>\n",
       "    </tr>\n",
       "    <tr>\n",
       "      <th>1</th>\n",
       "      <td>37</td>\n",
       "      <td>1</td>\n",
       "      <td>2</td>\n",
       "      <td>130</td>\n",
       "      <td>250</td>\n",
       "      <td>0</td>\n",
       "      <td>1</td>\n",
       "      <td>187</td>\n",
       "      <td>0</td>\n",
       "      <td>3.5</td>\n",
       "      <td>0</td>\n",
       "      <td>0</td>\n",
       "      <td>2</td>\n",
       "      <td>1</td>\n",
       "    </tr>\n",
       "    <tr>\n",
       "      <th>2</th>\n",
       "      <td>41</td>\n",
       "      <td>0</td>\n",
       "      <td>1</td>\n",
       "      <td>130</td>\n",
       "      <td>204</td>\n",
       "      <td>0</td>\n",
       "      <td>0</td>\n",
       "      <td>172</td>\n",
       "      <td>0</td>\n",
       "      <td>1.4</td>\n",
       "      <td>2</td>\n",
       "      <td>0</td>\n",
       "      <td>2</td>\n",
       "      <td>1</td>\n",
       "    </tr>\n",
       "    <tr>\n",
       "      <th>3</th>\n",
       "      <td>56</td>\n",
       "      <td>1</td>\n",
       "      <td>1</td>\n",
       "      <td>120</td>\n",
       "      <td>236</td>\n",
       "      <td>0</td>\n",
       "      <td>1</td>\n",
       "      <td>178</td>\n",
       "      <td>0</td>\n",
       "      <td>0.8</td>\n",
       "      <td>2</td>\n",
       "      <td>0</td>\n",
       "      <td>2</td>\n",
       "      <td>1</td>\n",
       "    </tr>\n",
       "    <tr>\n",
       "      <th>4</th>\n",
       "      <td>57</td>\n",
       "      <td>0</td>\n",
       "      <td>0</td>\n",
       "      <td>120</td>\n",
       "      <td>354</td>\n",
       "      <td>0</td>\n",
       "      <td>1</td>\n",
       "      <td>163</td>\n",
       "      <td>1</td>\n",
       "      <td>0.6</td>\n",
       "      <td>2</td>\n",
       "      <td>0</td>\n",
       "      <td>2</td>\n",
       "      <td>1</td>\n",
       "    </tr>\n",
       "  </tbody>\n",
       "</table>\n",
       "</div>"
      ],
      "text/plain": [
       "   age  sex  cp  trestbps  chol  fbs  restecg  thalach  exang  oldpeak  slope  \\\n",
       "0   63    1   3       145   233    1        0      150      0      2.3      0   \n",
       "1   37    1   2       130   250    0        1      187      0      3.5      0   \n",
       "2   41    0   1       130   204    0        0      172      0      1.4      2   \n",
       "3   56    1   1       120   236    0        1      178      0      0.8      2   \n",
       "4   57    0   0       120   354    0        1      163      1      0.6      2   \n",
       "\n",
       "   ca  thal  target  \n",
       "0   0     1       1  \n",
       "1   0     2       1  \n",
       "2   0     2       1  \n",
       "3   0     2       1  \n",
       "4   0     2       1  "
      ]
     },
     "execution_count": 211,
     "metadata": {},
     "output_type": "execute_result"
    }
   ],
   "source": [
    "df.head()"
   ]
  },
  {
   "cell_type": "code",
   "execution_count": 212,
   "id": "nuclear-appendix",
   "metadata": {},
   "outputs": [],
   "source": [
    "x_train,x_test, y_train, y_test = train_test_split(features,target,test_size=0.2, random_state=0)\n",
    "x_train = (StandardScaler().fit_transform(x_train)*100).astype(int)\n",
    "x_test = (StandardScaler().fit_transform(x_test)*100).astype(int)\n",
    "# x_test"
   ]
  },
  {
   "cell_type": "code",
   "execution_count": 213,
   "id": "dominant-delta",
   "metadata": {},
   "outputs": [
    {
     "data": {
      "text/plain": [
       "(242, 13)"
      ]
     },
     "execution_count": 213,
     "metadata": {},
     "output_type": "execute_result"
    }
   ],
   "source": [
    "x_train.shape"
   ]
  },
  {
   "cell_type": "code",
   "execution_count": 250,
   "id": "appointed-bulletin",
   "metadata": {},
   "outputs": [
    {
     "name": "stdout",
     "output_type": "stream",
     "text": [
      "Number of mislabeled points out of a total 61 points : 12\n",
      "0.8032786885245902\n"
     ]
    }
   ],
   "source": [
    "gnb = GaussianNB()\n",
    "y_pred = gnb.fit(x_train, y_train).predict(x_test)\n",
    "print(\"Number of mislabeled points out of a total %d points : %d\" % (x_test.shape[0], (y_test != y_pred).sum()))\n",
    "print(accuracy_score(y_test, y_pred))"
   ]
  },
  {
   "cell_type": "code",
   "execution_count": 251,
   "id": "detailed-poster",
   "metadata": {},
   "outputs": [],
   "source": [
    "df = pd.read_csv(\"heart.csv\")\n",
    "target = np.array(df['target'].values)\n",
    "features = np.array(df.drop(columns = ['target']))\n",
    "dfp = df.groupby('target').size()\n",
    "Prior0 = int(dfp[0]/len(df)*100)\n",
    "Prior1 = int(dfp[1]/len(df)*100)"
   ]
  },
  {
   "cell_type": "code",
   "execution_count": 252,
   "id": "communist-forge",
   "metadata": {},
   "outputs": [],
   "source": [
    "x_train,x_test, y_train, y_test = train_test_split(features,target,test_size=0.2, random_state=0)\n",
    "x_train = (StandardScaler().fit_transform(x_train)*100).astype(int)\n",
    "x_test = (StandardScaler().fit_transform(x_test)*100).astype(int)"
   ]
  },
  {
   "cell_type": "code",
   "execution_count": 253,
   "id": "concerned-stamp",
   "metadata": {},
   "outputs": [],
   "source": [
    "df_new = pd.DataFrame(x_train,columns=['f1','f2','f3','f4','f5','f6','f7','f8','f9','f10','f11','f12','f13'])\n",
    "df_new['target'] = y_train\n",
    "df_mean = df_new.groupby(['target']).mean().astype(int)\n",
    "df_var = df_new.groupby(['target']).var().astype(int)\n",
    "mean = df_mean.values\n",
    "var = df_var.values"
   ]
  },
  {
   "cell_type": "code",
   "execution_count": 254,
   "id": "7dea6c4a",
   "metadata": {},
   "outputs": [
    {
     "data": {
      "text/html": [
       "<div>\n",
       "<style scoped>\n",
       "    .dataframe tbody tr th:only-of-type {\n",
       "        vertical-align: middle;\n",
       "    }\n",
       "\n",
       "    .dataframe tbody tr th {\n",
       "        vertical-align: top;\n",
       "    }\n",
       "\n",
       "    .dataframe thead th {\n",
       "        text-align: right;\n",
       "    }\n",
       "</style>\n",
       "<table border=\"1\" class=\"dataframe\">\n",
       "  <thead>\n",
       "    <tr style=\"text-align: right;\">\n",
       "      <th></th>\n",
       "      <th>f1</th>\n",
       "      <th>f2</th>\n",
       "      <th>f3</th>\n",
       "      <th>f4</th>\n",
       "      <th>f5</th>\n",
       "      <th>f6</th>\n",
       "      <th>f7</th>\n",
       "      <th>f8</th>\n",
       "      <th>f9</th>\n",
       "      <th>f10</th>\n",
       "      <th>f11</th>\n",
       "      <th>f12</th>\n",
       "      <th>f13</th>\n",
       "    </tr>\n",
       "    <tr>\n",
       "      <th>target</th>\n",
       "      <th></th>\n",
       "      <th></th>\n",
       "      <th></th>\n",
       "      <th></th>\n",
       "      <th></th>\n",
       "      <th></th>\n",
       "      <th></th>\n",
       "      <th></th>\n",
       "      <th></th>\n",
       "      <th></th>\n",
       "      <th></th>\n",
       "      <th></th>\n",
       "      <th></th>\n",
       "    </tr>\n",
       "  </thead>\n",
       "  <tbody>\n",
       "    <tr>\n",
       "      <th>0</th>\n",
       "      <td>22</td>\n",
       "      <td>34</td>\n",
       "      <td>-46</td>\n",
       "      <td>15</td>\n",
       "      <td>6</td>\n",
       "      <td>6</td>\n",
       "      <td>-7</td>\n",
       "      <td>-44</td>\n",
       "      <td>47</td>\n",
       "      <td>44</td>\n",
       "      <td>-32</td>\n",
       "      <td>46</td>\n",
       "      <td>33</td>\n",
       "    </tr>\n",
       "    <tr>\n",
       "      <th>1</th>\n",
       "      <td>-19</td>\n",
       "      <td>-29</td>\n",
       "      <td>39</td>\n",
       "      <td>-12</td>\n",
       "      <td>-5</td>\n",
       "      <td>-4</td>\n",
       "      <td>7</td>\n",
       "      <td>37</td>\n",
       "      <td>-39</td>\n",
       "      <td>-37</td>\n",
       "      <td>27</td>\n",
       "      <td>-39</td>\n",
       "      <td>-27</td>\n",
       "    </tr>\n",
       "  </tbody>\n",
       "</table>\n",
       "</div>"
      ],
      "text/plain": [
       "        f1  f2  f3  f4  f5  f6  f7  f8  f9  f10  f11  f12  f13\n",
       "target                                                        \n",
       "0       22  34 -46  15   6   6  -7 -44  47   44  -32   46   33\n",
       "1      -19 -29  39 -12  -5  -4   7  37 -39  -37   27  -39  -27"
      ]
     },
     "execution_count": 254,
     "metadata": {},
     "output_type": "execute_result"
    }
   ],
   "source": [
    "df_mean"
   ]
  },
  {
   "cell_type": "code",
   "execution_count": 255,
   "id": "eb2d0db2",
   "metadata": {},
   "outputs": [
    {
     "data": {
      "text/html": [
       "<div>\n",
       "<style scoped>\n",
       "    .dataframe tbody tr th:only-of-type {\n",
       "        vertical-align: middle;\n",
       "    }\n",
       "\n",
       "    .dataframe tbody tr th {\n",
       "        vertical-align: top;\n",
       "    }\n",
       "\n",
       "    .dataframe thead th {\n",
       "        text-align: right;\n",
       "    }\n",
       "</style>\n",
       "<table border=\"1\" class=\"dataframe\">\n",
       "  <thead>\n",
       "    <tr style=\"text-align: right;\">\n",
       "      <th></th>\n",
       "      <th>f1</th>\n",
       "      <th>f2</th>\n",
       "      <th>f3</th>\n",
       "      <th>f4</th>\n",
       "      <th>f5</th>\n",
       "      <th>f6</th>\n",
       "      <th>f7</th>\n",
       "      <th>f8</th>\n",
       "      <th>f9</th>\n",
       "      <th>f10</th>\n",
       "      <th>f11</th>\n",
       "      <th>f12</th>\n",
       "      <th>f13</th>\n",
       "    </tr>\n",
       "    <tr>\n",
       "      <th>target</th>\n",
       "      <th></th>\n",
       "      <th></th>\n",
       "      <th></th>\n",
       "      <th></th>\n",
       "      <th></th>\n",
       "      <th></th>\n",
       "      <th></th>\n",
       "      <th></th>\n",
       "      <th></th>\n",
       "      <th></th>\n",
       "      <th></th>\n",
       "      <th></th>\n",
       "      <th></th>\n",
       "    </tr>\n",
       "  </thead>\n",
       "  <tbody>\n",
       "    <tr>\n",
       "      <th>0</th>\n",
       "      <td>7326</td>\n",
       "      <td>6161</td>\n",
       "      <td>7549</td>\n",
       "      <td>11347</td>\n",
       "      <td>8532</td>\n",
       "      <td>11223</td>\n",
       "      <td>10726</td>\n",
       "      <td>9655</td>\n",
       "      <td>10972</td>\n",
       "      <td>12593</td>\n",
       "      <td>8538</td>\n",
       "      <td>10726</td>\n",
       "      <td>13499</td>\n",
       "    </tr>\n",
       "    <tr>\n",
       "      <th>1</th>\n",
       "      <td>11453</td>\n",
       "      <td>11268</td>\n",
       "      <td>8705</td>\n",
       "      <td>8506</td>\n",
       "      <td>11197</td>\n",
       "      <td>8921</td>\n",
       "      <td>9236</td>\n",
       "      <td>7239</td>\n",
       "      <td>5510</td>\n",
       "      <td>4669</td>\n",
       "      <td>9552</td>\n",
       "      <td>5939</td>\n",
       "      <td>5388</td>\n",
       "    </tr>\n",
       "  </tbody>\n",
       "</table>\n",
       "</div>"
      ],
      "text/plain": [
       "           f1     f2    f3     f4     f5     f6     f7    f8     f9    f10  \\\n",
       "target                                                                       \n",
       "0        7326   6161  7549  11347   8532  11223  10726  9655  10972  12593   \n",
       "1       11453  11268  8705   8506  11197   8921   9236  7239   5510   4669   \n",
       "\n",
       "         f11    f12    f13  \n",
       "target                      \n",
       "0       8538  10726  13499  \n",
       "1       9552   5939   5388  "
      ]
     },
     "execution_count": 255,
     "metadata": {},
     "output_type": "execute_result"
    }
   ],
   "source": [
    "df_var"
   ]
  },
  {
   "cell_type": "code",
   "execution_count": 256,
   "id": "c7accc4c",
   "metadata": {},
   "outputs": [],
   "source": [
    "x_train_0 = df_new.loc[df_new['target']==0]\n",
    "x_train_1 = df_new.loc[df_new['target']==1]\n",
    "x_train_0_ar = x_train_0.to_numpy()\n",
    "x_train_1_ar = x_train_1.to_numpy()"
   ]
  },
  {
   "cell_type": "code",
   "execution_count": 257,
   "id": "1d80309e",
   "metadata": {},
   "outputs": [
    {
     "data": {
      "text/plain": [
       "array([[  91, -143,  -92, ...,  -70,  -46,    0],\n",
       "       [  24,   69,    3, ...,   26,  -46,    0],\n",
       "       [  46,   69,  194, ...,  123,  -46,    0],\n",
       "       ...,\n",
       "       [-132,   69,  -92, ...,  318,  114,    0],\n",
       "       [  -9,   69,  -92, ...,   26,  114,    0],\n",
       "       [  35,   69,    3, ...,  -70,  -46,    0]])"
      ]
     },
     "execution_count": 257,
     "metadata": {},
     "output_type": "execute_result"
    }
   ],
   "source": [
    "x_train_0_ar"
   ]
  },
  {
   "cell_type": "code",
   "execution_count": 258,
   "id": "48bc71a9",
   "metadata": {},
   "outputs": [
    {
     "data": {
      "text/html": [
       "<div>\n",
       "<style scoped>\n",
       "    .dataframe tbody tr th:only-of-type {\n",
       "        vertical-align: middle;\n",
       "    }\n",
       "\n",
       "    .dataframe tbody tr th {\n",
       "        vertical-align: top;\n",
       "    }\n",
       "\n",
       "    .dataframe thead th {\n",
       "        text-align: right;\n",
       "    }\n",
       "</style>\n",
       "<table border=\"1\" class=\"dataframe\">\n",
       "  <thead>\n",
       "    <tr style=\"text-align: right;\">\n",
       "      <th></th>\n",
       "      <th>f1</th>\n",
       "      <th>f2</th>\n",
       "      <th>f3</th>\n",
       "      <th>f4</th>\n",
       "      <th>f5</th>\n",
       "      <th>f6</th>\n",
       "      <th>f7</th>\n",
       "      <th>f8</th>\n",
       "      <th>f9</th>\n",
       "      <th>f10</th>\n",
       "      <th>f11</th>\n",
       "      <th>f12</th>\n",
       "      <th>f13</th>\n",
       "      <th>target</th>\n",
       "    </tr>\n",
       "  </thead>\n",
       "  <tbody>\n",
       "    <tr>\n",
       "      <th>0</th>\n",
       "      <td>-132</td>\n",
       "      <td>-143</td>\n",
       "      <td>98</td>\n",
       "      <td>-57</td>\n",
       "      <td>-63</td>\n",
       "      <td>-41</td>\n",
       "      <td>90</td>\n",
       "      <td>65</td>\n",
       "      <td>-70</td>\n",
       "      <td>-72</td>\n",
       "      <td>-66</td>\n",
       "      <td>-70</td>\n",
       "      <td>-46</td>\n",
       "      <td>1</td>\n",
       "    </tr>\n",
       "    <tr>\n",
       "      <th>1</th>\n",
       "      <td>124</td>\n",
       "      <td>-143</td>\n",
       "      <td>98</td>\n",
       "      <td>83</td>\n",
       "      <td>58</td>\n",
       "      <td>-41</td>\n",
       "      <td>-97</td>\n",
       "      <td>9</td>\n",
       "      <td>-70</td>\n",
       "      <td>-89</td>\n",
       "      <td>-66</td>\n",
       "      <td>26</td>\n",
       "      <td>-46</td>\n",
       "      <td>1</td>\n",
       "    </tr>\n",
       "    <tr>\n",
       "      <th>2</th>\n",
       "      <td>35</td>\n",
       "      <td>69</td>\n",
       "      <td>98</td>\n",
       "      <td>47</td>\n",
       "      <td>-67</td>\n",
       "      <td>239</td>\n",
       "      <td>-97</td>\n",
       "      <td>65</td>\n",
       "      <td>-70</td>\n",
       "      <td>-89</td>\n",
       "      <td>95</td>\n",
       "      <td>-70</td>\n",
       "      <td>-46</td>\n",
       "      <td>1</td>\n",
       "    </tr>\n",
       "    <tr>\n",
       "      <th>7</th>\n",
       "      <td>-87</td>\n",
       "      <td>69</td>\n",
       "      <td>-92</td>\n",
       "      <td>-115</td>\n",
       "      <td>-80</td>\n",
       "      <td>-41</td>\n",
       "      <td>90</td>\n",
       "      <td>-29</td>\n",
       "      <td>-70</td>\n",
       "      <td>-80</td>\n",
       "      <td>95</td>\n",
       "      <td>-70</td>\n",
       "      <td>-46</td>\n",
       "      <td>1</td>\n",
       "    </tr>\n",
       "    <tr>\n",
       "      <th>8</th>\n",
       "      <td>-43</td>\n",
       "      <td>69</td>\n",
       "      <td>-92</td>\n",
       "      <td>47</td>\n",
       "      <td>26</td>\n",
       "      <td>-41</td>\n",
       "      <td>-97</td>\n",
       "      <td>156</td>\n",
       "      <td>140</td>\n",
       "      <td>-89</td>\n",
       "      <td>95</td>\n",
       "      <td>-70</td>\n",
       "      <td>-46</td>\n",
       "      <td>1</td>\n",
       "    </tr>\n",
       "  </tbody>\n",
       "</table>\n",
       "</div>"
      ],
      "text/plain": [
       "    f1   f2  f3   f4  f5   f6  f7   f8   f9  f10  f11  f12  f13  target\n",
       "0 -132 -143  98  -57 -63  -41  90   65  -70  -72  -66  -70  -46       1\n",
       "1  124 -143  98   83  58  -41 -97    9  -70  -89  -66   26  -46       1\n",
       "2   35   69  98   47 -67  239 -97   65  -70  -89   95  -70  -46       1\n",
       "7  -87   69 -92 -115 -80  -41  90  -29  -70  -80   95  -70  -46       1\n",
       "8  -43   69 -92   47  26  -41 -97  156  140  -89   95  -70  -46       1"
      ]
     },
     "execution_count": 258,
     "metadata": {},
     "output_type": "execute_result"
    }
   ],
   "source": [
    "x_train_1.head()"
   ]
  },
  {
   "cell_type": "code",
   "execution_count": 259,
   "id": "buried-queen",
   "metadata": {},
   "outputs": [
    {
     "data": {
      "text/plain": [
       "array([[ 22,  34, -46,  15,   6,   6,  -7, -44,  47,  44, -32,  46,  33],\n",
       "       [-19, -29,  39, -12,  -5,  -4,   7,  37, -39, -37,  27, -39, -27]])"
      ]
     },
     "execution_count": 259,
     "metadata": {},
     "output_type": "execute_result"
    }
   ],
   "source": [
    "mean"
   ]
  },
  {
   "cell_type": "code",
   "execution_count": 260,
   "id": "current-philadelphia",
   "metadata": {},
   "outputs": [
    {
     "data": {
      "text/plain": [
       "array([[ 7326,  6161,  7549, 11347,  8532, 11223, 10726,  9655, 10972,\n",
       "        12593,  8538, 10726, 13499],\n",
       "       [11453, 11268,  8705,  8506, 11197,  8921,  9236,  7239,  5510,\n",
       "         4669,  9552,  5939,  5388]])"
      ]
     },
     "execution_count": 260,
     "metadata": {},
     "output_type": "execute_result"
    }
   ],
   "source": [
    "var"
   ]
  },
  {
   "cell_type": "code",
   "execution_count": null,
   "id": "f77143a7",
   "metadata": {},
   "outputs": [],
   "source": []
  },
  {
   "cell_type": "code",
   "execution_count": 261,
   "id": "631cd57a",
   "metadata": {},
   "outputs": [],
   "source": [
    "\n",
    "_means0=[]\n",
    "_means1=[]\n",
    "for i in range(x_train.shape[1]):\n",
    "    get_mean(x_train_0_ar[:,i].tolist(), x_train_0.shape[0], account1, private_key1,cont_train)\n",
    "    _means0.append(cont_train.functions.set_mean().call())\n",
    "    get_mean(x_train_1_ar[:,i].tolist(), x_train_1.shape[0], account1, private_key1,cont_train)\n",
    "    _means1.append(cont_train.functions.set_mean().call())"
   ]
  },
  {
   "cell_type": "code",
   "execution_count": 262,
   "id": "f23d4ecb",
   "metadata": {},
   "outputs": [
    {
     "name": "stdout",
     "output_type": "stream",
     "text": [
      "[22, 34, -46, 15, 6, 6, -7, -44, 47, 44, -32, 46, 33]\n",
      "[-19, -29, 39, -12, -5, -4, 7, 37, -39, -37, 27, -39, -27]\n"
     ]
    }
   ],
   "source": [
    "print(_means0)\n",
    "print(_means1)"
   ]
  },
  {
   "cell_type": "code",
   "execution_count": 263,
   "id": "6a689393",
   "metadata": {},
   "outputs": [],
   "source": [
    "_var0=[]\n",
    "_var1=[]\n",
    "for i in range(x_train.shape[1]):        \n",
    "    get_variance(x_train_0_ar[:,i].tolist(),int(_means0[i]), x_train_0.shape[0], account1, private_key1,cont_train)\n",
    "    _var0.append(cont_train.functions.set_var().call())\n",
    "    get_variance(x_train_1_ar[:,i].tolist(),int(_means1[i]), x_train_1.shape[0], account1, private_key1,cont_train)\n",
    "    _var1.append(cont_train.functions.set_var().call())"
   ]
  },
  {
   "cell_type": "code",
   "execution_count": 264,
   "id": "4ac989ae",
   "metadata": {},
   "outputs": [
    {
     "name": "stdout",
     "output_type": "stream",
     "text": [
      "[7260, 6106, 7481, 11245, 8455, 11123, 10630, 9568, 10873, 12480, 8461, 10629, 13377]\n",
      "[11365, 11183, 8638, 8442, 11112, 8854, 9165, 7183, 5468, 4634, 9479, 5894, 5348]\n"
     ]
    }
   ],
   "source": [
    "print(_var0)\n",
    "print(_var1)"
   ]
  },
  {
   "cell_type": "code",
   "execution_count": 265,
   "id": "c96baa8b",
   "metadata": {},
   "outputs": [],
   "source": [
    "# get_class1(features,means, variances, account, private_key,contract)\n",
    "# get_class2(features,means,variances, account, private_key,contract)\n",
    "# get_probability(A0,A1,B0,B1,C0,C1,D0,D1,Prior0,Prior1, private_key,contract)"
   ]
  },
  {
   "cell_type": "code",
   "execution_count": 266,
   "id": "fcb9c599",
   "metadata": {
    "scrolled": true
   },
   "outputs": [
    {
     "name": "stdout",
     "output_type": "stream",
     "text": [
      "[134, 62, -101, 21, 21, -41, -112, -100, -64, 182, -59, 26, 106]\n",
      "[22, 34, -46, 15, 6, 6, -7, -44, 47, 44, -32, 46, 33]\n",
      "[7260, 6106, 7481, 11245, 8455, 11123, 10630, 9568, 10873, 12480, 8461, 10629, 13377]\n"
     ]
    }
   ],
   "source": [
    "print(x_test[i,:].tolist())\n",
    "print(_means0)\n",
    "print(_var0)"
   ]
  },
  {
   "cell_type": "code",
   "execution_count": 267,
   "id": "a6ed845f",
   "metadata": {},
   "outputs": [
    {
     "name": "stdout",
     "output_type": "stream",
     "text": [
      "45 54\n"
     ]
    }
   ],
   "source": [
    "# dfp = df.groupby('target').size()\n",
    "Prior0 = int(len(x_train_0)/len(df_new)*100)\n",
    "Prior1 = int(len(x_train_1)/len(df_new)*100)\n",
    "\n",
    "print(Prior0, Prior1)"
   ]
  },
  {
   "cell_type": "code",
   "execution_count": null,
   "id": "68bfbc74",
   "metadata": {},
   "outputs": [],
   "source": []
  },
  {
   "cell_type": "code",
   "execution_count": 268,
   "id": "27e26f31",
   "metadata": {},
   "outputs": [],
   "source": [
    "var0_less = np.sqrt(np.array(_var0)).astype(int)\n",
    "var1_less = np.sqrt(np.array(_var1)).astype(int)"
   ]
  },
  {
   "cell_type": "code",
   "execution_count": 269,
   "id": "b124c232",
   "metadata": {},
   "outputs": [
    {
     "data": {
      "text/plain": [
       "[85, 78, 86, 106, 91, 105, 103, 97, 104, 111, 91, 103, 115]"
      ]
     },
     "execution_count": 269,
     "metadata": {},
     "output_type": "execute_result"
    }
   ],
   "source": [
    "var0_less.tolist()"
   ]
  },
  {
   "cell_type": "code",
   "execution_count": 270,
   "id": "6242c537",
   "metadata": {},
   "outputs": [
    {
     "data": {
      "text/plain": [
       "numpy.ndarray"
      ]
     },
     "execution_count": 270,
     "metadata": {},
     "output_type": "execute_result"
    }
   ],
   "source": [
    "type(var0_less)"
   ]
  },
  {
   "cell_type": "code",
   "execution_count": 271,
   "id": "bf41a8cb",
   "metadata": {},
   "outputs": [],
   "source": [
    "# pred = []\n",
    "# for i in range(x_test.shape[0]):\n",
    "#     pred.append(exponent(x_test[i], mean[0],mean[1], var0_less,var1_less, Prior0,Prior1))\n",
    "# predicted = np.array(pred)\n",
    "# accuracy_score(predicted,y_test)"
   ]
  },
  {
   "cell_type": "code",
   "execution_count": 272,
   "id": "65c6311a",
   "metadata": {},
   "outputs": [
    {
     "name": "stdout",
     "output_type": "stream",
     "text": [
      "1 58228998 1024916240 58228998\n",
      "1 4544697 177972237 4544697\n",
      "1083223828288207186161279388501620055954945501779462185836568427043200000 11436266619566433153361619277786012444620137048853897029636661391762432\n",
      "1 58228998 1109811493 58228998\n",
      "1 4544697 80576408 4544697\n",
      "1083223828288207186161279388501620055954945501779462185836568427043200 27789202766730090982997186650372046401673662927340438333380427032154520000\n",
      "1 58228998 1144270774 58228998\n",
      "1 4544697 80740530 4544697\n",
      "1083223828288207186161279388501620055954945501779462185836568427043200 48335231530126732829470700836276878946432579512192370775493306670746624000\n",
      "1 58228998 325375943 58228998\n",
      "1 4544697 129200454 4544697\n",
      "1083223828288207186161279388501620055954945501779462185836568427043200000 8680888506487985777356893513757171923278222978100621820250831818736280\n",
      "1 58228998 602341823 58228998\n",
      "1 4544697 105966902 4544697\n",
      "1083223828288207186161279388501620055954945501779462185836568427043200000 7683328995297722994225134738297710818686254238359926267699991344576024\n",
      "1 58228998 478407395 58228998\n",
      "1 4544697 45228480 4544697\n",
      "1083223828288207186161279388501620055954945501779462185836568427043200000 9605939959094407355472070313586921493490671088912749222255394847396120\n",
      "1 58228998 857566484 58228998\n",
      "1 4544697 137238669 4544697\n",
      "1083223828288207186161279388501620055954945501779462185836568427043200000 12493795264892604549312255758560365235163108553802411264484844035957760\n",
      "1 58228998 275639672 58228998\n",
      "1 4544697 58646651 4544697\n",
      "1083223828288207186161279388501620055954945501779462185836568427043200000 16849364693961035884486379810530426861687430594176460636299694756195712\n",
      "1 58228998 2098608088 58228998\n",
      "1 4544697 352240242 4544697\n",
      "1083223828288207186161279388501620055954945501779462185836568427043200000 12554834889666875043461842175561264708811195046619355692301310023162240\n",
      "1 58228998 1091731935 58228998\n",
      "1 4544697 200401552 4544697\n",
      "1083223828288207186161279388501620055954945501779462185836568427043200000 14130161408567681402083341778739671819352346652241164406547122338405272\n",
      "1 58228998 1501464767 58228998\n",
      "1 4544697 101999511 4544697\n",
      "1083223828288207186161279388501620055954945501779462185836568427043200 28130688464974054075093261313600639260781278036814522533233865540669464000\n",
      "1 58228998 973288479 58228998\n",
      "1 4544697 32736823 4544697\n",
      "1083223828288207186161279388501620055954945501779462185836568427043200 33326607302957592230686608862166696214126608415950687105033106157799832000\n",
      "1 58228998 409653054 58228998\n",
      "1 4544697 112893072 4544697\n",
      "1083223828288207186161279388501620055954945501779462185836568427043200000 8981283469434404015469430019769871133351010678158211112715077793958912\n",
      "1 58228998 610394457 58228998\n",
      "1 4544697 18237851 4544697\n",
      "1083223828288207186161279388501620055954945501779462185836568427043200 31961638626497993834333557882985549461705219857022907857847435234892312000\n",
      "1 58228998 919594287 58228998\n",
      "1 4544697 32440158 4544697\n",
      "1083223828288207186161279388501620055954945501779462185836568427043200 38440808232672050403584478180712825996534993313963529902340530649964824000\n",
      "1 58228998 641514305 58228998\n",
      "1 4544697 66194595 4544697\n",
      "1083223828288207186161279388501620055954945501779462185836568427043200000 11559584835374889075264697964505564927058956840657280194213188342638104\n",
      "1 58228998 958020862 58228998\n",
      "1 4544697 130857311 4544697\n",
      "1083223828288207186161279388501620055954945501779462185836568427043200000 14214932731968736509557386349272303821291264354852813422392301340294144\n",
      "1 58228998 1111622330 58228998\n",
      "1 4544697 74523473 4544697\n",
      "1083223828288207186161279388501620055954945501779462185836568427043200 39920445362095240150861866352154064541815811955677778369506596090442752000\n",
      "1 58228998 523554627 58228998\n",
      "1 4544697 155471791 4544697\n",
      "1083223828288207186161279388501620055954945501779462185836568427043200000 16067856722032147574943941113150366781675496613131279964974816270615960\n",
      "1 58228998 1520221736 58228998\n",
      "1 4544697 109947658 4544697\n",
      "1083223828288207186161279388501620055954945501779462185836568427043200 49779884618347225886579422967623945213592011683111812098788423117942144000\n",
      "1 58228998 857896399 58228998\n",
      "1 4544697 38635022 4544697\n",
      "1083223828288207186161279388501620055954945501779462185836568427043200 25204639845274574363153219779217146743212209213422414533140918962992280000\n",
      "1 58228998 547586517 58228998\n",
      "1 4544697 54118584 4544697\n",
      "1083223828288207186161279388501620055954945501779462185836568427043200000 12077753608532044723796838362049442308171936495863479297339749919123992\n",
      "1 58228998 480164979 58228998\n",
      "1 4544697 89202832 4544697\n",
      "1083223828288207186161279388501620055954945501779462185836568427043200000 13644747770492188570388267241222660135948066517272968604119052303991704\n",
      "1 58228998 569370526 58228998\n",
      "1 4544697 103958182 4544697\n",
      "1083223828288207186161279388501620055954945501779462185836568427043200000 18147298535021879710815826772326642646322220728867173971877358092178432\n",
      "1 58228998 774610104 58228998\n",
      "1 4544697 27042258 4544697\n",
      "1083223828288207186161279388501620055954945501779462185836568427043200 28431813479096702572169638533401909243000828055099495779599605503416704000\n",
      "1 58228998 991919374 58228998\n",
      "1 4544697 94171752 4544697\n",
      "1083223828288207186161279388501620055954945501779462185836568427043200000 10082759259666206376061597771613756510070356086881928608534935915062272\n",
      "1 58228998 518597604 58228998\n",
      "1 4544697 62917906 4544697\n",
      "1083223828288207186161279388501620055954945501779462185836568427043200000 7926288993969152496627237214782965656215739673336367843664077710287872\n",
      "1 58228998 512669930 58228998\n",
      "1 4544697 45754058 4544697\n",
      "1083223828288207186161279388501620055954945501779462185836568427043200000 15360888544561383628063231418494559251320306679887966442965868475034624\n",
      "1 58228998 1155664242 58228998\n",
      "1 4544697 32085548 4544697\n",
      "1083223828288207186161279388501620055954945501779462185836568427043200 43841506259141111486255940787936853158825367322863478050154386521037184000\n",
      "1 58228998 473102753 58228998\n",
      "1 4544697 21079630 4544697\n",
      "1083223828288207186161279388501620055954945501779462185836568427043200 32506131378328280635873352216185789755785912029810543601219238450328344000\n",
      "1 58228998 771030462 58228998\n",
      "1 4544697 88804483 4544697\n",
      "1083223828288207186161279388501620055954945501779462185836568427043200000 14822383782149401838106154152453009644187829237606134073237821825008640\n",
      "1 58228998 691975695 58228998\n",
      "1 4544697 143422746 4544697\n",
      "1083223828288207186161279388501620055954945501779462185836568427043200000 10201024805391951479633698683311729459809698238719001533340488463061400\n",
      "1 58228998 1217642214 58228998\n",
      "1 4544697 34180985 4544697\n",
      "1083223828288207186161279388501620055954945501779462185836568427043200 29522450063433518464468348230680294504420127545423458260812140193446272000\n",
      "1 58228998 1217222145 58228998\n",
      "1 4544697 91121195 4544697\n",
      "1083223828288207186161279388501620055954945501779462185836568427043200 46860862480697366117264420478991342900206741114016200769358662260532632000\n",
      "1 58228998 1121326131 58228998\n",
      "1 4544697 37979355 4544697\n",
      "1083223828288207186161279388501620055954945501779462185836568427043200 49057003601613252983336622952495615163703612718829512421517660070128024000\n",
      "1 58228998 974910600 58228998\n",
      "1 4544697 97736084 4544697\n",
      "1083223828288207186161279388501620055954945501779462185836568427043200000 9358290029145465322324543967197597200475073667938011736179614928425984\n",
      "1 58228998 872822921 58228998\n",
      "1 4544697 173831143 4544697\n",
      "1083223828288207186161279388501620055954945501779462185836568427043200000 15414093434126708626591871243814288671912248470226870993325260205965080\n",
      "1 58228998 843676500 58228998\n",
      "1 4544697 33586728 4544697\n",
      "1083223828288207186161279388501620055954945501779462185836568427043200 22057131405142579021497067963179475910545883764238239741327515853928832000\n",
      "1 58228998 512524693 58228998\n",
      "1 4544697 98313062 4544697\n",
      "1083223828288207186161279388501620055954945501779462185836568427043200000 8767156730750623781068725812799756597505085459235418346150909990280984\n",
      "1 58228998 1209589874 58228998\n",
      "1 4544697 175569475 4544697\n",
      "1083223828288207186161279388501620055954945501779462185836568427043200000 8535631099259336904110848405869089908546532925232072991355725593832832\n",
      "1 58228998 768370376 58228998\n",
      "1 4544697 76536351 4544697\n",
      "1083223828288207186161279388501620055954945501779462185836568427043200000 10500974374373734207736504479920971243248621418316620285885750906102784\n"
     ]
    },
    {
     "name": "stdout",
     "output_type": "stream",
     "text": [
      "1 58228998 957116268 58228998\n",
      "1 4544697 46070098 4544697\n",
      "1083223828288207186161279388501620055954945501779462185836568427043200 26977071828235076510299273496989112520636665947288425239007669761080320000\n",
      "1 58228998 1162196789 58228998\n",
      "1 4544697 126591152 4544697\n",
      "1083223828288207186161279388501620055954945501779462185836568427043200000 8244435937744558709013881522417380651129301206306996170466998267523992\n",
      "1 58228998 442193057 58228998\n",
      "1 4544697 90593037 4544697\n",
      "1083223828288207186161279388501620055954945501779462185836568427043200000 14229284327661822927663150982461900772424717326272083293495042918203672\n",
      "1 58228998 926933519 58228998\n",
      "1 4544697 87621393 4544697\n",
      "1083223828288207186161279388501620055954945501779462185836568427043200000 13928234764356460747016103922833347905001061533929122270752750093456664\n",
      "1 58228998 800504014 58228998\n",
      "1 4544697 51686392 4544697\n",
      "1083223828288207186161279388501620055954945501779462185836568427043200 29066179585453054710408077343760728653145498571167761832436158533941632000\n",
      "1 58228998 786000498 58228998\n",
      "1 4544697 46984184 4544697\n",
      "1083223828288207186161279388501620055954945501779462185836568427043200 23457741466263708195143800950038105985637962511705185499851462350545920000\n",
      "1 58228998 477890192 58228998\n",
      "1 4544697 34717609 4544697\n",
      "1083223828288207186161279388501620055954945501779462185836568427043200 35255965794544162334841294781262819114151478136165047899142818705561984000\n",
      "1 58228998 1509408159 58228998\n",
      "1 4544697 171637797 4544697\n",
      "1083223828288207186161279388501620055954945501779462185836568427043200000 8650323342861838886161963015570938873879359599018344141904530904197144\n",
      "1 58228998 755135019 58228998\n",
      "1 4544697 37991069 4544697\n",
      "1083223828288207186161279388501620055954945501779462185836568427043200 36727437717245756877675299327729649510726877334126780529267858627504024000\n",
      "1 58228998 852810179 58228998\n",
      "1 4544697 33713047 4544697\n",
      "1083223828288207186161279388501620055954945501779462185836568427043200 25095659911250747574494750395188178132681141762233129102464129307001752000\n",
      "1 58228998 1190222385 58228998\n",
      "1 4544697 100240388 4544697\n",
      "1083223828288207186161279388501620055954945501779462185836568427043200000 10805537600825213404157063552959454207964652407645594841748658020507544\n",
      "1 58228998 1403576164 58228998\n",
      "1 4544697 69426986 4544697\n",
      "1083223828288207186161279388501620055954945501779462185836568427043200 45663719633046137573263326587267624519660521159406501779998938075034624000\n",
      "1 58228998 923487948 58228998\n",
      "1 4544697 76105677 4544697\n",
      "1083223828288207186161279388501620055954945501779462185836568427043200 8315564289608255048393174544629526522269122232088497474028064889208192000\n",
      "1 58228998 1736192832 58228998\n",
      "1 4544697 56655486 4544697\n",
      "1083223828288207186161279388501620055954945501779462185836568427043200 28369811597465908405910918392264863532455321783399225941789121945382272000\n",
      "1 58228998 729753571 58228998\n",
      "1 4544697 103943347 4544697\n",
      "1083223828288207186161279388501620055954945501779462185836568427043200000 14241858289843202056285249978111979388693074009163772968363504540095640\n",
      "1 58228998 926726882 58228998\n",
      "1 4544697 27738765 4544697\n",
      "1083223828288207186161279388501620055954945501779462185836568427043200 44932897407178095104392159387352799190794593686393405063680567866293632000\n",
      "1 58228998 822413192 58228998\n",
      "1 4544697 33227695 4544697\n",
      "1083223828288207186161279388501620055954945501779462185836568427043200 44968356416664729514285130574936436418459275397707465211880985866516864000\n",
      "1 58228998 989388665 58228998\n",
      "1 4544697 67587711 4544697\n",
      "1083223828288207186161279388501620055954945501779462185836568427043200 22523773897875978819153255239016287718919249027702049055830254204220952000\n",
      "1 58228998 878547973 58228998\n",
      "1 4544697 22025461 4544697\n",
      "1083223828288207186161279388501620055954945501779462185836568427043200 25441990453039652275534104796487933462092026408954628023487765264577304000\n",
      "1 58228998 869696393 58228998\n",
      "1 4544697 64200185 4544697\n",
      "1083223828288207186161279388501620055954945501779462185836568427043200 44831972422670747435141644002212471307178209032661433926858049205193240000\n"
     ]
    }
   ],
   "source": [
    "pred= np.zeros(x_test.shape[0])\n",
    "e =2.718\n",
    "for i in range(x_test.shape[0]):\n",
    "    f = x_test[i,:].tolist()\n",
    "    get_class(f,_var0,_means0, account1, private_key1,cont_pred)\n",
    "    A0,B0,C0,D0 = cont_pred.functions.a_setparameters1().call()\n",
    "    B0,C0,D0 = int(B0/100000000000000000000000000000000000000000000),int(C0/100000000000000000000000000000000000000000000),int(D0/100000000000000000000000000000000000000000000)\n",
    "    print(A0,B0,C0,D0)\n",
    "#     print(A0/B0*pow(e, -(C0/D0))*pow(Prior0,2))\n",
    "    get_class(f,_var1, _means1, account1, private_key1,cont_pred)\n",
    "    A1,B1,C1,D1 = cont_pred.functions.a_setparameters1().call()\n",
    "    B1,C1,D1 = int(B1/100000000000000000000000000000000000000000000),int(C1/100000000000000000000000000000000000000000000),int(D1/100000000000000000000000000000000000000000000)\n",
    "    get_probability(A0,A1,B0,B1,C0,C1,D0,D1,Prior0,Prior1, account1,private_key1,cont_pred)\n",
    "    print(A1,B1,C1,D1)\n",
    "#     print(A1/B1*pow(e, -(C1/D1))*pow(Prior1,2))\n",
    "    Y0,Y1 = cont_pred.functions.set_exponent().call()\n",
    "    print(Y0,Y1)\n",
    "    pred[i] = compare(Y0,Y1)"
   ]
  },
  {
   "cell_type": "code",
   "execution_count": null,
   "id": "ad3ad04f",
   "metadata": {},
   "outputs": [],
   "source": []
  },
  {
   "cell_type": "code",
   "execution_count": 273,
   "id": "936d67c0",
   "metadata": {},
   "outputs": [
    {
     "data": {
      "text/plain": [
       "array([0., 1., 1., 0., 0., 0., 0., 0., 0., 0., 1., 1., 0., 1., 1., 0., 0.,\n",
       "       1., 0., 1., 1., 0., 0., 0., 1., 0., 0., 0., 1., 1., 0., 0., 1., 1.,\n",
       "       1., 0., 0., 1., 0., 0., 0., 1., 0., 0., 0., 1., 1., 1., 0., 1., 1.,\n",
       "       0., 1., 1., 1., 0., 1., 1., 1., 1., 1.])"
      ]
     },
     "execution_count": 273,
     "metadata": {},
     "output_type": "execute_result"
    }
   ],
   "source": [
    "pred"
   ]
  },
  {
   "cell_type": "code",
   "execution_count": 274,
   "id": "existing-divide",
   "metadata": {},
   "outputs": [
    {
     "data": {
      "text/plain": [
       "0.8360655737704918"
      ]
     },
     "execution_count": 274,
     "metadata": {},
     "output_type": "execute_result"
    }
   ],
   "source": [
    "# pred = []\n",
    "# for i in range(x_test.shape[0]):\n",
    "#     pred.append(exponent(x_test[i], mean[0],mean[1], var[0],var[1], Prior0,Prior1))\n",
    "# predicted = np.array(pred)\n",
    "accuracy_score(pred,y_test)"
   ]
  },
  {
   "cell_type": "code",
   "execution_count": 275,
   "id": "036af8ce",
   "metadata": {},
   "outputs": [
    {
     "data": {
      "text/plain": [
       "array([0, 1, 0, 0, 1, 0, 0, 0, 0, 0, 1, 1, 0, 1, 1, 1, 1, 1, 0, 1, 1, 0,\n",
       "       0, 0, 1, 0, 0, 0, 1, 1, 0, 0, 1, 1, 1, 0, 0, 1, 0, 0, 1, 1, 1, 0,\n",
       "       1, 1, 1, 0, 0, 1, 1, 1, 1, 1, 1, 0, 1, 0, 1, 1, 1])"
      ]
     },
     "execution_count": 275,
     "metadata": {},
     "output_type": "execute_result"
    }
   ],
   "source": [
    "y_test"
   ]
  },
  {
   "cell_type": "markdown",
   "id": "rational-enforcement",
   "metadata": {},
   "source": []
  },
  {
   "cell_type": "code",
   "execution_count": 73,
   "id": "specific-newark",
   "metadata": {},
   "outputs": [],
   "source": [
    "pca =PCA(n_components =12)\n",
    "pca.fit(x_train,pca)\n",
    "PC_train = (pca.transform(x_train)).astype(int)\n",
    "PC_test = (pca.transform(x_test)).astype(int)\n",
    "df_pc = pd.DataFrame(PC_train, columns=['f1','f2','f3','f4','f5','f6','f7','f8','f9','f10','f11','f12'])\n",
    "df_pc  ['target'] = y_train\n",
    "df_mean = df_pc.groupby(['target']).mean().astype(int)\n",
    "df_var = df_pc.groupby(['target']).var().astype(int)\n",
    "mean = df_mean.values\n",
    "var = df_var.values\n"
   ]
  },
  {
   "cell_type": "code",
   "execution_count": 249,
   "id": "structural-receiver",
   "metadata": {
    "scrolled": false
   },
   "outputs": [
    {
     "name": "stdout",
     "output_type": "stream",
     "text": [
      "1 6548608485616835397370613692558194360647172945665280 5.692141779315995e+23 6548608485616835397370613692558194360647172945665280\n",
      "1 501820813590859976901325591517057831121236958105600 9.073313243552321e+23 501820813590859976901325591517057831121236958105600\n"
     ]
    },
    {
     "name": "stderr",
     "output_type": "stream",
     "text": [
      "/Users/Syed/anaconda/anaconda3/lib/python3.7/site-packages/ipykernel_launcher.py:6: RuntimeWarning: overflow encountered in long_scalars\n",
      "  \n"
     ]
    },
    {
     "ename": "OverflowError",
     "evalue": "int too large to convert to float",
     "output_type": "error",
     "traceback": [
      "\u001b[0;31m---------------------------------------------------------------------------\u001b[0m",
      "\u001b[0;31mOverflowError\u001b[0m                             Traceback (most recent call last)",
      "\u001b[0;32m/var/folders/9j/xg5sl5n57fs3q8d3c9svsb1r0000gq/T/ipykernel_2331/2653826926.py\u001b[0m in \u001b[0;36m<module>\u001b[0;34m\u001b[0m\n\u001b[1;32m      1\u001b[0m \u001b[0mpred\u001b[0m \u001b[0;34m=\u001b[0m \u001b[0;34m[\u001b[0m\u001b[0;34m]\u001b[0m\u001b[0;34m\u001b[0m\u001b[0;34m\u001b[0m\u001b[0m\n\u001b[1;32m      2\u001b[0m \u001b[0;32mfor\u001b[0m \u001b[0mi\u001b[0m \u001b[0;32min\u001b[0m \u001b[0mrange\u001b[0m\u001b[0;34m(\u001b[0m\u001b[0mx_test\u001b[0m\u001b[0;34m.\u001b[0m\u001b[0mshape\u001b[0m\u001b[0;34m[\u001b[0m\u001b[0;36m0\u001b[0m\u001b[0;34m]\u001b[0m\u001b[0;34m)\u001b[0m\u001b[0;34m:\u001b[0m\u001b[0;34m\u001b[0m\u001b[0;34m\u001b[0m\u001b[0m\n\u001b[0;32m----> 3\u001b[0;31m     \u001b[0mpred\u001b[0m\u001b[0;34m.\u001b[0m\u001b[0mappend\u001b[0m\u001b[0;34m(\u001b[0m\u001b[0mexponent\u001b[0m\u001b[0;34m(\u001b[0m\u001b[0mx_test\u001b[0m\u001b[0;34m[\u001b[0m\u001b[0mi\u001b[0m\u001b[0;34m]\u001b[0m\u001b[0;34m,\u001b[0m \u001b[0mmean\u001b[0m\u001b[0;34m[\u001b[0m\u001b[0;36m0\u001b[0m\u001b[0;34m]\u001b[0m\u001b[0;34m,\u001b[0m\u001b[0mmean\u001b[0m\u001b[0;34m[\u001b[0m\u001b[0;36m1\u001b[0m\u001b[0;34m]\u001b[0m\u001b[0;34m,\u001b[0m \u001b[0mvar\u001b[0m\u001b[0;34m[\u001b[0m\u001b[0;36m0\u001b[0m\u001b[0;34m]\u001b[0m\u001b[0;34m,\u001b[0m\u001b[0mvar\u001b[0m\u001b[0;34m[\u001b[0m\u001b[0;36m1\u001b[0m\u001b[0;34m]\u001b[0m\u001b[0;34m,\u001b[0m \u001b[0mPrior0\u001b[0m\u001b[0;34m,\u001b[0m\u001b[0mPrior1\u001b[0m\u001b[0;34m)\u001b[0m\u001b[0;34m)\u001b[0m\u001b[0;34m\u001b[0m\u001b[0;34m\u001b[0m\u001b[0m\n\u001b[0m\u001b[1;32m      4\u001b[0m \u001b[0mpredicted\u001b[0m \u001b[0;34m=\u001b[0m \u001b[0mnp\u001b[0m\u001b[0;34m.\u001b[0m\u001b[0marray\u001b[0m\u001b[0;34m(\u001b[0m\u001b[0mpred\u001b[0m\u001b[0;34m)\u001b[0m\u001b[0;34m\u001b[0m\u001b[0;34m\u001b[0m\u001b[0m\n\u001b[1;32m      5\u001b[0m \u001b[0maccuracy_score\u001b[0m\u001b[0;34m(\u001b[0m\u001b[0mpredicted\u001b[0m\u001b[0;34m,\u001b[0m\u001b[0my_test\u001b[0m\u001b[0;34m)\u001b[0m\u001b[0;34m\u001b[0m\u001b[0;34m\u001b[0m\u001b[0m\n",
      "\u001b[0;32m/var/folders/9j/xg5sl5n57fs3q8d3c9svsb1r0000gq/T/ipykernel_2331/313354073.py\u001b[0m in \u001b[0;36mexponent\u001b[0;34m(x, m1, m2, v1, v2, Prior0, Prior1)\u001b[0m\n\u001b[1;32m     36\u001b[0m \u001b[0;34m\u001b[0m\u001b[0m\n\u001b[1;32m     37\u001b[0m         \u001b[0medenR\u001b[0m \u001b[0;34m=\u001b[0m \u001b[0;36m24\u001b[0m\u001b[0;34m*\u001b[0m\u001b[0;34m(\u001b[0m\u001b[0mD\u001b[0m\u001b[0;34m*\u001b[0m\u001b[0mD\u001b[0m\u001b[0;34m*\u001b[0m\u001b[0mD\u001b[0m\u001b[0;34m*\u001b[0m\u001b[0mD\u001b[0m\u001b[0;34m)\u001b[0m\u001b[0;34m\u001b[0m\u001b[0;34m\u001b[0m\u001b[0m\n\u001b[0;32m---> 38\u001b[0;31m         \u001b[0menumR\u001b[0m \u001b[0;34m=\u001b[0m \u001b[0;36m24\u001b[0m\u001b[0;34m*\u001b[0m\u001b[0mD\u001b[0m\u001b[0;34m*\u001b[0m\u001b[0mD\u001b[0m\u001b[0;34m*\u001b[0m\u001b[0mD\u001b[0m\u001b[0;34m*\u001b[0m\u001b[0mD\u001b[0m\u001b[0;34m+\u001b[0m \u001b[0mR\u001b[0m\u001b[0;34m*\u001b[0m\u001b[0;36m24\u001b[0m\u001b[0;34m*\u001b[0m\u001b[0mD\u001b[0m\u001b[0;34m*\u001b[0m\u001b[0mD\u001b[0m\u001b[0;34m*\u001b[0m\u001b[0mD\u001b[0m\u001b[0;34m+\u001b[0m\u001b[0mR\u001b[0m\u001b[0;34m*\u001b[0m\u001b[0mR\u001b[0m\u001b[0;34m*\u001b[0m\u001b[0;36m12\u001b[0m\u001b[0;34m*\u001b[0m\u001b[0mD\u001b[0m\u001b[0;34m*\u001b[0m\u001b[0mD\u001b[0m\u001b[0;34m+\u001b[0m\u001b[0mR\u001b[0m\u001b[0;34m*\u001b[0m\u001b[0mR\u001b[0m\u001b[0;34m*\u001b[0m\u001b[0mR\u001b[0m\u001b[0;34m*\u001b[0m\u001b[0;36m4\u001b[0m\u001b[0;34m*\u001b[0m\u001b[0mD\u001b[0m\u001b[0;34m+\u001b[0m\u001b[0mR\u001b[0m\u001b[0;34m*\u001b[0m\u001b[0mR\u001b[0m\u001b[0;34m*\u001b[0m\u001b[0mR\u001b[0m\u001b[0;34m*\u001b[0m\u001b[0mR\u001b[0m\u001b[0;34m\u001b[0m\u001b[0;34m\u001b[0m\u001b[0m\n\u001b[0m\u001b[1;32m     39\u001b[0m \u001b[0;34m\u001b[0m\u001b[0m\n\u001b[1;32m     40\u001b[0m         \u001b[0;32mif\u001b[0m\u001b[0;34m(\u001b[0m\u001b[0mQ\u001b[0m\u001b[0;34m>=\u001b[0m\u001b[0;36m0\u001b[0m\u001b[0;34m)\u001b[0m\u001b[0;34m:\u001b[0m\u001b[0;34m\u001b[0m\u001b[0;34m\u001b[0m\u001b[0m\n",
      "\u001b[0;31mOverflowError\u001b[0m: int too large to convert to float"
     ]
    }
   ],
   "source": [
    "pred = []\n",
    "for i in range(x_test.shape[0]):\n",
    "    pred.append(exponent(x_test[i], mean[0],mean[1], var[0],var[1], Prior0,Prior1))\n",
    "predicted = np.array(pred)\n",
    "accuracy_score(predicted,y_test)"
   ]
  },
  {
   "cell_type": "code",
   "execution_count": 70,
   "id": "failing-commission",
   "metadata": {},
   "outputs": [
    {
     "data": {
      "text/plain": [
       "0.639344262295082"
      ]
     },
     "execution_count": 70,
     "metadata": {},
     "output_type": "execute_result"
    }
   ],
   "source": [
    "predicted = np.array(pred)\n",
    "accuracy_score(predicted,y_test)"
   ]
  },
  {
   "cell_type": "code",
   "execution_count": 106,
   "id": "racial-poetry",
   "metadata": {},
   "outputs": [
    {
     "name": "stdout",
     "output_type": "stream",
     "text": [
      "[0 1 1 0 0 0 0 1 0 1 1 0 1 0 0 1 1 0 1 1 1 0 1 1 1 1 0 0 1 1 0 1 1 1 0 1 0\n",
      " 1 1 0 1 0 1 0 1 1 0 1 1 1 1 1 1 1 1 1 1 0 1 0 1]\n"
     ]
    }
   ],
   "source": [
    "print(predicted)"
   ]
  },
  {
   "cell_type": "code",
   "execution_count": 96,
   "id": "social-contest",
   "metadata": {},
   "outputs": [
    {
     "name": "stdout",
     "output_type": "stream",
     "text": [
      "[0 1 0 0 0 0 0 1 0 1 1 0 0 0 0 0 1 0 1 0 1 0 1 1 1 1 0 1 1 1 1 1 1 1 0 1 1\n",
      " 0 0 1 1 0 1 0 0 0 0 1 0 1 1 0 0 1 1 1 1 0 0 0 1]\n"
     ]
    }
   ],
   "source": [
    "print(y_test)"
   ]
  },
  {
   "cell_type": "code",
   "execution_count": null,
   "id": "included-african",
   "metadata": {},
   "outputs": [],
   "source": []
  }
 ],
 "metadata": {
  "kernelspec": {
   "display_name": "Python 3 (ipykernel)",
   "language": "python",
   "name": "python3"
  },
  "language_info": {
   "codemirror_mode": {
    "name": "ipython",
    "version": 3
   },
   "file_extension": ".py",
   "mimetype": "text/x-python",
   "name": "python",
   "nbconvert_exporter": "python",
   "pygments_lexer": "ipython3",
   "version": "3.7.11"
  }
 },
 "nbformat": 4,
 "nbformat_minor": 5
}
