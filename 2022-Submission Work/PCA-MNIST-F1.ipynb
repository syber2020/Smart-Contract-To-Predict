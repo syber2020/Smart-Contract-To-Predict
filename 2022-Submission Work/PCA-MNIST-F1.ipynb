{
 "cells": [
  {
   "cell_type": "markdown",
   "id": "acceptable-survival",
   "metadata": {},
   "source": [
    "## Loading the Dataset"
   ]
  },
  {
   "cell_type": "code",
   "execution_count": 1,
   "id": "distant-livestock",
   "metadata": {},
   "outputs": [
    {
     "name": "stdout",
     "output_type": "stream",
     "text": [
      "INFO:tensorflow:Enabling eager execution\n",
      "INFO:tensorflow:Enabling v2 tensorshape\n",
      "INFO:tensorflow:Enabling resource variables\n",
      "INFO:tensorflow:Enabling tensor equality\n",
      "INFO:tensorflow:Enabling control flow v2\n"
     ]
    }
   ],
   "source": [
    "import numpy as np\n",
    "import pandas as pd\n",
    "\n",
    "\n",
    "from sklearn.decomposition import PCA as RandomizedPCA\n",
    "from sklearn.datasets import load_digits\n",
    "from sklearn.model_selection import train_test_split\n",
    "from sklearn.naive_bayes import GaussianNB\n",
    "from sklearn.naive_bayes import BernoulliNB\n",
    "from sklearn.naive_bayes import MultinomialNB\n",
    "from sklearn.metrics import accuracy_score\n",
    "import tensorflow as tf\n",
    "from sklearn.preprocessing import StandardScaler\n",
    "                        "
   ]
  },
  {
   "cell_type": "code",
   "execution_count": 2,
   "id": "fitted-romance",
   "metadata": {},
   "outputs": [],
   "source": [
    "# from sklearn.decomposition import PCA\n",
    "# pca =PCA(n_components =2)\n",
    "# principalComponents = pca.fit_transform(x_norm)\n",
    "# pdf = pd.DataFrame(data=principalComponents, columns = ['pc1', 'pc2'])\n",
    "# pdf"
   ]
  },
  {
   "cell_type": "code",
   "execution_count": 3,
   "id": "circular-bidder",
   "metadata": {},
   "outputs": [],
   "source": [
    "# finaldf = pd.concat([pdf,df[['target']]], axis =1)\n",
    "# finaldf.head()"
   ]
  },
  {
   "cell_type": "markdown",
   "id": "accurate-alignment",
   "metadata": {},
   "source": [
    "## Train"
   ]
  },
  {
   "cell_type": "code",
   "execution_count": 4,
   "id": "executed-bridal",
   "metadata": {},
   "outputs": [],
   "source": [
    "#NB scikit learn MNIST(60000)\n",
    "X,y = load_digits(return_X_y=True)"
   ]
  },
  {
   "cell_type": "code",
   "execution_count": 5,
   "id": "extra-birmingham",
   "metadata": {},
   "outputs": [],
   "source": [
    "x_train, x_test, y_train, y_test = train_test_split(X,y,test_size = 0.2, random_state =1)\n",
    "# x_train"
   ]
  },
  {
   "cell_type": "code",
   "execution_count": 6,
   "id": "gorgeous-experience",
   "metadata": {},
   "outputs": [],
   "source": [
    "# x_train = StandardScaler().fit_transform(x_train)\n",
    "# x_test = StandardScaler().fit_transform(x_test)"
   ]
  },
  {
   "cell_type": "code",
   "execution_count": 7,
   "id": "convertible-explorer",
   "metadata": {},
   "outputs": [
    {
     "data": {
      "text/plain": [
       "(1437, 64)"
      ]
     },
     "execution_count": 7,
     "metadata": {},
     "output_type": "execute_result"
    }
   ],
   "source": [
    "# train_x.shape\n",
    "x_train.shape"
   ]
  },
  {
   "cell_type": "code",
   "execution_count": 8,
   "id": "massive-turner",
   "metadata": {},
   "outputs": [
    {
     "data": {
      "text/plain": [
       "array([[ 0.,  0.,  6., ...,  3.,  0.,  0.],\n",
       "       [ 0.,  8., 13., ...,  0.,  0.,  0.],\n",
       "       [ 0.,  0.,  4., ...,  6.,  0.,  0.],\n",
       "       ...,\n",
       "       [ 0.,  0.,  0., ...,  1.,  0.,  0.],\n",
       "       [ 0.,  3., 15., ..., 16., 16.,  2.],\n",
       "       [ 0.,  0.,  8., ...,  0.,  0.,  0.]])"
      ]
     },
     "execution_count": 8,
     "metadata": {},
     "output_type": "execute_result"
    }
   ],
   "source": [
    "x_test"
   ]
  },
  {
   "cell_type": "code",
   "execution_count": 9,
   "id": "nervous-sellers",
   "metadata": {},
   "outputs": [],
   "source": [
    "a = [ 'x_{}'.format(x) for x in range(1,65)]"
   ]
  },
  {
   "cell_type": "code",
   "execution_count": 10,
   "id": "square-county",
   "metadata": {},
   "outputs": [],
   "source": [
    "# df = pd.DataFrame(x_train, columns=a)\n",
    "# df ['target'] = y_train\n",
    "# df_mean = df.groupby(['target']).mean()\n",
    "# df_var = df.groupby(['target']).var()"
   ]
  },
  {
   "cell_type": "code",
   "execution_count": 11,
   "id": "freelance-prison",
   "metadata": {},
   "outputs": [],
   "source": [
    "df = pd.DataFrame(x_train, columns=a).astype(int)\n",
    "df ['target'] = y_train\n",
    "df_mean = (df.groupby(['target']).mean()*100).astype(int)\n",
    "df_var = (df.groupby(['target']).var()*100).astype(int)"
   ]
  },
  {
   "cell_type": "code",
   "execution_count": 12,
   "id": "figured-hurricane",
   "metadata": {},
   "outputs": [
    {
     "data": {
      "text/html": [
       "<div>\n",
       "<style scoped>\n",
       "    .dataframe tbody tr th:only-of-type {\n",
       "        vertical-align: middle;\n",
       "    }\n",
       "\n",
       "    .dataframe tbody tr th {\n",
       "        vertical-align: top;\n",
       "    }\n",
       "\n",
       "    .dataframe thead th {\n",
       "        text-align: right;\n",
       "    }\n",
       "</style>\n",
       "<table border=\"1\" class=\"dataframe\">\n",
       "  <thead>\n",
       "    <tr style=\"text-align: right;\">\n",
       "      <th></th>\n",
       "      <th>x_1</th>\n",
       "      <th>x_2</th>\n",
       "      <th>x_3</th>\n",
       "      <th>x_4</th>\n",
       "      <th>x_5</th>\n",
       "      <th>x_6</th>\n",
       "      <th>x_7</th>\n",
       "      <th>x_8</th>\n",
       "      <th>x_9</th>\n",
       "      <th>x_10</th>\n",
       "      <th>...</th>\n",
       "      <th>x_56</th>\n",
       "      <th>x_57</th>\n",
       "      <th>x_58</th>\n",
       "      <th>x_59</th>\n",
       "      <th>x_60</th>\n",
       "      <th>x_61</th>\n",
       "      <th>x_62</th>\n",
       "      <th>x_63</th>\n",
       "      <th>x_64</th>\n",
       "      <th>target</th>\n",
       "    </tr>\n",
       "  </thead>\n",
       "  <tbody>\n",
       "    <tr>\n",
       "      <th>0</th>\n",
       "      <td>0</td>\n",
       "      <td>0</td>\n",
       "      <td>0</td>\n",
       "      <td>2</td>\n",
       "      <td>15</td>\n",
       "      <td>8</td>\n",
       "      <td>0</td>\n",
       "      <td>0</td>\n",
       "      <td>0</td>\n",
       "      <td>0</td>\n",
       "      <td>...</td>\n",
       "      <td>0</td>\n",
       "      <td>0</td>\n",
       "      <td>0</td>\n",
       "      <td>0</td>\n",
       "      <td>2</td>\n",
       "      <td>15</td>\n",
       "      <td>5</td>\n",
       "      <td>0</td>\n",
       "      <td>0</td>\n",
       "      <td>4</td>\n",
       "    </tr>\n",
       "    <tr>\n",
       "      <th>1</th>\n",
       "      <td>0</td>\n",
       "      <td>0</td>\n",
       "      <td>0</td>\n",
       "      <td>7</td>\n",
       "      <td>16</td>\n",
       "      <td>16</td>\n",
       "      <td>11</td>\n",
       "      <td>0</td>\n",
       "      <td>0</td>\n",
       "      <td>0</td>\n",
       "      <td>...</td>\n",
       "      <td>0</td>\n",
       "      <td>0</td>\n",
       "      <td>0</td>\n",
       "      <td>0</td>\n",
       "      <td>11</td>\n",
       "      <td>3</td>\n",
       "      <td>0</td>\n",
       "      <td>0</td>\n",
       "      <td>0</td>\n",
       "      <td>9</td>\n",
       "    </tr>\n",
       "    <tr>\n",
       "      <th>2</th>\n",
       "      <td>0</td>\n",
       "      <td>0</td>\n",
       "      <td>0</td>\n",
       "      <td>6</td>\n",
       "      <td>11</td>\n",
       "      <td>0</td>\n",
       "      <td>0</td>\n",
       "      <td>0</td>\n",
       "      <td>0</td>\n",
       "      <td>0</td>\n",
       "      <td>...</td>\n",
       "      <td>3</td>\n",
       "      <td>0</td>\n",
       "      <td>0</td>\n",
       "      <td>0</td>\n",
       "      <td>5</td>\n",
       "      <td>11</td>\n",
       "      <td>13</td>\n",
       "      <td>12</td>\n",
       "      <td>2</td>\n",
       "      <td>6</td>\n",
       "    </tr>\n",
       "    <tr>\n",
       "      <th>3</th>\n",
       "      <td>0</td>\n",
       "      <td>0</td>\n",
       "      <td>0</td>\n",
       "      <td>1</td>\n",
       "      <td>12</td>\n",
       "      <td>6</td>\n",
       "      <td>0</td>\n",
       "      <td>0</td>\n",
       "      <td>0</td>\n",
       "      <td>0</td>\n",
       "      <td>...</td>\n",
       "      <td>0</td>\n",
       "      <td>0</td>\n",
       "      <td>0</td>\n",
       "      <td>0</td>\n",
       "      <td>0</td>\n",
       "      <td>14</td>\n",
       "      <td>9</td>\n",
       "      <td>0</td>\n",
       "      <td>0</td>\n",
       "      <td>4</td>\n",
       "    </tr>\n",
       "    <tr>\n",
       "      <th>4</th>\n",
       "      <td>0</td>\n",
       "      <td>0</td>\n",
       "      <td>9</td>\n",
       "      <td>11</td>\n",
       "      <td>2</td>\n",
       "      <td>0</td>\n",
       "      <td>0</td>\n",
       "      <td>0</td>\n",
       "      <td>0</td>\n",
       "      <td>8</td>\n",
       "      <td>...</td>\n",
       "      <td>0</td>\n",
       "      <td>0</td>\n",
       "      <td>0</td>\n",
       "      <td>7</td>\n",
       "      <td>9</td>\n",
       "      <td>9</td>\n",
       "      <td>12</td>\n",
       "      <td>4</td>\n",
       "      <td>0</td>\n",
       "      <td>2</td>\n",
       "    </tr>\n",
       "  </tbody>\n",
       "</table>\n",
       "<p>5 rows × 65 columns</p>\n",
       "</div>"
      ],
      "text/plain": [
       "   x_1  x_2  x_3  x_4  x_5  x_6  x_7  x_8  x_9  x_10  ...  x_56  x_57  x_58  \\\n",
       "0    0    0    0    2   15    8    0    0    0     0  ...     0     0     0   \n",
       "1    0    0    0    7   16   16   11    0    0     0  ...     0     0     0   \n",
       "2    0    0    0    6   11    0    0    0    0     0  ...     3     0     0   \n",
       "3    0    0    0    1   12    6    0    0    0     0  ...     0     0     0   \n",
       "4    0    0    9   11    2    0    0    0    0     8  ...     0     0     0   \n",
       "\n",
       "   x_59  x_60  x_61  x_62  x_63  x_64  target  \n",
       "0     0     2    15     5     0     0       4  \n",
       "1     0    11     3     0     0     0       9  \n",
       "2     0     5    11    13    12     2       6  \n",
       "3     0     0    14     9     0     0       4  \n",
       "4     7     9     9    12     4     0       2  \n",
       "\n",
       "[5 rows x 65 columns]"
      ]
     },
     "execution_count": 12,
     "metadata": {},
     "output_type": "execute_result"
    }
   ],
   "source": [
    "df.head()"
   ]
  },
  {
   "cell_type": "code",
   "execution_count": 13,
   "id": "still-arbitration",
   "metadata": {},
   "outputs": [
    {
     "data": {
      "text/html": [
       "<div>\n",
       "<style scoped>\n",
       "    .dataframe tbody tr th:only-of-type {\n",
       "        vertical-align: middle;\n",
       "    }\n",
       "\n",
       "    .dataframe tbody tr th {\n",
       "        vertical-align: top;\n",
       "    }\n",
       "\n",
       "    .dataframe thead th {\n",
       "        text-align: right;\n",
       "    }\n",
       "</style>\n",
       "<table border=\"1\" class=\"dataframe\">\n",
       "  <thead>\n",
       "    <tr style=\"text-align: right;\">\n",
       "      <th></th>\n",
       "      <th>x_1</th>\n",
       "      <th>x_2</th>\n",
       "      <th>x_3</th>\n",
       "      <th>x_4</th>\n",
       "      <th>x_5</th>\n",
       "      <th>x_6</th>\n",
       "      <th>x_7</th>\n",
       "      <th>x_8</th>\n",
       "      <th>x_9</th>\n",
       "      <th>x_10</th>\n",
       "      <th>...</th>\n",
       "      <th>x_55</th>\n",
       "      <th>x_56</th>\n",
       "      <th>x_57</th>\n",
       "      <th>x_58</th>\n",
       "      <th>x_59</th>\n",
       "      <th>x_60</th>\n",
       "      <th>x_61</th>\n",
       "      <th>x_62</th>\n",
       "      <th>x_63</th>\n",
       "      <th>x_64</th>\n",
       "    </tr>\n",
       "    <tr>\n",
       "      <th>target</th>\n",
       "      <th></th>\n",
       "      <th></th>\n",
       "      <th></th>\n",
       "      <th></th>\n",
       "      <th></th>\n",
       "      <th></th>\n",
       "      <th></th>\n",
       "      <th></th>\n",
       "      <th></th>\n",
       "      <th></th>\n",
       "      <th></th>\n",
       "      <th></th>\n",
       "      <th></th>\n",
       "      <th></th>\n",
       "      <th></th>\n",
       "      <th></th>\n",
       "      <th></th>\n",
       "      <th></th>\n",
       "      <th></th>\n",
       "      <th></th>\n",
       "      <th></th>\n",
       "    </tr>\n",
       "  </thead>\n",
       "  <tbody>\n",
       "    <tr>\n",
       "      <th>0</th>\n",
       "      <td>0</td>\n",
       "      <td>2</td>\n",
       "      <td>419</td>\n",
       "      <td>1297</td>\n",
       "      <td>1128</td>\n",
       "      <td>299</td>\n",
       "      <td>3</td>\n",
       "      <td>0</td>\n",
       "      <td>0</td>\n",
       "      <td>99</td>\n",
       "      <td>...</td>\n",
       "      <td>261</td>\n",
       "      <td>0</td>\n",
       "      <td>0</td>\n",
       "      <td>0</td>\n",
       "      <td>412</td>\n",
       "      <td>1366</td>\n",
       "      <td>1345</td>\n",
       "      <td>564</td>\n",
       "      <td>32</td>\n",
       "      <td>0</td>\n",
       "    </tr>\n",
       "    <tr>\n",
       "      <th>1</th>\n",
       "      <td>0</td>\n",
       "      <td>1</td>\n",
       "      <td>245</td>\n",
       "      <td>935</td>\n",
       "      <td>1055</td>\n",
       "      <td>616</td>\n",
       "      <td>114</td>\n",
       "      <td>0</td>\n",
       "      <td>0</td>\n",
       "      <td>10</td>\n",
       "      <td>...</td>\n",
       "      <td>191</td>\n",
       "      <td>54</td>\n",
       "      <td>0</td>\n",
       "      <td>0</td>\n",
       "      <td>217</td>\n",
       "      <td>931</td>\n",
       "      <td>1302</td>\n",
       "      <td>828</td>\n",
       "      <td>278</td>\n",
       "      <td>134</td>\n",
       "    </tr>\n",
       "    <tr>\n",
       "      <th>2</th>\n",
       "      <td>0</td>\n",
       "      <td>87</td>\n",
       "      <td>948</td>\n",
       "      <td>1410</td>\n",
       "      <td>954</td>\n",
       "      <td>234</td>\n",
       "      <td>10</td>\n",
       "      <td>0</td>\n",
       "      <td>0</td>\n",
       "      <td>515</td>\n",
       "      <td>...</td>\n",
       "      <td>737</td>\n",
       "      <td>79</td>\n",
       "      <td>0</td>\n",
       "      <td>92</td>\n",
       "      <td>980</td>\n",
       "      <td>1385</td>\n",
       "      <td>1309</td>\n",
       "      <td>1178</td>\n",
       "      <td>800</td>\n",
       "      <td>190</td>\n",
       "    </tr>\n",
       "    <tr>\n",
       "      <th>3</th>\n",
       "      <td>0</td>\n",
       "      <td>59</td>\n",
       "      <td>835</td>\n",
       "      <td>1419</td>\n",
       "      <td>1412</td>\n",
       "      <td>740</td>\n",
       "      <td>74</td>\n",
       "      <td>0</td>\n",
       "      <td>1</td>\n",
       "      <td>405</td>\n",
       "      <td>...</td>\n",
       "      <td>583</td>\n",
       "      <td>5</td>\n",
       "      <td>0</td>\n",
       "      <td>49</td>\n",
       "      <td>922</td>\n",
       "      <td>1469</td>\n",
       "      <td>1392</td>\n",
       "      <td>857</td>\n",
       "      <td>133</td>\n",
       "      <td>6</td>\n",
       "    </tr>\n",
       "    <tr>\n",
       "      <th>4</th>\n",
       "      <td>0</td>\n",
       "      <td>0</td>\n",
       "      <td>54</td>\n",
       "      <td>734</td>\n",
       "      <td>1139</td>\n",
       "      <td>183</td>\n",
       "      <td>15</td>\n",
       "      <td>6</td>\n",
       "      <td>0</td>\n",
       "      <td>7</td>\n",
       "      <td>...</td>\n",
       "      <td>2</td>\n",
       "      <td>0</td>\n",
       "      <td>0</td>\n",
       "      <td>2</td>\n",
       "      <td>67</td>\n",
       "      <td>813</td>\n",
       "      <td>1144</td>\n",
       "      <td>179</td>\n",
       "      <td>0</td>\n",
       "      <td>0</td>\n",
       "    </tr>\n",
       "  </tbody>\n",
       "</table>\n",
       "<p>5 rows × 64 columns</p>\n",
       "</div>"
      ],
      "text/plain": [
       "        x_1  x_2  x_3   x_4   x_5  x_6  x_7  x_8  x_9  x_10  ...  x_55  x_56  \\\n",
       "target                                                       ...               \n",
       "0         0    2  419  1297  1128  299    3    0    0    99  ...   261     0   \n",
       "1         0    1  245   935  1055  616  114    0    0    10  ...   191    54   \n",
       "2         0   87  948  1410   954  234   10    0    0   515  ...   737    79   \n",
       "3         0   59  835  1419  1412  740   74    0    1   405  ...   583     5   \n",
       "4         0    0   54   734  1139  183   15    6    0     7  ...     2     0   \n",
       "\n",
       "        x_57  x_58  x_59  x_60  x_61  x_62  x_63  x_64  \n",
       "target                                                  \n",
       "0          0     0   412  1366  1345   564    32     0  \n",
       "1          0     0   217   931  1302   828   278   134  \n",
       "2          0    92   980  1385  1309  1178   800   190  \n",
       "3          0    49   922  1469  1392   857   133     6  \n",
       "4          0     2    67   813  1144   179     0     0  \n",
       "\n",
       "[5 rows x 64 columns]"
      ]
     },
     "execution_count": 13,
     "metadata": {},
     "output_type": "execute_result"
    }
   ],
   "source": [
    "df_mean.head()"
   ]
  },
  {
   "cell_type": "code",
   "execution_count": 14,
   "id": "continuing-toyota",
   "metadata": {},
   "outputs": [
    {
     "data": {
      "text/html": [
       "<div>\n",
       "<style scoped>\n",
       "    .dataframe tbody tr th:only-of-type {\n",
       "        vertical-align: middle;\n",
       "    }\n",
       "\n",
       "    .dataframe tbody tr th {\n",
       "        vertical-align: top;\n",
       "    }\n",
       "\n",
       "    .dataframe thead th {\n",
       "        text-align: right;\n",
       "    }\n",
       "</style>\n",
       "<table border=\"1\" class=\"dataframe\">\n",
       "  <thead>\n",
       "    <tr style=\"text-align: right;\">\n",
       "      <th></th>\n",
       "      <th>x_1</th>\n",
       "      <th>x_2</th>\n",
       "      <th>x_3</th>\n",
       "      <th>x_4</th>\n",
       "      <th>x_5</th>\n",
       "      <th>x_6</th>\n",
       "      <th>x_7</th>\n",
       "      <th>x_8</th>\n",
       "      <th>x_9</th>\n",
       "      <th>x_10</th>\n",
       "      <th>...</th>\n",
       "      <th>x_55</th>\n",
       "      <th>x_56</th>\n",
       "      <th>x_57</th>\n",
       "      <th>x_58</th>\n",
       "      <th>x_59</th>\n",
       "      <th>x_60</th>\n",
       "      <th>x_61</th>\n",
       "      <th>x_62</th>\n",
       "      <th>x_63</th>\n",
       "      <th>x_64</th>\n",
       "    </tr>\n",
       "    <tr>\n",
       "      <th>target</th>\n",
       "      <th></th>\n",
       "      <th></th>\n",
       "      <th></th>\n",
       "      <th></th>\n",
       "      <th></th>\n",
       "      <th></th>\n",
       "      <th></th>\n",
       "      <th></th>\n",
       "      <th></th>\n",
       "      <th></th>\n",
       "      <th></th>\n",
       "      <th></th>\n",
       "      <th></th>\n",
       "      <th></th>\n",
       "      <th></th>\n",
       "      <th></th>\n",
       "      <th></th>\n",
       "      <th></th>\n",
       "      <th></th>\n",
       "      <th></th>\n",
       "      <th></th>\n",
       "    </tr>\n",
       "  </thead>\n",
       "  <tbody>\n",
       "    <tr>\n",
       "      <th>0</th>\n",
       "      <td>0</td>\n",
       "      <td>5</td>\n",
       "      <td>863</td>\n",
       "      <td>550</td>\n",
       "      <td>1289</td>\n",
       "      <td>1115</td>\n",
       "      <td>3</td>\n",
       "      <td>0</td>\n",
       "      <td>0</td>\n",
       "      <td>382</td>\n",
       "      <td>...</td>\n",
       "      <td>1061</td>\n",
       "      <td>0</td>\n",
       "      <td>0</td>\n",
       "      <td>0</td>\n",
       "      <td>702</td>\n",
       "      <td>413</td>\n",
       "      <td>687</td>\n",
       "      <td>1754</td>\n",
       "      <td>110</td>\n",
       "      <td>0</td>\n",
       "    </tr>\n",
       "    <tr>\n",
       "      <th>1</th>\n",
       "      <td>0</td>\n",
       "      <td>1</td>\n",
       "      <td>1249</td>\n",
       "      <td>3429</td>\n",
       "      <td>2046</td>\n",
       "      <td>3372</td>\n",
       "      <td>521</td>\n",
       "      <td>0</td>\n",
       "      <td>0</td>\n",
       "      <td>17</td>\n",
       "      <td>...</td>\n",
       "      <td>1321</td>\n",
       "      <td>327</td>\n",
       "      <td>0</td>\n",
       "      <td>0</td>\n",
       "      <td>981</td>\n",
       "      <td>3398</td>\n",
       "      <td>1066</td>\n",
       "      <td>3810</td>\n",
       "      <td>2643</td>\n",
       "      <td>1476</td>\n",
       "    </tr>\n",
       "    <tr>\n",
       "      <th>2</th>\n",
       "      <td>0</td>\n",
       "      <td>165</td>\n",
       "      <td>2213</td>\n",
       "      <td>1002</td>\n",
       "      <td>2730</td>\n",
       "      <td>1488</td>\n",
       "      <td>28</td>\n",
       "      <td>0</td>\n",
       "      <td>0</td>\n",
       "      <td>1620</td>\n",
       "      <td>...</td>\n",
       "      <td>2387</td>\n",
       "      <td>285</td>\n",
       "      <td>0</td>\n",
       "      <td>248</td>\n",
       "      <td>2527</td>\n",
       "      <td>1185</td>\n",
       "      <td>1098</td>\n",
       "      <td>1940</td>\n",
       "      <td>3375</td>\n",
       "      <td>1243</td>\n",
       "    </tr>\n",
       "    <tr>\n",
       "      <th>3</th>\n",
       "      <td>0</td>\n",
       "      <td>107</td>\n",
       "      <td>1373</td>\n",
       "      <td>501</td>\n",
       "      <td>635</td>\n",
       "      <td>2449</td>\n",
       "      <td>370</td>\n",
       "      <td>0</td>\n",
       "      <td>1</td>\n",
       "      <td>1388</td>\n",
       "      <td>...</td>\n",
       "      <td>2112</td>\n",
       "      <td>20</td>\n",
       "      <td>0</td>\n",
       "      <td>106</td>\n",
       "      <td>1868</td>\n",
       "      <td>381</td>\n",
       "      <td>878</td>\n",
       "      <td>2011</td>\n",
       "      <td>757</td>\n",
       "      <td>45</td>\n",
       "    </tr>\n",
       "    <tr>\n",
       "      <th>4</th>\n",
       "      <td>0</td>\n",
       "      <td>0</td>\n",
       "      <td>246</td>\n",
       "      <td>2400</td>\n",
       "      <td>1794</td>\n",
       "      <td>894</td>\n",
       "      <td>114</td>\n",
       "      <td>45</td>\n",
       "      <td>0</td>\n",
       "      <td>25</td>\n",
       "      <td>...</td>\n",
       "      <td>2</td>\n",
       "      <td>0</td>\n",
       "      <td>0</td>\n",
       "      <td>6</td>\n",
       "      <td>375</td>\n",
       "      <td>2866</td>\n",
       "      <td>2030</td>\n",
       "      <td>838</td>\n",
       "      <td>0</td>\n",
       "      <td>0</td>\n",
       "    </tr>\n",
       "  </tbody>\n",
       "</table>\n",
       "<p>5 rows × 64 columns</p>\n",
       "</div>"
      ],
      "text/plain": [
       "        x_1  x_2   x_3   x_4   x_5   x_6  x_7  x_8  x_9  x_10  ...  x_55  \\\n",
       "target                                                         ...         \n",
       "0         0    5   863   550  1289  1115    3    0    0   382  ...  1061   \n",
       "1         0    1  1249  3429  2046  3372  521    0    0    17  ...  1321   \n",
       "2         0  165  2213  1002  2730  1488   28    0    0  1620  ...  2387   \n",
       "3         0  107  1373   501   635  2449  370    0    1  1388  ...  2112   \n",
       "4         0    0   246  2400  1794   894  114   45    0    25  ...     2   \n",
       "\n",
       "        x_56  x_57  x_58  x_59  x_60  x_61  x_62  x_63  x_64  \n",
       "target                                                        \n",
       "0          0     0     0   702   413   687  1754   110     0  \n",
       "1        327     0     0   981  3398  1066  3810  2643  1476  \n",
       "2        285     0   248  2527  1185  1098  1940  3375  1243  \n",
       "3         20     0   106  1868   381   878  2011   757    45  \n",
       "4          0     0     6   375  2866  2030   838     0     0  \n",
       "\n",
       "[5 rows x 64 columns]"
      ]
     },
     "execution_count": 14,
     "metadata": {},
     "output_type": "execute_result"
    }
   ],
   "source": [
    "df_var.head()"
   ]
  },
  {
   "cell_type": "code",
   "execution_count": 15,
   "id": "facial-egyptian",
   "metadata": {},
   "outputs": [],
   "source": [
    "# pca = RandomizedPCA(n_components=10)\n",
    "# pca.fit(x_train)\n",
    "\n",
    "# x_train = pca.transform(x_train)\n",
    "# x_test = pca.transform(x_test)"
   ]
  },
  {
   "cell_type": "code",
   "execution_count": 16,
   "id": "toxic-removal",
   "metadata": {},
   "outputs": [],
   "source": [
    "df_mean = df_mean.values\n",
    "df_var = df_var.values\n",
    "for i in range(df_var.shape[0]):\n",
    "    for j in range(df_var.shape[1]):\n",
    "        if (df_var[i][j]==0):\n",
    "            df_var[i][j] = 1"
   ]
  },
  {
   "cell_type": "code",
   "execution_count": 17,
   "id": "simple-brisbane",
   "metadata": {},
   "outputs": [
    {
     "name": "stdout",
     "output_type": "stream",
     "text": [
      "Number of mislabeled points out of a total 360 points : 53\n",
      "0.8527777777777777\n"
     ]
    }
   ],
   "source": [
    "gnb = GaussianNB()\n",
    "y_pred = gnb.fit(x_train, y_train).predict(x_test)\n",
    "print(\"Number of mislabeled points out of a total %d points : %d\" % (x_test.shape[0], (y_test != y_pred).sum()))\n",
    "print(accuracy_score(y_test, y_pred))"
   ]
  },
  {
   "cell_type": "code",
   "execution_count": 18,
   "id": "attended-lemon",
   "metadata": {},
   "outputs": [],
   "source": [
    "# x_train = StandardScaler().fit_transform(x_train)\n",
    "# x_test = StandardScaler().fit_transform(x_test)"
   ]
  },
  {
   "cell_type": "code",
   "execution_count": 19,
   "id": "working-stand",
   "metadata": {},
   "outputs": [],
   "source": [
    "# gnb = BernoulliNB()\n",
    "# y_pred = gnb.fit(x_train, y_train).predict(x_test)\n",
    "# print(\"Number of mislabeled points out of a total %d points : %d\" % (x_test.shape[0], (y_test != y_pred).sum()))\n",
    "# print(accuracy_score(y_test, y_pred))"
   ]
  },
  {
   "cell_type": "code",
   "execution_count": 20,
   "id": "round-authentication",
   "metadata": {},
   "outputs": [],
   "source": [
    "\n",
    "# gnb = MultinomialNB()\n",
    "# y_pred = gnb.fit(x_train, y_train).predict(x_test)\n",
    "# print(\"Number of mislabeled points out of a total %d points : %d\" % (x_test.shape[0], (y_test != y_pred).sum()))\n",
    "# print(accuracy_score(y_test, y_pred))"
   ]
  },
  {
   "cell_type": "code",
   "execution_count": 21,
   "id": "closing-notebook",
   "metadata": {},
   "outputs": [],
   "source": [
    "from sklearn.decomposition import PCA\n",
    "pca =PCA(n_components =10)\n",
    "pca.fit(x_train,pca)\n",
    "PC_train = pca.transform(x_train).astype(int)\n",
    "PC_test = pca.transform(x_test).astype(int)"
   ]
  },
  {
   "cell_type": "code",
   "execution_count": 22,
   "id": "dietary-weapon",
   "metadata": {},
   "outputs": [
    {
     "name": "stdout",
     "output_type": "stream",
     "text": [
      "Number of mislabeled points out of a total 360 points : 35\n",
      "0.9027777777777778\n"
     ]
    }
   ],
   "source": [
    "gnb = GaussianNB()\n",
    "y_pred = gnb.fit(PC_train, y_train).predict(PC_test)\n",
    "print(\"Number of mislabeled points out of a total %d points : %d\" % (PC_test.shape[0], (y_test != y_pred).sum()))\n",
    "print(accuracy_score(y_test, y_pred))"
   ]
  },
  {
   "cell_type": "code",
   "execution_count": 23,
   "id": "improving-scene",
   "metadata": {},
   "outputs": [
    {
     "name": "stdout",
     "output_type": "stream",
     "text": [
      "Number of mislabeled points out of a total 360 points : 96\n",
      "0.7333333333333333\n"
     ]
    }
   ],
   "source": [
    "gnb = BernoulliNB()\n",
    "y_pred = gnb.fit(PC_train, y_train).predict(PC_test)\n",
    "print(\"Number of mislabeled points out of a total %d points : %d\" % (PC_test.shape[0], (y_test != y_pred).sum()))\n",
    "print(accuracy_score(y_test, y_pred))"
   ]
  },
  {
   "cell_type": "markdown",
   "id": "guilty-optics",
   "metadata": {},
   "source": [
    "## smart contract methods"
   ]
  },
  {
   "cell_type": "code",
   "execution_count": 21,
   "id": "champion-thong",
   "metadata": {},
   "outputs": [],
   "source": [
    "X, y = load_digits(return_X_y=True)\n",
    "x_train, x_test, y_train, y_test = train_test_split(X, y, test_size=0.2, random_state=0)\n",
    "# x_train = pca.transform(x_train)\n",
    "# x_test = pca.transform(x_test)\n",
    "# df = pd.DataFrame(x_train, columns=['f1','f2'])\n",
    "\n",
    "df = pd.DataFrame(x_train, columns=a)\n",
    "\n",
    "df ['target'] = y_train\n",
    "# df_mean = df.groupby(['target']).mean()\n",
    "df_mean = (df.groupby(['target']).mean()*10).astype(int)\n",
    "mean = df_mean.values\n",
    "df_var =  (df.groupby(['target']).var()*10).astype(int)\n",
    "var = df_var.values\n",
    "\n",
    "# var"
   ]
  },
  {
   "cell_type": "code",
   "execution_count": 22,
   "id": "continued-maintenance",
   "metadata": {},
   "outputs": [],
   "source": [
    "# df_mean = df_mean.values\n",
    "# df_var = df_var.values\n",
    "for i in range(var.shape[0]):\n",
    "    for j in range(var.shape[1]):\n",
    "        if (var[i][j]==0):\n",
    "            var[i][j] = 1"
   ]
  },
  {
   "cell_type": "code",
   "execution_count": 23,
   "id": "honey-effort",
   "metadata": {},
   "outputs": [
    {
     "name": "stdout",
     "output_type": "stream",
     "text": [
      "1437\n"
     ]
    },
    {
     "data": {
      "text/plain": [
       "array([105., 102.,  98., 107., 105.,  98.,  95.,  97.,  93.,  96.])"
      ]
     },
     "execution_count": 23,
     "metadata": {},
     "output_type": "execute_result"
    }
   ],
   "source": [
    "dfp = df.groupby('target').size()\n",
    "cfp = dfp.values\n",
    "tot = np.sum(cfp)\n",
    "print(tot)\n",
    "prior = np.zeros(len(cfp))\n",
    "for i in range(len(prior)):\n",
    "    prior[i] = int(cfp[i]/tot *1000)\n",
    "prior"
   ]
  },
  {
   "cell_type": "code",
   "execution_count": 24,
   "id": "polyphonic-stranger",
   "metadata": {},
   "outputs": [],
   "source": [
    "def mux1(v,k):\n",
    "    x = 1\n",
    "#     print(type(v))\n",
    "    for i in range(len(v)):\n",
    "        if(i==k): continue\n",
    "        else:  x = x* v[i]\n",
    "    return x\n",
    "\n",
    "\n",
    "def GNB(x,m,v):\n",
    "    B0=1; C0 =1.0;  A0=1; e = 2.718\n",
    "    c = np.zeros(len(v));\n",
    "    for i in range(len(v)):\n",
    "        B0 = B0* v[i]\n",
    "        c[i] = (x[i]-m[i])*(x[i]-m[i]) \n",
    "    D0 = B0\n",
    "    for i in range(len(c)):\n",
    "        C0 = C0+c[i]*mux1(v,i)  \n",
    "    ex = float(C0/D0)\n",
    "    out = (A0/B0)*pow(e,-1*ex)\n",
    "    print(\"The values of A0, B0, C0, D0 are : \", A0,B0,C0,D0)\n",
    "    return(out) \n",
    "\n",
    "def classification(x,m,v,pt):\n",
    "    prob = np.zeros(m.shape[0])\n",
    "    pred = np.zeros(len(y_test))\n",
    "    z = np.zeros(x.shape[0])\n",
    "    for i in range(m.shape[0]):\n",
    "        prob = np.zeros(m.shape[0])\n",
    "        for j in range(x.shape[0]):\n",
    "            print(\"the data are  \", x[j], m[i], v[i], pt[i])\n",
    "            prob[i] = GNB(x[j],m[i],v[i]) * pt[i]        \n",
    "        print(\"probabilities are \",prob)\n",
    "        pred[i] =np.argmax(prob)\n",
    "    print(\"prediction classes are \",pred)\n",
    "    return pred"
   ]
  },
  {
   "cell_type": "code",
   "execution_count": 25,
   "id": "distant-feature",
   "metadata": {},
   "outputs": [
    {
     "name": "stdout",
     "output_type": "stream",
     "text": [
      "[array([ 0,  0, 11, 16, 15,  3,  0,  0,  0,  5, 16, 12, 11, 13])] , [array([  0,   0,  41, 129, 112,  29,   0,   0,   0,   9, 125, 136, 116,\n",
      "       112])] , [array([  1,   1,  87,  52, 126, 110,   1,   1,   1,  35, 120,  90, 167,\n",
      "       120])]\n"
     ]
    }
   ],
   "source": [
    "# pred = classification (x_test[:1],mean,var,prior)\n",
    "# pred\n",
    "x = list(x_test[:1,:14].astype(int))\n",
    "m = list(mean[:1,:14])\n",
    "v = list(var[:1,:14])\n",
    "print(x,',',m,',',v)"
   ]
  },
  {
   "cell_type": "code",
   "execution_count": 26,
   "id": "split-worst",
   "metadata": {},
   "outputs": [
    {
     "data": {
      "text/plain": [
       "array([[0, 0]])"
      ]
     },
     "execution_count": 26,
     "metadata": {},
     "output_type": "execute_result"
    }
   ],
   "source": [
    "mean[:1,:2]"
   ]
  },
  {
   "cell_type": "code",
   "execution_count": 27,
   "id": "domestic-russian",
   "metadata": {},
   "outputs": [
    {
     "ename": "ValueError",
     "evalue": "setting an array element with a sequence.",
     "output_type": "error",
     "traceback": [
      "\u001b[1;31m---------------------------------------------------------------------------\u001b[0m",
      "\u001b[1;31mTypeError\u001b[0m                                 Traceback (most recent call last)",
      "\u001b[1;31mTypeError\u001b[0m: only size-1 arrays can be converted to Python scalars",
      "\nThe above exception was the direct cause of the following exception:\n",
      "\u001b[1;31mValueError\u001b[0m                                Traceback (most recent call last)",
      "\u001b[1;32m<ipython-input-27-fa52019fccca>\u001b[0m in \u001b[0;36m<module>\u001b[1;34m\u001b[0m\n\u001b[1;32m----> 1\u001b[1;33m \u001b[0mGNB\u001b[0m\u001b[1;33m(\u001b[0m\u001b[0mx\u001b[0m\u001b[1;33m,\u001b[0m\u001b[0mm\u001b[0m\u001b[1;33m,\u001b[0m\u001b[0mv\u001b[0m\u001b[1;33m)\u001b[0m\u001b[1;33m\u001b[0m\u001b[1;33m\u001b[0m\u001b[0m\n\u001b[0m",
      "\u001b[1;32m<ipython-input-24-a714657b89f7>\u001b[0m in \u001b[0;36mGNB\u001b[1;34m(x, m, v)\u001b[0m\n\u001b[0;32m     13\u001b[0m     \u001b[1;32mfor\u001b[0m \u001b[0mi\u001b[0m \u001b[1;32min\u001b[0m \u001b[0mrange\u001b[0m\u001b[1;33m(\u001b[0m\u001b[0mlen\u001b[0m\u001b[1;33m(\u001b[0m\u001b[0mv\u001b[0m\u001b[1;33m)\u001b[0m\u001b[1;33m)\u001b[0m\u001b[1;33m:\u001b[0m\u001b[1;33m\u001b[0m\u001b[1;33m\u001b[0m\u001b[0m\n\u001b[0;32m     14\u001b[0m         \u001b[0mB0\u001b[0m \u001b[1;33m=\u001b[0m \u001b[0mB0\u001b[0m\u001b[1;33m*\u001b[0m \u001b[0mv\u001b[0m\u001b[1;33m[\u001b[0m\u001b[0mi\u001b[0m\u001b[1;33m]\u001b[0m\u001b[1;33m\u001b[0m\u001b[1;33m\u001b[0m\u001b[0m\n\u001b[1;32m---> 15\u001b[1;33m         \u001b[0mc\u001b[0m\u001b[1;33m[\u001b[0m\u001b[0mi\u001b[0m\u001b[1;33m]\u001b[0m \u001b[1;33m=\u001b[0m \u001b[1;33m(\u001b[0m\u001b[0mx\u001b[0m\u001b[1;33m[\u001b[0m\u001b[0mi\u001b[0m\u001b[1;33m]\u001b[0m\u001b[1;33m-\u001b[0m\u001b[0mm\u001b[0m\u001b[1;33m[\u001b[0m\u001b[0mi\u001b[0m\u001b[1;33m]\u001b[0m\u001b[1;33m)\u001b[0m\u001b[1;33m*\u001b[0m\u001b[1;33m(\u001b[0m\u001b[0mx\u001b[0m\u001b[1;33m[\u001b[0m\u001b[0mi\u001b[0m\u001b[1;33m]\u001b[0m\u001b[1;33m-\u001b[0m\u001b[0mm\u001b[0m\u001b[1;33m[\u001b[0m\u001b[0mi\u001b[0m\u001b[1;33m]\u001b[0m\u001b[1;33m)\u001b[0m\u001b[1;33m\u001b[0m\u001b[1;33m\u001b[0m\u001b[0m\n\u001b[0m\u001b[0;32m     16\u001b[0m     \u001b[0mD0\u001b[0m \u001b[1;33m=\u001b[0m \u001b[0mB0\u001b[0m\u001b[1;33m\u001b[0m\u001b[1;33m\u001b[0m\u001b[0m\n\u001b[0;32m     17\u001b[0m     \u001b[1;32mfor\u001b[0m \u001b[0mi\u001b[0m \u001b[1;32min\u001b[0m \u001b[0mrange\u001b[0m\u001b[1;33m(\u001b[0m\u001b[0mlen\u001b[0m\u001b[1;33m(\u001b[0m\u001b[0mc\u001b[0m\u001b[1;33m)\u001b[0m\u001b[1;33m)\u001b[0m\u001b[1;33m:\u001b[0m\u001b[1;33m\u001b[0m\u001b[1;33m\u001b[0m\u001b[0m\n",
      "\u001b[1;31mValueError\u001b[0m: setting an array element with a sequence."
     ]
    }
   ],
   "source": [
    "GNB(x,m,v)"
   ]
  },
  {
   "cell_type": "code",
   "execution_count": 28,
   "id": "manufactured-culture",
   "metadata": {},
   "outputs": [
    {
     "data": {
      "text/plain": [
       "True"
      ]
     },
     "execution_count": 28,
     "metadata": {},
     "output_type": "execute_result"
    }
   ],
   "source": [
    "import matplotlib.pyplot as plt\n",
    "import json\n",
    "from web3 import Web3\n",
    "ganache_url = \"https://ropsten.infura.io/v3/6072fdc3b95c407caa681f63ebaf72b8\"\n",
    "# ganache_url =\"http://127.0.0.1:8545\"\n",
    "web3 = Web3(Web3.HTTPProvider(ganache_url))\n",
    "web3.isConnected()"
   ]
  },
  {
   "cell_type": "code",
   "execution_count": 29,
   "id": "electronic-rehabilitation",
   "metadata": {},
   "outputs": [],
   "source": [
    "abi = json.loads('[ { \"constant\": false, \"inputs\": [ { \"name\": \"x\", \"type\": \"int256[]\" }, { \"name\": \"m\", \"type\": \"int256[]\" }, { \"name\": \"v\", \"type\": \"int256[]\" } ], \"name\": \"a_getparameters1\", \"outputs\": [], \"payable\": false, \"stateMutability\": \"nonpayable\", \"type\": \"function\" }, { \"constant\": false, \"inputs\": [ { \"name\": \"e0\", \"type\": \"int256\" }, { \"name\": \"e1\", \"type\": \"int256\" }, { \"name\": \"f0\", \"type\": \"int256\" }, { \"name\": \"f1\", \"type\": \"int256\" }, { \"name\": \"g0\", \"type\": \"int256\" }, { \"name\": \"g1\", \"type\": \"int256\" }, { \"name\": \"h0\", \"type\": \"int256\" }, { \"name\": \"h1\", \"type\": \"int256\" }, { \"name\": \"Prior0\", \"type\": \"int256\" }, { \"name\": \"Prior1\", \"type\": \"int256\" } ], \"name\": \"e_exponent\", \"outputs\": [], \"payable\": false, \"stateMutability\": \"nonpayable\", \"type\": \"function\" }, { \"constant\": true, \"inputs\": [], \"name\": \"set_exponent\", \"outputs\": [ { \"name\": \"\", \"type\": \"int256\" }, { \"name\": \"\", \"type\": \"int256\" } ], \"payable\": false, \"stateMutability\": \"view\", \"type\": \"function\" }, { \"constant\": true, \"inputs\": [], \"name\": \"a_setparameters1\", \"outputs\": [ { \"name\": \"\", \"type\": \"int256\" }, { \"name\": \"\", \"type\": \"int256\" }, { \"name\": \"\", \"type\": \"int256\" }, { \"name\": \"\", \"type\": \"int256\" } ], \"payable\": false, \"stateMutability\": \"view\", \"type\": \"function\" }, { \"constant\": false, \"inputs\": [ { \"name\": \"v\", \"type\": \"int256[]\" }, { \"name\": \"k\", \"type\": \"uint256\" } ], \"name\": \"mux\", \"outputs\": [ { \"name\": \"\", \"type\": \"int256\" } ], \"payable\": false, \"stateMutability\": \"nonpayable\", \"type\": \"function\" } ]')\n",
    "cont= '0xdF8fC5B4aBda9e2756e9C914a708aAF8f32714FD'\n",
    "contract_triple = web3.eth.contract(address=cont,abi=abi)\n",
    "\n",
    "account1 = \"0xdd617f9D5120b7b30E4C502fdd6b13dCf286A300\"\n",
    "privatekey1 = \"c00b36dc1777e7fda60ff1f55b57c3f51b18c0c16fe44724e451ed062a173d74\"\n",
    "account2 = \"0x8883f1016E727C8fE93C1Df471f102bBbAF2B910\"\n",
    "privatekey2=\"8d70f54549b5fb7c04fc016cc88c447fc81aff3af3065c696aee1b529fbc8ba5\""
   ]
  },
  {
   "cell_type": "code",
   "execution_count": 30,
   "id": "identified-exclusion",
   "metadata": {},
   "outputs": [],
   "source": [
    "def triple_send_txn(a,b,c,account1,account2,privatekey1,privatekey2):\n",
    "    nonce = web3.eth.getTransactionCount(account2)\n",
    "    transaction = contract_triple.functions.a_getparameters1(\n",
    "        a,b,c\n",
    "         ).buildTransaction({\n",
    "        'gas': 3000000,\n",
    "        'gasPrice': web3.toWei('10', 'gwei'),\n",
    "        'from': account2,\n",
    "        'nonce': nonce\n",
    "        }) \n",
    "    signed_txn = web3.eth.account.signTransaction(transaction, private_key=privatekey2)\n",
    "    tx_hash = web3.eth.sendRawTransaction(signed_txn.rawTransaction)\n",
    "    tx_receipt = web3.eth.waitForTransactionReceipt(tx_hash)\n",
    "    return tx_receipt.gasUsed"
   ]
  },
  {
   "cell_type": "code",
   "execution_count": 35,
   "id": "vital-ozone",
   "metadata": {
    "scrolled": false
   },
   "outputs": [],
   "source": [
    "# for i in range(1,64):\n",
    "#     x = x_test[1,:i].astype(int).tolist()\n",
    "#     m = mean[1,:i].tolist()\n",
    "#     v = var[1,:i].tolist()\n",
    "#     print(x,',',m,',',v)"
   ]
  },
  {
   "cell_type": "code",
   "execution_count": 313,
   "id": "modern-joyce",
   "metadata": {},
   "outputs": [
    {
     "data": {
      "text/plain": [
       "list"
      ]
     },
     "execution_count": 313,
     "metadata": {},
     "output_type": "execute_result"
    }
   ],
   "source": [
    "type(m)"
   ]
  },
  {
   "cell_type": "code",
   "execution_count": 314,
   "id": "linear-carbon",
   "metadata": {},
   "outputs": [
    {
     "data": {
      "text/plain": [
       "'[ 0, 1,15]'"
      ]
     },
     "execution_count": 314,
     "metadata": {},
     "output_type": "execute_result"
    }
   ],
   "source": [
    "z = np.array2string(x_test[1,:3].astype(int), precision=2, separator=',',suppress_small=True)\n",
    "z"
   ]
  },
  {
   "cell_type": "code",
   "execution_count": 315,
   "id": "transsexual-glenn",
   "metadata": {
    "scrolled": true
   },
   "outputs": [
    {
     "name": "stdout",
     "output_type": "stream",
     "text": [
      "<class 'list'>\n",
      "[0] [0] [1]\n",
      "transaction number: 1\n",
      "<class 'list'>\n",
      "[0, 1] [0, 0] [1, 1]\n",
      "transaction number: 2\n",
      "<class 'list'>\n",
      "[0, 1, 15] [0, 0, 25] [1, 1, 126]\n",
      "transaction number: 3\n",
      "<class 'list'>\n",
      "[0, 1, 15, 14] [0, 0, 25, 93] [1, 1, 126, 338]\n",
      "transaction number: 4\n",
      "<class 'list'>\n",
      "[0, 1, 15, 14, 2] [0, 0, 25, 93, 105] [1, 1, 126, 338, 195]\n",
      "transaction number: 5\n",
      "<class 'list'>\n",
      "[0, 1, 15, 14, 2, 0] [0, 0, 25, 93, 105, 60] [1, 1, 126, 338, 195, 321]\n"
     ]
    },
    {
     "ename": "ValueError",
     "evalue": "{'code': -32000, 'message': 'nonce too low'}",
     "output_type": "error",
     "traceback": [
      "\u001b[1;31m---------------------------------------------------------------------------\u001b[0m",
      "\u001b[1;31mValueError\u001b[0m                                Traceback (most recent call last)",
      "\u001b[1;32m<ipython-input-315-5e37dc9e618b>\u001b[0m in \u001b[0;36m<module>\u001b[1;34m\u001b[0m\n\u001b[0;32m      6\u001b[0m     \u001b[0mprint\u001b[0m\u001b[1;33m(\u001b[0m\u001b[0mtype\u001b[0m\u001b[1;33m(\u001b[0m\u001b[0mx\u001b[0m\u001b[1;33m)\u001b[0m\u001b[1;33m)\u001b[0m\u001b[1;33m\u001b[0m\u001b[1;33m\u001b[0m\u001b[0m\n\u001b[0;32m      7\u001b[0m     \u001b[0mprint\u001b[0m\u001b[1;33m(\u001b[0m\u001b[0mx\u001b[0m\u001b[1;33m,\u001b[0m\u001b[0mm\u001b[0m\u001b[1;33m,\u001b[0m\u001b[0mv\u001b[0m\u001b[1;33m)\u001b[0m\u001b[1;33m\u001b[0m\u001b[1;33m\u001b[0m\u001b[0m\n\u001b[1;32m----> 8\u001b[1;33m     \u001b[0mgas\u001b[0m\u001b[1;33m.\u001b[0m\u001b[0mappend\u001b[0m\u001b[1;33m(\u001b[0m\u001b[0mtriple_send_txn\u001b[0m\u001b[1;33m(\u001b[0m\u001b[0mx\u001b[0m\u001b[1;33m,\u001b[0m\u001b[0mm\u001b[0m\u001b[1;33m,\u001b[0m\u001b[0mv\u001b[0m\u001b[1;33m,\u001b[0m\u001b[0maccount1\u001b[0m\u001b[1;33m,\u001b[0m\u001b[0maccount2\u001b[0m\u001b[1;33m,\u001b[0m\u001b[0mprivatekey1\u001b[0m\u001b[1;33m,\u001b[0m\u001b[0mprivatekey2\u001b[0m\u001b[1;33m)\u001b[0m\u001b[1;33m)\u001b[0m\u001b[1;33m\u001b[0m\u001b[1;33m\u001b[0m\u001b[0m\n\u001b[0m\u001b[0;32m      9\u001b[0m     \u001b[0mprint\u001b[0m\u001b[1;33m(\u001b[0m\u001b[1;34m\"transaction number:\"\u001b[0m\u001b[1;33m,\u001b[0m\u001b[0mi\u001b[0m\u001b[1;33m)\u001b[0m\u001b[1;33m\u001b[0m\u001b[1;33m\u001b[0m\u001b[0m\n",
      "\u001b[1;32m<ipython-input-311-da7854b2683f>\u001b[0m in \u001b[0;36mtriple_send_txn\u001b[1;34m(a, b, c, account1, account2, privatekey1, privatekey2)\u001b[0m\n\u001b[0;32m     10\u001b[0m         }) \n\u001b[0;32m     11\u001b[0m     \u001b[0msigned_txn\u001b[0m \u001b[1;33m=\u001b[0m \u001b[0mweb3\u001b[0m\u001b[1;33m.\u001b[0m\u001b[0meth\u001b[0m\u001b[1;33m.\u001b[0m\u001b[0maccount\u001b[0m\u001b[1;33m.\u001b[0m\u001b[0msignTransaction\u001b[0m\u001b[1;33m(\u001b[0m\u001b[0mtransaction\u001b[0m\u001b[1;33m,\u001b[0m \u001b[0mprivate_key\u001b[0m\u001b[1;33m=\u001b[0m\u001b[0mprivatekey2\u001b[0m\u001b[1;33m)\u001b[0m\u001b[1;33m\u001b[0m\u001b[1;33m\u001b[0m\u001b[0m\n\u001b[1;32m---> 12\u001b[1;33m     \u001b[0mtx_hash\u001b[0m \u001b[1;33m=\u001b[0m \u001b[0mweb3\u001b[0m\u001b[1;33m.\u001b[0m\u001b[0meth\u001b[0m\u001b[1;33m.\u001b[0m\u001b[0msendRawTransaction\u001b[0m\u001b[1;33m(\u001b[0m\u001b[0msigned_txn\u001b[0m\u001b[1;33m.\u001b[0m\u001b[0mrawTransaction\u001b[0m\u001b[1;33m)\u001b[0m\u001b[1;33m\u001b[0m\u001b[1;33m\u001b[0m\u001b[0m\n\u001b[0m\u001b[0;32m     13\u001b[0m     \u001b[0mtx_receipt\u001b[0m \u001b[1;33m=\u001b[0m \u001b[0mweb3\u001b[0m\u001b[1;33m.\u001b[0m\u001b[0meth\u001b[0m\u001b[1;33m.\u001b[0m\u001b[0mwaitForTransactionReceipt\u001b[0m\u001b[1;33m(\u001b[0m\u001b[0mtx_hash\u001b[0m\u001b[1;33m)\u001b[0m\u001b[1;33m\u001b[0m\u001b[1;33m\u001b[0m\u001b[0m\n\u001b[0;32m     14\u001b[0m     \u001b[1;32mreturn\u001b[0m \u001b[0mtx_receipt\u001b[0m\u001b[1;33m.\u001b[0m\u001b[0mgasUsed\u001b[0m\u001b[1;33m\u001b[0m\u001b[1;33m\u001b[0m\u001b[0m\n",
      "\u001b[1;32mc:\\users\\syed\\appdata\\local\\programs\\python\\python39\\lib\\site-packages\\web3\\module.py\u001b[0m in \u001b[0;36mcaller\u001b[1;34m(*args, **kwargs)\u001b[0m\n\u001b[0;32m     55\u001b[0m             \u001b[1;32mreturn\u001b[0m \u001b[0mLogFilter\u001b[0m\u001b[1;33m(\u001b[0m\u001b[0meth_module\u001b[0m\u001b[1;33m=\u001b[0m\u001b[0mmodule\u001b[0m\u001b[1;33m,\u001b[0m \u001b[0mfilter_id\u001b[0m\u001b[1;33m=\u001b[0m\u001b[0merr\u001b[0m\u001b[1;33m.\u001b[0m\u001b[0mfilter_id\u001b[0m\u001b[1;33m)\u001b[0m\u001b[1;33m\u001b[0m\u001b[1;33m\u001b[0m\u001b[0m\n\u001b[0;32m     56\u001b[0m         \u001b[0mresult_formatters\u001b[0m\u001b[1;33m,\u001b[0m \u001b[0merror_formatters\u001b[0m\u001b[1;33m,\u001b[0m \u001b[0mnull_result_formatters\u001b[0m \u001b[1;33m=\u001b[0m \u001b[0mresponse_formatters\u001b[0m\u001b[1;33m\u001b[0m\u001b[1;33m\u001b[0m\u001b[0m\n\u001b[1;32m---> 57\u001b[1;33m         result = w3.manager.request_blocking(method_str,\n\u001b[0m\u001b[0;32m     58\u001b[0m                                              \u001b[0mparams\u001b[0m\u001b[1;33m,\u001b[0m\u001b[1;33m\u001b[0m\u001b[1;33m\u001b[0m\u001b[0m\n\u001b[0;32m     59\u001b[0m                                              \u001b[0merror_formatters\u001b[0m\u001b[1;33m,\u001b[0m\u001b[1;33m\u001b[0m\u001b[1;33m\u001b[0m\u001b[0m\n",
      "\u001b[1;32mc:\\users\\syed\\appdata\\local\\programs\\python\\python39\\lib\\site-packages\\web3\\manager.py\u001b[0m in \u001b[0;36mrequest_blocking\u001b[1;34m(self, method, params, error_formatters, null_result_formatters)\u001b[0m\n\u001b[0;32m    185\u001b[0m         \"\"\"\n\u001b[0;32m    186\u001b[0m         \u001b[0mresponse\u001b[0m \u001b[1;33m=\u001b[0m \u001b[0mself\u001b[0m\u001b[1;33m.\u001b[0m\u001b[0m_make_request\u001b[0m\u001b[1;33m(\u001b[0m\u001b[0mmethod\u001b[0m\u001b[1;33m,\u001b[0m \u001b[0mparams\u001b[0m\u001b[1;33m)\u001b[0m\u001b[1;33m\u001b[0m\u001b[1;33m\u001b[0m\u001b[0m\n\u001b[1;32m--> 187\u001b[1;33m         return self.formatted_response(response,\n\u001b[0m\u001b[0;32m    188\u001b[0m                                        \u001b[0mparams\u001b[0m\u001b[1;33m,\u001b[0m\u001b[1;33m\u001b[0m\u001b[1;33m\u001b[0m\u001b[0m\n\u001b[0;32m    189\u001b[0m                                        \u001b[0merror_formatters\u001b[0m\u001b[1;33m,\u001b[0m\u001b[1;33m\u001b[0m\u001b[1;33m\u001b[0m\u001b[0m\n",
      "\u001b[1;32mc:\\users\\syed\\appdata\\local\\programs\\python\\python39\\lib\\site-packages\\web3\\manager.py\u001b[0m in \u001b[0;36mformatted_response\u001b[1;34m(self, response, params, error_formatters, null_result_formatters)\u001b[0m\n\u001b[0;32m    166\u001b[0m         \u001b[1;32mif\u001b[0m \u001b[1;34m\"error\"\u001b[0m \u001b[1;32min\u001b[0m \u001b[0mresponse\u001b[0m\u001b[1;33m:\u001b[0m\u001b[1;33m\u001b[0m\u001b[1;33m\u001b[0m\u001b[0m\n\u001b[0;32m    167\u001b[0m             \u001b[0mapply_error_formatters\u001b[0m\u001b[1;33m(\u001b[0m\u001b[0merror_formatters\u001b[0m\u001b[1;33m,\u001b[0m \u001b[0mresponse\u001b[0m\u001b[1;33m)\u001b[0m\u001b[1;33m\u001b[0m\u001b[1;33m\u001b[0m\u001b[0m\n\u001b[1;32m--> 168\u001b[1;33m             \u001b[1;32mraise\u001b[0m \u001b[0mValueError\u001b[0m\u001b[1;33m(\u001b[0m\u001b[0mresponse\u001b[0m\u001b[1;33m[\u001b[0m\u001b[1;34m\"error\"\u001b[0m\u001b[1;33m]\u001b[0m\u001b[1;33m)\u001b[0m\u001b[1;33m\u001b[0m\u001b[1;33m\u001b[0m\u001b[0m\n\u001b[0m\u001b[0;32m    169\u001b[0m         \u001b[1;32melif\u001b[0m \u001b[0mresponse\u001b[0m\u001b[1;33m[\u001b[0m\u001b[1;34m'result'\u001b[0m\u001b[1;33m]\u001b[0m \u001b[1;32min\u001b[0m \u001b[0mNULL_RESPONSES\u001b[0m\u001b[1;33m:\u001b[0m\u001b[1;33m\u001b[0m\u001b[1;33m\u001b[0m\u001b[0m\n\u001b[0;32m    170\u001b[0m             \u001b[1;31m# null_result_formatters raise either a BlockNotFound\u001b[0m\u001b[1;33m\u001b[0m\u001b[1;33m\u001b[0m\u001b[1;33m\u001b[0m\u001b[0m\n",
      "\u001b[1;31mValueError\u001b[0m: {'code': -32000, 'message': 'nonce too low'}"
     ]
    }
   ],
   "source": [
    "gas=[]\n",
    "for i in range(1,64):\n",
    "    x = x_test[1,:i].astype(int).tolist()\n",
    "    m = mean[1,:i].tolist()\n",
    "    v = var[1,:i].tolist()\n",
    "    print(type(x))\n",
    "    print(x,m,v)\n",
    "    gas.append(triple_send_txn(x,m,v,account1,account2,privatekey1,privatekey2))\n",
    "    print(\"transaction number:\",i)"
   ]
  },
  {
   "cell_type": "code",
   "execution_count": 316,
   "id": "vietnamese-reception",
   "metadata": {},
   "outputs": [
    {
     "data": {
      "text/plain": [
       "[194312, 224494, 269799, 313928, 362959]"
      ]
     },
     "execution_count": 316,
     "metadata": {},
     "output_type": "execute_result"
    }
   ],
   "source": [
    "gas"
   ]
  },
  {
   "cell_type": "code",
   "execution_count": null,
   "id": "dimensional-measure",
   "metadata": {},
   "outputs": [],
   "source": []
  }
 ],
 "metadata": {
  "kernelspec": {
   "display_name": "Python 3",
   "language": "python",
   "name": "python3"
  },
  "language_info": {
   "codemirror_mode": {
    "name": "ipython",
    "version": 3
   },
   "file_extension": ".py",
   "mimetype": "text/x-python",
   "name": "python",
   "nbconvert_exporter": "python",
   "pygments_lexer": "ipython3",
   "version": "3.9.2"
  }
 },
 "nbformat": 4,
 "nbformat_minor": 5
}
