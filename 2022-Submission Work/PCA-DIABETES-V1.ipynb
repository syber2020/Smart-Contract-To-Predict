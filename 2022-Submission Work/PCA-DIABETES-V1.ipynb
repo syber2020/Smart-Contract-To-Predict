{
 "cells": [
  {
   "cell_type": "markdown",
   "id": "sized-newport",
   "metadata": {},
   "source": [
    "## Loading the Dataset"
   ]
  },
  {
   "cell_type": "code",
   "execution_count": 1,
   "id": "commercial-realtor",
   "metadata": {},
   "outputs": [],
   "source": [
    "import numpy as np\n",
    "import pandas as pd\n",
    "from sklearn.preprocessing import StandardScaler\n",
    "from sklearn.naive_bayes import BernoulliNB\n",
    "from sklearn.naive_bayes import MultinomialNB\n",
    "from sklearn.datasets import load_iris\n",
    "from sklearn.model_selection import train_test_split\n",
    "from sklearn.naive_bayes import GaussianNB\n",
    "from sklearn.metrics import accuracy_score\n",
    "from sklearn.datasets import load_diabetes\n",
    "import matplotlib.pyplot as plt\n",
    "# df['target']                             "
   ]
  },
  {
   "cell_type": "code",
   "execution_count": 2,
   "id": "particular-reception",
   "metadata": {},
   "outputs": [
    {
     "data": {
      "text/plain": [
       "(768,)"
      ]
     },
     "execution_count": 2,
     "metadata": {},
     "output_type": "execute_result"
    }
   ],
   "source": [
    "df = pd.read_csv(\"diabetes.csv\")\n",
    "target = np.array(df['Outcome'].values)\n",
    "target.shape"
   ]
  },
  {
   "cell_type": "code",
   "execution_count": 3,
   "id": "spread-baking",
   "metadata": {},
   "outputs": [
    {
     "data": {
      "text/plain": [
       "(768, 8)"
      ]
     },
     "execution_count": 3,
     "metadata": {},
     "output_type": "execute_result"
    }
   ],
   "source": [
    "features = np.array(df.drop(columns = ['Outcome']))\n",
    "features.shape"
   ]
  },
  {
   "cell_type": "code",
   "execution_count": 4,
   "id": "informal-particle",
   "metadata": {},
   "outputs": [],
   "source": [
    "features = StandardScaler().fit_transform(features)"
   ]
  },
  {
   "cell_type": "code",
   "execution_count": 5,
   "id": "nuclear-appendix",
   "metadata": {},
   "outputs": [],
   "source": [
    "x_train,x_test, y_train, y_test = train_test_split(features,target,test_size=0.2, random_state=1)\n",
    "x_train = (StandardScaler().fit_transform(x_train)*100).astype(int)\n",
    "x_test = (StandardScaler().fit_transform(x_test)*100).astype(int)"
   ]
  },
  {
   "cell_type": "code",
   "execution_count": 6,
   "id": "appointed-bulletin",
   "metadata": {},
   "outputs": [
    {
     "name": "stdout",
     "output_type": "stream",
     "text": [
      "Number of mislabeled points out of a total 154 points : 36\n",
      "0.7662337662337663\n"
     ]
    }
   ],
   "source": [
    "gnb = GaussianNB()\n",
    "y_pred = gnb.fit(x_train, y_train).predict(x_test)\n",
    "print(\"Number of mislabeled points out of a total %d points : %d\" % (x_test.shape[0], (y_test != y_pred).sum()))\n",
    "print(accuracy_score(y_test, y_pred))"
   ]
  },
  {
   "cell_type": "code",
   "execution_count": 7,
   "id": "careful-anatomy",
   "metadata": {},
   "outputs": [
    {
     "name": "stdout",
     "output_type": "stream",
     "text": [
      "Number of mislabeled points out of a total 154 points : 40\n",
      "0.7402597402597403\n"
     ]
    }
   ],
   "source": [
    "gnb = BernoulliNB()\n",
    "y_pred = gnb.fit(x_train, y_train).predict(x_test)\n",
    "print(\"Number of mislabeled points out of a total %d points : %d\" % (x_test.shape[0], (y_test != y_pred).sum()))\n",
    "print(accuracy_score(y_test, y_pred))"
   ]
  },
  {
   "cell_type": "code",
   "execution_count": 8,
   "id": "seventh-makeup",
   "metadata": {},
   "outputs": [],
   "source": [
    "from sklearn.decomposition import PCA\n",
    "pca =PCA(n_components =2)\n",
    "PC_train = pca.fit_transform(x_train)\n",
    "PC_test = pca.fit_transform(x_test)\n",
    "# pdf = pd.DataFrame(data=principalComponents, columns = ['pc1', 'pc2'])\n",
    "\n",
    "# pdf"
   ]
  },
  {
   "cell_type": "code",
   "execution_count": 9,
   "id": "juvenile-metabolism",
   "metadata": {},
   "outputs": [
    {
     "name": "stdout",
     "output_type": "stream",
     "text": [
      "Number of mislabeled points out of a total 154 points : 68\n",
      "0.5584415584415584\n"
     ]
    }
   ],
   "source": [
    "gnb = GaussianNB()\n",
    "y_pred = gnb.fit(PC_train, y_train).predict(PC_test)\n",
    "print(\"Number of mislabeled points out of a total %d points : %d\" % (PC_test.shape[0], (y_test != y_pred).sum()))\n",
    "print(accuracy_score(y_test, y_pred))"
   ]
  },
  {
   "cell_type": "code",
   "execution_count": 10,
   "id": "southeast-paraguay",
   "metadata": {},
   "outputs": [
    {
     "name": "stdout",
     "output_type": "stream",
     "text": [
      "Number of mislabeled points out of a total 154 points : 72\n",
      "0.5324675324675324\n"
     ]
    }
   ],
   "source": [
    "gnb = BernoulliNB()\n",
    "y_pred = gnb.fit(PC_train, y_train).predict(PC_test)\n",
    "print(\"Number of mislabeled points out of a total %d points : %d\" % (PC_test.shape[0], (y_test != y_pred).sum()))\n",
    "print(accuracy_score(y_test, y_pred))"
   ]
  },
  {
   "cell_type": "code",
   "execution_count": 12,
   "id": "hydraulic-ending",
   "metadata": {},
   "outputs": [],
   "source": [
    "def mux1(v,k):\n",
    "    x = 1\n",
    "#     print(type(v))\n",
    "    for i in range(len(v)):\n",
    "        if(i==k): continue\n",
    "        else:  x = x* v[i]\n",
    "    return x\n",
    "\n",
    "def compute_param(x,m,v):\n",
    "    B0=1; C0 =1.0;  A0=1; e = 2.718\n",
    "    c = np.zeros(len(v));\n",
    "    for i in range(len(v)):\n",
    "        B0 = B0* v[i]\n",
    "        c[i] = (x[i]-m[i])*(x[i]-m[i])   \n",
    "    D0 = B0\n",
    "    for i in range(len(c)):\n",
    "        C0 = C0+c[i]*mux1(v,i)\n",
    "#     print(A0,B0,C0,D0)    \n",
    "    ex = float(C0/D0)\n",
    "#     out = (A0/B0)*pow(e,-1*ex)\n",
    "#     return(out) \n",
    "    return (A0,B0,C0,D0)\n",
    "\n",
    "# def exponent(x, m1,m2, v1,v2, Prior0,Prior1):\n",
    "#         x1=1; x2=2\n",
    "#         A0,B0,C0,D0 = compute_param(x,m1,v1)\n",
    "#         A1,B1,C1,D1 = compute_param(x,m2,v2)\n",
    "#         print(A0,B0,C0,D0)\n",
    "#         print(A1,B1,C1,D1)\n",
    "#         A = A0*B1\n",
    "#         B = B0*A1\n",
    "#         C = (C0*D1)-(C1*D0)\n",
    "#         D = D0*D1\n",
    "#         Q = int(C/D)\n",
    "#         R = C%D;\n",
    "#         Enum=19\n",
    "#         Eden=7\n",
    "#         edenR = 24*(D*D*D*D)\n",
    "#         enumR = 24*D*D*D*D+ R*24*D*D*D+R*R*12*D*D+R*R*R*4*D+R*R*R*R\n",
    "#         if(Q>=0):\n",
    "#             P0 = A*1*edenR*Prior0*Prior0\n",
    "#             P1 = B*1000*enumR*Prior1*Prior1\n",
    "#         else:\n",
    "#             P0 = A*1000*edenR*Prior0*Prior0\n",
    "#             P1 = B*1*enumR*Prior1*Prior1\n",
    "#         if(P0>P1): return 0\n",
    "#         else : return 1\n",
    "        \n",
    "def exponent(x, m1,m2, v1,v2, Prior0,Prior1):\n",
    "        A0,B0,C0,D0 = compute_param(x,m1,v1)\n",
    "        A1,B1,C1,D1 = compute_param(x,m2,v2)\n",
    "        print(A0,B0,C0,D0)\n",
    "        print(A1,B1,C1,D1)\n",
    "        A = A0*B1\n",
    "        B = B0*A1   \n",
    "        print(\"value of A and B are :\",A,B)\n",
    "        C = (C0*D1)-(C1*D0)\n",
    "        D = D0*D1\n",
    "        print(\"Value of C and D are:\",C,D)\n",
    "        Q = C//D\n",
    "        R = int(C%D);\n",
    "        print(\"Value of Q and R are : \", Q,R)\n",
    "#         print(Q,R)\n",
    "        \n",
    "        Enum=19\n",
    "        Eden=7\n",
    "        \n",
    "        edenR = 24*(D*D*D*D)\n",
    "        enumR = 24*D*D*D*D+ R*24*D*D*D+R*R*12*D*D+R*R*R*4*D+R*R*R*R\n",
    "         \n",
    "        if(Q>=0):\n",
    "            print(\"Q is greater\")\n",
    "            P0 = A*1*edenR*Prior0*Prior0\n",
    "            P1 = B*1000*enumR*Prior1*Prior1\n",
    "        else:\n",
    "            print(\"Q is smaller\")\n",
    "            P0 = A*1000*edenR*Prior0*Prior0\n",
    "            P1 = B*1*enumR*Prior1*Prior1\n",
    "        if(P0>P1): \n",
    "#             print(0)\n",
    "            return 0\n",
    "        else : \n",
    "#             print(1)\n",
    "            return 1"
   ]
  },
  {
   "cell_type": "code",
   "execution_count": 13,
   "id": "shaped-growth",
   "metadata": {},
   "outputs": [],
   "source": [
    "df = pd.read_csv(\"diabetes.csv\")\n",
    "target = np.array(df['Outcome'].values)\n",
    "features = np.array(df.drop(columns = ['Outcome']))\n",
    "dfp = df.groupby('Outcome').size()\n",
    "Prior0 = int(dfp[0]/len(df)*100)\n",
    "Prior1 = int(dfp[1]/len(df)*100)"
   ]
  },
  {
   "cell_type": "code",
   "execution_count": 14,
   "id": "hourly-crowd",
   "metadata": {},
   "outputs": [
    {
     "data": {
      "text/plain": [
       "34"
      ]
     },
     "execution_count": 14,
     "metadata": {},
     "output_type": "execute_result"
    }
   ],
   "source": [
    "Prior1"
   ]
  },
  {
   "cell_type": "code",
   "execution_count": 65,
   "id": "armed-interaction",
   "metadata": {},
   "outputs": [],
   "source": [
    "x_train,x_test, y_train, y_test = train_test_split(features,target,test_size=0.2, random_state=1)\n",
    "x_train = (StandardScaler().fit_transform(x_train)*10).astype(int)\n",
    "x_test = (StandardScaler().fit_transform(x_test)*10).astype(int)"
   ]
  },
  {
   "cell_type": "code",
   "execution_count": 79,
   "id": "female-scanner",
   "metadata": {},
   "outputs": [
    {
     "name": "stdout",
     "output_type": "stream",
     "text": [
      "Number of mislabeled points out of a total 154 points : 38\n",
      "0.7532467532467533\n"
     ]
    }
   ],
   "source": [
    "gnb = GaussianNB()\n",
    "y_pred = gnb.fit(x_train, y_train).predict(x_test)\n",
    "print(\"Number of mislabeled points out of a total %d points : %d\" % (x_test.shape[0], (y_test != y_pred).sum()))\n",
    "print(accuracy_score(y_test, y_pred))"
   ]
  },
  {
   "cell_type": "code",
   "execution_count": 80,
   "id": "dominican-penguin",
   "metadata": {},
   "outputs": [
    {
     "data": {
      "text/plain": [
       "array([[15,  7,  5, ...,  7,  5,  5],\n",
       "       [18,  2, -3, ..., 12,  0,  3],\n",
       "       [ 9, -6,  2, ...,  7, -7,  9],\n",
       "       ...,\n",
       "       [26,  1, 10, ..., 15,  3,  7],\n",
       "       [ 0, 15,  1, ..., 15,  0, -6],\n",
       "       [15, -6,  3, ...,  1,  6, 10]])"
      ]
     },
     "execution_count": 80,
     "metadata": {},
     "output_type": "execute_result"
    }
   ],
   "source": [
    "x_train"
   ]
  },
  {
   "cell_type": "code",
   "execution_count": 81,
   "id": "municipal-accused",
   "metadata": {},
   "outputs": [
    {
     "data": {
      "text/plain": [
       "array([[  9,   4,   2, ...,  -7,   4,  15],\n",
       "       [ -8,   9,  -5, ...,  -7,  -9,  -9],\n",
       "       [  6,  -3,  -5, ...,  -8,  -8,  -5],\n",
       "       ...,\n",
       "       [ 12,  20,   4, ...,  17, -10,   8],\n",
       "       [  3,   4,   6, ..., -37,   3,  31],\n",
       "       [  0,  -8, -39, ...,  -5,   3,  -1]])"
      ]
     },
     "execution_count": 81,
     "metadata": {},
     "output_type": "execute_result"
    }
   ],
   "source": [
    "x_test"
   ]
  },
  {
   "cell_type": "code",
   "execution_count": 82,
   "id": "religious-router",
   "metadata": {},
   "outputs": [],
   "source": [
    "df_new = pd.DataFrame(x_train,columns=['f1','f2','f3','f4','f5','f6','f7','f8'])\n",
    "df_new['Outcome'] = y_train\n",
    "df_mean = df_new.groupby(['Outcome']).mean().astype(int)\n",
    "df_var = df_new.groupby(['Outcome']).var().astype(int)\n",
    "mean = df_mean.values\n",
    "var = df_var.values"
   ]
  },
  {
   "cell_type": "code",
   "execution_count": 83,
   "id": "comic-lewis",
   "metadata": {},
   "outputs": [
    {
     "data": {
      "text/plain": [
       "array([-1, -3,  0,  0,  0, -1, -1, -1])"
      ]
     },
     "execution_count": 83,
     "metadata": {},
     "output_type": "execute_result"
    }
   ],
   "source": [
    "mean[0]"
   ]
  },
  {
   "cell_type": "code",
   "execution_count": 150,
   "id": "arbitrary-humor",
   "metadata": {},
   "outputs": [],
   "source": [
    "m1 = mean[0].tolist()\n",
    "m2 = mean[1].tolist()\n",
    "v1 = var[0].tolist()\n",
    "v2 = var[1].tolist()\n",
    "x = x_test[9].tolist()"
   ]
  },
  {
   "cell_type": "code",
   "execution_count": 151,
   "id": "obvious-novelty",
   "metadata": {},
   "outputs": [
    {
     "name": "stdout",
     "output_type": "stream",
     "text": [
      "[-11, -4, -3, 11, 5, 10, -9, -9] , [-1, -3, 0, 0, 0, -1, -1, -1] , [76, 65, 74, 80, 65, 86, 78, 89]\n"
     ]
    }
   ],
   "source": [
    "print(x,',',m1,',',v1)"
   ]
  },
  {
   "cell_type": "code",
   "execution_count": 152,
   "id": "civilian-appreciation",
   "metadata": {
    "scrolled": true
   },
   "outputs": [
    {
     "name": "stdout",
     "output_type": "stream",
     "text": [
      "[-11, -4, -3, 11, 5, 10, -9, -9] , [2, 6, 0, 0, 2, 3, 2, 3] , [114, 81, 123, 112, 133, 84, 114, 83]\n"
     ]
    }
   ],
   "source": [
    "print(x,',',m2,',',v2)"
   ]
  },
  {
   "cell_type": "code",
   "execution_count": 130,
   "id": "familiar-charge",
   "metadata": {},
   "outputs": [
    {
     "data": {
      "text/plain": [
       "array([[ 76,  65,  74,  80,  65,  86,  78,  89],\n",
       "       [114,  81, 123, 112, 133,  84, 114,  83]])"
      ]
     },
     "execution_count": 130,
     "metadata": {},
     "output_type": "execute_result"
    }
   ],
   "source": [
    "var"
   ]
  },
  {
   "cell_type": "code",
   "execution_count": 77,
   "id": "selected-voice",
   "metadata": {},
   "outputs": [
    {
     "data": {
      "text/plain": [
       "array([ 9,  4,  2,  1,  4, -7,  4, 15])"
      ]
     },
     "execution_count": 77,
     "metadata": {},
     "output_type": "execute_result"
    }
   ],
   "source": [
    "x_test[0]"
   ]
  },
  {
   "cell_type": "code",
   "execution_count": 194,
   "id": "sixth-terrorist",
   "metadata": {},
   "outputs": [
    {
     "data": {
      "text/plain": [
       "True"
      ]
     },
     "execution_count": 194,
     "metadata": {},
     "output_type": "execute_result"
    }
   ],
   "source": [
    "import matplotlib.pyplot as plt\n",
    "import json\n",
    "from web3 import Web3\n",
    "# ganache_url = \"https://ropsten.infura.io/v3/6072fdc3b95c407caa681f63ebaf72b8\"\n",
    "ganache_url =\"http://127.0.0.1:8545\"\n",
    "web3 = Web3(Web3.HTTPProvider(ganache_url))\n",
    "web3.isConnected()"
   ]
  },
  {
   "cell_type": "code",
   "execution_count": 200,
   "id": "collective-oxford",
   "metadata": {},
   "outputs": [],
   "source": [
    "abi = json.loads('[ { \"constant\": true, \"inputs\": [], \"name\": \"set_e_exponent1\", \"outputs\": [ { \"name\": \"\", \"type\": \"int256\" } ], \"payable\": false, \"stateMutability\": \"view\", \"type\": \"function\" }, { \"constant\": false, \"inputs\": [ { \"name\": \"b\", \"type\": \"int256\" }, { \"name\": \"c\", \"type\": \"int256\" }, { \"name\": \"d\", \"type\": \"int256\" } ], \"name\": \"reduction\", \"outputs\": [], \"payable\": false, \"stateMutability\": \"nonpayable\", \"type\": \"function\" }, { \"constant\": true, \"inputs\": [], \"name\": \"print\", \"outputs\": [ { \"name\": \"\", \"type\": \"int256\" }, { \"name\": \"\", \"type\": \"int256\" }, { \"name\": \"\", \"type\": \"int256\" }, { \"name\": \"\", \"type\": \"int256\" }, { \"name\": \"\", \"type\": \"int256\" }, { \"name\": \"\", \"type\": \"int256\" } ], \"payable\": false, \"stateMutability\": \"view\", \"type\": \"function\" }, { \"constant\": true, \"inputs\": [], \"name\": \"a_setparameters2\", \"outputs\": [ { \"name\": \"\", \"type\": \"int256\" }, { \"name\": \"\", \"type\": \"int256\" }, { \"name\": \"\", \"type\": \"int256\" }, { \"name\": \"\", \"type\": \"int256\" } ], \"payable\": false, \"stateMutability\": \"view\", \"type\": \"function\" }, { \"constant\": false, \"inputs\": [ { \"name\": \"x\", \"type\": \"int256[]\" }, { \"name\": \"m\", \"type\": \"int256[]\" }, { \"name\": \"v\", \"type\": \"int256[]\" } ], \"name\": \"a_getparameters1\", \"outputs\": [], \"payable\": false, \"stateMutability\": \"nonpayable\", \"type\": \"function\" }, { \"constant\": false, \"inputs\": [ { \"name\": \"x\", \"type\": \"int256[]\" }, { \"name\": \"m\", \"type\": \"int256[]\" }, { \"name\": \"v\", \"type\": \"int256[]\" } ], \"name\": \"a_getparameters2\", \"outputs\": [], \"payable\": false, \"stateMutability\": \"nonpayable\", \"type\": \"function\" }, { \"constant\": true, \"inputs\": [], \"name\": \"a_setparameters1\", \"outputs\": [ { \"name\": \"\", \"type\": \"int256\" }, { \"name\": \"\", \"type\": \"int256\" }, { \"name\": \"\", \"type\": \"int256\" }, { \"name\": \"\", \"type\": \"int256\" } ], \"payable\": false, \"stateMutability\": \"view\", \"type\": \"function\" }, { \"constant\": true, \"inputs\": [ { \"name\": \"v\", \"type\": \"int256[]\" }, { \"name\": \"k\", \"type\": \"uint256\" } ], \"name\": \"mux\", \"outputs\": [ { \"name\": \"\", \"type\": \"int256\" } ], \"payable\": false, \"stateMutability\": \"view\", \"type\": \"function\" }, { \"constant\": false, \"inputs\": [ { \"name\": \"Prior0\", \"type\": \"int256\" }, { \"name\": \"Prior1\", \"type\": \"int256\" } ], \"name\": \"get_e_exponent1\", \"outputs\": [], \"payable\": false, \"stateMutability\": \"nonpayable\", \"type\": \"function\" } ]')\n",
    "cont= '0xD1062fe3389848618526B005303E2392d0b798A6'\n",
    "contract= web3.eth.contract(address=cont,abi=abi)\n",
    "\n",
    "account1 = \"0xdd617f9D5120b7b30E4C502fdd6b13dCf286A300\"\n",
    "privatekey1 = \"c00b36dc1777e7fda60ff1f55b57c3f51b18c0c16fe44724e451ed062a173d74\"\n",
    "account2 = \"0x8883f1016E727C8fE93C1Df471f102bBbAF2B910\"\n",
    "privatekey2=\"8d70f54549b5fb7c04fc016cc88c447fc81aff3af3065c696aee1b529fbc8ba5\"\n",
    "account3 = \"0xd39fdd79c3b5b0c411366D5A64ba26E423e1cF61\"\n",
    "privatekey3=\"3f3bcef69f8cef4bb28953eebe0b11c40fca5b4ce8c9665d3647afd067050952\""
   ]
  },
  {
   "cell_type": "code",
   "execution_count": 201,
   "id": "prerequisite-native",
   "metadata": {},
   "outputs": [],
   "source": [
    "def getparams1(a,b,c,account1,privatekey1):\n",
    "    nonce = web3.eth.getTransactionCount(account1)\n",
    "    transaction = contract.functions.a_getparameters1(\n",
    "        a,b,c\n",
    "         ).buildTransaction({\n",
    "        'gas': 3000000,\n",
    "        'gasPrice': web3.toWei('10', 'gwei'),\n",
    "        'from': account1,\n",
    "        'nonce': nonce\n",
    "        }) \n",
    "    signed_txn = web3.eth.account.signTransaction(transaction, private_key=privatekey1)\n",
    "    tx_hash = web3.eth.sendRawTransaction(signed_txn.rawTransaction)\n",
    "    tx_receipt = web3.eth.waitForTransactionReceipt(tx_hash)\n",
    "    return tx_receipt.gasUsed"
   ]
  },
  {
   "cell_type": "code",
   "execution_count": 202,
   "id": "dense-watershed",
   "metadata": {},
   "outputs": [],
   "source": [
    "def getparams2(a,b,c,account2,privatekey2):\n",
    "    nonce = web3.eth.getTransactionCount(account2)\n",
    "    transaction = contract.functions.a_getparameters2(\n",
    "        a,b,c\n",
    "         ).buildTransaction({\n",
    "        'gas': 3000000,\n",
    "        'gasPrice': web3.toWei('10', 'gwei'),\n",
    "        'from': account2,\n",
    "        'nonce': nonce\n",
    "        }) \n",
    "    signed_txn = web3.eth.account.signTransaction(transaction, private_key=privatekey2)\n",
    "    tx_hash = web3.eth.sendRawTransaction(signed_txn.rawTransaction)\n",
    "    tx_receipt = web3.eth.waitForTransactionReceipt(tx_hash)\n",
    "    return tx_receipt.gasUsed"
   ]
  },
  {
   "cell_type": "code",
   "execution_count": 203,
   "id": "broad-memory",
   "metadata": {},
   "outputs": [],
   "source": [
    "def get_e_expon(p0,p1,account3,privatekey3):\n",
    "    nonce = web3.eth.getTransactionCount(account3)\n",
    "    transaction = contract.functions.get_e_exponent1(\n",
    "        p0,p1\n",
    "         ).buildTransaction({\n",
    "        'gas': 3000000,\n",
    "        'gasPrice': web3.toWei('10', 'gwei'),\n",
    "        'from': account3,\n",
    "        'nonce': nonce\n",
    "        }) \n",
    "    signed_txn = web3.eth.account.signTransaction(transaction, private_key=privatekey3)\n",
    "    tx_hash = web3.eth.sendRawTransaction(signed_txn.rawTransaction)\n",
    "    tx_receipt = web3.eth.waitForTransactionReceipt(tx_hash)\n",
    "    return tx_receipt.gasUsed"
   ]
  },
  {
   "cell_type": "code",
   "execution_count": 204,
   "id": "endangered-burlington",
   "metadata": {},
   "outputs": [
    {
     "data": {
      "text/plain": [
       "1"
      ]
     },
     "execution_count": 204,
     "metadata": {},
     "output_type": "execute_result"
    }
   ],
   "source": [
    "x = contract.functions.set_e_exponent1().call()\n",
    "x"
   ]
  },
  {
   "cell_type": "code",
   "execution_count": 160,
   "id": "immune-major",
   "metadata": {},
   "outputs": [
    {
     "name": "stdout",
     "output_type": "stream",
     "text": [
      "0\n",
      "0\n",
      "0\n",
      "0\n",
      "0\n",
      "0\n",
      "0\n",
      "0\n",
      "0\n",
      "0\n",
      "0\n",
      "0\n",
      "1\n",
      "1\n",
      "1\n",
      "1\n",
      "0\n",
      "0\n",
      "1\n",
      "0\n",
      "0\n",
      "0\n",
      "1\n",
      "0\n",
      "0\n",
      "0\n",
      "0\n",
      "1\n",
      "0\n",
      "1\n",
      "0\n",
      "1\n",
      "0\n",
      "1\n",
      "0\n",
      "1\n",
      "0\n",
      "0\n",
      "0\n",
      "1\n",
      "0\n",
      "0\n",
      "0\n",
      "1\n",
      "0\n",
      "0\n",
      "1\n",
      "1\n",
      "0\n",
      "0\n",
      "1\n",
      "0\n",
      "1\n",
      "0\n",
      "1\n",
      "0\n",
      "1\n",
      "0\n",
      "1\n",
      "0\n",
      "1\n",
      "1\n",
      "1\n",
      "0\n",
      "1\n",
      "0\n",
      "0\n",
      "0\n",
      "1\n",
      "1\n",
      "1\n",
      "1\n",
      "0\n",
      "0\n",
      "1\n",
      "0\n",
      "1\n",
      "0\n",
      "0\n",
      "1\n",
      "1\n",
      "0\n",
      "0\n",
      "0\n",
      "0\n",
      "1\n",
      "0\n",
      "1\n",
      "0\n",
      "0\n",
      "1\n",
      "0\n",
      "0\n",
      "0\n",
      "1\n",
      "0\n",
      "0\n",
      "0\n",
      "1\n",
      "0\n",
      "0\n",
      "1\n",
      "1\n",
      "0\n",
      "0\n",
      "0\n",
      "0\n",
      "1\n",
      "0\n",
      "0\n",
      "0\n",
      "0\n",
      "0\n",
      "0\n",
      "0\n",
      "0\n",
      "0\n",
      "0\n",
      "0\n",
      "0\n",
      "0\n",
      "1\n",
      "0\n",
      "1\n",
      "0\n",
      "0\n",
      "0\n",
      "0\n",
      "1\n",
      "0\n",
      "1\n",
      "0\n",
      "1\n",
      "0\n",
      "0\n",
      "0\n",
      "0\n",
      "1\n",
      "0\n",
      "0\n",
      "1\n",
      "0\n",
      "0\n",
      "1\n",
      "1\n",
      "1\n",
      "0\n",
      "0\n",
      "0\n",
      "0\n",
      "0\n",
      "1\n",
      "0\n",
      "1\n"
     ]
    }
   ],
   "source": [
    "m1 = mean[0].tolist()\n",
    "m2 = mean[1].tolist()\n",
    "v1 = var[0].tolist()\n",
    "v2 = var[1].tolist()\n",
    "pred = np.zeros(x_test.shape[0])\n",
    "for i in range(x_test.shape[0]): \n",
    "    x = x_test[i].tolist()\n",
    "    getparams1(x,m1,v1,account1,privatekey1)\n",
    "    getparams2(x,m2,v2,account2,privatekey2)\n",
    "    get_e_expon(Prior0,Prior1,account3,privatekey3)\n",
    "    pred[i] = contract.functions.set_e_exponent1().call()\n",
    "#     print(contract.functions.set_e_exponent1().call())"
   ]
  },
  {
   "cell_type": "code",
   "execution_count": 149,
   "id": "clinical-qatar",
   "metadata": {},
   "outputs": [
    {
     "data": {
      "text/plain": [
       "1.0"
      ]
     },
     "execution_count": 149,
     "metadata": {},
     "output_type": "execute_result"
    }
   ],
   "source": [
    "pred[9]"
   ]
  },
  {
   "cell_type": "code",
   "execution_count": 164,
   "id": "proved-pointer",
   "metadata": {},
   "outputs": [
    {
     "name": "stdout",
     "output_type": "stream",
     "text": [
      "Number of mislabeled points out of a total 154 points : 40\n",
      "0.7402597402597403\n",
      "Number of mislabeled points out of a total 154 points : 43\n",
      "0.7207792207792207\n",
      "Number of mislabeled points out of a total 154 points : 42\n",
      "0.7272727272727273\n",
      "Number of mislabeled points out of a total 154 points : 38\n",
      "0.7532467532467533\n",
      "Number of mislabeled points out of a total 154 points : 44\n",
      "0.7142857142857143\n",
      "Number of mislabeled points out of a total 154 points : 45\n",
      "0.7077922077922078\n",
      "Number of mislabeled points out of a total 154 points : 48\n",
      "0.6883116883116883\n"
     ]
    }
   ],
   "source": [
    "from sklearn.decomposition import PCA\n",
    "for i in range(2,9):\n",
    "    pca =PCA(n_components =i)\n",
    "    pca.fit(x_train,pca)\n",
    "    PC_train = pca.transform(x_train)\n",
    "    PC_test = pca.transform(x_test)\n",
    "    gnb = GaussianNB()\n",
    "    y_pred = gnb.fit(PC_train, y_train).predict(PC_test)\n",
    "    print(\"Number of mislabeled points out of a total %d points : %d\" % (PC_test.shape[0], (y_test != y_pred).sum()))\n",
    "    print(accuracy_score(y_test, y_pred))"
   ]
  },
  {
   "cell_type": "code",
   "execution_count": 161,
   "id": "owned-patrol",
   "metadata": {},
   "outputs": [
    {
     "data": {
      "text/plain": [
       "0.7337662337662337"
      ]
     },
     "execution_count": 161,
     "metadata": {},
     "output_type": "execute_result"
    }
   ],
   "source": [
    "accuracy_score(pred, y_test)"
   ]
  },
  {
   "cell_type": "markdown",
   "id": "signal-figure",
   "metadata": {},
   "source": [
    "## PCA"
   ]
  },
  {
   "cell_type": "code",
   "execution_count": 242,
   "id": "graduate-carpet",
   "metadata": {},
   "outputs": [],
   "source": [
    "pca =PCA(n_components =7)\n",
    "pca.fit(x_train,pca)\n",
    "PC_train = (pca.transform(x_train)).astype(int)\n",
    "PC_test = (pca.transform(x_test)).astype(int)\n",
    "df_pc = pd.DataFrame(PC_train, columns=['f1','f2','f3','f4','f5','f6','f7'])\n",
    "df_pc  ['target'] = y_train\n",
    "df_mean = df_pc.groupby(['target']).mean().astype(int)\n",
    "df_var = df_pc.groupby(['target']).var().astype(int)\n",
    "mean = df_mean.values\n",
    "var = df_var.values"
   ]
  },
  {
   "cell_type": "code",
   "execution_count": 243,
   "id": "nominated-majority",
   "metadata": {},
   "outputs": [
    {
     "name": "stdout",
     "output_type": "stream",
     "text": [
      "[5, 15, 5, 1, -6, -5, 5] , [-3, -1, -1, 0, 0, -1, 0] , [144, 136, 78, 57, 48, 43, 32]\n"
     ]
    }
   ],
   "source": [
    "print(PC_test[0].tolist(),',', mean[0].tolist(),',',var[0].tolist())"
   ]
  },
  {
   "cell_type": "code",
   "execution_count": 244,
   "id": "final-dispatch",
   "metadata": {},
   "outputs": [
    {
     "name": "stdout",
     "output_type": "stream",
     "text": [
      "[5, 15, 5, 1, -6, -5, 5] , [6, 3, 2, -1, 1, 2, 0] , [180, 151, 103, 95, 86, 82, 44]\n"
     ]
    }
   ],
   "source": [
    "print(PC_test[0].tolist(),',', mean[1].tolist(),',',var[1].tolist())"
   ]
  },
  {
   "cell_type": "code",
   "execution_count": 245,
   "id": "juvenile-auditor",
   "metadata": {},
   "outputs": [
    {
     "data": {
      "text/plain": [
       "array([[144, 136,  78,  57,  48,  43,  32],\n",
       "       [180, 151, 103,  95,  86,  82,  44]])"
      ]
     },
     "execution_count": 245,
     "metadata": {},
     "output_type": "execute_result"
    }
   ],
   "source": [
    "var"
   ]
  },
  {
   "cell_type": "code",
   "execution_count": 246,
   "id": "twenty-museum",
   "metadata": {},
   "outputs": [],
   "source": [
    "m1 = mean[0].tolist()\n",
    "m2 = mean[1].tolist()\n",
    "v1 = var[0].tolist()\n",
    "v2 = var[1].tolist()\n",
    "pred = np.zeros(PC_test.shape[0])\n",
    "for i in range(PC_test.shape[0]): \n",
    "    x = PC_test[i].tolist()\n",
    "    getparams1(x,m1,v1,account1,privatekey1)\n",
    "    getparams2(x,m2,v2,account2,privatekey2)\n",
    "    get_e_expon(Prior0,Prior1,account3,privatekey3)\n",
    "    pred[i] = contract.functions.set_e_exponent1().call()"
   ]
  },
  {
   "cell_type": "code",
   "execution_count": 247,
   "id": "through-crown",
   "metadata": {},
   "outputs": [
    {
     "data": {
      "text/plain": [
       "0.538961038961039"
      ]
     },
     "execution_count": 247,
     "metadata": {},
     "output_type": "execute_result"
    }
   ],
   "source": [
    "accuracy_score(pred, y_test)"
   ]
  },
  {
   "cell_type": "code",
   "execution_count": null,
   "id": "controlling-collectible",
   "metadata": {},
   "outputs": [],
   "source": []
  }
 ],
 "metadata": {
  "kernelspec": {
   "display_name": "Python 3 (ipykernel)",
   "language": "python",
   "name": "python3"
  },
  "language_info": {
   "codemirror_mode": {
    "name": "ipython",
    "version": 3
   },
   "file_extension": ".py",
   "mimetype": "text/x-python",
   "name": "python",
   "nbconvert_exporter": "python",
   "pygments_lexer": "ipython3",
   "version": "3.7.11"
  }
 },
 "nbformat": 4,
 "nbformat_minor": 5
}
