{
 "cells": [
  {
   "cell_type": "code",
   "execution_count": 60,
   "id": "muslim-search",
   "metadata": {},
   "outputs": [],
   "source": [
    "import numpy as np\n",
    "import matplotlib.pyplot as plt"
   ]
  },
  {
   "cell_type": "code",
   "execution_count": 61,
   "id": "binding-principal",
   "metadata": {},
   "outputs": [],
   "source": [
    "def sigmoid(x):\n",
    "    return (1/(1+np.exp(-x)))"
   ]
  },
  {
   "cell_type": "code",
   "execution_count": 62,
   "id": "operational-intermediate",
   "metadata": {},
   "outputs": [],
   "source": [
    "def softmax(x):\n",
    "    sumexp = np.sum(np.exp(x))\n",
    "    return(np.exp(x)/sumexp)"
   ]
  },
  {
   "cell_type": "code",
   "execution_count": 63,
   "id": "lesbian-drilling",
   "metadata": {},
   "outputs": [],
   "source": [
    "def tanh(x):\n",
    "    return (np.exp(x)-np.exp(-x))/(np.exp(x)+np.exp(-x))"
   ]
  },
  {
   "cell_type": "code",
   "execution_count": 69,
   "id": "living-check",
   "metadata": {},
   "outputs": [
    {
     "data": {
      "text/plain": [
       "array([-20, -19, -18, -17, -16, -15, -14, -13, -12, -11, -10,  -9,  -8,\n",
       "        -7,  -6,  -5,  -4,  -3,  -2,  -1,   0,   1,   2,   3,   4,   5,\n",
       "         6,   7,   8,   9,  10,  11,  12,  13,  14,  15,  16,  17,  18,\n",
       "        19])"
      ]
     },
     "execution_count": 69,
     "metadata": {},
     "output_type": "execute_result"
    }
   ],
   "source": [
    "x = np.arange(-20,20)\n",
    "x"
   ]
  },
  {
   "cell_type": "code",
   "execution_count": 70,
   "id": "naked-carnival",
   "metadata": {},
   "outputs": [
    {
     "name": "stdout",
     "output_type": "stream",
     "text": [
      "[2.06115362e-09 5.60279641e-09 1.52299795e-08 4.13993755e-08\n",
      " 1.12535162e-07 3.05902227e-07 8.31528028e-07 2.26032430e-06\n",
      " 6.14417460e-06 1.67014218e-05 4.53978687e-05 1.23394576e-04\n",
      " 3.35350130e-04 9.11051194e-04 2.47262316e-03 6.69285092e-03\n",
      " 1.79862100e-02 4.74258732e-02 1.19202922e-01 2.68941421e-01\n",
      " 5.00000000e-01 7.31058579e-01 8.80797078e-01 9.52574127e-01\n",
      " 9.82013790e-01 9.93307149e-01 9.97527377e-01 9.99088949e-01\n",
      " 9.99664650e-01 9.99876605e-01 9.99954602e-01 9.99983299e-01\n",
      " 9.99993856e-01 9.99997740e-01 9.99999168e-01 9.99999694e-01\n",
      " 9.99999887e-01 9.99999959e-01 9.99999985e-01 9.99999994e-01]\n"
     ]
    }
   ],
   "source": [
    "print(sigmoid(x))\n",
    "y = sigmoid(x)"
   ]
  },
  {
   "cell_type": "code",
   "execution_count": 71,
   "id": "toxic-elimination",
   "metadata": {},
   "outputs": [
    {
     "data": {
      "text/plain": [
       "[<matplotlib.lines.Line2D at 0x233ec4e1670>]"
      ]
     },
     "execution_count": 71,
     "metadata": {},
     "output_type": "execute_result"
    },
    {
     "data": {
      "image/png": "[encoded data removed]",
      "text/plain": [
       "<Figure size 432x288 with 1 Axes>"
      ]
     },
     "metadata": {
      "needs_background": "light"
     },
     "output_type": "display_data"
    }
   ],
   "source": [
    "plt.plot(x,y)"
   ]
  },
  {
   "cell_type": "code",
   "execution_count": 72,
   "id": "facial-florence",
   "metadata": {},
   "outputs": [
    {
     "name": "stdout",
     "output_type": "stream",
     "text": [
      "[7.29986992e-18 1.98431037e-17 5.39391483e-17 1.46621807e-16\n",
      " 3.98559393e-16 1.08339676e-15 2.94497771e-15 8.00527940e-15\n",
      " 2.17606055e-14 5.91514586e-14 1.60790335e-13 4.37073446e-13\n",
      " 1.18808881e-12 3.22956021e-12 8.77885484e-12 2.38634016e-11\n",
      " 6.48674509e-11 1.76328013e-10 4.79309234e-10 1.30289758e-09\n",
      " 3.54164282e-09 9.62718331e-09 2.61693974e-08 7.11357975e-08\n",
      " 1.93367146e-07 5.25626399e-07 1.42880069e-06 3.88388295e-06\n",
      " 1.05574884e-05 2.86982290e-05 7.80098743e-05 2.12052824e-04\n",
      " 5.76419338e-04 1.56687021e-03 4.25919482e-03 1.15776919e-02\n",
      " 3.14714295e-02 8.55482149e-02 2.32544158e-01 6.32120559e-01]\n"
     ]
    },
    {
     "data": {
      "text/plain": [
       "[<matplotlib.lines.Line2D at 0x233ec543190>]"
      ]
     },
     "execution_count": 72,
     "metadata": {},
     "output_type": "execute_result"
    },
    {
     "data": {
      "image/png": "[encoded data removed]",
      "text/plain": [
       "<Figure size 432x288 with 1 Axes>"
      ]
     },
     "metadata": {
      "needs_background": "light"
     },
     "output_type": "display_data"
    }
   ],
   "source": [
    "print(softmax(x))\n",
    "y = softmax(x)\n",
    "plt.plot(x,y)"
   ]
  },
  {
   "cell_type": "code",
   "execution_count": 68,
   "id": "early-census",
   "metadata": {},
   "outputs": [
    {
     "name": "stdout",
     "output_type": "stream",
     "text": [
      "[-1.         -1.         -1.         -1.         -1.         -1.\n",
      " -1.         -1.         -1.         -1.         -1.         -1.\n",
      " -1.         -1.         -1.         -1.         -1.         -1.\n",
      " -1.         -1.         -1.         -1.         -1.         -1.\n",
      " -1.         -1.         -1.         -1.         -1.         -1.\n",
      " -1.         -1.         -1.         -1.         -1.         -1.\n",
      " -1.         -1.         -1.         -1.         -1.         -0.99999997\n",
      " -0.99999977 -0.99999834 -0.99998771 -0.9999092  -0.9993293  -0.99505475\n",
      " -0.96402758 -0.76159416  0.          0.76159416  0.96402758  0.99505475\n",
      "  0.9993293   0.9999092   0.99998771  0.99999834  0.99999977  0.99999997\n",
      "  1.          1.          1.          1.          1.          1.\n",
      "  1.          1.          1.          1.          1.          1.\n",
      "  1.          1.          1.          1.          1.          1.\n",
      "  1.          1.          1.          1.          1.          1.\n",
      "  1.          1.          1.          1.          1.          1.\n",
      "  1.          1.          1.          1.          1.          1.\n",
      "  1.          1.          1.          1.        ]\n"
     ]
    },
    {
     "data": {
      "text/plain": [
       "[<matplotlib.lines.Line2D at 0x233ec3c1100>]"
      ]
     },
     "execution_count": 68,
     "metadata": {},
     "output_type": "execute_result"
    },
    {
     "data": {
      "image/png": "[encoded data removed]",
      "text/plain": [
       "<Figure size 432x288 with 1 Axes>"
      ]
     },
     "metadata": {
      "needs_background": "light"
     },
     "output_type": "display_data"
    }
   ],
   "source": [
    "print(tanh(x))\n",
    "y = tanh(x)\n",
    "plt.plot(x,y)"
   ]
  },
  {
   "cell_type": "code",
   "execution_count": null,
   "id": "precious-canberra",
   "metadata": {},
   "outputs": [],
   "source": [
    "### Softmax\n",
    "### Softmax(x) = e^x / sum(e^x)"
   ]
  }
 ],
 "metadata": {
  "kernelspec": {
   "display_name": "Python 3",
   "language": "python",
   "name": "python3"
  },
  "language_info": {
   "codemirror_mode": {
    "name": "ipython",
    "version": 3
   },
   "file_extension": ".py",
   "mimetype": "text/x-python",
   "name": "python",
   "nbconvert_exporter": "python",
   "pygments_lexer": "ipython3",
   "version": "3.9.2"
  }
 },
 "nbformat": 4,
 "nbformat_minor": 5
}
