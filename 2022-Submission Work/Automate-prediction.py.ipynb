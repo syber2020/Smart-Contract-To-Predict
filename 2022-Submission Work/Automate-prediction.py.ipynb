{
 "cells": [
  {
   "cell_type": "markdown",
   "id": "prescribed-plymouth",
   "metadata": {},
   "source": [
    "## Iris"
   ]
  },
  {
   "cell_type": "markdown",
   "id": "suitable-cooling",
   "metadata": {},
   "source": [
    "## Heart Disease\n"
   ]
  },
  {
   "cell_type": "markdown",
   "id": "identical-customer",
   "metadata": {},
   "source": [
    "## Diabetes"
   ]
  },
  {
   "cell_type": "code",
   "execution_count": 2,
   "id": "spanish-worthy",
   "metadata": {},
   "outputs": [
    {
     "ename": "IndentationError",
     "evalue": "expected an indented block (<ipython-input-2-1b3f62b960f1>, line 2)",
     "output_type": "error",
     "traceback": [
      "\u001b[1;36m  File \u001b[1;32m\"<ipython-input-2-1b3f62b960f1>\"\u001b[1;36m, line \u001b[1;32m2\u001b[0m\n\u001b[1;33m    \u001b[0m\n\u001b[1;37m    ^\u001b[0m\n\u001b[1;31mIndentationError\u001b[0m\u001b[1;31m:\u001b[0m expected an indented block\n"
     ]
    }
   ],
   "source": [
    "def exponent_smart(x,y):\n",
    "    \n",
    "    A = x//y\n",
    "    B = x%y\n",
    "    print(A,B)\n",
    "    \n",
    "    if(A>0 and y>0):    \n",
    "        if(A==1):\n",
    "        \n",
    "        elif(A==2):\n",
    "    \n",
    "        elif(A==3):\n",
    "        \n",
    "        elif(A==4):\n",
    "        \n",
    "        elif(x==5 and x<=10):\n",
    "        \n",
    "        elif (x>10 and x<=20):\n",
    "        \n",
    "        elif(x>20 and x<=30):\n",
    "        \n",
    "        else:\n",
    "            \n",
    "    elif(x>0 and y<0):\n",
    "        \n",
    "        if(x>1 and x<=2):\n",
    "        \n",
    "        elif(x>2 and x<=3):\n",
    "    \n",
    "        elif(x>3 and x<=4):\n",
    "        \n",
    "        elif(x>4 and x<=5):\n",
    "        \n",
    "        elif(x>5 and x<=10):\n",
    "        \n",
    "        elif (x>10 and x<=20):\n",
    "        \n",
    "        elif(x>20 and x<=30):\n",
    "        \n",
    "        else:"
   ]
  },
  {
   "cell_type": "code",
   "execution_count": 17,
   "id": "undefined-ceiling",
   "metadata": {},
   "outputs": [],
   "source": [
    "def exponent_built(x,y):\n",
    "    e = 2.718\n",
    "    exp = pow(e,-x/y)\n",
    "    return exp"
   ]
  },
  {
   "cell_type": "code",
   "execution_count": 21,
   "id": "framed-fourth",
   "metadata": {},
   "outputs": [
    {
     "data": {
      "text/plain": [
       "0.0006538889762443976"
      ]
     },
     "execution_count": 21,
     "metadata": {},
     "output_type": "execute_result"
    }
   ],
   "source": [
    "exponent_built(-22,-3)"
   ]
  },
  {
   "cell_type": "code",
   "execution_count": null,
   "id": "increased-flooring",
   "metadata": {},
   "outputs": [],
   "source": []
  }
 ],
 "metadata": {
  "kernelspec": {
   "display_name": "Python 3",
   "language": "python",
   "name": "python3"
  },
  "language_info": {
   "codemirror_mode": {
    "name": "ipython",
    "version": 3
   },
   "file_extension": ".py",
   "mimetype": "text/x-python",
   "name": "python",
   "nbconvert_exporter": "python",
   "pygments_lexer": "ipython3",
   "version": "3.9.2"
  }
 },
 "nbformat": 4,
 "nbformat_minor": 5
}
