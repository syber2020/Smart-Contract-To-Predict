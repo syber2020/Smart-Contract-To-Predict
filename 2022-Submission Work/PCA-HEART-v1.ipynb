{
 "cells": [
  {
   "cell_type": "markdown",
   "id": "sized-newport",
   "metadata": {},
   "source": [
    "## Loading the Dataset"
   ]
  },
  {
   "cell_type": "code",
   "execution_count": 20,
   "id": "commercial-realtor",
   "metadata": {},
   "outputs": [],
   "source": [
    "import numpy as np\n",
    "import pandas as pd\n",
    "from sklearn.preprocessing import StandardScaler\n",
    "from sklearn.naive_bayes import BernoulliNB\n",
    "from sklearn.naive_bayes import MultinomialNB\n",
    "from sklearn.datasets import load_iris\n",
    "from sklearn.model_selection import train_test_split\n",
    "from sklearn.naive_bayes import GaussianNB\n",
    "from sklearn.metrics import accuracy_score\n",
    "from sklearn.datasets import load_diabetes\n",
    "import matplotlib.pyplot as plt\n",
    "# df['target']                             "
   ]
  },
  {
   "cell_type": "code",
   "execution_count": 21,
   "id": "particular-reception",
   "metadata": {},
   "outputs": [
    {
     "data": {
      "text/html": [
       "<div>\n",
       "<style scoped>\n",
       "    .dataframe tbody tr th:only-of-type {\n",
       "        vertical-align: middle;\n",
       "    }\n",
       "\n",
       "    .dataframe tbody tr th {\n",
       "        vertical-align: top;\n",
       "    }\n",
       "\n",
       "    .dataframe thead th {\n",
       "        text-align: right;\n",
       "    }\n",
       "</style>\n",
       "<table border=\"1\" class=\"dataframe\">\n",
       "  <thead>\n",
       "    <tr style=\"text-align: right;\">\n",
       "      <th></th>\n",
       "      <th>age</th>\n",
       "      <th>sex</th>\n",
       "      <th>cp</th>\n",
       "      <th>trestbps</th>\n",
       "      <th>chol</th>\n",
       "      <th>fbs</th>\n",
       "      <th>restecg</th>\n",
       "      <th>thalach</th>\n",
       "      <th>exang</th>\n",
       "      <th>oldpeak</th>\n",
       "      <th>slope</th>\n",
       "      <th>ca</th>\n",
       "      <th>thal</th>\n",
       "      <th>target</th>\n",
       "    </tr>\n",
       "  </thead>\n",
       "  <tbody>\n",
       "    <tr>\n",
       "      <th>0</th>\n",
       "      <td>63</td>\n",
       "      <td>1</td>\n",
       "      <td>3</td>\n",
       "      <td>145</td>\n",
       "      <td>233</td>\n",
       "      <td>1</td>\n",
       "      <td>0</td>\n",
       "      <td>150</td>\n",
       "      <td>0</td>\n",
       "      <td>2.3</td>\n",
       "      <td>0</td>\n",
       "      <td>0</td>\n",
       "      <td>1</td>\n",
       "      <td>1</td>\n",
       "    </tr>\n",
       "    <tr>\n",
       "      <th>1</th>\n",
       "      <td>37</td>\n",
       "      <td>1</td>\n",
       "      <td>2</td>\n",
       "      <td>130</td>\n",
       "      <td>250</td>\n",
       "      <td>0</td>\n",
       "      <td>1</td>\n",
       "      <td>187</td>\n",
       "      <td>0</td>\n",
       "      <td>3.5</td>\n",
       "      <td>0</td>\n",
       "      <td>0</td>\n",
       "      <td>2</td>\n",
       "      <td>1</td>\n",
       "    </tr>\n",
       "    <tr>\n",
       "      <th>2</th>\n",
       "      <td>41</td>\n",
       "      <td>0</td>\n",
       "      <td>1</td>\n",
       "      <td>130</td>\n",
       "      <td>204</td>\n",
       "      <td>0</td>\n",
       "      <td>0</td>\n",
       "      <td>172</td>\n",
       "      <td>0</td>\n",
       "      <td>1.4</td>\n",
       "      <td>2</td>\n",
       "      <td>0</td>\n",
       "      <td>2</td>\n",
       "      <td>1</td>\n",
       "    </tr>\n",
       "    <tr>\n",
       "      <th>3</th>\n",
       "      <td>56</td>\n",
       "      <td>1</td>\n",
       "      <td>1</td>\n",
       "      <td>120</td>\n",
       "      <td>236</td>\n",
       "      <td>0</td>\n",
       "      <td>1</td>\n",
       "      <td>178</td>\n",
       "      <td>0</td>\n",
       "      <td>0.8</td>\n",
       "      <td>2</td>\n",
       "      <td>0</td>\n",
       "      <td>2</td>\n",
       "      <td>1</td>\n",
       "    </tr>\n",
       "    <tr>\n",
       "      <th>4</th>\n",
       "      <td>57</td>\n",
       "      <td>0</td>\n",
       "      <td>0</td>\n",
       "      <td>120</td>\n",
       "      <td>354</td>\n",
       "      <td>0</td>\n",
       "      <td>1</td>\n",
       "      <td>163</td>\n",
       "      <td>1</td>\n",
       "      <td>0.6</td>\n",
       "      <td>2</td>\n",
       "      <td>0</td>\n",
       "      <td>2</td>\n",
       "      <td>1</td>\n",
       "    </tr>\n",
       "  </tbody>\n",
       "</table>\n",
       "</div>"
      ],
      "text/plain": [
       "   age  sex  cp  trestbps  chol  fbs  restecg  thalach  exang  oldpeak  slope  \\\n",
       "0   63    1   3       145   233    1        0      150      0      2.3      0   \n",
       "1   37    1   2       130   250    0        1      187      0      3.5      0   \n",
       "2   41    0   1       130   204    0        0      172      0      1.4      2   \n",
       "3   56    1   1       120   236    0        1      178      0      0.8      2   \n",
       "4   57    0   0       120   354    0        1      163      1      0.6      2   \n",
       "\n",
       "   ca  thal  target  \n",
       "0   0     1       1  \n",
       "1   0     2       1  \n",
       "2   0     2       1  \n",
       "3   0     2       1  \n",
       "4   0     2       1  "
      ]
     },
     "execution_count": 21,
     "metadata": {},
     "output_type": "execute_result"
    }
   ],
   "source": [
    "df = pd.read_csv(\"heart.csv\")\n",
    "df.head()\n"
   ]
  },
  {
   "cell_type": "code",
   "execution_count": 22,
   "id": "particular-fabric",
   "metadata": {},
   "outputs": [
    {
     "data": {
      "text/plain": [
       "(303,)"
      ]
     },
     "execution_count": 22,
     "metadata": {},
     "output_type": "execute_result"
    }
   ],
   "source": [
    "# df['oldpeak'] - df['oldpeak']*10\n",
    "target = np.array(df['target'].values)\n",
    "target.shape"
   ]
  },
  {
   "cell_type": "code",
   "execution_count": 23,
   "id": "spread-baking",
   "metadata": {},
   "outputs": [
    {
     "data": {
      "text/plain": [
       "(303, 13)"
      ]
     },
     "execution_count": 23,
     "metadata": {},
     "output_type": "execute_result"
    }
   ],
   "source": [
    "features = np.array(df.drop(columns = ['target']))\n",
    "features.shape"
   ]
  },
  {
   "cell_type": "code",
   "execution_count": 24,
   "id": "iraqi-intensity",
   "metadata": {},
   "outputs": [
    {
     "data": {
      "text/html": [
       "<div>\n",
       "<style scoped>\n",
       "    .dataframe tbody tr th:only-of-type {\n",
       "        vertical-align: middle;\n",
       "    }\n",
       "\n",
       "    .dataframe tbody tr th {\n",
       "        vertical-align: top;\n",
       "    }\n",
       "\n",
       "    .dataframe thead th {\n",
       "        text-align: right;\n",
       "    }\n",
       "</style>\n",
       "<table border=\"1\" class=\"dataframe\">\n",
       "  <thead>\n",
       "    <tr style=\"text-align: right;\">\n",
       "      <th></th>\n",
       "      <th>age</th>\n",
       "      <th>sex</th>\n",
       "      <th>cp</th>\n",
       "      <th>trestbps</th>\n",
       "      <th>chol</th>\n",
       "      <th>fbs</th>\n",
       "      <th>restecg</th>\n",
       "      <th>thalach</th>\n",
       "      <th>exang</th>\n",
       "      <th>oldpeak</th>\n",
       "      <th>slope</th>\n",
       "      <th>ca</th>\n",
       "      <th>thal</th>\n",
       "      <th>target</th>\n",
       "    </tr>\n",
       "  </thead>\n",
       "  <tbody>\n",
       "    <tr>\n",
       "      <th>0</th>\n",
       "      <td>63</td>\n",
       "      <td>1</td>\n",
       "      <td>3</td>\n",
       "      <td>145</td>\n",
       "      <td>233</td>\n",
       "      <td>1</td>\n",
       "      <td>0</td>\n",
       "      <td>150</td>\n",
       "      <td>0</td>\n",
       "      <td>2.3</td>\n",
       "      <td>0</td>\n",
       "      <td>0</td>\n",
       "      <td>1</td>\n",
       "      <td>1</td>\n",
       "    </tr>\n",
       "    <tr>\n",
       "      <th>1</th>\n",
       "      <td>37</td>\n",
       "      <td>1</td>\n",
       "      <td>2</td>\n",
       "      <td>130</td>\n",
       "      <td>250</td>\n",
       "      <td>0</td>\n",
       "      <td>1</td>\n",
       "      <td>187</td>\n",
       "      <td>0</td>\n",
       "      <td>3.5</td>\n",
       "      <td>0</td>\n",
       "      <td>0</td>\n",
       "      <td>2</td>\n",
       "      <td>1</td>\n",
       "    </tr>\n",
       "    <tr>\n",
       "      <th>2</th>\n",
       "      <td>41</td>\n",
       "      <td>0</td>\n",
       "      <td>1</td>\n",
       "      <td>130</td>\n",
       "      <td>204</td>\n",
       "      <td>0</td>\n",
       "      <td>0</td>\n",
       "      <td>172</td>\n",
       "      <td>0</td>\n",
       "      <td>1.4</td>\n",
       "      <td>2</td>\n",
       "      <td>0</td>\n",
       "      <td>2</td>\n",
       "      <td>1</td>\n",
       "    </tr>\n",
       "    <tr>\n",
       "      <th>3</th>\n",
       "      <td>56</td>\n",
       "      <td>1</td>\n",
       "      <td>1</td>\n",
       "      <td>120</td>\n",
       "      <td>236</td>\n",
       "      <td>0</td>\n",
       "      <td>1</td>\n",
       "      <td>178</td>\n",
       "      <td>0</td>\n",
       "      <td>0.8</td>\n",
       "      <td>2</td>\n",
       "      <td>0</td>\n",
       "      <td>2</td>\n",
       "      <td>1</td>\n",
       "    </tr>\n",
       "    <tr>\n",
       "      <th>4</th>\n",
       "      <td>57</td>\n",
       "      <td>0</td>\n",
       "      <td>0</td>\n",
       "      <td>120</td>\n",
       "      <td>354</td>\n",
       "      <td>0</td>\n",
       "      <td>1</td>\n",
       "      <td>163</td>\n",
       "      <td>1</td>\n",
       "      <td>0.6</td>\n",
       "      <td>2</td>\n",
       "      <td>0</td>\n",
       "      <td>2</td>\n",
       "      <td>1</td>\n",
       "    </tr>\n",
       "  </tbody>\n",
       "</table>\n",
       "</div>"
      ],
      "text/plain": [
       "   age  sex  cp  trestbps  chol  fbs  restecg  thalach  exang  oldpeak  slope  \\\n",
       "0   63    1   3       145   233    1        0      150      0      2.3      0   \n",
       "1   37    1   2       130   250    0        1      187      0      3.5      0   \n",
       "2   41    0   1       130   204    0        0      172      0      1.4      2   \n",
       "3   56    1   1       120   236    0        1      178      0      0.8      2   \n",
       "4   57    0   0       120   354    0        1      163      1      0.6      2   \n",
       "\n",
       "   ca  thal  target  \n",
       "0   0     1       1  \n",
       "1   0     2       1  \n",
       "2   0     2       1  \n",
       "3   0     2       1  \n",
       "4   0     2       1  "
      ]
     },
     "execution_count": 24,
     "metadata": {},
     "output_type": "execute_result"
    }
   ],
   "source": [
    "df.head()"
   ]
  },
  {
   "cell_type": "code",
   "execution_count": 25,
   "id": "nuclear-appendix",
   "metadata": {},
   "outputs": [],
   "source": [
    "x_train,x_test, y_train, y_test = train_test_split(features,target,test_size=0.2, random_state=0)\n",
    "x_train = (StandardScaler().fit_transform(x_train)*100).astype(int)\n",
    "x_test = (StandardScaler().fit_transform(x_test)*100).astype(int)\n",
    "# x_test"
   ]
  },
  {
   "cell_type": "code",
   "execution_count": 26,
   "id": "dominant-delta",
   "metadata": {},
   "outputs": [
    {
     "data": {
      "text/plain": [
       "(242, 13)"
      ]
     },
     "execution_count": 26,
     "metadata": {},
     "output_type": "execute_result"
    }
   ],
   "source": [
    "x_train.shape"
   ]
  },
  {
   "cell_type": "code",
   "execution_count": 27,
   "id": "appointed-bulletin",
   "metadata": {},
   "outputs": [
    {
     "name": "stdout",
     "output_type": "stream",
     "text": [
      "Number of mislabeled points out of a total 61 points : 12\n",
      "0.8032786885245902\n"
     ]
    }
   ],
   "source": [
    "gnb = GaussianNB()\n",
    "y_pred = gnb.fit(x_train, y_train).predict(x_test)\n",
    "print(\"Number of mislabeled points out of a total %d points : %d\" % (x_test.shape[0], (y_test != y_pred).sum()))\n",
    "print(accuracy_score(y_test, y_pred))"
   ]
  },
  {
   "cell_type": "code",
   "execution_count": 28,
   "id": "proper-nomination",
   "metadata": {},
   "outputs": [
    {
     "name": "stdout",
     "output_type": "stream",
     "text": [
      "Number of mislabeled points out of a total 61 points : 9\n",
      "0.8524590163934426\n"
     ]
    }
   ],
   "source": [
    "gnb = BernoulliNB()\n",
    "y_pred = gnb.fit(x_train, y_train).predict(x_test)\n",
    "print(\"Number of mislabeled points out of a total %d points : %d\" % (x_test.shape[0], (y_test != y_pred).sum()))\n",
    "print(accuracy_score(y_test, y_pred))"
   ]
  },
  {
   "cell_type": "code",
   "execution_count": 29,
   "id": "convinced-iraqi",
   "metadata": {},
   "outputs": [],
   "source": [
    "# x_test= x_test.astype(int)\n",
    "# x_train = x_train.astype(int)"
   ]
  },
  {
   "cell_type": "code",
   "execution_count": 30,
   "id": "seventh-makeup",
   "metadata": {},
   "outputs": [
    {
     "name": "stdout",
     "output_type": "stream",
     "text": [
      "Number of mislabeled points out of a total 61 points : 8\n",
      "0.8688524590163934\n",
      "Number of mislabeled points out of a total 61 points : 10\n",
      "0.8360655737704918\n",
      "Number of mislabeled points out of a total 61 points : 8\n",
      "0.8688524590163934\n",
      "Number of mislabeled points out of a total 61 points : 11\n",
      "0.819672131147541\n",
      "Number of mislabeled points out of a total 61 points : 12\n",
      "0.8032786885245902\n",
      "Number of mislabeled points out of a total 61 points : 14\n",
      "0.7704918032786885\n",
      "Number of mislabeled points out of a total 61 points : 14\n",
      "0.7704918032786885\n",
      "Number of mislabeled points out of a total 61 points : 14\n",
      "0.7704918032786885\n",
      "Number of mislabeled points out of a total 61 points : 13\n",
      "0.7868852459016393\n",
      "Number of mislabeled points out of a total 61 points : 13\n",
      "0.7868852459016393\n",
      "Number of mislabeled points out of a total 61 points : 13\n",
      "0.7868852459016393\n",
      "Number of mislabeled points out of a total 61 points : 13\n",
      "0.7868852459016393\n"
     ]
    }
   ],
   "source": [
    "from sklearn.decomposition import PCA\n",
    "for i in range(2,14):\n",
    "    pca =PCA(n_components =i)\n",
    "    pca.fit(x_train,pca)\n",
    "    PC_train = pca.transform(x_train)\n",
    "    PC_test = pca.transform(x_test)\n",
    "    gnb = GaussianNB()\n",
    "    y_pred = gnb.fit(PC_train, y_train).predict(PC_test)\n",
    "    print(\"Number of mislabeled points out of a total %d points : %d\" % (PC_test.shape[0], (y_test != y_pred).sum()))\n",
    "    print(accuracy_score(y_test, y_pred))"
   ]
  },
  {
   "cell_type": "code",
   "execution_count": 31,
   "id": "amateur-potter",
   "metadata": {},
   "outputs": [],
   "source": [
    "def mux1(v,k):\n",
    "    x = 1\n",
    "#     print(type(v))\n",
    "    for i in range(len(v)):\n",
    "        if(i==k): continue\n",
    "        else:  x = x* v[i]\n",
    "    return x\n",
    "\n",
    "def compute_param(x,m,v):\n",
    "    B0=1; C0 =1.0;  A0=1; e = 2.718\n",
    "    c = np.zeros(len(v));\n",
    "    for i in range(len(v)):\n",
    "        B0 = B0* v[i]\n",
    "        c[i] = (x[i]-m[i])*(x[i]-m[i])   \n",
    "    D0 = B0\n",
    "    for i in range(len(c)):\n",
    "        C0 = C0+c[i]*mux1(v,i)\n",
    "#     print(A0,B0,C0,D0)    \n",
    "    ex = float(C0/D0)\n",
    "#     out = (A0/B0)*pow(e,-1*ex)\n",
    "#     return(out) \n",
    "    return (A0,B0,C0,D0)\n",
    "        \n",
    "def exponent(x, m1,m2, v1,v2, Prior0,Prior1):\n",
    "        A0,B0,C0,D0 = compute_param(x,m1,v1)\n",
    "        A1,B1,C1,D1 = compute_param(x,m2,v2)\n",
    "        A = A0*B1\n",
    "        B = B0*A1   \n",
    "        C = (C0*D1)-(C1*D0)\n",
    "        D = D0*D1\n",
    "        \n",
    "        \n",
    "        Q = int(C/D)\n",
    "        R = C%D;\n",
    "        \n",
    "        Enum=19\n",
    "        Eden=7\n",
    "        \n",
    "        edenR = 24*(D*D*D*D)\n",
    "        enumR = 24*D*D*D*D+ R*24*D*D*D+R*R*12*D*D+R*R*R*4*D+R*R*R*R\n",
    "        \n",
    "        if(Q>=0):\n",
    "            P0 = A*1*edenR*Prior0*Prior0\n",
    "            P1 = B*1000*enumR*Prior1*Prior1\n",
    "        else:\n",
    "            P0 = A*1000*edenR*Prior0*Prior0\n",
    "            P1 = B*1*enumR*Prior1*Prior1\n",
    "        if(P0>P1): \n",
    "            print(0)\n",
    "            return 0\n",
    "        else : \n",
    "            print(1)\n",
    "            return 1\n"
   ]
  },
  {
   "cell_type": "code",
   "execution_count": 176,
   "id": "detailed-poster",
   "metadata": {},
   "outputs": [],
   "source": [
    "df = pd.read_csv(\"heart.csv\")\n",
    "target = np.array(df['target'].values)\n",
    "features = np.array(df.drop(columns = ['target']))\n"
   ]
  },
  {
   "cell_type": "code",
   "execution_count": 177,
   "id": "concerned-stamp",
   "metadata": {},
   "outputs": [],
   "source": [
    "# df_mean = df.groupby(['target']).mean()\n",
    "df_mean = df.groupby(['target']).mean().astype(int)\n",
    "# df_var = df.groupby(['target']).var()\n",
    "df_var = df.groupby(['target']).var().astype(int)\n",
    "dfp = df.groupby('target').size()\n",
    "Prior0 = int(dfp[0]/len(df)*100)\n",
    "Prior1 = int(dfp[1]/len(df)*100)"
   ]
  },
  {
   "cell_type": "code",
   "execution_count": 180,
   "id": "suited-marshall",
   "metadata": {},
   "outputs": [],
   "source": [
    "x_train,x_test, y_train, y_test = train_test_split(features,target,test_size=0.2, random_state=1)\n",
    "x_train = (StandardScaler().fit_transform(x_train)*100).astype(int)\n",
    "x_test = (StandardScaler().fit_transform(x_test)*100).astype(int)"
   ]
  },
  {
   "cell_type": "code",
   "execution_count": 182,
   "id": "destroyed-bunny",
   "metadata": {},
   "outputs": [
    {
     "data": {
      "text/plain": [
       "<bound method NDFrame.head of       f1   f2   f3   f4   f5   f6   f7   f8   f9  f10  f11  f12  f13\n",
       "0    -27   66  197  -77 -117  -41 -102  172  -68  -93  -66  -72 -211\n",
       "1    137 -150   99  118   59  -41   88   95  -68  -93   96   27  -47\n",
       "2     27   66   99  107 -234  239   88   99  -68  -75   96   27  116\n",
       "3     27   66    2  130  -27  -41 -102   61  -68  -93   96   27  -47\n",
       "4    -48 -150    2  -65   -4  -41   88   53  -68    7   96  -72  -47\n",
       "..   ...  ...  ...  ...  ...  ...  ...  ...  ...  ...  ...  ...  ...\n",
       "237  148   66   99  279   53  239 -102    2  146   52  -66  -72  116\n",
       "238 -103   66  -95   61  121  -41 -102  -10  146  -93  -66  226  116\n",
       "239 -278   66    2   -7  -82  -41 -102  223  -68  -93   96  -72  -47\n",
       "240  -38   66  -95   49  102  -41   88   99  146   52   96  -72  116\n",
       "241   -5   66   99  107  -27  -41 -102   65  -68   52   96  -72  116\n",
       "\n",
       "[242 rows x 13 columns]>"
      ]
     },
     "execution_count": 182,
     "metadata": {},
     "output_type": "execute_result"
    }
   ],
   "source": [
    "df = pd.DataFrame(x_train,columns=['f1','f2','f3','f4','f5','f6','f7','f8','f9','f10','f11','f12','f13'])\n",
    "df_mean = df.groupby(['target']).mean().astype(int)\n",
    "# df_var = df.groupby(['target']).var()\n",
    "df_var = df.groupby(['target']).var().astype(int)"
   ]
  },
  {
   "cell_type": "code",
   "execution_count": 164,
   "id": "specific-newark",
   "metadata": {},
   "outputs": [],
   "source": [
    "pca =PCA(n_components =3)\n",
    "pca.fit(x_train,pca)\n",
    "PC_train = (pca.transform(x_train)).astype(int)\n",
    "PC_test = (pca.transform(x_test)).astype(int)\n",
    "# print(PC_train)\n",
    "df = pd.DataFrame(PC_train, columns=['f1','f2','f3'])\n",
    "df ['target'] = y_train\n",
    "# x_train = (x_train*100).astype(int)\n",
    "# x_test = (x_test*100).astype(int)"
   ]
  },
  {
   "cell_type": "code",
   "execution_count": 165,
   "id": "civil-vietnam",
   "metadata": {},
   "outputs": [],
   "source": [
    "# df_mean = df.groupby(['target']).mean()\n",
    "df_mean = df.groupby(['target']).mean().astype(int)\n",
    "# df_var = df.groupby(['target']).var()\n",
    "df_var = df.groupby(['target']).var().astype(int)"
   ]
  },
  {
   "cell_type": "code",
   "execution_count": 166,
   "id": "iraqi-accountability",
   "metadata": {},
   "outputs": [],
   "source": [
    "dfp = df.groupby('target').size()\n",
    "Prior0 = int(dfp[0]/len(df)*100)\n",
    "Prior1 = int(dfp[1]/len(df)*100)\n"
   ]
  },
  {
   "cell_type": "code",
   "execution_count": 167,
   "id": "appreciated-problem",
   "metadata": {},
   "outputs": [
    {
     "data": {
      "text/plain": [
       "array([[123, -23, -22],\n",
       "       [-99,  18,  18]])"
      ]
     },
     "execution_count": 167,
     "metadata": {},
     "output_type": "execute_result"
    }
   ],
   "source": [
    "mean = df_mean.values\n",
    "mean"
   ]
  },
  {
   "cell_type": "code",
   "execution_count": 168,
   "id": "moved-velvet",
   "metadata": {},
   "outputs": [
    {
     "data": {
      "text/plain": [
       "array([[18367, 14677, 13107],\n",
       "       [11646, 15800, 11250]])"
      ]
     },
     "execution_count": 168,
     "metadata": {},
     "output_type": "execute_result"
    }
   ],
   "source": [
    "var = df_var.values\n",
    "var\n"
   ]
  },
  {
   "cell_type": "code",
   "execution_count": 169,
   "id": "environmental-trace",
   "metadata": {},
   "outputs": [
    {
     "data": {
      "text/plain": [
       "array([337,  81, 163])"
      ]
     },
     "execution_count": 169,
     "metadata": {},
     "output_type": "execute_result"
    }
   ],
   "source": [
    "PC_test[0]"
   ]
  },
  {
   "cell_type": "code",
   "execution_count": 170,
   "id": "structural-receiver",
   "metadata": {
    "scrolled": false
   },
   "outputs": [
    {
     "name": "stdout",
     "output_type": "stream",
     "text": [
      "1\n",
      "1\n",
      "1\n",
      "1\n",
      "1\n",
      "1\n",
      "1\n",
      "1\n",
      "1\n",
      "1\n",
      "1\n",
      "1\n",
      "1\n",
      "1\n",
      "1\n",
      "0\n",
      "1\n",
      "1\n",
      "1\n",
      "1\n",
      "1\n",
      "1\n",
      "1\n",
      "1\n",
      "1\n",
      "1\n",
      "1\n",
      "1\n",
      "1\n",
      "1\n",
      "1\n",
      "1\n",
      "1\n",
      "1\n",
      "1\n",
      "1\n",
      "1\n",
      "1\n",
      "1\n",
      "1\n",
      "1\n",
      "1\n",
      "1\n",
      "1\n",
      "1\n",
      "1\n",
      "1\n",
      "1\n",
      "1\n",
      "1\n",
      "1\n",
      "1\n",
      "1\n",
      "1\n",
      "1\n",
      "1\n",
      "1\n",
      "1\n",
      "1\n",
      "1\n",
      "1\n"
     ]
    },
    {
     "name": "stderr",
     "output_type": "stream",
     "text": [
      "<ipython-input-31-223832a16549>:13: RuntimeWarning: overflow encountered in long_scalars\n",
      "  B0 = B0* v[i]\n",
      "<ipython-input-31-223832a16549>:57: RuntimeWarning: overflow encountered in long_scalars\n",
      "  D = D0*D1\n",
      "<ipython-input-31-223832a16549>:71: RuntimeWarning: overflow encountered in long_scalars\n",
      "  edenR = 24*(D*D*D*D)\n",
      "<ipython-input-31-223832a16549>:72: RuntimeWarning: overflow encountered in long_scalars\n",
      "  enumR = 24*D*D*D*D+ R*24*D*D*D+R*R*12*D*D+R*R*R*4*D+R*R*R*R\n",
      "<ipython-input-31-223832a16549>:76: RuntimeWarning: overflow encountered in long_scalars\n",
      "  P0 = A*1*edenR*Prior0*Prior0\n",
      "<ipython-input-31-223832a16549>:77: RuntimeWarning: overflow encountered in long_scalars\n",
      "  P1 = B*1000*enumR*Prior1*Prior1\n",
      "<ipython-input-31-223832a16549>:79: RuntimeWarning: overflow encountered in long_scalars\n",
      "  P0 = A*1000*edenR*Prior0*Prior0\n"
     ]
    }
   ],
   "source": [
    "pred = []\n",
    "for i in range(x_test.shape[0]):\n",
    "    pred.append(exponent(PC_test[i], mean[0],mean[1], var[0],var[1], Prior0,Prior1))\n"
   ]
  },
  {
   "cell_type": "code",
   "execution_count": 171,
   "id": "failing-commission",
   "metadata": {},
   "outputs": [
    {
     "data": {
      "text/plain": [
       "0.5245901639344263"
      ]
     },
     "execution_count": 171,
     "metadata": {},
     "output_type": "execute_result"
    }
   ],
   "source": [
    "predicted = np.array(pred)\n",
    "accuracy_score(predicted,y_test)"
   ]
  },
  {
   "cell_type": "code",
   "execution_count": 106,
   "id": "racial-poetry",
   "metadata": {},
   "outputs": [
    {
     "name": "stdout",
     "output_type": "stream",
     "text": [
      "[0 1 1 0 0 0 0 1 0 1 1 0 1 0 0 1 1 0 1 1 1 0 1 1 1 1 0 0 1 1 0 1 1 1 0 1 0\n",
      " 1 1 0 1 0 1 0 1 1 0 1 1 1 1 1 1 1 1 1 1 0 1 0 1]\n"
     ]
    }
   ],
   "source": [
    "print(predicted)"
   ]
  },
  {
   "cell_type": "code",
   "execution_count": 96,
   "id": "social-contest",
   "metadata": {},
   "outputs": [
    {
     "name": "stdout",
     "output_type": "stream",
     "text": [
      "[0 1 0 0 0 0 0 1 0 1 1 0 0 0 0 0 1 0 1 0 1 0 1 1 1 1 0 1 1 1 1 1 1 1 0 1 1\n",
      " 0 0 1 1 0 1 0 0 0 0 1 0 1 1 0 0 1 1 1 1 0 0 0 1]\n"
     ]
    }
   ],
   "source": [
    "print(y_test)"
   ]
  },
  {
   "cell_type": "code",
   "execution_count": null,
   "id": "included-african",
   "metadata": {},
   "outputs": [],
   "source": []
  }
 ],
 "metadata": {
  "kernelspec": {
   "display_name": "Python 3",
   "language": "python",
   "name": "python3"
  },
  "language_info": {
   "codemirror_mode": {
    "name": "ipython",
    "version": 3
   },
   "file_extension": ".py",
   "mimetype": "text/x-python",
   "name": "python",
   "nbconvert_exporter": "python",
   "pygments_lexer": "ipython3",
   "version": "3.9.2"
  }
 },
 "nbformat": 4,
 "nbformat_minor": 5
}
